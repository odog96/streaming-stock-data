{
 "cells": [
  {
   "cell_type": "markdown",
   "metadata": {
    "id": "EkTpCSRDONY0"
   },
   "source": [
    "# Market Movement Prediction<br>\n",
    "The notebook will use a few classification techniques to predict market movement. The base case might be a random walk or logistic regression and alternate will be to use either a boosting technique and/or random forest.<br>\n",
    "\n",
    "Market movement is definined by simply looking at the magnitude of the return. That is if a return is positive, the label is 1, and 0 otherwise. <br>\n",
    "\n",
    "Time permitting I may look at configurations of this definition. For example direction difined by movent over the following hour - an aggregate of the windows 5 minute returns, as an example."
   ]
  },
  {
   "cell_type": "code",
   "execution_count": 1,
   "metadata": {
    "id": "5ke0122QMb03"
   },
   "outputs": [
    {
     "ename": "ModuleNotFoundError",
     "evalue": "No module named 'pandas'",
     "output_type": "error",
     "traceback": [
      "\u001b[0;31m---------------------------------------------------------------------------\u001b[0m",
      "\u001b[0;31mModuleNotFoundError\u001b[0m                       Traceback (most recent call last)",
      "\u001b[0;32m/tmp/ipykernel_204/1489382986.py\u001b[0m in \u001b[0;36m<module>\u001b[0;34m\u001b[0m\n\u001b[1;32m      1\u001b[0m \u001b[0;32mimport\u001b[0m \u001b[0mjson\u001b[0m\u001b[0;34m,\u001b[0m \u001b[0mrequests\u001b[0m\u001b[0;34m\u001b[0m\u001b[0;34m\u001b[0m\u001b[0m\n\u001b[0;32m----> 2\u001b[0;31m \u001b[0;32mimport\u001b[0m \u001b[0mpandas\u001b[0m \u001b[0;32mas\u001b[0m \u001b[0mpd\u001b[0m\u001b[0;34m\u001b[0m\u001b[0;34m\u001b[0m\u001b[0m\n\u001b[0m\u001b[1;32m      3\u001b[0m \u001b[0;32mimport\u001b[0m \u001b[0mnumpy\u001b[0m \u001b[0;32mas\u001b[0m \u001b[0mnp\u001b[0m\u001b[0;34m\u001b[0m\u001b[0;34m\u001b[0m\u001b[0m\n\u001b[1;32m      4\u001b[0m \u001b[0;32mimport\u001b[0m \u001b[0mio\u001b[0m\u001b[0;34m\u001b[0m\u001b[0;34m\u001b[0m\u001b[0m\n\u001b[1;32m      5\u001b[0m \u001b[0;32mimport\u001b[0m \u001b[0mrandom\u001b[0m\u001b[0;34m\u001b[0m\u001b[0;34m\u001b[0m\u001b[0m\n",
      "\u001b[0;31mModuleNotFoundError\u001b[0m: No module named 'pandas'"
     ]
    }
   ],
   "source": [
    "import json, requests\n",
    "import pandas as pd\n",
    "import numpy as np\n",
    "import io\n",
    "import random\n",
    "import time\n",
    "\n",
    "from random import sample"
   ]
  },
  {
   "cell_type": "code",
   "execution_count": 2,
   "metadata": {
    "id": "UVEoJ0BghUI7"
   },
   "outputs": [],
   "source": [
    "import warnings\n",
    "warnings.filterwarnings('ignore')"
   ]
  },
  {
   "cell_type": "code",
   "execution_count": 3,
   "metadata": {
    "colab": {
     "base_uri": "https://localhost:8080/",
     "height": 972
    },
    "id": "F6RkuY9Fq0sg",
    "outputId": "3bffeef9-0407-4465-aed8-bb465c308298"
   },
   "outputs": [
    {
     "name": "stdout",
     "output_type": "stream",
     "text": [
      "Looking in indexes: https://pypi.org/simple, https://us-python.pkg.dev/colab-wheels/public/simple/\n",
      "Collecting yfinance\n",
      "  Downloading yfinance-0.2.3-py2.py3-none-any.whl (50 kB)\n",
      "\u001b[2K     \u001b[90m━━━━━━━━━━━━━━━━━━━━━━━━━━━━━━━━━━━━━━━━\u001b[0m \u001b[32m50.4/50.4 KB\u001b[0m \u001b[31m5.7 MB/s\u001b[0m eta \u001b[36m0:00:00\u001b[0m\n",
      "\u001b[?25hCollecting requests>=2.26\n",
      "  Downloading requests-2.28.1-py3-none-any.whl (62 kB)\n",
      "\u001b[2K     \u001b[90m━━━━━━━━━━━━━━━━━━━━━━━━━━━━━━━━━━━━━━━━\u001b[0m \u001b[32m62.8/62.8 KB\u001b[0m \u001b[31m9.7 MB/s\u001b[0m eta \u001b[36m0:00:00\u001b[0m\n",
      "\u001b[?25hRequirement already satisfied: appdirs>=1.4.4 in /usr/local/lib/python3.8/dist-packages (from yfinance) (1.4.4)\n",
      "Requirement already satisfied: lxml>=4.9.1 in /usr/local/lib/python3.8/dist-packages (from yfinance) (4.9.2)\n",
      "Collecting beautifulsoup4>=4.11.1\n",
      "  Downloading beautifulsoup4-4.11.1-py3-none-any.whl (128 kB)\n",
      "\u001b[2K     \u001b[90m━━━━━━━━━━━━━━━━━━━━━━━━━━━━━━━━━━━━━━\u001b[0m \u001b[32m128.2/128.2 KB\u001b[0m \u001b[31m18.1 MB/s\u001b[0m eta \u001b[36m0:00:00\u001b[0m\n",
      "\u001b[?25hCollecting frozendict>=2.3.4\n",
      "  Downloading frozendict-2.3.4-cp38-cp38-manylinux_2_17_x86_64.manylinux2014_x86_64.whl (110 kB)\n",
      "\u001b[2K     \u001b[90m━━━━━━━━━━━━━━━━━━━━━━━━━━━━━━━━━━━━━━\u001b[0m \u001b[32m111.0/111.0 KB\u001b[0m \u001b[31m15.5 MB/s\u001b[0m eta \u001b[36m0:00:00\u001b[0m\n",
      "\u001b[?25hCollecting cryptography>=3.3.2\n",
      "  Downloading cryptography-39.0.0-cp36-abi3-manylinux_2_24_x86_64.whl (4.1 MB)\n",
      "\u001b[2K     \u001b[90m━━━━━━━━━━━━━━━━━━━━━━━━━━━━━━━━━━━━━━━━\u001b[0m \u001b[32m4.1/4.1 MB\u001b[0m \u001b[31m68.5 MB/s\u001b[0m eta \u001b[36m0:00:00\u001b[0m\n",
      "\u001b[?25hCollecting html5lib>=1.1\n",
      "  Downloading html5lib-1.1-py2.py3-none-any.whl (112 kB)\n",
      "\u001b[2K     \u001b[90m━━━━━━━━━━━━━━━━━━━━━━━━━━━━━━━━━━━━━━\u001b[0m \u001b[32m112.2/112.2 KB\u001b[0m \u001b[31m13.7 MB/s\u001b[0m eta \u001b[36m0:00:00\u001b[0m\n",
      "\u001b[?25hRequirement already satisfied: pandas>=1.3.0 in /usr/local/lib/python3.8/dist-packages (from yfinance) (1.3.5)\n",
      "Requirement already satisfied: multitasking>=0.0.7 in /usr/local/lib/python3.8/dist-packages (from yfinance) (0.0.11)\n",
      "Requirement already satisfied: pytz>=2022.5 in /usr/local/lib/python3.8/dist-packages (from yfinance) (2022.7)\n",
      "Requirement already satisfied: numpy>=1.16.5 in /usr/local/lib/python3.8/dist-packages (from yfinance) (1.21.6)\n",
      "Collecting soupsieve>1.2\n",
      "  Downloading soupsieve-2.3.2.post1-py3-none-any.whl (37 kB)\n",
      "Requirement already satisfied: cffi>=1.12 in /usr/local/lib/python3.8/dist-packages (from cryptography>=3.3.2->yfinance) (1.15.1)\n",
      "Requirement already satisfied: webencodings in /usr/local/lib/python3.8/dist-packages (from html5lib>=1.1->yfinance) (0.5.1)\n",
      "Requirement already satisfied: six>=1.9 in /usr/local/lib/python3.8/dist-packages (from html5lib>=1.1->yfinance) (1.15.0)\n",
      "Requirement already satisfied: python-dateutil>=2.7.3 in /usr/local/lib/python3.8/dist-packages (from pandas>=1.3.0->yfinance) (2.8.2)\n",
      "Requirement already satisfied: idna<4,>=2.5 in /usr/local/lib/python3.8/dist-packages (from requests>=2.26->yfinance) (2.10)\n",
      "Requirement already satisfied: charset-normalizer<3,>=2 in /usr/local/lib/python3.8/dist-packages (from requests>=2.26->yfinance) (2.1.1)\n",
      "Requirement already satisfied: certifi>=2017.4.17 in /usr/local/lib/python3.8/dist-packages (from requests>=2.26->yfinance) (2022.12.7)\n",
      "Requirement already satisfied: urllib3<1.27,>=1.21.1 in /usr/local/lib/python3.8/dist-packages (from requests>=2.26->yfinance) (1.24.3)\n",
      "Requirement already satisfied: pycparser in /usr/local/lib/python3.8/dist-packages (from cffi>=1.12->cryptography>=3.3.2->yfinance) (2.21)\n",
      "Installing collected packages: soupsieve, requests, html5lib, frozendict, cryptography, beautifulsoup4, yfinance\n",
      "  Attempting uninstall: requests\n",
      "    Found existing installation: requests 2.25.1\n",
      "    Uninstalling requests-2.25.1:\n",
      "      Successfully uninstalled requests-2.25.1\n",
      "  Attempting uninstall: html5lib\n",
      "    Found existing installation: html5lib 1.0.1\n",
      "    Uninstalling html5lib-1.0.1:\n",
      "      Successfully uninstalled html5lib-1.0.1\n",
      "  Attempting uninstall: beautifulsoup4\n",
      "    Found existing installation: beautifulsoup4 4.6.3\n",
      "    Uninstalling beautifulsoup4-4.6.3:\n",
      "      Successfully uninstalled beautifulsoup4-4.6.3\n",
      "Successfully installed beautifulsoup4-4.11.1 cryptography-39.0.0 frozendict-2.3.4 html5lib-1.1 requests-2.28.1 soupsieve-2.3.2.post1 yfinance-0.2.3\n"
     ]
    },
    {
     "data": {
      "application/vnd.colab-display-data+json": {
       "pip_warning": {
        "packages": [
         "requests"
        ]
       }
      }
     },
     "metadata": {},
     "output_type": "display_data"
    }
   ],
   "source": [
    "#!pip install yfinance"
   ]
  },
  {
   "cell_type": "code",
   "execution_count": 4,
   "metadata": {
    "id": "DvpOaID_tp_H"
   },
   "outputs": [],
   "source": [
    "  # Libraries for stock data\n",
    "import yfinance as yf"
   ]
  },
  {
   "cell_type": "markdown",
   "metadata": {
    "id": "ctrBnqOpw3E4"
   },
   "source": [
    "## Data Gathering"
   ]
  },
  {
   "cell_type": "markdown",
   "metadata": {
    "id": "6WaNWEa4t927"
   },
   "source": [
    "**Get list of S&P stocks**"
   ]
  },
  {
   "cell_type": "code",
   "execution_count": 6,
   "metadata": {
    "id": "jyIVSbYVtxHW"
   },
   "outputs": [],
   "source": [
    "table=pd.read_html('https://en.wikipedia.org/wiki/List_of_S%26P_500_companies')\n",
    "tckr = table[0]\n",
    "tckr.to_csv('S&P500-Info.csv')\n",
    "tckr.to_csv(\"S&P500-Symbols.csv\", columns=['Symbol'])\n",
    "# convert to list\n",
    "basket = tckr.Symbol.unique().tolist()"
   ]
  },
  {
   "cell_type": "code",
   "execution_count": 7,
   "metadata": {
    "id": "uygCrZzuuJGB"
   },
   "outputs": [],
   "source": [
    "bkt_40 = sample(basket,40)"
   ]
  },
  {
   "cell_type": "code",
   "execution_count": 8,
   "metadata": {
    "colab": {
     "base_uri": "https://localhost:8080/"
    },
    "id": "1cD_U4v7ChLq",
    "outputId": "ae7bf74e-b0c7-42d5-cc38-2e7b80fb2ce6"
   },
   "outputs": [
    {
     "data": {
      "text/plain": [
       "['PHM', 'NEE', 'LW', 'MAR', 'PH', 'OXY', 'ADI', 'EFX', 'AMZN', 'CMS']"
      ]
     },
     "execution_count": 8,
     "metadata": {},
     "output_type": "execute_result"
    }
   ],
   "source": [
    "bkt_40[:10]"
   ]
  },
  {
   "cell_type": "markdown",
   "metadata": {
    "id": "AZrsxOJDu5PT"
   },
   "source": [
    "**Functions**"
   ]
  },
  {
   "cell_type": "code",
   "execution_count": 109,
   "metadata": {
    "id": "mYIuhr9Au42S"
   },
   "outputs": [],
   "source": [
    "def stock_data_pull(basket,verb=True):\n",
    "  \"\"\"\n",
    "  Download Stock data\n",
    "  \"\"\"\n",
    "  stock_final = pd.DataFrame()\n",
    "  # iterate over each symbol\n",
    "  for i in basket:  \n",
    "      \n",
    "      # print the symbol which is being downloaded\n",
    "      if verb:\n",
    "        print( str(basket.index(i)) + str(' : ') + i, sep=',', end=',', flush=True)  \n",
    "      \n",
    "      try:\n",
    "          # download the stock price \n",
    "          stock = []\n",
    "          #stock = yf.download(i,period = \"2y\",interval='5m', progress=False)\n",
    "          # for intraday yahoo finance only let's you pull past 60 days. \n",
    "          # however there is only a 1 month option\n",
    "          stock = yf.download(i,period = \"1mo\",interval='5m', progress=False)\n",
    "\n",
    "          # append the individual stock prices \n",
    "          if len(stock) == 0:\n",
    "              None\n",
    "          else:\n",
    "              stock['Name']=i\n",
    "              stock_final = stock_final.append(stock,sort=False)\n",
    "      except Exception:\n",
    "          None\n",
    "  stock_final.reset_index(inplace=True)\n",
    "  stock_final = stock_final[['Datetime','Close','Volume','Name']].copy()\n",
    "  return stock_final\n",
    "\n",
    "#def fill_blanks(df,srl_num,range,value_variable,date_variable):\n",
    "def fill_blanks(df,srl_num,range,date_variable):\n",
    "\n",
    "  \"\"\"\n",
    "  fills missing observations\n",
    "  some stocks may not have the same number of observations\n",
    "  \"\"\"\n",
    "  stage_df = df.copy()\n",
    "  for comb in stage_df[srl_num].unique(): \n",
    "    temp = stage_df[stage_df[srl_num] == comb].copy()\n",
    "    stage_df = stage_df[stage_df[srl_num] != comb] # remove existing series detail\n",
    "    temp2 = range.merge(temp,how='left',on=date_variable)\n",
    "    # since we are filling missing data, other fields will be missing to\n",
    "    # value info will be filled by zero, for other fields, we simply forward fill\n",
    "    # Then back fill for full missing value coverage    \n",
    "    temp2.fillna(method='ffill',inplace=True)\n",
    "    temp2.fillna(method='bfill',inplace=True)\n",
    "    # replace with new, full data subset\n",
    "    stage_df = stage_df.append(temp2,ignore_index=True)\n",
    "  return stage_df"
   ]
  },
  {
   "cell_type": "code",
   "execution_count": 103,
   "metadata": {
    "id": "2sqjskrskUQ7"
   },
   "outputs": [],
   "source": [
    "def feature_create(df_in,tckr_list, window,lags,features,clip=False):\n",
    "  \"\"\"\n",
    "  Takes in dataframe with stock information for a sinlge ticker. Returns\n",
    "  df with return, volatility, momentum, sma, min, and max \n",
    "  \"\"\"\n",
    "  df_int = pd.DataFrame()\n",
    "\n",
    "  # validate input data frame has equal number of observations per symbol\n",
    "  sizes = df_in.groupby('Name').size().unique()\n",
    "  size_count = sizes.shape[0]\n",
    "\n",
    "  if size_count == 1:\n",
    "    print (f'all good, all data contains {sizes[0]} observations')\n",
    "  else:\n",
    "    print(f'error, your stock contain tckrs with varying number of observations:{sizes}')\n",
    "    return\n",
    "\n",
    "  for tckr in tckr_list:\n",
    "    temp = df_in[df_in[\"Name\"] == tckr]\n",
    "    temp.sort_values('Datetime', inplace=True)\n",
    "    # create core features\n",
    "    temp['return'] = np.log(temp.Close / temp.Close.shift(1))  \n",
    "    temp['vol'] = temp['return'].rolling(window).std()      # measure of volatility\n",
    "    temp['mom'] = np.sign(temp['return'].rolling(window).mean())  \n",
    "    temp['sma'] = temp['Close'].rolling(window).mean()  \n",
    "    temp['min'] = temp['Close'].rolling(window).min()  \n",
    "    temp['max'] = temp['Close'].rolling(window).max()\n",
    "    temp.dropna(inplace=True)\n",
    "    # create lag variables\n",
    "    cols = []\n",
    "    for f in features:\n",
    "      for lag in range(1, lags + 1):\n",
    "        col = f'{f}_lag_{lag}'\n",
    "        temp[col] = temp[f].shift(lag)  \n",
    "        cols.append(col)\n",
    "    print('size of temp is',temp.shape[0])\n",
    "    if clip:\n",
    "      # just take only last n, required observations\n",
    "      temp = temp.tail(1)\n",
    "      print('size of temp is after clipping',temp.shape[0])\n",
    "    df_int = df_int.append(temp,ignore_index=True)\n",
    "    #df_int = df_int.append(temp,ignore_index=True)\n",
    "\n",
    "  df_int.dropna(inplace=True)\n",
    "  ## Create lags after core feaures created inside of df_int\n",
    "\n",
    "  df_int.dropna(inplace=True)\n",
    "\n",
    "  df_int['direction'] = np.where(df_int['return'] > 0, 1, -1) \n",
    "\n",
    "  return df_int, cols"
   ]
  },
  {
   "cell_type": "markdown",
   "metadata": {
    "id": "UvkpB91OvcUI"
   },
   "source": [
    "**End of Functions**"
   ]
  },
  {
   "cell_type": "markdown",
   "metadata": {
    "id": "aeFWXI64wC8N"
   },
   "source": [
    "**Pull and clean data** <br>*for each stock symbol:*<br>1. Pull historical data.<br>2. Fil in missing intervals with forward and back fill."
   ]
  },
  {
   "cell_type": "code",
   "execution_count": 11,
   "metadata": {
    "colab": {
     "base_uri": "https://localhost:8080/"
    },
    "id": "wQ2QU4FhvjiY",
    "outputId": "0285a070-120b-4fe0-8fee-b1af81e4b5bc"
   },
   "outputs": [
    {
     "name": "stdout",
     "output_type": "stream",
     "text": [
      "all good, all data contains 1639 observations\n"
     ]
    }
   ],
   "source": [
    "# Pull stock data for given ticker symvols\n",
    "stock_total = stock_data_pull(bkt_40,False)\n",
    "#stock_total.reset_index(inplace=True)\n",
    "\n",
    "# use only 3 fields\n",
    "#stock_total_slim = stock_total[['Datetime','Close','Volume','Name']]\n",
    "\n",
    "date_range = stock_total.Datetime.drop_duplicates()\n",
    "date_range = pd.DataFrame(date_range)\n",
    "stock_ready = fill_blanks(stock_total,'Name',date_range,'Datetime');\n",
    "\n",
    "# checks to ensure if all tckrs have same size\n",
    "# sizes = stock_ready.groupby('Name').size().unique()\n",
    "# size_count = sizes.shape[0]\n",
    "\n",
    "# if size_count == 1:\n",
    "#   print (f'all good, all data contains {sizes[0]} observations')\n",
    "# else:\n",
    "#   print(f'error, your stock contain tckrs with varying number of observations:{sizes}')"
   ]
  },
  {
   "cell_type": "code",
   "execution_count": 29,
   "metadata": {
    "colab": {
     "base_uri": "https://localhost:8080/",
     "height": 206
    },
    "id": "GIqA7kbAENVX",
    "outputId": "9defb606-a27c-4da0-afb7-1ed6259031af"
   },
   "outputs": [
    {
     "data": {
      "text/html": [
       "\n",
       "  <div id=\"df-23b9b44a-3e06-4f7e-b22a-78db91ba49ea\">\n",
       "    <div class=\"colab-df-container\">\n",
       "      <div>\n",
       "<style scoped>\n",
       "    .dataframe tbody tr th:only-of-type {\n",
       "        vertical-align: middle;\n",
       "    }\n",
       "\n",
       "    .dataframe tbody tr th {\n",
       "        vertical-align: top;\n",
       "    }\n",
       "\n",
       "    .dataframe thead th {\n",
       "        text-align: right;\n",
       "    }\n",
       "</style>\n",
       "<table border=\"1\" class=\"dataframe\">\n",
       "  <thead>\n",
       "    <tr style=\"text-align: right;\">\n",
       "      <th></th>\n",
       "      <th>Datetime</th>\n",
       "      <th>Close</th>\n",
       "      <th>Volume</th>\n",
       "      <th>Name</th>\n",
       "    </tr>\n",
       "  </thead>\n",
       "  <tbody>\n",
       "    <tr>\n",
       "      <th>0</th>\n",
       "      <td>2022-12-07 09:30:00</td>\n",
       "      <td>43.750000</td>\n",
       "      <td>42608.0</td>\n",
       "      <td>PHM</td>\n",
       "    </tr>\n",
       "    <tr>\n",
       "      <th>1</th>\n",
       "      <td>2022-12-07 09:35:00</td>\n",
       "      <td>43.930000</td>\n",
       "      <td>33611.0</td>\n",
       "      <td>PHM</td>\n",
       "    </tr>\n",
       "    <tr>\n",
       "      <th>2</th>\n",
       "      <td>2022-12-07 09:40:00</td>\n",
       "      <td>44.014999</td>\n",
       "      <td>14971.0</td>\n",
       "      <td>PHM</td>\n",
       "    </tr>\n",
       "    <tr>\n",
       "      <th>3</th>\n",
       "      <td>2022-12-07 09:45:00</td>\n",
       "      <td>43.924999</td>\n",
       "      <td>17094.0</td>\n",
       "      <td>PHM</td>\n",
       "    </tr>\n",
       "    <tr>\n",
       "      <th>4</th>\n",
       "      <td>2022-12-07 09:50:00</td>\n",
       "      <td>43.820000</td>\n",
       "      <td>19579.0</td>\n",
       "      <td>PHM</td>\n",
       "    </tr>\n",
       "  </tbody>\n",
       "</table>\n",
       "</div>\n",
       "      <button class=\"colab-df-convert\" onclick=\"convertToInteractive('df-23b9b44a-3e06-4f7e-b22a-78db91ba49ea')\"\n",
       "              title=\"Convert this dataframe to an interactive table.\"\n",
       "              style=\"display:none;\">\n",
       "        \n",
       "  <svg xmlns=\"http://www.w3.org/2000/svg\" height=\"24px\"viewBox=\"0 0 24 24\"\n",
       "       width=\"24px\">\n",
       "    <path d=\"M0 0h24v24H0V0z\" fill=\"none\"/>\n",
       "    <path d=\"M18.56 5.44l.94 2.06.94-2.06 2.06-.94-2.06-.94-.94-2.06-.94 2.06-2.06.94zm-11 1L8.5 8.5l.94-2.06 2.06-.94-2.06-.94L8.5 2.5l-.94 2.06-2.06.94zm10 10l.94 2.06.94-2.06 2.06-.94-2.06-.94-.94-2.06-.94 2.06-2.06.94z\"/><path d=\"M17.41 7.96l-1.37-1.37c-.4-.4-.92-.59-1.43-.59-.52 0-1.04.2-1.43.59L10.3 9.45l-7.72 7.72c-.78.78-.78 2.05 0 2.83L4 21.41c.39.39.9.59 1.41.59.51 0 1.02-.2 1.41-.59l7.78-7.78 2.81-2.81c.8-.78.8-2.07 0-2.86zM5.41 20L4 18.59l7.72-7.72 1.47 1.35L5.41 20z\"/>\n",
       "  </svg>\n",
       "      </button>\n",
       "      \n",
       "  <style>\n",
       "    .colab-df-container {\n",
       "      display:flex;\n",
       "      flex-wrap:wrap;\n",
       "      gap: 12px;\n",
       "    }\n",
       "\n",
       "    .colab-df-convert {\n",
       "      background-color: #E8F0FE;\n",
       "      border: none;\n",
       "      border-radius: 50%;\n",
       "      cursor: pointer;\n",
       "      display: none;\n",
       "      fill: #1967D2;\n",
       "      height: 32px;\n",
       "      padding: 0 0 0 0;\n",
       "      width: 32px;\n",
       "    }\n",
       "\n",
       "    .colab-df-convert:hover {\n",
       "      background-color: #E2EBFA;\n",
       "      box-shadow: 0px 1px 2px rgba(60, 64, 67, 0.3), 0px 1px 3px 1px rgba(60, 64, 67, 0.15);\n",
       "      fill: #174EA6;\n",
       "    }\n",
       "\n",
       "    [theme=dark] .colab-df-convert {\n",
       "      background-color: #3B4455;\n",
       "      fill: #D2E3FC;\n",
       "    }\n",
       "\n",
       "    [theme=dark] .colab-df-convert:hover {\n",
       "      background-color: #434B5C;\n",
       "      box-shadow: 0px 1px 3px 1px rgba(0, 0, 0, 0.15);\n",
       "      filter: drop-shadow(0px 1px 2px rgba(0, 0, 0, 0.3));\n",
       "      fill: #FFFFFF;\n",
       "    }\n",
       "  </style>\n",
       "\n",
       "      <script>\n",
       "        const buttonEl =\n",
       "          document.querySelector('#df-23b9b44a-3e06-4f7e-b22a-78db91ba49ea button.colab-df-convert');\n",
       "        buttonEl.style.display =\n",
       "          google.colab.kernel.accessAllowed ? 'block' : 'none';\n",
       "\n",
       "        async function convertToInteractive(key) {\n",
       "          const element = document.querySelector('#df-23b9b44a-3e06-4f7e-b22a-78db91ba49ea');\n",
       "          const dataTable =\n",
       "            await google.colab.kernel.invokeFunction('convertToInteractive',\n",
       "                                                     [key], {});\n",
       "          if (!dataTable) return;\n",
       "\n",
       "          const docLinkHtml = 'Like what you see? Visit the ' +\n",
       "            '<a target=\"_blank\" href=https://colab.research.google.com/notebooks/data_table.ipynb>data table notebook</a>'\n",
       "            + ' to learn more about interactive tables.';\n",
       "          element.innerHTML = '';\n",
       "          dataTable['output_type'] = 'display_data';\n",
       "          await google.colab.output.renderOutput(dataTable, element);\n",
       "          const docLink = document.createElement('div');\n",
       "          docLink.innerHTML = docLinkHtml;\n",
       "          element.appendChild(docLink);\n",
       "        }\n",
       "      </script>\n",
       "    </div>\n",
       "  </div>\n",
       "  "
      ],
      "text/plain": [
       "             Datetime      Close   Volume Name\n",
       "0 2022-12-07 09:30:00  43.750000  42608.0  PHM\n",
       "1 2022-12-07 09:35:00  43.930000  33611.0  PHM\n",
       "2 2022-12-07 09:40:00  44.014999  14971.0  PHM\n",
       "3 2022-12-07 09:45:00  43.924999  17094.0  PHM\n",
       "4 2022-12-07 09:50:00  43.820000  19579.0  PHM"
      ]
     },
     "execution_count": 29,
     "metadata": {},
     "output_type": "execute_result"
    }
   ],
   "source": [
    "stock_ready.head()"
   ]
  },
  {
   "cell_type": "markdown",
   "metadata": {
    "id": "9ELrtKTMBsdZ"
   },
   "source": [
    "##Data Prep"
   ]
  },
  {
   "cell_type": "markdown",
   "metadata": {
    "id": "dLtckhEKrQm1"
   },
   "source": [
    "**New Feature Creation**<br>\n",
    "- For each tckr in basket\n",
    "- Create a window variable that defines the rolling measure size\n",
    "- create volume, sma, min, max for each stock\n",
    "\n",
    "\n",
    "*code derived from 'Python for Algorithmic Trading', Yves Hilpisch*"
   ]
  },
  {
   "cell_type": "code",
   "execution_count": 24,
   "metadata": {
    "id": "QTkxGuvNB18J"
   },
   "outputs": [],
   "source": [
    "# need to calculate metrics seperately for each tckr symbol\n",
    "window = 20  \n",
    "features = ['return', 'vol', 'mom', 'sma', 'min', 'max']  \n",
    "lags = 6  \n",
    "\n",
    "# call function to genereate all new variables\n",
    "stk_rdy_2, cols =  feature_create(stock_ready,bkt_40, window,lags,features)"
   ]
  },
  {
   "cell_type": "code",
   "execution_count": 33,
   "metadata": {
    "colab": {
     "base_uri": "https://localhost:8080/"
    },
    "id": "Huk8Pj8r-8uh",
    "outputId": "4a642d94-ca8b-4968-e689-0aed419e238e"
   },
   "outputs": [
    {
     "name": "stdout",
     "output_type": "stream",
     "text": [
      "all good, all data contains 1613 observations\n"
     ]
    }
   ],
   "source": [
    "# Check the dimensions of resultant df\n",
    "#stk_rdy_2.shape\n",
    "\n",
    "# Check the numbe of ticker symbols \n",
    "#len(stk_rdy_2.Name.unique())\n",
    "\n",
    "# Check that each ticker has the same number\n",
    "# checks to ensure if all tckrs have same size\n",
    "sizes = stk_rdy_2.groupby('Name').size().unique()\n",
    "size_count = sizes.shape[0]\n",
    "if size_count == 1:\n",
    "  print (f'all good, all data contains {sizes[0]} observations')\n",
    "else:\n",
    "  print(f'error, your stock contain tckrs with varying number of observations:{sizes}')"
   ]
  },
  {
   "cell_type": "code",
   "execution_count": 27,
   "metadata": {
    "colab": {
     "base_uri": "https://localhost:8080/",
     "height": 473
    },
    "id": "G-etdgx1sO7u",
    "outputId": "64eda8f5-a83c-43fd-fc93-1695e459c5f8"
   },
   "outputs": [
    {
     "data": {
      "text/html": [
       "\n",
       "  <div id=\"df-f293ea5e-10df-4b57-987d-9daa178fc1cb\">\n",
       "    <div class=\"colab-df-container\">\n",
       "      <div>\n",
       "<style scoped>\n",
       "    .dataframe tbody tr th:only-of-type {\n",
       "        vertical-align: middle;\n",
       "    }\n",
       "\n",
       "    .dataframe tbody tr th {\n",
       "        vertical-align: top;\n",
       "    }\n",
       "\n",
       "    .dataframe thead th {\n",
       "        text-align: right;\n",
       "    }\n",
       "</style>\n",
       "<table border=\"1\" class=\"dataframe\">\n",
       "  <thead>\n",
       "    <tr style=\"text-align: right;\">\n",
       "      <th></th>\n",
       "      <th>Datetime</th>\n",
       "      <th>Close</th>\n",
       "      <th>Volume</th>\n",
       "      <th>Name</th>\n",
       "      <th>return</th>\n",
       "      <th>vol</th>\n",
       "      <th>mom</th>\n",
       "      <th>sma</th>\n",
       "      <th>min</th>\n",
       "      <th>max</th>\n",
       "      <th>...</th>\n",
       "      <th>min_lag_4</th>\n",
       "      <th>min_lag_5</th>\n",
       "      <th>min_lag_6</th>\n",
       "      <th>max_lag_1</th>\n",
       "      <th>max_lag_2</th>\n",
       "      <th>max_lag_3</th>\n",
       "      <th>max_lag_4</th>\n",
       "      <th>max_lag_5</th>\n",
       "      <th>max_lag_6</th>\n",
       "      <th>direction</th>\n",
       "    </tr>\n",
       "  </thead>\n",
       "  <tbody>\n",
       "    <tr>\n",
       "      <th>6</th>\n",
       "      <td>2022-12-07 11:40:00</td>\n",
       "      <td>44.029999</td>\n",
       "      <td>4865.0</td>\n",
       "      <td>PHM</td>\n",
       "      <td>-0.000681</td>\n",
       "      <td>0.001963</td>\n",
       "      <td>1.0</td>\n",
       "      <td>44.08900</td>\n",
       "      <td>43.895000</td>\n",
       "      <td>44.264999</td>\n",
       "      <td>...</td>\n",
       "      <td>43.820</td>\n",
       "      <td>43.820</td>\n",
       "      <td>43.82</td>\n",
       "      <td>44.264999</td>\n",
       "      <td>44.264999</td>\n",
       "      <td>44.264999</td>\n",
       "      <td>44.264999</td>\n",
       "      <td>44.264999</td>\n",
       "      <td>44.264999</td>\n",
       "      <td>-1</td>\n",
       "    </tr>\n",
       "    <tr>\n",
       "      <th>7</th>\n",
       "      <td>2022-12-07 11:45:00</td>\n",
       "      <td>44.000000</td>\n",
       "      <td>4472.0</td>\n",
       "      <td>PHM</td>\n",
       "      <td>-0.000682</td>\n",
       "      <td>0.001956</td>\n",
       "      <td>1.0</td>\n",
       "      <td>44.09350</td>\n",
       "      <td>43.895000</td>\n",
       "      <td>44.264999</td>\n",
       "      <td>...</td>\n",
       "      <td>43.820</td>\n",
       "      <td>43.820</td>\n",
       "      <td>43.82</td>\n",
       "      <td>44.264999</td>\n",
       "      <td>44.264999</td>\n",
       "      <td>44.264999</td>\n",
       "      <td>44.264999</td>\n",
       "      <td>44.264999</td>\n",
       "      <td>44.264999</td>\n",
       "      <td>-1</td>\n",
       "    </tr>\n",
       "    <tr>\n",
       "      <th>8</th>\n",
       "      <td>2022-12-07 11:50:00</td>\n",
       "      <td>44.049999</td>\n",
       "      <td>8346.0</td>\n",
       "      <td>PHM</td>\n",
       "      <td>0.001136</td>\n",
       "      <td>0.001969</td>\n",
       "      <td>1.0</td>\n",
       "      <td>44.09950</td>\n",
       "      <td>43.895000</td>\n",
       "      <td>44.264999</td>\n",
       "      <td>...</td>\n",
       "      <td>43.820</td>\n",
       "      <td>43.820</td>\n",
       "      <td>43.82</td>\n",
       "      <td>44.264999</td>\n",
       "      <td>44.264999</td>\n",
       "      <td>44.264999</td>\n",
       "      <td>44.264999</td>\n",
       "      <td>44.264999</td>\n",
       "      <td>44.264999</td>\n",
       "      <td>1</td>\n",
       "    </tr>\n",
       "    <tr>\n",
       "      <th>9</th>\n",
       "      <td>2022-12-07 11:55:00</td>\n",
       "      <td>44.119999</td>\n",
       "      <td>11404.0</td>\n",
       "      <td>PHM</td>\n",
       "      <td>0.001588</td>\n",
       "      <td>0.001973</td>\n",
       "      <td>1.0</td>\n",
       "      <td>44.10575</td>\n",
       "      <td>43.895000</td>\n",
       "      <td>44.264999</td>\n",
       "      <td>...</td>\n",
       "      <td>43.855</td>\n",
       "      <td>43.820</td>\n",
       "      <td>43.82</td>\n",
       "      <td>44.264999</td>\n",
       "      <td>44.264999</td>\n",
       "      <td>44.264999</td>\n",
       "      <td>44.264999</td>\n",
       "      <td>44.264999</td>\n",
       "      <td>44.264999</td>\n",
       "      <td>1</td>\n",
       "    </tr>\n",
       "    <tr>\n",
       "      <th>10</th>\n",
       "      <td>2022-12-07 12:00:00</td>\n",
       "      <td>44.139999</td>\n",
       "      <td>6354.0</td>\n",
       "      <td>PHM</td>\n",
       "      <td>0.000453</td>\n",
       "      <td>0.001889</td>\n",
       "      <td>1.0</td>\n",
       "      <td>44.11800</td>\n",
       "      <td>43.970001</td>\n",
       "      <td>44.264999</td>\n",
       "      <td>...</td>\n",
       "      <td>43.895</td>\n",
       "      <td>43.855</td>\n",
       "      <td>43.82</td>\n",
       "      <td>44.264999</td>\n",
       "      <td>44.264999</td>\n",
       "      <td>44.264999</td>\n",
       "      <td>44.264999</td>\n",
       "      <td>44.264999</td>\n",
       "      <td>44.264999</td>\n",
       "      <td>1</td>\n",
       "    </tr>\n",
       "  </tbody>\n",
       "</table>\n",
       "<p>5 rows × 47 columns</p>\n",
       "</div>\n",
       "      <button class=\"colab-df-convert\" onclick=\"convertToInteractive('df-f293ea5e-10df-4b57-987d-9daa178fc1cb')\"\n",
       "              title=\"Convert this dataframe to an interactive table.\"\n",
       "              style=\"display:none;\">\n",
       "        \n",
       "  <svg xmlns=\"http://www.w3.org/2000/svg\" height=\"24px\"viewBox=\"0 0 24 24\"\n",
       "       width=\"24px\">\n",
       "    <path d=\"M0 0h24v24H0V0z\" fill=\"none\"/>\n",
       "    <path d=\"M18.56 5.44l.94 2.06.94-2.06 2.06-.94-2.06-.94-.94-2.06-.94 2.06-2.06.94zm-11 1L8.5 8.5l.94-2.06 2.06-.94-2.06-.94L8.5 2.5l-.94 2.06-2.06.94zm10 10l.94 2.06.94-2.06 2.06-.94-2.06-.94-.94-2.06-.94 2.06-2.06.94z\"/><path d=\"M17.41 7.96l-1.37-1.37c-.4-.4-.92-.59-1.43-.59-.52 0-1.04.2-1.43.59L10.3 9.45l-7.72 7.72c-.78.78-.78 2.05 0 2.83L4 21.41c.39.39.9.59 1.41.59.51 0 1.02-.2 1.41-.59l7.78-7.78 2.81-2.81c.8-.78.8-2.07 0-2.86zM5.41 20L4 18.59l7.72-7.72 1.47 1.35L5.41 20z\"/>\n",
       "  </svg>\n",
       "      </button>\n",
       "      \n",
       "  <style>\n",
       "    .colab-df-container {\n",
       "      display:flex;\n",
       "      flex-wrap:wrap;\n",
       "      gap: 12px;\n",
       "    }\n",
       "\n",
       "    .colab-df-convert {\n",
       "      background-color: #E8F0FE;\n",
       "      border: none;\n",
       "      border-radius: 50%;\n",
       "      cursor: pointer;\n",
       "      display: none;\n",
       "      fill: #1967D2;\n",
       "      height: 32px;\n",
       "      padding: 0 0 0 0;\n",
       "      width: 32px;\n",
       "    }\n",
       "\n",
       "    .colab-df-convert:hover {\n",
       "      background-color: #E2EBFA;\n",
       "      box-shadow: 0px 1px 2px rgba(60, 64, 67, 0.3), 0px 1px 3px 1px rgba(60, 64, 67, 0.15);\n",
       "      fill: #174EA6;\n",
       "    }\n",
       "\n",
       "    [theme=dark] .colab-df-convert {\n",
       "      background-color: #3B4455;\n",
       "      fill: #D2E3FC;\n",
       "    }\n",
       "\n",
       "    [theme=dark] .colab-df-convert:hover {\n",
       "      background-color: #434B5C;\n",
       "      box-shadow: 0px 1px 3px 1px rgba(0, 0, 0, 0.15);\n",
       "      filter: drop-shadow(0px 1px 2px rgba(0, 0, 0, 0.3));\n",
       "      fill: #FFFFFF;\n",
       "    }\n",
       "  </style>\n",
       "\n",
       "      <script>\n",
       "        const buttonEl =\n",
       "          document.querySelector('#df-f293ea5e-10df-4b57-987d-9daa178fc1cb button.colab-df-convert');\n",
       "        buttonEl.style.display =\n",
       "          google.colab.kernel.accessAllowed ? 'block' : 'none';\n",
       "\n",
       "        async function convertToInteractive(key) {\n",
       "          const element = document.querySelector('#df-f293ea5e-10df-4b57-987d-9daa178fc1cb');\n",
       "          const dataTable =\n",
       "            await google.colab.kernel.invokeFunction('convertToInteractive',\n",
       "                                                     [key], {});\n",
       "          if (!dataTable) return;\n",
       "\n",
       "          const docLinkHtml = 'Like what you see? Visit the ' +\n",
       "            '<a target=\"_blank\" href=https://colab.research.google.com/notebooks/data_table.ipynb>data table notebook</a>'\n",
       "            + ' to learn more about interactive tables.';\n",
       "          element.innerHTML = '';\n",
       "          dataTable['output_type'] = 'display_data';\n",
       "          await google.colab.output.renderOutput(dataTable, element);\n",
       "          const docLink = document.createElement('div');\n",
       "          docLink.innerHTML = docLinkHtml;\n",
       "          element.appendChild(docLink);\n",
       "        }\n",
       "      </script>\n",
       "    </div>\n",
       "  </div>\n",
       "  "
      ],
      "text/plain": [
       "              Datetime      Close   Volume Name    return       vol  mom  \\\n",
       "6  2022-12-07 11:40:00  44.029999   4865.0  PHM -0.000681  0.001963  1.0   \n",
       "7  2022-12-07 11:45:00  44.000000   4472.0  PHM -0.000682  0.001956  1.0   \n",
       "8  2022-12-07 11:50:00  44.049999   8346.0  PHM  0.001136  0.001969  1.0   \n",
       "9  2022-12-07 11:55:00  44.119999  11404.0  PHM  0.001588  0.001973  1.0   \n",
       "10 2022-12-07 12:00:00  44.139999   6354.0  PHM  0.000453  0.001889  1.0   \n",
       "\n",
       "         sma        min        max  ...  min_lag_4  min_lag_5  min_lag_6  \\\n",
       "6   44.08900  43.895000  44.264999  ...     43.820     43.820      43.82   \n",
       "7   44.09350  43.895000  44.264999  ...     43.820     43.820      43.82   \n",
       "8   44.09950  43.895000  44.264999  ...     43.820     43.820      43.82   \n",
       "9   44.10575  43.895000  44.264999  ...     43.855     43.820      43.82   \n",
       "10  44.11800  43.970001  44.264999  ...     43.895     43.855      43.82   \n",
       "\n",
       "    max_lag_1  max_lag_2  max_lag_3  max_lag_4  max_lag_5  max_lag_6  \\\n",
       "6   44.264999  44.264999  44.264999  44.264999  44.264999  44.264999   \n",
       "7   44.264999  44.264999  44.264999  44.264999  44.264999  44.264999   \n",
       "8   44.264999  44.264999  44.264999  44.264999  44.264999  44.264999   \n",
       "9   44.264999  44.264999  44.264999  44.264999  44.264999  44.264999   \n",
       "10  44.264999  44.264999  44.264999  44.264999  44.264999  44.264999   \n",
       "\n",
       "    direction  \n",
       "6          -1  \n",
       "7          -1  \n",
       "8           1  \n",
       "9           1  \n",
       "10          1  \n",
       "\n",
       "[5 rows x 47 columns]"
      ]
     },
     "execution_count": 27,
     "metadata": {},
     "output_type": "execute_result"
    }
   ],
   "source": [
    "stk_rdy_2.head()"
   ]
  },
  {
   "cell_type": "markdown",
   "metadata": {
    "id": "nPqAG7GqwU1z"
   },
   "source": [
    "## Model Prep\n",
    "\n",
    "Starting with binary prediction, but this could easily be exented to multi class yield predict - strong buy, buy, hold, sell, strong sell predictions.<br>\n",
    "\n",
    "Later it would be good to include hyperparamter optimization using experiments."
   ]
  },
  {
   "cell_type": "markdown",
   "metadata": {
    "id": "yJGR8FAGBuSQ"
   },
   "source": [
    "**Train/Test Methodology**<br>\n",
    "Test and train split is done slightly differently for development level model\n",
    "typically a time series model, would split train/test along time horizon\n",
    "in this case we will split along ticker symbols. So both test and train records will contain all time observations. For production model, with data that contains longer time span, this will be addressed, to avoid any potential data leakage."
   ]
  },
  {
   "cell_type": "code",
   "execution_count": 35,
   "metadata": {
    "id": "ajUabsFvCH5Q"
   },
   "outputs": [],
   "source": []
  },
  {
   "cell_type": "code",
   "execution_count": 38,
   "metadata": {
    "id": "1_pggdWECRFs"
   },
   "outputs": [],
   "source": []
  },
  {
   "cell_type": "markdown",
   "metadata": {
    "id": "0AER0lpNhUI_"
   },
   "source": [
    "**Model Train**<br>\n",
    "random forest"
   ]
  },
  {
   "cell_type": "code",
   "execution_count": 40,
   "metadata": {
    "id": "-9COlRP7vxJs"
   },
   "outputs": [],
   "source": [
    "from sklearn.metrics import accuracy_score\n",
    "from sklearn.ensemble import RandomForestClassifier, HistGradientBoostingClassifier\n",
    "from sklearn import preprocessing\n",
    "from sklearn.model_selection import train_test_split\n",
    "from sklearn.pipeline import make_pipeline\n",
    "from sklearn.preprocessing import StandardScaler"
   ]
  },
  {
   "cell_type": "code",
   "execution_count": 41,
   "metadata": {
    "id": "sg80DP9A0rS_"
   },
   "outputs": [],
   "source": [
    "# Parameter Set up\n",
    "n_estimators=15\n",
    "random_state=100  \n",
    "max_depth=5\n",
    "min_samples_leaf=15  "
   ]
  },
  {
   "cell_type": "code",
   "execution_count": 42,
   "metadata": {
    "id": "84x4XvR523Hm"
   },
   "outputs": [],
   "source": [
    "rf = RandomForestClassifier(random_state=random_state,\n",
    "                                      max_depth=max_depth,\n",
    "                                      min_samples_leaf=min_samples_leaf)  \n",
    "\n",
    "bst_clf = HistGradientBoostingClassifier(random_state=random_state)"
   ]
  },
  {
   "cell_type": "markdown",
   "metadata": {
    "id": "NdByStUl4pqH"
   },
   "source": [
    "**Data train/test split**"
   ]
  },
  {
   "cell_type": "code",
   "execution_count": 44,
   "metadata": {
    "id": "pUnZF-edhUI_"
   },
   "outputs": [],
   "source": [
    "train_list = sample(bkt_40, 30)\n",
    "train = stk_rdy_2[stk_rdy_2.Name.isin(train_list)]\n",
    "test = stk_rdy_2[~stk_rdy_2.Name.isin(train_list)]\n",
    "\n",
    "# create test list for refereince later\n",
    "test_list = test.Name.unique().tolist()"
   ]
  },
  {
   "cell_type": "code",
   "execution_count": 39,
   "metadata": {
    "colab": {
     "base_uri": "https://localhost:8080/"
    },
    "id": "7o1O_3tnhUJA",
    "outputId": "d2fc208a-4a02-48b4-868a-e443e96f9ecb"
   },
   "outputs": [
    {
     "data": {
      "text/plain": [
       "0.75"
      ]
     },
     "execution_count": 39,
     "metadata": {},
     "output_type": "execute_result"
    }
   ],
   "source": [
    "train.shape[0]/(train.shape[0]+test.shape[0])\n"
   ]
  },
  {
   "cell_type": "code",
   "execution_count": 46,
   "metadata": {
    "id": "4Mczb3CfhUI_"
   },
   "outputs": [],
   "source": [
    "# # define x and y\n",
    "X_train = train[cols]\n",
    "y_train = train['direction']\n",
    "X_test = test[cols]\n",
    "y_test = test['direction']"
   ]
  },
  {
   "cell_type": "code",
   "execution_count": 47,
   "metadata": {
    "id": "8nipcSjahUJA"
   },
   "outputs": [],
   "source": [
    "pipe_rf = make_pipeline(StandardScaler(), rf)"
   ]
  },
  {
   "cell_type": "code",
   "execution_count": 48,
   "metadata": {
    "colab": {
     "base_uri": "https://localhost:8080/"
    },
    "id": "W-sKKjz0hUJA",
    "outputId": "d421848b-6e4a-4c39-b5db-7e679cbe02e8"
   },
   "outputs": [
    {
     "data": {
      "text/plain": [
       "Pipeline(steps=[('standardscaler', StandardScaler()),\n",
       "                ('randomforestclassifier',\n",
       "                 RandomForestClassifier(max_depth=5, min_samples_leaf=15,\n",
       "                                        random_state=100))])"
      ]
     },
     "execution_count": 48,
     "metadata": {},
     "output_type": "execute_result"
    }
   ],
   "source": [
    "pipe_rf.fit(X_train, y_train)"
   ]
  },
  {
   "cell_type": "code",
   "execution_count": 49,
   "metadata": {
    "colab": {
     "base_uri": "https://localhost:8080/"
    },
    "id": "HYxrjHvFhUJA",
    "outputId": "c2b40675-e3de-4f97-da42-41cd6ef64f68"
   },
   "outputs": [
    {
     "data": {
      "text/plain": [
       "0.5546807191568506"
      ]
     },
     "execution_count": 49,
     "metadata": {},
     "output_type": "execute_result"
    }
   ],
   "source": [
    "pipe_rf.score(X_train, y_train)"
   ]
  },
  {
   "cell_type": "code",
   "execution_count": 50,
   "metadata": {
    "colab": {
     "base_uri": "https://localhost:8080/"
    },
    "id": "E8kYJIVRhUJA",
    "outputId": "76f800c5-c940-40f3-ac9b-0fa25e43a877"
   },
   "outputs": [
    {
     "data": {
      "text/plain": [
       "0.5300061996280223"
      ]
     },
     "execution_count": 50,
     "metadata": {},
     "output_type": "execute_result"
    }
   ],
   "source": [
    "pipe_rf.score(X_test, y_test)"
   ]
  },
  {
   "cell_type": "markdown",
   "metadata": {
    "id": "C0bX9rMHhUJA"
   },
   "source": [
    "**Boosting Algo**"
   ]
  },
  {
   "cell_type": "code",
   "execution_count": 51,
   "metadata": {
    "id": "1qqcgIUMhUJA"
   },
   "outputs": [],
   "source": [
    "pipe_bclf = make_pipeline(StandardScaler(), bst_clf)"
   ]
  },
  {
   "cell_type": "code",
   "execution_count": 52,
   "metadata": {
    "colab": {
     "base_uri": "https://localhost:8080/"
    },
    "id": "D0SxULQwhUJA",
    "outputId": "ea11fc2f-066b-4550-d6d0-1fbd6909e2d5"
   },
   "outputs": [
    {
     "data": {
      "text/plain": [
       "Pipeline(steps=[('standardscaler', StandardScaler()),\n",
       "                ('histgradientboostingclassifier',\n",
       "                 HistGradientBoostingClassifier(random_state=100))])"
      ]
     },
     "execution_count": 52,
     "metadata": {},
     "output_type": "execute_result"
    }
   ],
   "source": [
    "pipe_bclf.fit(X_train, y_train)"
   ]
  },
  {
   "cell_type": "code",
   "execution_count": 53,
   "metadata": {
    "colab": {
     "base_uri": "https://localhost:8080/"
    },
    "id": "POWHrYEbhUJA",
    "outputId": "b9928bf5-9f95-4533-f53b-0cb5408eb22d"
   },
   "outputs": [
    {
     "data": {
      "text/plain": [
       "0.6581318454226079"
      ]
     },
     "execution_count": 53,
     "metadata": {},
     "output_type": "execute_result"
    }
   ],
   "source": [
    "pipe_bclf.score(X_train, y_train)"
   ]
  },
  {
   "cell_type": "code",
   "execution_count": 54,
   "metadata": {
    "colab": {
     "base_uri": "https://localhost:8080/"
    },
    "id": "BsYzIvNvhUJA",
    "outputId": "4aa4b9ad-99eb-42cd-db38-81a18c6b4626"
   },
   "outputs": [
    {
     "data": {
      "text/plain": [
       "0.5270303781773094"
      ]
     },
     "execution_count": 54,
     "metadata": {},
     "output_type": "execute_result"
    }
   ],
   "source": [
    "pipe_bclf.score(X_test, y_test)"
   ]
  },
  {
   "cell_type": "markdown",
   "metadata": {
    "id": "RgOjII5m_2Mw"
   },
   "source": [
    "**Plot Results**"
   ]
  },
  {
   "cell_type": "code",
   "execution_count": 56,
   "metadata": {
    "id": "vKYMlp3aFTS8"
   },
   "outputs": [],
   "source": [
    "test_set_df = test.copy()"
   ]
  },
  {
   "cell_type": "code",
   "execution_count": 58,
   "metadata": {
    "id": "ML6GZR_ZArQg"
   },
   "outputs": [],
   "source": [
    "# pick tckr and apply filter\n",
    "test_set_df['rf_position'] = pipe_rf.predict(test_set_df[cols])"
   ]
  },
  {
   "cell_type": "code",
   "execution_count": 59,
   "metadata": {
    "id": "LM8NtIDC_eFo"
   },
   "outputs": [],
   "source": [
    "test_set_df['rf_strategy'] = test_set_df['rf_position'] * test_set_df['return']"
   ]
  },
  {
   "cell_type": "code",
   "execution_count": 60,
   "metadata": {
    "id": "jdAy9PIZAcUg"
   },
   "outputs": [],
   "source": [
    "test_set_df['boost_position'] = pipe_bclf.predict(test_set_df[cols])"
   ]
  },
  {
   "cell_type": "code",
   "execution_count": 61,
   "metadata": {
    "id": "pNsg5s_4hUJB"
   },
   "outputs": [],
   "source": [
    "test_set_df['boost_strategy'] = test_set_df['boost_position'] * test_set_df['return']"
   ]
  },
  {
   "cell_type": "code",
   "execution_count": 62,
   "metadata": {
    "colab": {
     "base_uri": "https://localhost:8080/"
    },
    "id": "vEo-uh_NhUJB",
    "outputId": "d1adbaed-c0b5-42ff-b256-3b6a94546d2f"
   },
   "outputs": [
    {
     "data": {
      "text/plain": [
       "array(['NEE', 'AMZN', 'ILMN', 'IEX', 'RE', 'ED', 'HIG', 'NVR', 'HON',\n",
       "       'DLTR'], dtype=object)"
      ]
     },
     "execution_count": 62,
     "metadata": {},
     "output_type": "execute_result"
    }
   ],
   "source": [
    "test_set_df.Name.unique()"
   ]
  },
  {
   "cell_type": "code",
   "execution_count": 63,
   "metadata": {
    "id": "d1oHQjAJAzX9"
   },
   "outputs": [],
   "source": [
    "temp_test = test_set_df[test_set_df['Name']=='AMZN']\n",
    "temp_test.set_index('Datetime', inplace=True)"
   ]
  },
  {
   "cell_type": "code",
   "execution_count": 65,
   "metadata": {
    "colab": {
     "base_uri": "https://localhost:8080/",
     "height": 383
    },
    "id": "aFEppR5dAaid",
    "outputId": "e21b4ae9-581e-49ba-f3dc-b7e5b0c3cdba"
   },
   "outputs": [
    {
     "data": {
      "image/png": "[encoded data removed]",
      "text/plain": [
       "<Figure size 720x432 with 1 Axes>"
      ]
     },
     "metadata": {
      "needs_background": "light"
     },
     "output_type": "display_data"
    }
   ],
   "source": [
    "temp_test[['return', 'boost_strategy', 'rf_strategy']].cumsum().apply(np.exp).plot(figsize=(10, 6));"
   ]
  },
  {
   "cell_type": "code",
   "execution_count": 66,
   "metadata": {
    "id": "2y1Qx-Se-7IN"
   },
   "outputs": [],
   "source": []
  },
  {
   "cell_type": "code",
   "execution_count": null,
   "metadata": {
    "id": "-Nq2zgobGAXd"
   },
   "outputs": [],
   "source": []
  },
  {
   "cell_type": "code",
   "execution_count": null,
   "metadata": {
    "id": "h-8Van55GAN-"
   },
   "outputs": [],
   "source": []
  },
  {
   "cell_type": "markdown",
   "metadata": {
    "id": "brWMvLC7hUJB"
   },
   "source": [
    "#### Save the model"
   ]
  },
  {
   "cell_type": "code",
   "execution_count": 69,
   "metadata": {
    "id": "xRZNUn0ShUJB"
   },
   "outputs": [],
   "source": [
    "from joblib import dump, load"
   ]
  },
  {
   "cell_type": "code",
   "execution_count": 72,
   "metadata": {
    "id": "Cw50XLHlHLFO"
   },
   "outputs": [],
   "source": [
    "!mkdir saved_models"
   ]
  },
  {
   "cell_type": "code",
   "execution_count": 73,
   "metadata": {
    "colab": {
     "base_uri": "https://localhost:8080/"
    },
    "id": "GP9UASiPhUJB",
    "outputId": "29561ddd-393b-4449-ff97-3d5d00fc7fb8"
   },
   "outputs": [
    {
     "data": {
      "text/plain": [
       "['saved_models/pipe_bclf.joblib']"
      ]
     },
     "execution_count": 73,
     "metadata": {},
     "output_type": "execute_result"
    }
   ],
   "source": [
    "# save model\n",
    "#os.makedirs(\"models\", exist_ok=True)\n",
    "\n",
    "dump(pipe_rf, \"saved_models/pipe_rf.joblib\")\n",
    "dump(pipe_bclf, \"saved_models/pipe_bclf.joblib\")"
   ]
  },
  {
   "cell_type": "markdown",
   "metadata": {
    "id": "L8m3yuE2ZBmP"
   },
   "source": [
    "**Overview of simulating realtime**\n",
    "There are two components of this.\n",
    "1. **New Streaming data** - will be simulated by slicing 26 observation window, passing it on. Then taking a stride of one observation and repeating \n",
    "2. **Pre processing newly presented data** Creates new features and produces input data for model"
   ]
  },
  {
   "cell_type": "markdown",
   "metadata": {
    "id": "eWRyQNPvHsfo"
   },
   "source": [
    "**First test functions that clip off last window + lags observations of data frame**"
   ]
  },
  {
   "cell_type": "markdown",
   "metadata": {
    "id": "3tRxEtmxJ4Z2"
   },
   "source": [
    "Create out of sample list to test hitting model"
   ]
  },
  {
   "cell_type": "code",
   "execution_count": 75,
   "metadata": {
    "colab": {
     "base_uri": "https://localhost:8080/"
    },
    "id": "i2_aCa3vaHbA",
    "outputId": "e44fd6b9-8bc9-4ac1-c93b-88963d473a41"
   },
   "outputs": [
    {
     "data": {
      "text/plain": [
       "['EXR', 'JBHT', 'WAT', 'VLO', 'TRMB', 'TFC', 'AVY', 'RSG', 'ADSK', 'YUM']"
      ]
     },
     "execution_count": 75,
     "metadata": {},
     "output_type": "execute_result"
    }
   ],
   "source": [
    "oos_bkt_list = sample(list(set(basket)-set(bkt_40)),10)\n",
    "oos_bkt_list"
   ]
  },
  {
   "cell_type": "code",
   "execution_count": 110,
   "metadata": {
    "id": "zNWub4EcQCxB"
   },
   "outputs": [],
   "source": [
    "stk_pull_2 = stock_data_pull(oos_bkt_list,False)\n",
    "\n",
    "date_range = stk_pull_2.Datetime.drop_duplicates()\n",
    "date_range = pd.DataFrame(date_range)\n",
    "stock_ready_2 = fill_blanks(stk_pull_2,'Name',date_range,'Datetime');\n",
    "\n",
    "\n"
   ]
  },
  {
   "cell_type": "code",
   "execution_count": 115,
   "metadata": {
    "colab": {
     "base_uri": "https://localhost:8080/"
    },
    "id": "q1WwiEj5R-Qe",
    "outputId": "f48a9e10-4b82-4a42-cfc5-7bfb276e1620"
   },
   "outputs": [
    {
     "name": "stdout",
     "output_type": "stream",
     "text": [
      "all good, all data contains 1639 observations\n",
      "size of temp is 1619\n",
      "size of temp is after clipping 1\n",
      "size of temp is 1619\n",
      "size of temp is after clipping 1\n",
      "size of temp is 1619\n",
      "size of temp is after clipping 1\n",
      "size of temp is 1619\n",
      "size of temp is after clipping 1\n",
      "size of temp is 1619\n",
      "size of temp is after clipping 1\n",
      "size of temp is 1619\n",
      "size of temp is after clipping 1\n",
      "size of temp is 1619\n",
      "size of temp is after clipping 1\n",
      "size of temp is 1619\n",
      "size of temp is after clipping 1\n",
      "size of temp is 1619\n",
      "size of temp is after clipping 1\n",
      "size of temp is 1619\n",
      "size of temp is after clipping 1\n"
     ]
    }
   ],
   "source": [
    "# call function to genereate all new variables\n",
    "stk_rdy_3, cols =  feature_create(stock_ready_2,oos_bkt_list, window,lags,features,clip=True)"
   ]
  },
  {
   "cell_type": "code",
   "execution_count": 116,
   "metadata": {
    "colab": {
     "base_uri": "https://localhost:8080/"
    },
    "id": "NgzYOccpQCnT",
    "outputId": "3739eea8-c530-45c4-ccd6-39027f5c3e87"
   },
   "outputs": [
    {
     "data": {
      "text/plain": [
       "(10, 47)"
      ]
     },
     "execution_count": 116,
     "metadata": {},
     "output_type": "execute_result"
    }
   ],
   "source": [
    "stk_rdy_3.shape"
   ]
  },
  {
   "cell_type": "code",
   "execution_count": 117,
   "metadata": {
    "colab": {
     "base_uri": "https://localhost:8080/"
    },
    "id": "ge1GWhLKVMUf",
    "outputId": "6e5efcf8-73cb-4c66-8b5b-7bd88e4a7d1b"
   },
   "outputs": [
    {
     "data": {
      "text/plain": [
       "Index(['Datetime', 'Close', 'Volume', 'Name', 'return', 'vol', 'mom', 'sma',\n",
       "       'min', 'max', 'return_lag_1', 'return_lag_2', 'return_lag_3',\n",
       "       'return_lag_4', 'return_lag_5', 'return_lag_6', 'vol_lag_1',\n",
       "       'vol_lag_2', 'vol_lag_3', 'vol_lag_4', 'vol_lag_5', 'vol_lag_6',\n",
       "       'mom_lag_1', 'mom_lag_2', 'mom_lag_3', 'mom_lag_4', 'mom_lag_5',\n",
       "       'mom_lag_6', 'sma_lag_1', 'sma_lag_2', 'sma_lag_3', 'sma_lag_4',\n",
       "       'sma_lag_5', 'sma_lag_6', 'min_lag_1', 'min_lag_2', 'min_lag_3',\n",
       "       'min_lag_4', 'min_lag_5', 'min_lag_6', 'max_lag_1', 'max_lag_2',\n",
       "       'max_lag_3', 'max_lag_4', 'max_lag_5', 'max_lag_6', 'direction'],\n",
       "      dtype='object')"
      ]
     },
     "execution_count": 117,
     "metadata": {},
     "output_type": "execute_result"
    }
   ],
   "source": [
    "stk_rdy_3.columns"
   ]
  },
  {
   "cell_type": "code",
   "execution_count": 119,
   "metadata": {
    "colab": {
     "base_uri": "https://localhost:8080/"
    },
    "id": "2q-psnxzW5_v",
    "outputId": "ceb0df9a-8d21-47af-a47c-9bbfd59937b4"
   },
   "outputs": [
    {
     "data": {
      "text/plain": [
       "array([-1, -1, -1, -1, -1,  1, -1,  1,  1, -1])"
      ]
     },
     "execution_count": 119,
     "metadata": {},
     "output_type": "execute_result"
    }
   ],
   "source": [
    "pipe_bclf.predict(stk_rdy_3[cols])"
   ]
  },
  {
   "cell_type": "markdown",
   "metadata": {
    "id": "IxFVUXO3KhpL"
   },
   "source": [
    "Test running stocks above through all preprocessing and hitting the  model"
   ]
  }
 ],
 "metadata": {
  "colab": {
   "provenance": []
  },
  "kernelspec": {
   "display_name": "Python 3 (ipykernel)",
   "language": "python",
   "name": "python3"
  },
  "language_info": {
   "codemirror_mode": {
    "name": "ipython",
    "version": 3
   },
   "file_extension": ".py",
   "mimetype": "text/x-python",
   "name": "python",
   "nbconvert_exporter": "python",
   "pygments_lexer": "ipython3",
   "version": "3.7.13"
  }
 },
 "nbformat": 4,
 "nbformat_minor": 4
}
