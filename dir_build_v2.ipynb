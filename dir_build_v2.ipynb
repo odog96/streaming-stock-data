{
 "cells": [
  {
   "cell_type": "markdown",
   "metadata": {
    "id": "EkTpCSRDONY0"
   },
   "source": [
    "# Market Movement Prediction<br>\n",
    "The notebook will use a few classification techniques to predict market movement. The base case might be a random walk or logistic regression and alternate will be to use either a boosting technique and/or random forest.<br>\n",
    "\n",
    "Market movement is definined by simply looking at the magnitude of the return. That is if a return is positive, the label is 1, and 0 otherwise. <br>\n",
    "\n",
    "Time permitting I may look at configurations of this definition. For example direction difined by movent over the following hour - an aggregate of the windows 5 minute returns, as an example.\n",
    "\n",
    "**Version 2 Details**\n",
    "\n",
    "Version 2 pulls data directly from impala"
   ]
  },
  {
   "cell_type": "code",
   "execution_count": 29,
   "metadata": {
    "id": "5ke0122QMb03"
   },
   "outputs": [],
   "source": [
    "import json, requests\n",
    "import pandas as pd\n",
    "import numpy as np\n",
    "import io\n",
    "import random\n",
    "import time\n",
    "import math\n",
    "\n",
    "import cml.data_v1 as cmldata\n",
    "import os\n",
    "\n",
    "from random import sample\n",
    "\n",
    "import warnings\n",
    "warnings.filterwarnings('ignore')\n",
    "\n",
    "import psutil"
   ]
  },
  {
   "cell_type": "code",
   "execution_count": 2,
   "metadata": {},
   "outputs": [],
   "source": [
    "from transform_functions import fill_blanks, feature_create"
   ]
  },
  {
   "cell_type": "code",
   "execution_count": 3,
   "metadata": {},
   "outputs": [],
   "source": [
    "# Calling psutil.cpu_precent() for 4 seconds\n",
    "# print('The CPU usage is: ', psutil.cpu_percent(4))"
   ]
  },
  {
   "cell_type": "code",
   "execution_count": 4,
   "metadata": {},
   "outputs": [
    {
     "name": "stdout",
     "output_type": "stream",
     "text": [
      "RAM memory % used: 6.6\n",
      "RAM Used (GB): 3.676258304\n"
     ]
    }
   ],
   "source": [
    "# Getting % usage of virtual_memory ( 3rd field)\n",
    "print('RAM memory % used:', psutil.virtual_memory()[2])\n",
    "# Getting usage of virtual_memory in GB ( 4th field)\n",
    "print('RAM Used (GB):', psutil.virtual_memory()[3]/1000000000)"
   ]
  },
  {
   "cell_type": "code",
   "execution_count": 5,
   "metadata": {
    "colab": {
     "base_uri": "https://localhost:8080/",
     "height": 972
    },
    "id": "F6RkuY9Fq0sg",
    "outputId": "3bffeef9-0407-4465-aed8-bb465c308298"
   },
   "outputs": [],
   "source": [
    "CONNECTION_NAME = \"loki-rtdm\"\n",
    "# ## Sample Usage to get pandas data frame\n",
    "EXAMPLE_SQL_QUERY = \"show databases\"\n",
    "# Alternate Sample Usage to provide different credentials as optional parameters\n",
    "conn = cmldata.get_connection(\n",
    "   CONNECTION_NAME, {\"USERNAME\": os.environ['PROJECT_OWNER'], \"PASSWORD\": \"D83j8TNG#PS#jAQ\"}\n",
    ")"
   ]
  },
  {
   "cell_type": "markdown",
   "metadata": {
    "id": "ctrBnqOpw3E4"
   },
   "source": [
    "## Data Gathering"
   ]
  },
  {
   "cell_type": "markdown",
   "metadata": {
    "id": "6WaNWEa4t927"
   },
   "source": [
    "**Get data from impala**"
   ]
  },
  {
   "cell_type": "code",
   "execution_count": 6,
   "metadata": {
    "id": "jyIVSbYVtxHW"
   },
   "outputs": [],
   "source": [
    "# get first month of data \n",
    "get_sample_data = \"select * from loki_stocks.stock_history \\\n",
    "where symbol_time between '2020-12-31' and '2021-05-01' \"\n",
    "df = conn.get_pandas_dataframe(get_sample_data)\n",
    "\n",
    "df.drop(['last_refreshed','information'],axis=1,inplace=True)"
   ]
  },
  {
   "cell_type": "code",
   "execution_count": 7,
   "metadata": {
    "id": "uygCrZzuuJGB"
   },
   "outputs": [
    {
     "data": {
      "text/plain": [
       "(1609785, 7)"
      ]
     },
     "execution_count": 7,
     "metadata": {},
     "output_type": "execute_result"
    }
   ],
   "source": [
    "df.shape"
   ]
  },
  {
   "cell_type": "code",
   "execution_count": null,
   "metadata": {},
   "outputs": [],
   "source": []
  },
  {
   "cell_type": "markdown",
   "metadata": {
    "id": "UvkpB91OvcUI"
   },
   "source": [
    "**End of Functions**"
   ]
  },
  {
   "cell_type": "markdown",
   "metadata": {
    "id": "aeFWXI64wC8N"
   },
   "source": [
    "**Pull and clean data** <br>*for each stock symbol:*<br>1. Pull historical data.<br>2. Fil in missing intervals with forward and back fill."
   ]
  },
  {
   "cell_type": "markdown",
   "metadata": {
    "id": "9ELrtKTMBsdZ"
   },
   "source": [
    "##Data Prep"
   ]
  },
  {
   "cell_type": "markdown",
   "metadata": {
    "id": "dLtckhEKrQm1"
   },
   "source": [
    "**New Feature Creation**<br>\n",
    "- For each tckr in basket\n",
    "- Create a window variable that defines the rolling measure size\n",
    "- create volume, sma, min, max for each stock\n",
    "\n",
    "\n",
    "*code derived from 'Python for Algorithmic Trading', Yves Hilpisch*"
   ]
  },
  {
   "cell_type": "code",
   "execution_count": null,
   "metadata": {},
   "outputs": [],
   "source": []
  },
  {
   "cell_type": "code",
   "execution_count": 8,
   "metadata": {
    "id": "QTkxGuvNB18J"
   },
   "outputs": [],
   "source": [
    "# need to calculate metrics seperately for each tckr symbol\n",
    "window = 20  \n",
    "features = ['return', 'vol', 'mom', 'sma', 'min', 'max']  \n",
    "lags = 6  \n"
   ]
  },
  {
   "cell_type": "code",
   "execution_count": 9,
   "metadata": {},
   "outputs": [],
   "source": [
    "date_range = df.symbol_time.drop_duplicates()\n",
    "date_range = pd.DataFrame(date_range)\n",
    "df1 = fill_blanks(df,'symbol',date_range,'symbol_time');"
   ]
  },
  {
   "cell_type": "code",
   "execution_count": 10,
   "metadata": {},
   "outputs": [
    {
     "name": "stdout",
     "output_type": "stream",
     "text": [
      "RAM memory % used: 7.8\n",
      "RAM Used (GB): 4.453629952\n"
     ]
    }
   ],
   "source": [
    "# Getting % usage of virtual_memory ( 3rd field)\n",
    "print('RAM memory % used:', psutil.virtual_memory()[2])\n",
    "# Getting usage of virtual_memory in GB ( 4th field)\n",
    "print('RAM Used (GB):', psutil.virtual_memory()[3]/1000000000)"
   ]
  },
  {
   "cell_type": "code",
   "execution_count": 11,
   "metadata": {},
   "outputs": [
    {
     "data": {
      "text/plain": [
       "(3497229, 7)"
      ]
     },
     "execution_count": 11,
     "metadata": {},
     "output_type": "execute_result"
    }
   ],
   "source": [
    "df1.shape"
   ]
  },
  {
   "cell_type": "code",
   "execution_count": 12,
   "metadata": {},
   "outputs": [
    {
     "name": "stdout",
     "output_type": "stream",
     "text": [
      "error, your stock contain tckrs with varying number of observations:[15821 22382 22511 22392 22965 23937 21871 22940]\n"
     ]
    }
   ],
   "source": [
    "# Check that each ticker has the same number\n",
    "# checks to ensure if all tckrs have same size\n",
    "sizes = df1.groupby('symbol').size().unique()\n",
    "size_count = sizes.shape[0]\n",
    "if size_count == 1:\n",
    "  print (f'all good, all data contains {sizes[0]} observations')\n",
    "else:\n",
    "  print(f'error, your stock contain tckrs with varying number of observations:{sizes}')"
   ]
  },
  {
   "cell_type": "markdown",
   "metadata": {},
   "source": [
    "**remove symbols with non-conforming sizes**"
   ]
  },
  {
   "cell_type": "code",
   "execution_count": 13,
   "metadata": {},
   "outputs": [],
   "source": [
    "# remove symbols with non-conforming sizes\n",
    "remove_list = df1.groupby('symbol').size().reset_index().\\\n",
    "sort_values(0,ascending=False).head(7).symbol.tolist()"
   ]
  },
  {
   "cell_type": "code",
   "execution_count": 14,
   "metadata": {},
   "outputs": [],
   "source": [
    "df1 = df1[~df1.symbol.isin(remove_list)]"
   ]
  },
  {
   "cell_type": "code",
   "execution_count": 15,
   "metadata": {},
   "outputs": [
    {
     "name": "stdout",
     "output_type": "stream",
     "text": [
      "RAM memory % used: 7.8\n",
      "RAM Used (GB): 4.4698624\n"
     ]
    }
   ],
   "source": [
    "# Getting % usage of virtual_memory ( 3rd field)\n",
    "print('RAM memory % used:', psutil.virtual_memory()[2])\n",
    "# Getting usage of virtual_memory in GB ( 4th field)\n",
    "print('RAM Used (GB):', psutil.virtual_memory()[3]/1000000000)"
   ]
  },
  {
   "cell_type": "code",
   "execution_count": 16,
   "metadata": {},
   "outputs": [],
   "source": [
    "#clear some memory \n",
    "del(df)"
   ]
  },
  {
   "cell_type": "code",
   "execution_count": 17,
   "metadata": {},
   "outputs": [
    {
     "name": "stdout",
     "output_type": "stream",
     "text": [
      "RAM memory % used: 7.7\n",
      "RAM Used (GB): 4.405866496\n"
     ]
    }
   ],
   "source": [
    "# Getting % usage of virtual_memory ( 3rd field)\n",
    "print('RAM memory % used:', psutil.virtual_memory()[2])\n",
    "# Getting usage of virtual_memory in GB ( 4th field)\n",
    "print('RAM Used (GB):', psutil.virtual_memory()[3]/1000000000)"
   ]
  },
  {
   "cell_type": "code",
   "execution_count": 18,
   "metadata": {},
   "outputs": [],
   "source": [
    "# check data frame for change\n",
    "basket = df1.symbol.unique()\n",
    "#df1.shape\n",
    "#df1[df1.symbol == remove_list[0]]\n",
    "#remove_list[0]"
   ]
  },
  {
   "cell_type": "code",
   "execution_count": 19,
   "metadata": {},
   "outputs": [
    {
     "data": {
      "text/plain": [
       "211"
      ]
     },
     "execution_count": 19,
     "metadata": {},
     "output_type": "execute_result"
    }
   ],
   "source": [
    "len(basket)"
   ]
  },
  {
   "cell_type": "code",
   "execution_count": 20,
   "metadata": {},
   "outputs": [],
   "source": [
    "def test_feature_create(df_in,tckr_list, window,lags,features,clip=False,tckr='Name',date='Datetime',close='Close'):\n",
    "    \"\"\"\n",
    "      Takes in dataframe with stock information for a sinlge ticker. Returns\n",
    "      df with return, volatility, momentum, sma, min, and max \n",
    "    \"\"\"\n",
    "    df_int = pd.DataFrame()\n",
    "\n",
    "    # validate input data frame has equal number of observations per symbol\n",
    "    sizes = df_in.groupby(tckr).size().unique()\n",
    "    size_count = sizes.shape[0]\n",
    "\n",
    "    if size_count == 1:\n",
    "        print (f'all good, all data contains {sizes[0]} observations')\n",
    "    else:\n",
    "        print(f'error, your stock contain tckrs with varying number of observations {sizes}')\n",
    "        return \n",
    "    count = 1\n",
    "    for symb in tckr_list:\n",
    "        temp = df_in[df_in[tckr] == symb]\n",
    "        temp.sort_values(date, inplace=True)\n",
    "        # create core features\n",
    "        temp['return'] = np.log(temp[close] / temp[close].shift(1))  \n",
    "        temp['vol'] = temp['return'].rolling(window).std()      # measure of volatility\n",
    "        temp['mom'] = np.sign(temp['return'].rolling(window).mean())  \n",
    "        temp['sma'] = temp[close].rolling(window).mean()  \n",
    "        temp['min'] = temp[close].rolling(window).min()  \n",
    "        temp['max'] = temp[close].rolling(window).max()\n",
    "        temp.dropna(inplace=True)\n",
    "        # create lag variables\n",
    "        cols = []\n",
    "        for f in features:\n",
    "            for lag in range(1, lags + 1):\n",
    "                col = f'{f}_lag_{lag}'\n",
    "                temp[col] = temp[f].shift(lag)  \n",
    "                cols.append(col)\n",
    "        temp.dropna(inplace=True)\n",
    "        if clip:\n",
    "      # just take only last n, required observations\n",
    "            temp = temp.tail(1)\n",
    "            print('size of temp is after clipping',temp.shape[0])\n",
    "        if temp.shape[0] == 0:\n",
    "            print('for ',symb,' size of temp is',temp.shape[0])\n",
    "            # Getting % usage of virtual_memory ( 3rd field)\n",
    "            print('RAM memory % used:', psutil.virtual_memory()[2])\n",
    "            # Getting usage of virtual_memory in GB ( 4th field)\n",
    "            print('RAM Used (GB):', psutil.virtual_memory()[3]/1000000000)\n",
    "        else:\n",
    "            df_int = df_int.append(temp,ignore_index=True)\n",
    "            count += 1\n",
    "            #print('stock:',symb,count,'th item',' temp size',temp.shape[0], 'df_int shape',len(df_int))\n",
    "            del(temp)\n",
    "\n",
    "    #df_int.dropna(inplace=True)\n",
    "    print('got here')\n",
    "    df_int['direction'] = np.where(df_int['return'] > 0, 1, -1) \n",
    "    return df_int, cols"
   ]
  },
  {
   "cell_type": "code",
   "execution_count": 21,
   "metadata": {},
   "outputs": [
    {
     "name": "stdout",
     "output_type": "stream",
     "text": [
      "all good, all data contains 15821 observations\n",
      "got here\n",
      "CPU times: user 1min 22s, sys: 23.5 s, total: 1min 45s\n",
      "Wall time: 1min 45s\n"
     ]
    }
   ],
   "source": [
    "%%time\n",
    "#df_ready, cols =  feature_create(df1,basket, window,lags,features,tckr='symbol',date='symbol_time',close='close')\n",
    "df_ready, cols =  test_feature_create(df1,basket, window,lags,features,tckr='symbol',date='symbol_time',close='close')"
   ]
  },
  {
   "cell_type": "code",
   "execution_count": null,
   "metadata": {
    "colab": {
     "base_uri": "https://localhost:8080/"
    },
    "id": "Huk8Pj8r-8uh",
    "outputId": "4a642d94-ca8b-4968-e689-0aed419e238e"
   },
   "outputs": [],
   "source": []
  },
  {
   "cell_type": "code",
   "execution_count": 15,
   "metadata": {
    "colab": {
     "base_uri": "https://localhost:8080/",
     "height": 473
    },
    "id": "G-etdgx1sO7u",
    "outputId": "64eda8f5-a83c-43fd-fc93-1695e459c5f8"
   },
   "outputs": [
    {
     "data": {
      "text/html": [
       "<div>\n",
       "<style scoped>\n",
       "    .dataframe tbody tr th:only-of-type {\n",
       "        vertical-align: middle;\n",
       "    }\n",
       "\n",
       "    .dataframe tbody tr th {\n",
       "        vertical-align: top;\n",
       "    }\n",
       "\n",
       "    .dataframe thead th {\n",
       "        text-align: right;\n",
       "    }\n",
       "</style>\n",
       "<table border=\"1\" class=\"dataframe\">\n",
       "  <thead>\n",
       "    <tr style=\"text-align: right;\">\n",
       "      <th></th>\n",
       "      <th>Datetime</th>\n",
       "      <th>Close</th>\n",
       "      <th>Volume</th>\n",
       "      <th>Name</th>\n",
       "      <th>return</th>\n",
       "      <th>vol</th>\n",
       "      <th>mom</th>\n",
       "      <th>sma</th>\n",
       "      <th>min</th>\n",
       "      <th>max</th>\n",
       "      <th>...</th>\n",
       "      <th>min_lag_4</th>\n",
       "      <th>min_lag_5</th>\n",
       "      <th>min_lag_6</th>\n",
       "      <th>max_lag_1</th>\n",
       "      <th>max_lag_2</th>\n",
       "      <th>max_lag_3</th>\n",
       "      <th>max_lag_4</th>\n",
       "      <th>max_lag_5</th>\n",
       "      <th>max_lag_6</th>\n",
       "      <th>direction</th>\n",
       "    </tr>\n",
       "  </thead>\n",
       "  <tbody>\n",
       "    <tr>\n",
       "      <th>6</th>\n",
       "      <td>2022-12-09 14:35:00</td>\n",
       "      <td>28.455000</td>\n",
       "      <td>134864.0</td>\n",
       "      <td>VFC</td>\n",
       "      <td>0.001231</td>\n",
       "      <td>0.001417</td>\n",
       "      <td>1.0</td>\n",
       "      <td>28.38447</td>\n",
       "      <td>28.299999</td>\n",
       "      <td>28.495001</td>\n",
       "      <td>...</td>\n",
       "      <td>28.299999</td>\n",
       "      <td>28.299999</td>\n",
       "      <td>28.299999</td>\n",
       "      <td>28.495001</td>\n",
       "      <td>28.495001</td>\n",
       "      <td>28.469999</td>\n",
       "      <td>28.459400</td>\n",
       "      <td>28.415001</td>\n",
       "      <td>28.415001</td>\n",
       "      <td>1</td>\n",
       "    </tr>\n",
       "    <tr>\n",
       "      <th>7</th>\n",
       "      <td>2022-12-09 14:40:00</td>\n",
       "      <td>28.395000</td>\n",
       "      <td>93317.0</td>\n",
       "      <td>VFC</td>\n",
       "      <td>-0.002111</td>\n",
       "      <td>0.001504</td>\n",
       "      <td>1.0</td>\n",
       "      <td>28.38597</td>\n",
       "      <td>28.299999</td>\n",
       "      <td>28.495001</td>\n",
       "      <td>...</td>\n",
       "      <td>28.299999</td>\n",
       "      <td>28.299999</td>\n",
       "      <td>28.299999</td>\n",
       "      <td>28.495001</td>\n",
       "      <td>28.495001</td>\n",
       "      <td>28.495001</td>\n",
       "      <td>28.469999</td>\n",
       "      <td>28.459400</td>\n",
       "      <td>28.415001</td>\n",
       "      <td>-1</td>\n",
       "    </tr>\n",
       "    <tr>\n",
       "      <th>8</th>\n",
       "      <td>2022-12-09 14:45:00</td>\n",
       "      <td>28.430000</td>\n",
       "      <td>96940.0</td>\n",
       "      <td>VFC</td>\n",
       "      <td>0.001232</td>\n",
       "      <td>0.001519</td>\n",
       "      <td>1.0</td>\n",
       "      <td>28.38997</td>\n",
       "      <td>28.299999</td>\n",
       "      <td>28.495001</td>\n",
       "      <td>...</td>\n",
       "      <td>28.299999</td>\n",
       "      <td>28.299999</td>\n",
       "      <td>28.299999</td>\n",
       "      <td>28.495001</td>\n",
       "      <td>28.495001</td>\n",
       "      <td>28.495001</td>\n",
       "      <td>28.495001</td>\n",
       "      <td>28.469999</td>\n",
       "      <td>28.459400</td>\n",
       "      <td>1</td>\n",
       "    </tr>\n",
       "    <tr>\n",
       "      <th>9</th>\n",
       "      <td>2022-12-09 14:50:00</td>\n",
       "      <td>28.395000</td>\n",
       "      <td>48874.0</td>\n",
       "      <td>VFC</td>\n",
       "      <td>-0.001232</td>\n",
       "      <td>0.001550</td>\n",
       "      <td>1.0</td>\n",
       "      <td>28.39197</td>\n",
       "      <td>28.299999</td>\n",
       "      <td>28.495001</td>\n",
       "      <td>...</td>\n",
       "      <td>28.299999</td>\n",
       "      <td>28.299999</td>\n",
       "      <td>28.299999</td>\n",
       "      <td>28.495001</td>\n",
       "      <td>28.495001</td>\n",
       "      <td>28.495001</td>\n",
       "      <td>28.495001</td>\n",
       "      <td>28.495001</td>\n",
       "      <td>28.469999</td>\n",
       "      <td>-1</td>\n",
       "    </tr>\n",
       "    <tr>\n",
       "      <th>10</th>\n",
       "      <td>2022-12-09 14:55:00</td>\n",
       "      <td>28.344999</td>\n",
       "      <td>80200.0</td>\n",
       "      <td>VFC</td>\n",
       "      <td>-0.001762</td>\n",
       "      <td>0.001568</td>\n",
       "      <td>-1.0</td>\n",
       "      <td>28.38947</td>\n",
       "      <td>28.299999</td>\n",
       "      <td>28.495001</td>\n",
       "      <td>...</td>\n",
       "      <td>28.299999</td>\n",
       "      <td>28.299999</td>\n",
       "      <td>28.299999</td>\n",
       "      <td>28.495001</td>\n",
       "      <td>28.495001</td>\n",
       "      <td>28.495001</td>\n",
       "      <td>28.495001</td>\n",
       "      <td>28.495001</td>\n",
       "      <td>28.495001</td>\n",
       "      <td>-1</td>\n",
       "    </tr>\n",
       "  </tbody>\n",
       "</table>\n",
       "<p>5 rows × 47 columns</p>\n",
       "</div>"
      ],
      "text/plain": [
       "              Datetime      Close    Volume Name    return       vol  mom  \\\n",
       "6  2022-12-09 14:35:00  28.455000  134864.0  VFC  0.001231  0.001417  1.0   \n",
       "7  2022-12-09 14:40:00  28.395000   93317.0  VFC -0.002111  0.001504  1.0   \n",
       "8  2022-12-09 14:45:00  28.430000   96940.0  VFC  0.001232  0.001519  1.0   \n",
       "9  2022-12-09 14:50:00  28.395000   48874.0  VFC -0.001232  0.001550  1.0   \n",
       "10 2022-12-09 14:55:00  28.344999   80200.0  VFC -0.001762  0.001568 -1.0   \n",
       "\n",
       "         sma        min        max  ...  min_lag_4  min_lag_5  min_lag_6  \\\n",
       "6   28.38447  28.299999  28.495001  ...  28.299999  28.299999  28.299999   \n",
       "7   28.38597  28.299999  28.495001  ...  28.299999  28.299999  28.299999   \n",
       "8   28.38997  28.299999  28.495001  ...  28.299999  28.299999  28.299999   \n",
       "9   28.39197  28.299999  28.495001  ...  28.299999  28.299999  28.299999   \n",
       "10  28.38947  28.299999  28.495001  ...  28.299999  28.299999  28.299999   \n",
       "\n",
       "    max_lag_1  max_lag_2  max_lag_3  max_lag_4  max_lag_5  max_lag_6  \\\n",
       "6   28.495001  28.495001  28.469999  28.459400  28.415001  28.415001   \n",
       "7   28.495001  28.495001  28.495001  28.469999  28.459400  28.415001   \n",
       "8   28.495001  28.495001  28.495001  28.495001  28.469999  28.459400   \n",
       "9   28.495001  28.495001  28.495001  28.495001  28.495001  28.469999   \n",
       "10  28.495001  28.495001  28.495001  28.495001  28.495001  28.495001   \n",
       "\n",
       "    direction  \n",
       "6           1  \n",
       "7          -1  \n",
       "8           1  \n",
       "9          -1  \n",
       "10         -1  \n",
       "\n",
       "[5 rows x 47 columns]"
      ]
     },
     "execution_count": 15,
     "metadata": {},
     "output_type": "execute_result"
    }
   ],
   "source": [
    "stk_rdy_2.head()"
   ]
  },
  {
   "cell_type": "markdown",
   "metadata": {
    "id": "nPqAG7GqwU1z"
   },
   "source": [
    "## Model Prep\n",
    "\n",
    "Starting with binary prediction, but this could easily be exented to multi class yield predict - strong buy, buy, hold, sell, strong sell predictions.<br>\n",
    "\n",
    "Later it would be good to include hyperparamter optimization using experiments."
   ]
  },
  {
   "cell_type": "markdown",
   "metadata": {
    "id": "yJGR8FAGBuSQ"
   },
   "source": [
    "**Train/Test Methodology**<br>\n",
    "Test and train split is done slightly differently for development level model\n",
    "typically a time series model, would split train/test along time horizon\n",
    "in this case we will split along ticker symbols. So both test and train records will contain all time observations. For production model, with data that contains longer time span, this will be addressed, to avoid any potential data leakage."
   ]
  },
  {
   "cell_type": "markdown",
   "metadata": {
    "id": "0AER0lpNhUI_"
   },
   "source": [
    "**Model Train**<br>\n",
    "random forest"
   ]
  },
  {
   "cell_type": "code",
   "execution_count": 22,
   "metadata": {
    "id": "-9COlRP7vxJs"
   },
   "outputs": [],
   "source": [
    "from sklearn.metrics import accuracy_score\n",
    "from sklearn.ensemble import RandomForestClassifier, HistGradientBoostingClassifier\n",
    "from sklearn import preprocessing\n",
    "from sklearn.model_selection import train_test_split\n",
    "from sklearn.pipeline import make_pipeline\n",
    "from sklearn.preprocessing import StandardScaler"
   ]
  },
  {
   "cell_type": "code",
   "execution_count": 23,
   "metadata": {},
   "outputs": [],
   "source": [
    "#"
   ]
  },
  {
   "cell_type": "code",
   "execution_count": 24,
   "metadata": {
    "id": "sg80DP9A0rS_"
   },
   "outputs": [],
   "source": [
    "# Parameter Set up\n",
    "n_estimators=15\n",
    "random_state=100  \n",
    "max_depth=5\n",
    "min_samples_leaf=15  "
   ]
  },
  {
   "cell_type": "code",
   "execution_count": 25,
   "metadata": {
    "id": "84x4XvR523Hm"
   },
   "outputs": [],
   "source": [
    "rf = RandomForestClassifier(random_state=random_state,\n",
    "                                      max_depth=max_depth,\n",
    "                                      min_samples_leaf=min_samples_leaf)  \n",
    "\n",
    "bst_clf = HistGradientBoostingClassifier(random_state=random_state)"
   ]
  },
  {
   "cell_type": "markdown",
   "metadata": {
    "id": "NdByStUl4pqH"
   },
   "source": [
    "**Data train/test split**\n",
    "\n",
    "**Add volume as feature**"
   ]
  },
  {
   "cell_type": "code",
   "execution_count": null,
   "metadata": {},
   "outputs": [],
   "source": [
    "## Create a data split"
   ]
  },
  {
   "cell_type": "code",
   "execution_count": 32,
   "metadata": {},
   "outputs": [],
   "source": [
    "# find element to split on \n",
    "split_point = math.ceil(len(date_range)*.8)"
   ]
  },
  {
   "cell_type": "code",
   "execution_count": 38,
   "metadata": {},
   "outputs": [],
   "source": [
    "time_split = date_range.iloc[split_point,:].values[0]"
   ]
  },
  {
   "cell_type": "code",
   "execution_count": 39,
   "metadata": {},
   "outputs": [],
   "source": [
    "test_set = df_ready[df_ready['symbol_time'] > time_split]\n",
    "train_set = df_ready[df_ready['symbol_time'] <= time_split]"
   ]
  },
  {
   "cell_type": "code",
   "execution_count": 40,
   "metadata": {},
   "outputs": [
    {
     "name": "stdout",
     "output_type": "stream",
     "text": [
      "RAM memory % used: 11.6\n",
      "RAM Used (GB): 7.025004544\n"
     ]
    }
   ],
   "source": [
    "# Getting % usage of virtual_memory ( 3rd field)\n",
    "print('RAM memory % used:', psutil.virtual_memory()[2])\n",
    "# Getting usage of virtual_memory in GB ( 4th field)\n",
    "print('RAM Used (GB):', psutil.virtual_memory()[3]/1000000000)"
   ]
  },
  {
   "cell_type": "code",
   "execution_count": 19,
   "metadata": {
    "id": "pUnZF-edhUI_"
   },
   "outputs": [],
   "source": [
    "# train_list = sample(bkt_40, 30)\n",
    "# train = stk_rdy_2[stk_rdy_2.Name.isin(train_list)]\n",
    "# test = stk_rdy_2[~stk_rdy_2.Name.isin(train_list)]\n",
    "\n",
    "# create test list for refereince later\n",
    "test_list = test.Name.unique().tolist()"
   ]
  },
  {
   "cell_type": "code",
   "execution_count": 20,
   "metadata": {
    "colab": {
     "base_uri": "https://localhost:8080/"
    },
    "id": "7o1O_3tnhUJA",
    "outputId": "d2fc208a-4a02-48b4-868a-e443e96f9ecb"
   },
   "outputs": [
    {
     "data": {
      "text/plain": [
       "0.75"
      ]
     },
     "execution_count": 20,
     "metadata": {},
     "output_type": "execute_result"
    }
   ],
   "source": [
    "train.shape[0]/(train.shape[0]+test.shape[0])\n"
   ]
  },
  {
   "cell_type": "code",
   "execution_count": null,
   "metadata": {
    "id": "4Mczb3CfhUI_"
   },
   "outputs": [],
   "source": [
    "# # define x and y\n",
    "X_train = train_set[cols]\n",
    "y_train = train_set['direction']\n",
    "X_test = test_set[cols]\n",
    "y_test = test_set['direction']"
   ]
  },
  {
   "cell_type": "code",
   "execution_count": 22,
   "metadata": {
    "id": "8nipcSjahUJA"
   },
   "outputs": [],
   "source": [
    "pipe_rf = make_pipeline(StandardScaler(), rf)"
   ]
  },
  {
   "cell_type": "code",
   "execution_count": 23,
   "metadata": {
    "colab": {
     "base_uri": "https://localhost:8080/"
    },
    "id": "W-sKKjz0hUJA",
    "outputId": "d421848b-6e4a-4c39-b5db-7e679cbe02e8"
   },
   "outputs": [
    {
     "data": {
      "text/plain": [
       "Pipeline(steps=[('standardscaler', StandardScaler()),\n",
       "                ('randomforestclassifier',\n",
       "                 RandomForestClassifier(max_depth=5, min_samples_leaf=15,\n",
       "                                        random_state=100))])"
      ]
     },
     "execution_count": 23,
     "metadata": {},
     "output_type": "execute_result"
    }
   ],
   "source": [
    "pipe_rf.fit(X_train, y_train)"
   ]
  },
  {
   "cell_type": "code",
   "execution_count": 24,
   "metadata": {
    "colab": {
     "base_uri": "https://localhost:8080/"
    },
    "id": "HYxrjHvFhUJA",
    "outputId": "c2b40675-e3de-4f97-da42-41cd6ef64f68"
   },
   "outputs": [
    {
     "data": {
      "text/plain": [
       "0.5504918782887211"
      ]
     },
     "execution_count": 24,
     "metadata": {},
     "output_type": "execute_result"
    }
   ],
   "source": [
    "pipe_rf.score(X_train, y_train)"
   ]
  },
  {
   "cell_type": "code",
   "execution_count": 25,
   "metadata": {
    "colab": {
     "base_uri": "https://localhost:8080/"
    },
    "id": "E8kYJIVRhUJA",
    "outputId": "76f800c5-c940-40f3-ac9b-0fa25e43a877"
   },
   "outputs": [
    {
     "data": {
      "text/plain": [
       "0.5214824982841455"
      ]
     },
     "execution_count": 25,
     "metadata": {},
     "output_type": "execute_result"
    }
   ],
   "source": [
    "pipe_rf.score(X_test, y_test)"
   ]
  },
  {
   "cell_type": "markdown",
   "metadata": {
    "id": "C0bX9rMHhUJA"
   },
   "source": [
    "**Boosting Algo**"
   ]
  },
  {
   "cell_type": "code",
   "execution_count": 26,
   "metadata": {
    "id": "1qqcgIUMhUJA"
   },
   "outputs": [],
   "source": [
    "pipe_bclf = make_pipeline(StandardScaler(), bst_clf)"
   ]
  },
  {
   "cell_type": "code",
   "execution_count": 27,
   "metadata": {
    "colab": {
     "base_uri": "https://localhost:8080/"
    },
    "id": "D0SxULQwhUJA",
    "outputId": "ea11fc2f-066b-4550-d6d0-1fbd6909e2d5"
   },
   "outputs": [
    {
     "data": {
      "text/plain": [
       "Pipeline(steps=[('standardscaler', StandardScaler()),\n",
       "                ('histgradientboostingclassifier',\n",
       "                 HistGradientBoostingClassifier(random_state=100))])"
      ]
     },
     "execution_count": 27,
     "metadata": {},
     "output_type": "execute_result"
    }
   ],
   "source": [
    "pipe_bclf.fit(X_train, y_train)"
   ]
  },
  {
   "cell_type": "code",
   "execution_count": 28,
   "metadata": {
    "colab": {
     "base_uri": "https://localhost:8080/"
    },
    "id": "POWHrYEbhUJA",
    "outputId": "b9928bf5-9f95-4533-f53b-0cb5408eb22d"
   },
   "outputs": [
    {
     "data": {
      "text/plain": [
       "0.6405856783344772"
      ]
     },
     "execution_count": 28,
     "metadata": {},
     "output_type": "execute_result"
    }
   ],
   "source": [
    "pipe_bclf.score(X_train, y_train)"
   ]
  },
  {
   "cell_type": "code",
   "execution_count": 29,
   "metadata": {
    "colab": {
     "base_uri": "https://localhost:8080/"
    },
    "id": "BsYzIvNvhUJA",
    "outputId": "4aa4b9ad-99eb-42cd-db38-81a18c6b4626"
   },
   "outputs": [
    {
     "data": {
      "text/plain": [
       "0.5249828414550446"
      ]
     },
     "execution_count": 29,
     "metadata": {},
     "output_type": "execute_result"
    }
   ],
   "source": [
    "pipe_bclf.score(X_test, y_test)"
   ]
  },
  {
   "cell_type": "markdown",
   "metadata": {
    "id": "RgOjII5m_2Mw"
   },
   "source": [
    "**Plot Results**"
   ]
  },
  {
   "cell_type": "code",
   "execution_count": 30,
   "metadata": {
    "id": "vKYMlp3aFTS8"
   },
   "outputs": [],
   "source": [
    "test_set_df = test.copy()"
   ]
  },
  {
   "cell_type": "code",
   "execution_count": 38,
   "metadata": {},
   "outputs": [
    {
     "data": {
      "text/html": [
       "<div>\n",
       "<style scoped>\n",
       "    .dataframe tbody tr th:only-of-type {\n",
       "        vertical-align: middle;\n",
       "    }\n",
       "\n",
       "    .dataframe tbody tr th {\n",
       "        vertical-align: top;\n",
       "    }\n",
       "\n",
       "    .dataframe thead th {\n",
       "        text-align: right;\n",
       "    }\n",
       "</style>\n",
       "<table border=\"1\" class=\"dataframe\">\n",
       "  <thead>\n",
       "    <tr style=\"text-align: right;\">\n",
       "      <th></th>\n",
       "      <th>Datetime</th>\n",
       "      <th>Close</th>\n",
       "      <th>Volume</th>\n",
       "      <th>Name</th>\n",
       "      <th>return</th>\n",
       "      <th>vol</th>\n",
       "      <th>mom</th>\n",
       "      <th>sma</th>\n",
       "      <th>min</th>\n",
       "      <th>max</th>\n",
       "      <th>...</th>\n",
       "      <th>max_lag_2</th>\n",
       "      <th>max_lag_3</th>\n",
       "      <th>max_lag_4</th>\n",
       "      <th>max_lag_5</th>\n",
       "      <th>max_lag_6</th>\n",
       "      <th>direction</th>\n",
       "      <th>rf_position</th>\n",
       "      <th>rf_strategy</th>\n",
       "      <th>boost_position</th>\n",
       "      <th>boost_strategy</th>\n",
       "    </tr>\n",
       "  </thead>\n",
       "  <tbody>\n",
       "    <tr>\n",
       "      <th>2932</th>\n",
       "      <td>2022-12-09 14:35:00</td>\n",
       "      <td>77.980003</td>\n",
       "      <td>29476.0</td>\n",
       "      <td>TJX</td>\n",
       "      <td>0.001026</td>\n",
       "      <td>0.000999</td>\n",
       "      <td>1.0</td>\n",
       "      <td>77.827501</td>\n",
       "      <td>77.559998</td>\n",
       "      <td>78.000000</td>\n",
       "      <td>...</td>\n",
       "      <td>78.000000</td>\n",
       "      <td>78.000000</td>\n",
       "      <td>78.0</td>\n",
       "      <td>78.0</td>\n",
       "      <td>78.0</td>\n",
       "      <td>1</td>\n",
       "      <td>1</td>\n",
       "      <td>0.001026</td>\n",
       "      <td>-1</td>\n",
       "      <td>-0.001026</td>\n",
       "    </tr>\n",
       "    <tr>\n",
       "      <th>2933</th>\n",
       "      <td>2022-12-09 14:40:00</td>\n",
       "      <td>78.059998</td>\n",
       "      <td>30514.0</td>\n",
       "      <td>TJX</td>\n",
       "      <td>0.001025</td>\n",
       "      <td>0.001005</td>\n",
       "      <td>1.0</td>\n",
       "      <td>77.852501</td>\n",
       "      <td>77.610001</td>\n",
       "      <td>78.059998</td>\n",
       "      <td>...</td>\n",
       "      <td>78.000000</td>\n",
       "      <td>78.000000</td>\n",
       "      <td>78.0</td>\n",
       "      <td>78.0</td>\n",
       "      <td>78.0</td>\n",
       "      <td>1</td>\n",
       "      <td>-1</td>\n",
       "      <td>-0.001025</td>\n",
       "      <td>-1</td>\n",
       "      <td>-0.001025</td>\n",
       "    </tr>\n",
       "    <tr>\n",
       "      <th>2934</th>\n",
       "      <td>2022-12-09 14:45:00</td>\n",
       "      <td>78.175003</td>\n",
       "      <td>32898.0</td>\n",
       "      <td>TJX</td>\n",
       "      <td>0.001472</td>\n",
       "      <td>0.001036</td>\n",
       "      <td>1.0</td>\n",
       "      <td>77.880751</td>\n",
       "      <td>77.660004</td>\n",
       "      <td>78.175003</td>\n",
       "      <td>...</td>\n",
       "      <td>78.000000</td>\n",
       "      <td>78.000000</td>\n",
       "      <td>78.0</td>\n",
       "      <td>78.0</td>\n",
       "      <td>78.0</td>\n",
       "      <td>1</td>\n",
       "      <td>-1</td>\n",
       "      <td>-0.001472</td>\n",
       "      <td>-1</td>\n",
       "      <td>-0.001472</td>\n",
       "    </tr>\n",
       "    <tr>\n",
       "      <th>2935</th>\n",
       "      <td>2022-12-09 14:50:00</td>\n",
       "      <td>78.139999</td>\n",
       "      <td>24569.0</td>\n",
       "      <td>TJX</td>\n",
       "      <td>-0.000448</td>\n",
       "      <td>0.000949</td>\n",
       "      <td>1.0</td>\n",
       "      <td>77.898500</td>\n",
       "      <td>77.660004</td>\n",
       "      <td>78.175003</td>\n",
       "      <td>...</td>\n",
       "      <td>78.059998</td>\n",
       "      <td>78.000000</td>\n",
       "      <td>78.0</td>\n",
       "      <td>78.0</td>\n",
       "      <td>78.0</td>\n",
       "      <td>-1</td>\n",
       "      <td>-1</td>\n",
       "      <td>0.000448</td>\n",
       "      <td>-1</td>\n",
       "      <td>0.000448</td>\n",
       "    </tr>\n",
       "    <tr>\n",
       "      <th>2936</th>\n",
       "      <td>2022-12-09 14:55:00</td>\n",
       "      <td>78.180000</td>\n",
       "      <td>33621.0</td>\n",
       "      <td>TJX</td>\n",
       "      <td>0.000512</td>\n",
       "      <td>0.000898</td>\n",
       "      <td>1.0</td>\n",
       "      <td>77.922501</td>\n",
       "      <td>77.660004</td>\n",
       "      <td>78.180000</td>\n",
       "      <td>...</td>\n",
       "      <td>78.175003</td>\n",
       "      <td>78.059998</td>\n",
       "      <td>78.0</td>\n",
       "      <td>78.0</td>\n",
       "      <td>78.0</td>\n",
       "      <td>1</td>\n",
       "      <td>-1</td>\n",
       "      <td>-0.000512</td>\n",
       "      <td>-1</td>\n",
       "      <td>-0.000512</td>\n",
       "    </tr>\n",
       "  </tbody>\n",
       "</table>\n",
       "<p>5 rows × 51 columns</p>\n",
       "</div>"
      ],
      "text/plain": [
       "                Datetime      Close   Volume Name    return       vol  mom  \\\n",
       "2932 2022-12-09 14:35:00  77.980003  29476.0  TJX  0.001026  0.000999  1.0   \n",
       "2933 2022-12-09 14:40:00  78.059998  30514.0  TJX  0.001025  0.001005  1.0   \n",
       "2934 2022-12-09 14:45:00  78.175003  32898.0  TJX  0.001472  0.001036  1.0   \n",
       "2935 2022-12-09 14:50:00  78.139999  24569.0  TJX -0.000448  0.000949  1.0   \n",
       "2936 2022-12-09 14:55:00  78.180000  33621.0  TJX  0.000512  0.000898  1.0   \n",
       "\n",
       "            sma        min        max  ...  max_lag_2  max_lag_3  max_lag_4  \\\n",
       "2932  77.827501  77.559998  78.000000  ...  78.000000  78.000000       78.0   \n",
       "2933  77.852501  77.610001  78.059998  ...  78.000000  78.000000       78.0   \n",
       "2934  77.880751  77.660004  78.175003  ...  78.000000  78.000000       78.0   \n",
       "2935  77.898500  77.660004  78.175003  ...  78.059998  78.000000       78.0   \n",
       "2936  77.922501  77.660004  78.180000  ...  78.175003  78.059998       78.0   \n",
       "\n",
       "      max_lag_5  max_lag_6  direction  rf_position  rf_strategy  \\\n",
       "2932       78.0       78.0          1            1     0.001026   \n",
       "2933       78.0       78.0          1           -1    -0.001025   \n",
       "2934       78.0       78.0          1           -1    -0.001472   \n",
       "2935       78.0       78.0         -1           -1     0.000448   \n",
       "2936       78.0       78.0          1           -1    -0.000512   \n",
       "\n",
       "      boost_position  boost_strategy  \n",
       "2932              -1       -0.001026  \n",
       "2933              -1       -0.001025  \n",
       "2934              -1       -0.001472  \n",
       "2935              -1        0.000448  \n",
       "2936              -1       -0.000512  \n",
       "\n",
       "[5 rows x 51 columns]"
      ]
     },
     "execution_count": 38,
     "metadata": {},
     "output_type": "execute_result"
    }
   ],
   "source": [
    "test_set_df.head()"
   ]
  },
  {
   "cell_type": "code",
   "execution_count": 31,
   "metadata": {
    "id": "ML6GZR_ZArQg"
   },
   "outputs": [],
   "source": [
    "# pick tckr and apply filter\n",
    "test_set_df['rf_position'] = pipe_rf.predict(test_set_df[cols])"
   ]
  },
  {
   "cell_type": "code",
   "execution_count": 32,
   "metadata": {
    "id": "LM8NtIDC_eFo"
   },
   "outputs": [],
   "source": [
    "test_set_df['rf_strategy'] = test_set_df['rf_position'] * test_set_df['return']"
   ]
  },
  {
   "cell_type": "code",
   "execution_count": 33,
   "metadata": {
    "id": "jdAy9PIZAcUg"
   },
   "outputs": [],
   "source": [
    "test_set_df['boost_position'] = pipe_bclf.predict(test_set_df[cols])"
   ]
  },
  {
   "cell_type": "code",
   "execution_count": 34,
   "metadata": {
    "id": "pNsg5s_4hUJB"
   },
   "outputs": [],
   "source": [
    "test_set_df['boost_strategy'] = test_set_df['boost_position'] * test_set_df['return']"
   ]
  },
  {
   "cell_type": "code",
   "execution_count": 35,
   "metadata": {
    "colab": {
     "base_uri": "https://localhost:8080/"
    },
    "id": "vEo-uh_NhUJB",
    "outputId": "d1adbaed-c0b5-42ff-b256-3b6a94546d2f"
   },
   "outputs": [
    {
     "data": {
      "text/plain": [
       "array(['TJX', 'FSLR', 'DXC', 'PM', 'AMCR', 'VICI', 'BBY', 'RL', 'WDC',\n",
       "       'HD'], dtype=object)"
      ]
     },
     "execution_count": 35,
     "metadata": {},
     "output_type": "execute_result"
    }
   ],
   "source": [
    "test_set_df.Name.unique()"
   ]
  },
  {
   "cell_type": "code",
   "execution_count": 39,
   "metadata": {
    "id": "d1oHQjAJAzX9"
   },
   "outputs": [],
   "source": [
    "temp_test = test_set_df[test_set_df['Name']=='AMCR']\n",
    "temp_test.set_index('Datetime', inplace=True)"
   ]
  },
  {
   "cell_type": "code",
   "execution_count": 40,
   "metadata": {
    "colab": {
     "base_uri": "https://localhost:8080/",
     "height": 383
    },
    "id": "aFEppR5dAaid",
    "outputId": "e21b4ae9-581e-49ba-f3dc-b7e5b0c3cdba"
   },
   "outputs": [
    {
     "data": {
      "image/png": "[encoded data removed]",
      "text/plain": [
       "<Figure size 720x432 with 1 Axes>"
      ]
     },
     "metadata": {
      "needs_background": "light"
     },
     "output_type": "display_data"
    }
   ],
   "source": [
    "temp_test[['return', 'boost_strategy', 'rf_strategy']].cumsum().apply(np.exp).plot(figsize=(10, 6));"
   ]
  },
  {
   "cell_type": "markdown",
   "metadata": {
    "id": "brWMvLC7hUJB"
   },
   "source": [
    "#### Save the model"
   ]
  },
  {
   "cell_type": "code",
   "execution_count": 42,
   "metadata": {
    "id": "xRZNUn0ShUJB"
   },
   "outputs": [],
   "source": [
    "from joblib import dump, load"
   ]
  },
  {
   "cell_type": "code",
   "execution_count": 43,
   "metadata": {
    "id": "Cw50XLHlHLFO"
   },
   "outputs": [],
   "source": [
    "#!mkdir saved_models"
   ]
  },
  {
   "cell_type": "code",
   "execution_count": 44,
   "metadata": {
    "colab": {
     "base_uri": "https://localhost:8080/"
    },
    "id": "GP9UASiPhUJB",
    "outputId": "29561ddd-393b-4449-ff97-3d5d00fc7fb8"
   },
   "outputs": [
    {
     "data": {
      "text/plain": [
       "['saved_models/pipe_bclf.joblib']"
      ]
     },
     "execution_count": 44,
     "metadata": {},
     "output_type": "execute_result"
    }
   ],
   "source": [
    "# save model\n",
    "#os.makedirs(\"models\", exist_ok=True)\n",
    "\n",
    "dump(pipe_rf, \"saved_models/pipe_rf.joblib\")\n",
    "dump(pipe_bclf, \"saved_models/pipe_bclf.joblib\")"
   ]
  },
  {
   "cell_type": "markdown",
   "metadata": {
    "id": "L8m3yuE2ZBmP"
   },
   "source": [
    "**Overview of simulating realtime**\n",
    "There are two components of this.\n",
    "1. **New Streaming data** - will be simulated by slicing 26 observation window, passing it on. Then taking a stride of one observation and repeating \n",
    "2. **Pre processing newly presented data** Creates new features and produces input data for model"
   ]
  },
  {
   "cell_type": "markdown",
   "metadata": {
    "id": "eWRyQNPvHsfo"
   },
   "source": [
    "**First test functions that clip off last window + lags observations of data frame**"
   ]
  },
  {
   "cell_type": "markdown",
   "metadata": {
    "id": "3tRxEtmxJ4Z2"
   },
   "source": [
    "Create out of sample list to test hitting model"
   ]
  },
  {
   "cell_type": "code",
   "execution_count": 45,
   "metadata": {
    "colab": {
     "base_uri": "https://localhost:8080/"
    },
    "id": "i2_aCa3vaHbA",
    "outputId": "e44fd6b9-8bc9-4ac1-c93b-88963d473a41"
   },
   "outputs": [
    {
     "data": {
      "text/plain": [
       "['NVR', 'TER', 'MET', 'CTSH', 'KLAC', 'CSGP', 'ETN', 'IEX', 'AAPL', 'DAL']"
      ]
     },
     "execution_count": 45,
     "metadata": {},
     "output_type": "execute_result"
    }
   ],
   "source": [
    "oos_bkt_list = sample(list(set(basket)-set(bkt_40)),10)\n",
    "oos_bkt_list"
   ]
  },
  {
   "cell_type": "code",
   "execution_count": 46,
   "metadata": {
    "id": "zNWub4EcQCxB"
   },
   "outputs": [],
   "source": [
    "stk_pull_2 = stock_data_pull(oos_bkt_list,False)\n",
    "\n",
    "date_range = stk_pull_2.Datetime.drop_duplicates()\n",
    "date_range = pd.DataFrame(date_range)\n",
    "stock_ready_2 = fill_blanks(stk_pull_2,'Name',date_range,'Datetime');\n",
    "\n",
    "\n"
   ]
  },
  {
   "cell_type": "code",
   "execution_count": 47,
   "metadata": {
    "colab": {
     "base_uri": "https://localhost:8080/"
    },
    "id": "q1WwiEj5R-Qe",
    "outputId": "f48a9e10-4b82-4a42-cfc5-7bfb276e1620"
   },
   "outputs": [
    {
     "name": "stdout",
     "output_type": "stream",
     "text": [
      "all good, all data contains 1483 observations\n",
      "size of temp is 1463\n",
      "size of temp is after clipping 1\n",
      "size of temp is 1463\n",
      "size of temp is after clipping 1\n",
      "size of temp is 1463\n",
      "size of temp is after clipping 1\n",
      "size of temp is 1463\n",
      "size of temp is after clipping 1\n",
      "size of temp is 1463\n",
      "size of temp is after clipping 1\n",
      "size of temp is 1463\n",
      "size of temp is after clipping 1\n",
      "size of temp is 1463\n",
      "size of temp is after clipping 1\n",
      "size of temp is 1463\n",
      "size of temp is after clipping 1\n",
      "size of temp is 1463\n",
      "size of temp is after clipping 1\n",
      "size of temp is 1463\n",
      "size of temp is after clipping 1\n"
     ]
    }
   ],
   "source": [
    "# call function to genereate all new variables\n",
    "stk_rdy_3, cols =  feature_create(stock_ready_2,oos_bkt_list, window,lags,features,clip=True)"
   ]
  },
  {
   "cell_type": "code",
   "execution_count": 48,
   "metadata": {
    "colab": {
     "base_uri": "https://localhost:8080/"
    },
    "id": "NgzYOccpQCnT",
    "outputId": "3739eea8-c530-45c4-ccd6-39027f5c3e87"
   },
   "outputs": [
    {
     "data": {
      "text/plain": [
       "(10, 47)"
      ]
     },
     "execution_count": 48,
     "metadata": {},
     "output_type": "execute_result"
    }
   ],
   "source": [
    "stk_rdy_3.shape"
   ]
  },
  {
   "cell_type": "code",
   "execution_count": 49,
   "metadata": {
    "colab": {
     "base_uri": "https://localhost:8080/"
    },
    "id": "ge1GWhLKVMUf",
    "outputId": "6e5efcf8-73cb-4c66-8b5b-7bd88e4a7d1b"
   },
   "outputs": [
    {
     "data": {
      "text/plain": [
       "Index(['Datetime', 'Close', 'Volume', 'Name', 'return', 'vol', 'mom', 'sma',\n",
       "       'min', 'max', 'return_lag_1', 'return_lag_2', 'return_lag_3',\n",
       "       'return_lag_4', 'return_lag_5', 'return_lag_6', 'vol_lag_1',\n",
       "       'vol_lag_2', 'vol_lag_3', 'vol_lag_4', 'vol_lag_5', 'vol_lag_6',\n",
       "       'mom_lag_1', 'mom_lag_2', 'mom_lag_3', 'mom_lag_4', 'mom_lag_5',\n",
       "       'mom_lag_6', 'sma_lag_1', 'sma_lag_2', 'sma_lag_3', 'sma_lag_4',\n",
       "       'sma_lag_5', 'sma_lag_6', 'min_lag_1', 'min_lag_2', 'min_lag_3',\n",
       "       'min_lag_4', 'min_lag_5', 'min_lag_6', 'max_lag_1', 'max_lag_2',\n",
       "       'max_lag_3', 'max_lag_4', 'max_lag_5', 'max_lag_6', 'direction'],\n",
       "      dtype='object')"
      ]
     },
     "execution_count": 49,
     "metadata": {},
     "output_type": "execute_result"
    }
   ],
   "source": [
    "stk_rdy_3.columns"
   ]
  },
  {
   "cell_type": "code",
   "execution_count": 73,
   "metadata": {},
   "outputs": [],
   "source": [
    "stk_rdy_3.to_csv('test_model_input.csv',index=False)"
   ]
  },
  {
   "cell_type": "code",
   "execution_count": null,
   "metadata": {},
   "outputs": [],
   "source": []
  },
  {
   "cell_type": "code",
   "execution_count": 51,
   "metadata": {
    "colab": {
     "base_uri": "https://localhost:8080/"
    },
    "id": "2q-psnxzW5_v",
    "outputId": "ceb0df9a-8d21-47af-a47c-9bbfd59937b4"
   },
   "outputs": [],
   "source": [
    "result = pipe_bclf.predict(stk_rdy_3[cols])"
   ]
  },
  {
   "cell_type": "code",
   "execution_count": null,
   "metadata": {},
   "outputs": [],
   "source": []
  },
  {
   "cell_type": "code",
   "execution_count": null,
   "metadata": {},
   "outputs": [],
   "source": []
  },
  {
   "cell_type": "code",
   "execution_count": 54,
   "metadata": {},
   "outputs": [],
   "source": [
    "input_example = stk_rdy_3[cols]"
   ]
  },
  {
   "cell_type": "code",
   "execution_count": null,
   "metadata": {},
   "outputs": [],
   "source": []
  },
  {
   "cell_type": "code",
   "execution_count": 55,
   "metadata": {},
   "outputs": [
    {
     "data": {
      "text/plain": [
       "(10, 36)"
      ]
     },
     "execution_count": 55,
     "metadata": {},
     "output_type": "execute_result"
    }
   ],
   "source": [
    "input_example.shape"
   ]
  },
  {
   "cell_type": "code",
   "execution_count": 63,
   "metadata": {},
   "outputs": [
    {
     "data": {
      "text/html": [
       "<div>\n",
       "<style scoped>\n",
       "    .dataframe tbody tr th:only-of-type {\n",
       "        vertical-align: middle;\n",
       "    }\n",
       "\n",
       "    .dataframe tbody tr th {\n",
       "        vertical-align: top;\n",
       "    }\n",
       "\n",
       "    .dataframe thead th {\n",
       "        text-align: right;\n",
       "    }\n",
       "</style>\n",
       "<table border=\"1\" class=\"dataframe\">\n",
       "  <thead>\n",
       "    <tr style=\"text-align: right;\">\n",
       "      <th></th>\n",
       "      <th>return_lag_1</th>\n",
       "      <th>return_lag_2</th>\n",
       "      <th>return_lag_3</th>\n",
       "      <th>return_lag_4</th>\n",
       "      <th>return_lag_5</th>\n",
       "      <th>return_lag_6</th>\n",
       "      <th>vol_lag_1</th>\n",
       "      <th>vol_lag_2</th>\n",
       "      <th>vol_lag_3</th>\n",
       "      <th>vol_lag_4</th>\n",
       "      <th>...</th>\n",
       "      <th>min_lag_3</th>\n",
       "      <th>min_lag_4</th>\n",
       "      <th>min_lag_5</th>\n",
       "      <th>min_lag_6</th>\n",
       "      <th>max_lag_1</th>\n",
       "      <th>max_lag_2</th>\n",
       "      <th>max_lag_3</th>\n",
       "      <th>max_lag_4</th>\n",
       "      <th>max_lag_5</th>\n",
       "      <th>max_lag_6</th>\n",
       "    </tr>\n",
       "  </thead>\n",
       "  <tbody>\n",
       "    <tr>\n",
       "      <th>0</th>\n",
       "      <td>-0.002143</td>\n",
       "      <td>0.001164</td>\n",
       "      <td>0.000560</td>\n",
       "      <td>0.001890</td>\n",
       "      <td>-0.001429</td>\n",
       "      <td>0.000150</td>\n",
       "      <td>0.002161</td>\n",
       "      <td>0.002290</td>\n",
       "      <td>0.002280</td>\n",
       "      <td>0.002307</td>\n",
       "      <td>...</td>\n",
       "      <td>4795.140625</td>\n",
       "      <td>4795.140625</td>\n",
       "      <td>4795.140625</td>\n",
       "      <td>4799.000000</td>\n",
       "      <td>4820.000000</td>\n",
       "      <td>4828.270020</td>\n",
       "      <td>4828.270020</td>\n",
       "      <td>4828.270020</td>\n",
       "      <td>4828.270020</td>\n",
       "      <td>4828.270020</td>\n",
       "    </tr>\n",
       "    <tr>\n",
       "      <th>1</th>\n",
       "      <td>-0.002249</td>\n",
       "      <td>0.000314</td>\n",
       "      <td>0.000837</td>\n",
       "      <td>0.000314</td>\n",
       "      <td>0.001047</td>\n",
       "      <td>-0.000419</td>\n",
       "      <td>0.001329</td>\n",
       "      <td>0.001562</td>\n",
       "      <td>0.001652</td>\n",
       "      <td>0.001652</td>\n",
       "      <td>...</td>\n",
       "      <td>95.309998</td>\n",
       "      <td>95.129997</td>\n",
       "      <td>95.050003</td>\n",
       "      <td>95.044998</td>\n",
       "      <td>95.720001</td>\n",
       "      <td>95.779999</td>\n",
       "      <td>95.779999</td>\n",
       "      <td>95.779999</td>\n",
       "      <td>95.779999</td>\n",
       "      <td>95.779999</td>\n",
       "    </tr>\n",
       "    <tr>\n",
       "      <th>2</th>\n",
       "      <td>-0.000139</td>\n",
       "      <td>-0.000833</td>\n",
       "      <td>-0.000971</td>\n",
       "      <td>0.000139</td>\n",
       "      <td>-0.001178</td>\n",
       "      <td>-0.002144</td>\n",
       "      <td>0.000985</td>\n",
       "      <td>0.001016</td>\n",
       "      <td>0.001018</td>\n",
       "      <td>0.001014</td>\n",
       "      <td>...</td>\n",
       "      <td>72.059998</td>\n",
       "      <td>72.120003</td>\n",
       "      <td>72.120003</td>\n",
       "      <td>72.205002</td>\n",
       "      <td>72.660004</td>\n",
       "      <td>72.660004</td>\n",
       "      <td>72.660004</td>\n",
       "      <td>72.660004</td>\n",
       "      <td>72.660004</td>\n",
       "      <td>72.660004</td>\n",
       "    </tr>\n",
       "    <tr>\n",
       "      <th>3</th>\n",
       "      <td>-0.000327</td>\n",
       "      <td>0.001309</td>\n",
       "      <td>0.002296</td>\n",
       "      <td>0.002301</td>\n",
       "      <td>0.001317</td>\n",
       "      <td>0.000330</td>\n",
       "      <td>0.001410</td>\n",
       "      <td>0.001586</td>\n",
       "      <td>0.001569</td>\n",
       "      <td>0.001488</td>\n",
       "      <td>...</td>\n",
       "      <td>60.590000</td>\n",
       "      <td>60.590000</td>\n",
       "      <td>60.590000</td>\n",
       "      <td>60.590000</td>\n",
       "      <td>61.139999</td>\n",
       "      <td>61.139999</td>\n",
       "      <td>61.060001</td>\n",
       "      <td>61.040001</td>\n",
       "      <td>61.040001</td>\n",
       "      <td>61.040001</td>\n",
       "    </tr>\n",
       "    <tr>\n",
       "      <th>4</th>\n",
       "      <td>-0.000770</td>\n",
       "      <td>-0.000606</td>\n",
       "      <td>0.001026</td>\n",
       "      <td>-0.001991</td>\n",
       "      <td>0.001882</td>\n",
       "      <td>-0.000555</td>\n",
       "      <td>0.001360</td>\n",
       "      <td>0.001828</td>\n",
       "      <td>0.001876</td>\n",
       "      <td>0.001872</td>\n",
       "      <td>...</td>\n",
       "      <td>412.959991</td>\n",
       "      <td>412.959991</td>\n",
       "      <td>412.959991</td>\n",
       "      <td>412.959991</td>\n",
       "      <td>416.480011</td>\n",
       "      <td>416.739990</td>\n",
       "      <td>416.739990</td>\n",
       "      <td>416.739990</td>\n",
       "      <td>416.739990</td>\n",
       "      <td>416.739990</td>\n",
       "    </tr>\n",
       "  </tbody>\n",
       "</table>\n",
       "<p>5 rows × 36 columns</p>\n",
       "</div>"
      ],
      "text/plain": [
       "   return_lag_1  return_lag_2  return_lag_3  return_lag_4  return_lag_5  \\\n",
       "0     -0.002143      0.001164      0.000560      0.001890     -0.001429   \n",
       "1     -0.002249      0.000314      0.000837      0.000314      0.001047   \n",
       "2     -0.000139     -0.000833     -0.000971      0.000139     -0.001178   \n",
       "3     -0.000327      0.001309      0.002296      0.002301      0.001317   \n",
       "4     -0.000770     -0.000606      0.001026     -0.001991      0.001882   \n",
       "\n",
       "   return_lag_6  vol_lag_1  vol_lag_2  vol_lag_3  vol_lag_4  ...    min_lag_3  \\\n",
       "0      0.000150   0.002161   0.002290   0.002280   0.002307  ...  4795.140625   \n",
       "1     -0.000419   0.001329   0.001562   0.001652   0.001652  ...    95.309998   \n",
       "2     -0.002144   0.000985   0.001016   0.001018   0.001014  ...    72.059998   \n",
       "3      0.000330   0.001410   0.001586   0.001569   0.001488  ...    60.590000   \n",
       "4     -0.000555   0.001360   0.001828   0.001876   0.001872  ...   412.959991   \n",
       "\n",
       "     min_lag_4    min_lag_5    min_lag_6    max_lag_1    max_lag_2  \\\n",
       "0  4795.140625  4795.140625  4799.000000  4820.000000  4828.270020   \n",
       "1    95.129997    95.050003    95.044998    95.720001    95.779999   \n",
       "2    72.120003    72.120003    72.205002    72.660004    72.660004   \n",
       "3    60.590000    60.590000    60.590000    61.139999    61.139999   \n",
       "4   412.959991   412.959991   412.959991   416.480011   416.739990   \n",
       "\n",
       "     max_lag_3    max_lag_4    max_lag_5    max_lag_6  \n",
       "0  4828.270020  4828.270020  4828.270020  4828.270020  \n",
       "1    95.779999    95.779999    95.779999    95.779999  \n",
       "2    72.660004    72.660004    72.660004    72.660004  \n",
       "3    61.060001    61.040001    61.040001    61.040001  \n",
       "4   416.739990   416.739990   416.739990   416.739990  \n",
       "\n",
       "[5 rows x 36 columns]"
      ]
     },
     "execution_count": 63,
     "metadata": {},
     "output_type": "execute_result"
    }
   ],
   "source": [
    "input_example.head()"
   ]
  },
  {
   "cell_type": "code",
   "execution_count": 56,
   "metadata": {},
   "outputs": [
    {
     "data": {
      "text/plain": [
       "(10, 36)"
      ]
     },
     "execution_count": 56,
     "metadata": {},
     "output_type": "execute_result"
    }
   ],
   "source": [
    "input_example.shape"
   ]
  },
  {
   "cell_type": "code",
   "execution_count": 59,
   "metadata": {},
   "outputs": [],
   "source": [
    "input_example_dict = input_example.to_dict('series')"
   ]
  },
  {
   "cell_type": "code",
   "execution_count": 61,
   "metadata": {},
   "outputs": [
    {
     "data": {
      "text/plain": [
       "dict_keys(['return_lag_1', 'return_lag_2', 'return_lag_3', 'return_lag_4', 'return_lag_5', 'return_lag_6', 'vol_lag_1', 'vol_lag_2', 'vol_lag_3', 'vol_lag_4', 'vol_lag_5', 'vol_lag_6', 'mom_lag_1', 'mom_lag_2', 'mom_lag_3', 'mom_lag_4', 'mom_lag_5', 'mom_lag_6', 'sma_lag_1', 'sma_lag_2', 'sma_lag_3', 'sma_lag_4', 'sma_lag_5', 'sma_lag_6', 'min_lag_1', 'min_lag_2', 'min_lag_3', 'min_lag_4', 'min_lag_5', 'min_lag_6', 'max_lag_1', 'max_lag_2', 'max_lag_3', 'max_lag_4', 'max_lag_5', 'max_lag_6'])"
      ]
     },
     "execution_count": 61,
     "metadata": {},
     "output_type": "execute_result"
    }
   ],
   "source": [
    "input_example_dict.keys()"
   ]
  },
  {
   "cell_type": "code",
   "execution_count": null,
   "metadata": {},
   "outputs": [],
   "source": []
  },
  {
   "cell_type": "code",
   "execution_count": 60,
   "metadata": {},
   "outputs": [
    {
     "ename": "AttributeError",
     "evalue": "'dict' object has no attribute 'from_dict'",
     "output_type": "error",
     "traceback": [
      "\u001b[0;31m---------------------------------------------------------------------------\u001b[0m",
      "\u001b[0;31mAttributeError\u001b[0m                            Traceback (most recent call last)",
      "\u001b[0;32m/tmp/ipykernel_204/1649256488.py\u001b[0m in \u001b[0;36m<module>\u001b[0;34m\u001b[0m\n\u001b[0;32m----> 1\u001b[0;31m \u001b[0minput_example_dict\u001b[0m\u001b[0;34m.\u001b[0m\u001b[0mfrom_dict\u001b[0m\u001b[0;34m(\u001b[0m\u001b[0;34m)\u001b[0m\u001b[0;34m\u001b[0m\u001b[0;34m\u001b[0m\u001b[0m\n\u001b[0m",
      "\u001b[0;31mAttributeError\u001b[0m: 'dict' object has no attribute 'from_dict'"
     ]
    }
   ],
   "source": [
    "input_example_dict.from_dict()"
   ]
  },
  {
   "cell_type": "code",
   "execution_count": 53,
   "metadata": {},
   "outputs": [
    {
     "data": {
      "text/plain": [
       "(10,)"
      ]
     },
     "execution_count": 53,
     "metadata": {},
     "output_type": "execute_result"
    }
   ],
   "source": [
    "result.shape"
   ]
  },
  {
   "cell_type": "code",
   "execution_count": 74,
   "metadata": {},
   "outputs": [
    {
     "data": {
      "text/plain": [
       "['return_lag_1',\n",
       " 'return_lag_2',\n",
       " 'return_lag_3',\n",
       " 'return_lag_4',\n",
       " 'return_lag_5',\n",
       " 'return_lag_6',\n",
       " 'vol_lag_1',\n",
       " 'vol_lag_2',\n",
       " 'vol_lag_3',\n",
       " 'vol_lag_4',\n",
       " 'vol_lag_5',\n",
       " 'vol_lag_6',\n",
       " 'mom_lag_1',\n",
       " 'mom_lag_2',\n",
       " 'mom_lag_3',\n",
       " 'mom_lag_4',\n",
       " 'mom_lag_5',\n",
       " 'mom_lag_6',\n",
       " 'sma_lag_1',\n",
       " 'sma_lag_2',\n",
       " 'sma_lag_3',\n",
       " 'sma_lag_4',\n",
       " 'sma_lag_5',\n",
       " 'sma_lag_6',\n",
       " 'min_lag_1',\n",
       " 'min_lag_2',\n",
       " 'min_lag_3',\n",
       " 'min_lag_4',\n",
       " 'min_lag_5',\n",
       " 'min_lag_6',\n",
       " 'max_lag_1',\n",
       " 'max_lag_2',\n",
       " 'max_lag_3',\n",
       " 'max_lag_4',\n",
       " 'max_lag_5',\n",
       " 'max_lag_6']"
      ]
     },
     "execution_count": 74,
     "metadata": {},
     "output_type": "execute_result"
    }
   ],
   "source": [
    "cols"
   ]
  },
  {
   "cell_type": "code",
   "execution_count": 75,
   "metadata": {},
   "outputs": [
    {
     "data": {
      "text/plain": [
       "array([-1,  1, -1, -1, -1,  1,  1, -1,  1, -1])"
      ]
     },
     "execution_count": 75,
     "metadata": {},
     "output_type": "execute_result"
    }
   ],
   "source": [
    "result"
   ]
  },
  {
   "cell_type": "code",
   "execution_count": 52,
   "metadata": {},
   "outputs": [
    {
     "data": {
      "text/plain": [
       "numpy.ndarray"
      ]
     },
     "execution_count": 52,
     "metadata": {},
     "output_type": "execute_result"
    }
   ],
   "source": [
    "type(result)"
   ]
  },
  {
   "cell_type": "code",
   "execution_count": 76,
   "metadata": {},
   "outputs": [
    {
     "data": {
      "text/plain": [
       "[-1, 1, -1, -1, -1, 1, 1, -1, 1, -1]"
      ]
     },
     "execution_count": 76,
     "metadata": {},
     "output_type": "execute_result"
    }
   ],
   "source": [
    "result.tolist()"
   ]
  },
  {
   "cell_type": "markdown",
   "metadata": {
    "id": "IxFVUXO3KhpL"
   },
   "source": [
    "Test running stocks above through all preprocessing and hitting the  model"
   ]
  }
 ],
 "metadata": {
  "colab": {
   "provenance": []
  },
  "kernelspec": {
   "display_name": "Python 3 (ipykernel)",
   "language": "python",
   "name": "python3"
  },
  "language_info": {
   "codemirror_mode": {
    "name": "ipython",
    "version": 3
   },
   "file_extension": ".py",
   "mimetype": "text/x-python",
   "name": "python",
   "nbconvert_exporter": "python",
   "pygments_lexer": "ipython3",
   "version": "3.8.13"
  },
  "toc-showmarkdowntxt": true
 },
 "nbformat": 4,
 "nbformat_minor": 4
}
