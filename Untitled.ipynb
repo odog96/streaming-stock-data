{
 "cells": [
  {
   "cell_type": "code",
   "execution_count": 1,
   "id": "a15470f8-65a4-4544-835d-864dd20f3ec1",
   "metadata": {},
   "outputs": [],
   "source": [
    "import json, requests\n",
    "import pandas as pd\n",
    "import numpy as np\n",
    "import io\n",
    "import random\n",
    "import time\n",
    "\n",
    "from random import sample\n",
    "import warnings\n",
    "warnings.filterwarnings('ignore')"
   ]
  },
  {
   "cell_type": "code",
   "execution_count": 3,
   "id": "02ed6e20-bb91-421f-a2d2-424067232801",
   "metadata": {},
   "outputs": [],
   "source": [
    "from joblib import dump, load"
   ]
  },
  {
   "cell_type": "code",
   "execution_count": 5,
   "id": "e478be47-128d-4bd3-91ad-74f50d2119f8",
   "metadata": {},
   "outputs": [],
   "source": [
    "# load model\n",
    "pipe_rf = load(\"saved_models/pipe_rf.joblib\")"
   ]
  },
  {
   "cell_type": "code",
   "execution_count": null,
   "id": "3a3040ef-9105-4e74-8252-2b5c1d04bfba",
   "metadata": {},
   "outputs": [],
   "source": []
  }
 ],
 "metadata": {
  "kernelspec": {
   "display_name": "Python 3 (ipykernel)",
   "language": "python",
   "name": "python3"
  },
  "language_info": {
   "codemirror_mode": {
    "name": "ipython",
    "version": 3
   },
   "file_extension": ".py",
   "mimetype": "text/x-python",
   "name": "python",
   "nbconvert_exporter": "python",
   "pygments_lexer": "ipython3",
   "version": "3.7.13"
  }
 },
 "nbformat": 4,
 "nbformat_minor": 5
}
