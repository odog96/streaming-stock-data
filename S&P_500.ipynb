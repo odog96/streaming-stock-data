{
 "cells": [
  {
   "cell_type": "markdown",
   "metadata": {
    "id": "JPv5G8naqyT3"
   },
   "source": [
    "## Using N-Beats to Forecast stock data\n",
    "\n",
    "<br>\n",
    "\n",
    "\n",
    "The model architechture is based on the following paper:<br>\n",
    "\n",
    "https://arxiv.org/abs/1905.10437\n",
    "\n",
    "\n",
    "Used github for initial implementation of NBEATs Tensorflow code Blocks.<br>\n",
    "https://github.com/mrdbourke/tensorflow-deep-learning/blob/main/10_time_series_forecasting_in_tensorflow.ipynb\n",
    "\n",
    "**Gather Historical Stock Price Data**\n",
    "1.   Gather list of S&P 500 companies\n",
    "2.   Grab a sample of n stocks\n",
    "3.   Pull Weekly or Daily close price Data\n",
    "\n",
    "\n"
   ]
  },
  {
   "cell_type": "markdown",
   "metadata": {
    "id": "RleGDC6fecJz"
   },
   "source": [
    "### 5 mins version of forecast"
   ]
  },
  {
   "cell_type": "code",
   "execution_count": null,
   "metadata": {
    "id": "Kq8QvUkTe5oo"
   },
   "outputs": [],
   "source": [
    "import json, requests\n",
    "import pandas as pd\n",
    "import numpy as np\n",
    "import io"
   ]
  },
  {
   "cell_type": "code",
   "execution_count": null,
   "metadata": {
    "colab": {
     "base_uri": "https://localhost:8080/"
    },
    "id": "CNmWY90u-921",
    "outputId": "9320c27f-264c-4341-f2a5-c60943ecc462"
   },
   "outputs": [
    {
     "name": "stderr",
     "output_type": "stream",
     "text": [
      "/usr/local/lib/python3.7/dist-packages/statsmodels/tools/_testing.py:19: FutureWarning: pandas.util.testing is deprecated. Use the functions in the public API at pandas.testing instead.\n",
      "  import pandas.util.testing as tm\n"
     ]
    }
   ],
   "source": [
    "import matplotlib as mlab\n",
    "import matplotlib.pyplot as plt\n",
    "import seaborn as sns \n",
    "import time\n",
    "import math\n",
    "\n",
    "# import statsmodels.api as sm    \n",
    "# import scipy.stats as stats \n",
    "# from pylab import rcParams\n",
    "\n",
    "import sys\n",
    "from functools import reduce\n",
    "import itertools\n",
    "import random\n",
    "\n",
    "import datetime\n",
    "from datetime import date, timedelta\n",
    "from pandas.tseries.offsets import Day, MonthBegin, MonthEnd\n",
    "\n",
    "from sklearn.metrics import mean_absolute_error, mean_absolute_percentage_error, mean_squared_error\n",
    "\n",
    "from sklearn.metrics import confusion_matrix, classification_report\n",
    "from sklearn.preprocessing import StandardScaler\n",
    "from sklearn.decomposition import PCA\n",
    "from sklearn.manifold import TSNE\n",
    "from sklearn.ensemble import RandomForestClassifier\n",
    "from sklearn.metrics import mean_squared_error as MSE\n",
    "from sklearn.metrics import accuracy_score, mean_absolute_percentage_error, mean_absolute_error\n",
    "from sklearn.model_selection import train_test_split\n",
    "from sklearn.preprocessing import MinMaxScaler\n",
    "from sklearn.metrics import mean_squared_error\n",
    "\n",
    "import tensorflow as tf\n",
    "from tensorflow import keras\n",
    "import tensorflow_datasets as tfds\n",
    "from tensorflow.keras import models, layers\n",
    "from tensorflow.keras.layers import Conv1D,BatchNormalization, Dropout, Flatten, Input, Dense\n",
    "from tensorflow.keras.callbacks import ModelCheckpoint, EarlyStopping\n",
    "from tensorflow.keras.models import Sequential\n",
    "\n"
   ]
  },
  {
   "cell_type": "code",
   "execution_count": null,
   "metadata": {
    "colab": {
     "base_uri": "https://localhost:8080/",
     "height": 692
    },
    "id": "jWD0aN8jG6BJ",
    "outputId": "cc605162-bcc4-4984-ab56-23fa9327afd1"
   },
   "outputs": [
    {
     "name": "stdout",
     "output_type": "stream",
     "text": [
      "Collecting yfinance\n",
      "  Downloading yfinance-0.1.70-py2.py3-none-any.whl (26 kB)\n",
      "Requirement already satisfied: pandas>=0.24.0 in /usr/local/lib/python3.7/dist-packages (from yfinance) (1.3.5)\n",
      "Requirement already satisfied: numpy>=1.15 in /usr/local/lib/python3.7/dist-packages (from yfinance) (1.21.6)\n",
      "Collecting requests>=2.26\n",
      "  Downloading requests-2.27.1-py2.py3-none-any.whl (63 kB)\n",
      "\u001b[K     |████████████████████████████████| 63 kB 1.2 MB/s \n",
      "\u001b[?25hRequirement already satisfied: multitasking>=0.0.7 in /usr/local/lib/python3.7/dist-packages (from yfinance) (0.0.10)\n",
      "Collecting lxml>=4.5.1\n",
      "  Downloading lxml-4.8.0-cp37-cp37m-manylinux_2_17_x86_64.manylinux2014_x86_64.manylinux_2_24_x86_64.whl (6.4 MB)\n",
      "\u001b[K     |████████████████████████████████| 6.4 MB 46.8 MB/s \n",
      "\u001b[?25hRequirement already satisfied: pytz>=2017.3 in /usr/local/lib/python3.7/dist-packages (from pandas>=0.24.0->yfinance) (2022.1)\n",
      "Requirement already satisfied: python-dateutil>=2.7.3 in /usr/local/lib/python3.7/dist-packages (from pandas>=0.24.0->yfinance) (2.8.2)\n",
      "Requirement already satisfied: six>=1.5 in /usr/local/lib/python3.7/dist-packages (from python-dateutil>=2.7.3->pandas>=0.24.0->yfinance) (1.15.0)\n",
      "Requirement already satisfied: idna<4,>=2.5 in /usr/local/lib/python3.7/dist-packages (from requests>=2.26->yfinance) (2.10)\n",
      "Requirement already satisfied: urllib3<1.27,>=1.21.1 in /usr/local/lib/python3.7/dist-packages (from requests>=2.26->yfinance) (1.24.3)\n",
      "Requirement already satisfied: certifi>=2017.4.17 in /usr/local/lib/python3.7/dist-packages (from requests>=2.26->yfinance) (2021.10.8)\n",
      "Requirement already satisfied: charset-normalizer~=2.0.0 in /usr/local/lib/python3.7/dist-packages (from requests>=2.26->yfinance) (2.0.12)\n",
      "Installing collected packages: requests, lxml, yfinance\n",
      "  Attempting uninstall: requests\n",
      "    Found existing installation: requests 2.23.0\n",
      "    Uninstalling requests-2.23.0:\n",
      "      Successfully uninstalled requests-2.23.0\n",
      "  Attempting uninstall: lxml\n",
      "    Found existing installation: lxml 4.2.6\n",
      "    Uninstalling lxml-4.2.6:\n",
      "      Successfully uninstalled lxml-4.2.6\n",
      "\u001b[31mERROR: pip's dependency resolver does not currently take into account all the packages that are installed. This behaviour is the source of the following dependency conflicts.\n",
      "google-colab 1.0.0 requires requests~=2.23.0, but you have requests 2.27.1 which is incompatible.\n",
      "datascience 0.10.6 requires folium==0.2.1, but you have folium 0.8.3 which is incompatible.\u001b[0m\n",
      "Successfully installed lxml-4.8.0 requests-2.27.1 yfinance-0.1.70\n"
     ]
    },
    {
     "data": {
      "application/vnd.colab-display-data+json": {
       "pip_warning": {
        "packages": [
         "requests"
        ]
       }
      }
     },
     "metadata": {},
     "output_type": "display_data"
    }
   ],
   "source": [
    "!pip install yfinance"
   ]
  },
  {
   "cell_type": "code",
   "execution_count": null,
   "metadata": {
    "id": "D0pUEPpEFjvk"
   },
   "outputs": [],
   "source": [
    "# Libraries for stock data\n",
    "import yfinance as yf"
   ]
  },
  {
   "cell_type": "markdown",
   "metadata": {
    "id": "Z6r6JzZqkFBk"
   },
   "source": [
    "#### Pull CSV file from end point\n",
    "- this data will be used for prediction \n",
    "- and for picking stocks to include in training"
   ]
  },
  {
   "cell_type": "code",
   "execution_count": null,
   "metadata": {
    "id": "U-sKb7R6jy8C"
   },
   "outputs": [],
   "source": [
    "url_csv = 'https://yahoosp500etl-vlw6tjp5aa-uc.a.run.app/dump_table?format=csv&table=price_history&where=where%20Datetime%20like%20%272022-05-12%%27'\n",
    "stock_data = pd.read_csv(url_csv)"
   ]
  },
  {
   "cell_type": "code",
   "execution_count": null,
   "metadata": {
    "id": "bwRjRTo_kVz4"
   },
   "outputs": [],
   "source": [
    "stock_data = stock_data.sort_values(by=['ticker','Datetime'])"
   ]
  },
  {
   "cell_type": "code",
   "execution_count": null,
   "metadata": {
    "colab": {
     "base_uri": "https://localhost:8080/"
    },
    "id": "EJtdIApSlU-B",
    "outputId": "06a39187-fc3e-4dc0-e398-67c4667ae657"
   },
   "outputs": [
    {
     "data": {
      "text/plain": [
       "(84, 7)"
      ]
     },
     "execution_count": 8,
     "metadata": {},
     "output_type": "execute_result"
    }
   ],
   "source": [
    "stock_data[stock_data.ticker == 'A'].shape\n"
   ]
  },
  {
   "cell_type": "code",
   "execution_count": null,
   "metadata": {
    "id": "5vvtkH36mxb4"
   },
   "outputs": [],
   "source": [
    "basket = stock_data.ticker.unique().tolist()\n"
   ]
  },
  {
   "cell_type": "markdown",
   "metadata": {
    "id": "yssSVKUrvca2"
   },
   "source": [
    "### Functions"
   ]
  },
  {
   "cell_type": "markdown",
   "metadata": {
    "id": "nmefKLZeM-FT"
   },
   "source": [
    "**Download Stock data**"
   ]
  },
  {
   "cell_type": "code",
   "execution_count": null,
   "metadata": {
    "colab": {
     "base_uri": "https://localhost:8080/"
    },
    "id": "0Cv0y1iopwWa",
    "outputId": "dcb2725d-6be6-47f5-f9b8-dc6c8c07e2dd"
   },
   "outputs": [
    {
     "data": {
      "text/plain": [
       "['A', 'AAL', 'AAP', 'AAPL', 'ABBV', 'ABC', 'ABMD', 'ABT', 'ACN', 'ADBE']"
      ]
     },
     "execution_count": 10,
     "metadata": {},
     "output_type": "execute_result"
    }
   ],
   "source": [
    "basket[:10]"
   ]
  },
  {
   "cell_type": "code",
   "execution_count": null,
   "metadata": {
    "colab": {
     "base_uri": "https://localhost:8080/"
    },
    "id": "zhx1mMzQptTX",
    "outputId": "5b9b9078-4ce1-4582-d7bb-3b290324719d"
   },
   "outputs": [
    {
     "name": "stdout",
     "output_type": "stream",
     "text": [
      "\n",
      "1 Failed download:\n",
      "- ABMD: 5m data not available for startTime=1589645909 and endTime=1652717909. The requested range must be within the last 60 days.\n"
     ]
    }
   ],
   "source": [
    "temp = yf.download('ABMD',period= '2y', interval='5m',progress=False)"
   ]
  },
  {
   "cell_type": "code",
   "execution_count": null,
   "metadata": {
    "id": "Qh_ZjJynLu3R"
   },
   "outputs": [],
   "source": [
    "def stock_data_pull():\n",
    "  \"\"\"\n",
    "  Download Stock data\n",
    "  \"\"\"\n",
    "  stock_final = pd.DataFrame()\n",
    "  # iterate over each symbol\n",
    "  for i in basket:  \n",
    "      \n",
    "      # print the symbol which is being downloaded\n",
    "      print( str(basket.index(i)) + str(' : ') + i, sep=',', end=',', flush=True)  \n",
    "      \n",
    "      try:\n",
    "          # download the stock price \n",
    "          stock = []\n",
    "          #stock = yf.download(i,period = \"2y\",interval='5m', progress=False)\n",
    "          # for intraday yahoo finance only let's you pull past 60 days. \n",
    "          # however there is only a 1 month option\n",
    "          stock = yf.download(i,period = \"1mo\",interval='5m', progress=False)\n",
    "\n",
    "          # append the individual stock prices \n",
    "          if len(stock) == 0:\n",
    "              None\n",
    "          else:\n",
    "              stock['Name']=i\n",
    "              stock_final = stock_final.append(stock,sort=False)\n",
    "      except Exception:\n",
    "          None\n",
    "  return stock_final"
   ]
  },
  {
   "cell_type": "code",
   "execution_count": null,
   "metadata": {
    "id": "sr0vs3S1DAB-"
   },
   "outputs": [],
   "source": [
    "def window_gen(x,window,horizon,stride=1):\n",
    "  \"\"\"\n",
    "  Generate training set with features and labels (from time series data)\n",
    "  assumes a stride of 1, can modify for loop to make larget stride\n",
    "  \"\"\"\n",
    "  x_t = []\n",
    "  y_t = []\n",
    "  for i in range(window,len(x)-horizon,stride):\n",
    "    x_t.append(x[i-window:i,0])\n",
    "    y_t.append(x[i:i+horizon,0])\n",
    "  return x_t,y_t"
   ]
  },
  {
   "cell_type": "code",
   "execution_count": null,
   "metadata": {
    "id": "1z-eFA8AKbAj"
   },
   "outputs": [],
   "source": [
    "def dataset(x_train,y_train,x_valid,y_valid, batch):\n",
    "  \"\"\"\n",
    "  take in arrays, output tensors. Original code sourced from \n",
    "  https://github.com/mrdbourke/tensorflow-deep-learning/blob/main/10_time_series_forecasting_in_tensorflow.ipynb\n",
    "  \"\"\"\n",
    "  train_features_dataset = tf.data.Dataset.from_tensor_slices(x_train)\n",
    "  train_labels_dataset = tf.data.Dataset.from_tensor_slices(y_train)\n",
    "\n",
    "  # Orin\n",
    "\n",
    "  test_features_dataset = tf.data.Dataset.from_tensor_slices(x_valid)\n",
    "  test_labels_dataset = tf.data.Dataset.from_tensor_slices(y_valid)\n",
    "\n",
    "  train_dataset = tf.data.Dataset.zip((train_features_dataset, train_labels_dataset))\n",
    "  test_dataset = tf.data.Dataset.zip((test_features_dataset, test_labels_dataset))\n",
    "\n",
    "  train_dataset = train_dataset.batch(batch).prefetch(tf.data.AUTOTUNE)\n",
    "  test_dataset = test_dataset.batch(batch).prefetch(tf.data.AUTOTUNE)\n",
    "\n",
    "  return train_dataset, test_dataset"
   ]
  },
  {
   "cell_type": "code",
   "execution_count": null,
   "metadata": {
    "id": "rTO0fUUR4_C1"
   },
   "outputs": [],
   "source": [
    "\n",
    "def fill_blanks(df,srl_num,range,value_variable,date_variable):\n",
    "  \"\"\"\n",
    "  fills missing observations\n",
    "  some stocks may not have the same number of observations\n",
    "  \"\"\"\n",
    "  stage_df = df.copy()\n",
    "  for comb in stage_df[srl_num].unique(): \n",
    "    temp = stage_df[stage_df[srl_num] == comb].copy()\n",
    "    stage_df = stage_df[stage_df[srl_num] != comb] # remove existing series detail\n",
    "    temp2 = range.merge(temp,how='left',on=date_variable)\n",
    "    # since we are filling missing data, other fields will be missing to\n",
    "    # value info will be filled by zero, for other fields, we simply forward fill\n",
    "    # Then back fill for full missing value coverage    \n",
    "    #temp2[value_variable].fillna(0,inplace=True)\n",
    "    temp2.fillna(method='ffill',inplace=True)\n",
    "    temp2.fillna(method='bfill',inplace=True)\n",
    "    # replace with new, full data subset\n",
    "    stage_df = stage_df.append(temp2,ignore_index=True)\n",
    "  return stage_df"
   ]
  },
  {
   "cell_type": "code",
   "execution_count": null,
   "metadata": {
    "id": "bcCRq1-aU_h-"
   },
   "outputs": [],
   "source": [
    "def change_shape(temp):\n",
    "  \"\"\" puts the input vector into the shape needed by the \n",
    "      DNN\n",
    "  \"\"\"\n",
    "  temp = temp[['Close','Datetime']].copy()  # create single series dataframe\n",
    "  y = temp.Close.values          # extract values\n",
    "  y = y.reshape(y.shape[0],1)           # reshape\n",
    "  return y"
   ]
  },
  {
   "cell_type": "code",
   "execution_count": null,
   "metadata": {
    "id": "BoSJw9dynAkr"
   },
   "outputs": [],
   "source": [
    "def data_split():\n",
    "  split_size = int(len(x) * 0.8)\n",
    "  # x_train, y_train = x_scaled[:split_size], y_scaled[:split_size]\n",
    "  # x_valid, y_valid = x_scaled[split_size:], y_scaled[split_size:]\n",
    "  x_train, y_train = x[:split_size], y[:split_size]\n",
    "  print('x_train size',len(x_train))\n",
    "  x_valid, y_valid = x[split_size:], y[split_size:]\n",
    "  print('x_valide size',len(x_valid))\n",
    "  # line below is redudant, but keeping it to not change references\n",
    "  x_valid_true, y_valid_true = x[split_size:], y[split_size:]\n",
    "  train_ds,valid_ds =  dataset(x_train,y_train,x_valid,y_valid,batch)\n",
    "  return train_ds,valid_ds, y_valid_true"
   ]
  },
  {
   "cell_type": "markdown",
   "metadata": {
    "id": "CDsECE3UMj4-"
   },
   "source": [
    "**Pick start and stop dates**<br>\n",
    "We will grab most recent stock data<br>\n",
    "then we will cut into back test and training data<br>\n",
    "backtesting will be used in the end><br>"
   ]
  },
  {
   "cell_type": "code",
   "execution_count": null,
   "metadata": {
    "colab": {
     "base_uri": "https://localhost:8080/"
    },
    "id": "x093FXkBo_rQ",
    "outputId": "a2d13738-eea0-4484-8ac0-5f5fcebbe8e1"
   },
   "outputs": [
    {
     "name": "stdout",
     "output_type": "stream",
     "text": [
      "0 : A,1 : AAL,2 : AAP,3 : AAPL,4 : ABBV,5 : ABC,6 : ABMD,7 : ABT,8 : ACN,9 : ADBE,10 : ADI,11 : ADM,12 : ADP,13 : ADSK,14 : AEE,15 : AEP,16 : AES,17 : AFL,18 : AIG,19 : AIZ,20 : AJG,21 : AKAM,22 : ALB,23 : ALGN,24 : ALK,25 : ALL,26 : ALLE,27 : AMAT,28 : AMCR,29 : AMD,30 : AME,31 : AMGN,32 : AMP,33 : AMT,34 : AMZN,35 : ANET,36 : ANSS,37 : ANTM,38 : AON,39 : AOS,40 : APA,41 : APD,42 : APH,43 : APTV,44 : ARE,45 : ATO,46 : ATVI,47 : AVB,48 : AVGO,49 : AVY,50 : AWK,51 : AXP,52 : AZO,53 : BA,54 : BAC,55 : BALL,56 : BAX,57 : BBWI,58 : BBY,59 : BDX,60 : BEN,61 : BIIB,62 : BIO,63 : BK,64 : BKNG,65 : BKR,66 : BLK,67 : BMY,68 : BR,69 : BRO,70 : BSX,71 : BWA,72 : BXP,73 : C,74 : CAG,75 : CAH,76 : CARR,77 : CAT,78 : CB,79 : CBOE,80 : CBRE,81 : CCI,82 : CCL,83 : CDAY,84 : CDNS,85 : CDW,86 : CE,87 : CEG,88 : CERN,89 : CF,90 : CFG,91 : CHD,92 : CHRW,93 : CHTR,94 : CI,95 : CINF,96 : CL,97 : CLX,98 : CMA,99 : CME,100 : CMG,101 : CMI,102 : CMS,103 : CNC,104 : CNP,105 : COF,106 : COO,107 : COP,108 : COST,109 : CPB,110 : CPRT,111 : CPT,112 : CRL,113 : CRM,114 : CSCO,115 : CSX,116 : CTAS,117 : CTLT,118 : CTRA,119 : CTSH,120 : CTVA,121 : CTXS,122 : CVS,123 : CVX,124 : CZR,125 : D,126 : DAL,127 : DD,128 : DE,129 : DFS,130 : DG,131 : DGX,132 : DHI,133 : DHR,134 : DIS,135 : DISH,136 : DLR,137 : DLTR,138 : DOV,139 : DOW,140 : DPZ,141 : DRE,142 : DRI,143 : DTE,144 : DUK,145 : DVA,146 : DVN,147 : DXC,148 : DXCM,149 : EA,150 : EBAY,151 : ECL,152 : ED,153 : EFX,154 : EIX,155 : EL,156 : EMN,157 : EMR,158 : ENPH,159 : EOG,160 : EPAM,161 : EQIX,162 : EQR,163 : ES,164 : ESS,165 : ETN,166 : ETR,167 : ETSY,168 : EVRG,169 : EW,170 : EXC,171 : EXPD,172 : EXPE,173 : EXR,174 : F,175 : FANG,176 : FAST,177 : FB,178 : FBHS,179 : FCX,180 : FDS,181 : FDX,182 : FE,183 : FFIV,184 : FIS,185 : FISV,186 : FITB,187 : FLT,188 : FMC,189 : FOX,190 : FOXA,191 : FRC,192 : FRT,193 : FTNT,194 : FTV,195 : GD,196 : GE,197 : GILD,198 : GIS,199 : GL,200 : GLW,201 : GM,202 : GNRC,203 : GOOG,204 : GPC,205 : GPN,206 : GRMN,207 : GS,208 : GWW,209 : HAL,210 : HAS,211 : HBAN,212 : HCA,213 : HD,214 : HES,215 : HIG,216 : HII,217 : HLT,218 : HOLX,219 : HON,220 : HPE,221 : HPQ,222 : HRL,223 : HSIC,224 : HST,225 : HSY,226 : HUM,227 : HWM,228 : IBM,229 : ICE,230 : IDXX,231 : IEX,232 : IFF,233 : ILMN,234 : INCY,235 : INTC,236 : INTU,237 : IP,238 : IPG,239 : IPGP,240 : IQV,241 : IR,242 : IRM,243 : ISRG,244 : IT,245 : ITW,246 : IVZ,247 : J,248 : JBHT,249 : JCI,250 : JKHY,251 : JNJ,252 : JNPR,253 : JPM,254 : K,255 : KEY,256 : KEYS,257 : KHC,258 : KIM,259 : KLAC,260 : KMB,261 : KMI,262 : KMX,263 : KO,264 : KR,265 : L,266 : LDOS,267 : LEN,268 : LH,269 : LHX,270 : LIN,271 : LKQ,272 : LLY,273 : LMT,274 : LNC,275 : LNT,276 : LOW,277 : LRCX,278 : LUMN,279 : LUV,280 : LVS,281 : LW,282 : LYB,283 : LYV,284 : MA,285 : MAA,286 : MAR,287 : MAS,288 : MCD,289 : MCHP,290 : MCK,291 : MCO,292 : MDLZ,293 : MDT,294 : MET,295 : MGM,296 : MHK,297 : MKC,298 : MKTX,299 : MLM,300 : MMC,301 : MMM,302 : MNST,303 : MO,304 : MOH,305 : MOS,306 : MPC,307 : MPWR,308 : MRK,309 : MRNA,310 : MRO,311 : MS,312 : MSCI,313 : MSFT,314 : MSI,315 : MTB,316 : MTCH,317 : MTD,318 : MU,319 : NCLH,320 : NDAQ,321 : NDSN,322 : NEE,323 : NEM,324 : NFLX,325 : NI,326 : NKE,327 : NLOK,328 : NLSN,329 : NOC,330 : NOW,331 : NRG,332 : NSC,333 : NTAP,334 : NTRS,335 : NUE,336 : NVDA,337 : NVR,338 : NWL,339 : NWS,340 : NWSA,341 : NXPI,342 : O,343 : ODFL,344 : OGN,345 : OKE,346 : OMC,347 : ORCL,348 : ORLY,349 : OTIS,350 : OXY,351 : PARA,352 : PAYC,353 : PAYX,354 : PCAR,355 : PEAK,356 : PEG,357 : PENN,358 : PEP,359 : PFE,360 : PFG,361 : PG,362 : PGR,363 : PH,364 : PHM,365 : PKG,366 : PKI,367 : PLD,368 : PM,369 : PNC,370 : PNR,371 : PNW,372 : POOL,373 : PPG,374 : PPL,375 : PRU,376 : PSA,377 : PSX,378 : PTC,379 : PVH,380 : PWR,381 : PXD,382 : PYPL,383 : QCOM,384 : QRVO,385 : RCL,386 : RE,387 : REG,388 : REGN,389 : RF,390 : RHI,391 : RJF,392 : RL,393 : RMD,394 : ROK,395 : ROL,396 : ROP,397 : ROST,398 : RSG,399 : RTX,400 : SBAC,401 : SBNY,402 : SBUX,403 : SCHW,404 : SEDG,405 : SEE,406 : SHW,407 : SIVB,408 : SJM,409 : SLB,410 : SNA,411 : SNPS,412 : SO,413 : SPG,414 : SPGI,415 : SRE,416 : STE,417 : STT,418 : STX,419 : STZ,420 : SWK,421 : SWKS,422 : SYF,423 : SYK,424 : SYY,425 : T,426 : TAP,427 : TDG,428 : TDY,429 : TECH,430 : TEL,431 : TER,432 : TFC,433 : TFX,434 : TGT,435 : TJX,436 : TMO,437 : TMUS,438 : TPR,439 : TRMB,440 : TROW,441 : TRV,442 : TSCO,443 : TSLA,444 : TSN,445 : TT,446 : TTWO,447 : TWTR,448 : TXN,449 : TXT,450 : TYL,451 : UA,452 : UAA,453 : UAL,454 : UDR,455 : UHS,456 : ULTA,457 : UNH,458 : UNP,459 : UPS,460 : URI,461 : USB,462 : V,463 : VFC,464 : VLO,465 : VMC,466 : VNO,467 : VRSK,468 : VRSN,469 : VRTX,470 : VTR,471 : VTRS,472 : VZ,473 : WAB,474 : WAT,475 : WBA,476 : WBD,477 : WDC,478 : WEC,479 : WELL,480 : WFC,481 : WHR,482 : WM,483 : WMB,484 : WMT,485 : WRB,486 : WRK,487 : WST,488 : WTW,489 : WY,490 : WYNN,491 : XEL,492 : XOM,493 : XRAY,494 : XYL,495 : YUM,496 : ZBH,497 : ZBRA,498 : ZION,499 : ZTS,"
     ]
    }
   ],
   "source": [
    "stock_total = stock_data_pull()\n",
    "stock_total.reset_index(inplace=True)"
   ]
  },
  {
   "cell_type": "code",
   "execution_count": null,
   "metadata": {
    "colab": {
     "base_uri": "https://localhost:8080/",
     "height": 206
    },
    "id": "gANrtx_hpBGs",
    "outputId": "ad3d5b68-8737-4a89-b852-d858d6aaba54"
   },
   "outputs": [
    {
     "data": {
      "text/html": [
       "\n",
       "  <div id=\"df-57f8b767-31b2-4e78-9047-3ccff9c474da\">\n",
       "    <div class=\"colab-df-container\">\n",
       "      <div>\n",
       "<style scoped>\n",
       "    .dataframe tbody tr th:only-of-type {\n",
       "        vertical-align: middle;\n",
       "    }\n",
       "\n",
       "    .dataframe tbody tr th {\n",
       "        vertical-align: top;\n",
       "    }\n",
       "\n",
       "    .dataframe thead th {\n",
       "        text-align: right;\n",
       "    }\n",
       "</style>\n",
       "<table border=\"1\" class=\"dataframe\">\n",
       "  <thead>\n",
       "    <tr style=\"text-align: right;\">\n",
       "      <th></th>\n",
       "      <th>Datetime</th>\n",
       "      <th>Open</th>\n",
       "      <th>High</th>\n",
       "      <th>Low</th>\n",
       "      <th>Close</th>\n",
       "      <th>Adj Close</th>\n",
       "      <th>Volume</th>\n",
       "      <th>Name</th>\n",
       "    </tr>\n",
       "  </thead>\n",
       "  <tbody>\n",
       "    <tr>\n",
       "      <th>0</th>\n",
       "      <td>2022-04-18 09:30:00-04:00</td>\n",
       "      <td>126.440002</td>\n",
       "      <td>126.750000</td>\n",
       "      <td>126.080002</td>\n",
       "      <td>126.750000</td>\n",
       "      <td>126.750000</td>\n",
       "      <td>18462</td>\n",
       "      <td>A</td>\n",
       "    </tr>\n",
       "    <tr>\n",
       "      <th>1</th>\n",
       "      <td>2022-04-18 09:35:00-04:00</td>\n",
       "      <td>126.559998</td>\n",
       "      <td>126.750000</td>\n",
       "      <td>126.400002</td>\n",
       "      <td>126.440002</td>\n",
       "      <td>126.440002</td>\n",
       "      <td>5449</td>\n",
       "      <td>A</td>\n",
       "    </tr>\n",
       "    <tr>\n",
       "      <th>2</th>\n",
       "      <td>2022-04-18 09:40:00-04:00</td>\n",
       "      <td>126.370003</td>\n",
       "      <td>126.410004</td>\n",
       "      <td>126.209999</td>\n",
       "      <td>126.349998</td>\n",
       "      <td>126.349998</td>\n",
       "      <td>2180</td>\n",
       "      <td>A</td>\n",
       "    </tr>\n",
       "    <tr>\n",
       "      <th>3</th>\n",
       "      <td>2022-04-18 09:45:00-04:00</td>\n",
       "      <td>126.070000</td>\n",
       "      <td>126.110001</td>\n",
       "      <td>125.720001</td>\n",
       "      <td>125.824997</td>\n",
       "      <td>125.824997</td>\n",
       "      <td>8951</td>\n",
       "      <td>A</td>\n",
       "    </tr>\n",
       "    <tr>\n",
       "      <th>4</th>\n",
       "      <td>2022-04-18 09:50:00-04:00</td>\n",
       "      <td>125.730003</td>\n",
       "      <td>125.730003</td>\n",
       "      <td>125.120003</td>\n",
       "      <td>125.175003</td>\n",
       "      <td>125.175003</td>\n",
       "      <td>6213</td>\n",
       "      <td>A</td>\n",
       "    </tr>\n",
       "  </tbody>\n",
       "</table>\n",
       "</div>\n",
       "      <button class=\"colab-df-convert\" onclick=\"convertToInteractive('df-57f8b767-31b2-4e78-9047-3ccff9c474da')\"\n",
       "              title=\"Convert this dataframe to an interactive table.\"\n",
       "              style=\"display:none;\">\n",
       "        \n",
       "  <svg xmlns=\"http://www.w3.org/2000/svg\" height=\"24px\"viewBox=\"0 0 24 24\"\n",
       "       width=\"24px\">\n",
       "    <path d=\"M0 0h24v24H0V0z\" fill=\"none\"/>\n",
       "    <path d=\"M18.56 5.44l.94 2.06.94-2.06 2.06-.94-2.06-.94-.94-2.06-.94 2.06-2.06.94zm-11 1L8.5 8.5l.94-2.06 2.06-.94-2.06-.94L8.5 2.5l-.94 2.06-2.06.94zm10 10l.94 2.06.94-2.06 2.06-.94-2.06-.94-.94-2.06-.94 2.06-2.06.94z\"/><path d=\"M17.41 7.96l-1.37-1.37c-.4-.4-.92-.59-1.43-.59-.52 0-1.04.2-1.43.59L10.3 9.45l-7.72 7.72c-.78.78-.78 2.05 0 2.83L4 21.41c.39.39.9.59 1.41.59.51 0 1.02-.2 1.41-.59l7.78-7.78 2.81-2.81c.8-.78.8-2.07 0-2.86zM5.41 20L4 18.59l7.72-7.72 1.47 1.35L5.41 20z\"/>\n",
       "  </svg>\n",
       "      </button>\n",
       "      \n",
       "  <style>\n",
       "    .colab-df-container {\n",
       "      display:flex;\n",
       "      flex-wrap:wrap;\n",
       "      gap: 12px;\n",
       "    }\n",
       "\n",
       "    .colab-df-convert {\n",
       "      background-color: #E8F0FE;\n",
       "      border: none;\n",
       "      border-radius: 50%;\n",
       "      cursor: pointer;\n",
       "      display: none;\n",
       "      fill: #1967D2;\n",
       "      height: 32px;\n",
       "      padding: 0 0 0 0;\n",
       "      width: 32px;\n",
       "    }\n",
       "\n",
       "    .colab-df-convert:hover {\n",
       "      background-color: #E2EBFA;\n",
       "      box-shadow: 0px 1px 2px rgba(60, 64, 67, 0.3), 0px 1px 3px 1px rgba(60, 64, 67, 0.15);\n",
       "      fill: #174EA6;\n",
       "    }\n",
       "\n",
       "    [theme=dark] .colab-df-convert {\n",
       "      background-color: #3B4455;\n",
       "      fill: #D2E3FC;\n",
       "    }\n",
       "\n",
       "    [theme=dark] .colab-df-convert:hover {\n",
       "      background-color: #434B5C;\n",
       "      box-shadow: 0px 1px 3px 1px rgba(0, 0, 0, 0.15);\n",
       "      filter: drop-shadow(0px 1px 2px rgba(0, 0, 0, 0.3));\n",
       "      fill: #FFFFFF;\n",
       "    }\n",
       "  </style>\n",
       "\n",
       "      <script>\n",
       "        const buttonEl =\n",
       "          document.querySelector('#df-57f8b767-31b2-4e78-9047-3ccff9c474da button.colab-df-convert');\n",
       "        buttonEl.style.display =\n",
       "          google.colab.kernel.accessAllowed ? 'block' : 'none';\n",
       "\n",
       "        async function convertToInteractive(key) {\n",
       "          const element = document.querySelector('#df-57f8b767-31b2-4e78-9047-3ccff9c474da');\n",
       "          const dataTable =\n",
       "            await google.colab.kernel.invokeFunction('convertToInteractive',\n",
       "                                                     [key], {});\n",
       "          if (!dataTable) return;\n",
       "\n",
       "          const docLinkHtml = 'Like what you see? Visit the ' +\n",
       "            '<a target=\"_blank\" href=https://colab.research.google.com/notebooks/data_table.ipynb>data table notebook</a>'\n",
       "            + ' to learn more about interactive tables.';\n",
       "          element.innerHTML = '';\n",
       "          dataTable['output_type'] = 'display_data';\n",
       "          await google.colab.output.renderOutput(dataTable, element);\n",
       "          const docLink = document.createElement('div');\n",
       "          docLink.innerHTML = docLinkHtml;\n",
       "          element.appendChild(docLink);\n",
       "        }\n",
       "      </script>\n",
       "    </div>\n",
       "  </div>\n",
       "  "
      ],
      "text/plain": [
       "                   Datetime        Open        High         Low       Close  \\\n",
       "0 2022-04-18 09:30:00-04:00  126.440002  126.750000  126.080002  126.750000   \n",
       "1 2022-04-18 09:35:00-04:00  126.559998  126.750000  126.400002  126.440002   \n",
       "2 2022-04-18 09:40:00-04:00  126.370003  126.410004  126.209999  126.349998   \n",
       "3 2022-04-18 09:45:00-04:00  126.070000  126.110001  125.720001  125.824997   \n",
       "4 2022-04-18 09:50:00-04:00  125.730003  125.730003  125.120003  125.175003   \n",
       "\n",
       "    Adj Close  Volume Name  \n",
       "0  126.750000   18462    A  \n",
       "1  126.440002    5449    A  \n",
       "2  126.349998    2180    A  \n",
       "3  125.824997    8951    A  \n",
       "4  125.175003    6213    A  "
      ]
     },
     "execution_count": 19,
     "metadata": {},
     "output_type": "execute_result"
    }
   ],
   "source": [
    "stock_total.head()"
   ]
  },
  {
   "cell_type": "code",
   "execution_count": null,
   "metadata": {
    "id": "9OtwzOdztZxn"
   },
   "outputs": [],
   "source": []
  },
  {
   "cell_type": "code",
   "execution_count": null,
   "metadata": {
    "id": "L9m_ZJGMNRNB"
   },
   "outputs": [],
   "source": [
    "\n",
    "stock_total_slim = stock_total[['Datetime','Close','Name']]"
   ]
  },
  {
   "cell_type": "code",
   "execution_count": null,
   "metadata": {
    "id": "URDzHhQVpPVA"
   },
   "outputs": [],
   "source": [
    "date_range = stock_total_slim.Datetime.drop_duplicates()\n",
    "date_range = pd.DataFrame(date_range)"
   ]
  },
  {
   "cell_type": "code",
   "execution_count": null,
   "metadata": {
    "id": "8RdjoYOSorwe"
   },
   "outputs": [],
   "source": [
    "stock_ready = fill_blanks(stock_total_slim,'Name',date_range,'Close','Datetime')"
   ]
  },
  {
   "cell_type": "code",
   "execution_count": null,
   "metadata": {
    "colab": {
     "base_uri": "https://localhost:8080/"
    },
    "id": "6mop8Lvao54B",
    "outputId": "f8a66b8e-f256-438f-fad7-dc0363e2a1b2"
   },
   "outputs": [
    {
     "name": "stdout",
     "output_type": "stream",
     "text": [
      "all good, all data contain 1797 observations\n"
     ]
    }
   ],
   "source": [
    "# checks to ensure if all tckrs have same size\n",
    "sizes = stock_ready.groupby('Name').size().unique()\n",
    "size_count = sizes.shape[0]\n",
    "\n",
    "if size_count == 1:\n",
    "  print (f'all good, all data contain {sizes[0]} observations')\n",
    "else:\n",
    "  print(f'error, your stock contain tckrs with varying number of observations:{sizes}')\n"
   ]
  },
  {
   "cell_type": "code",
   "execution_count": null,
   "metadata": {
    "id": "-xJnioiQ4jn0"
   },
   "outputs": [],
   "source": [
    "# input window and forecast horizon\n",
    "window = 60\n",
    "horizon = 12\n",
    "theta = window+horizon"
   ]
  },
  {
   "cell_type": "code",
   "execution_count": null,
   "metadata": {
    "colab": {
     "base_uri": "https://localhost:8080/",
     "height": 206
    },
    "id": "lK8Y9hIvqXb-",
    "outputId": "58c3abbc-d46d-46d1-ac82-48c152a99f09"
   },
   "outputs": [
    {
     "data": {
      "text/html": [
       "\n",
       "  <div id=\"df-72497d5e-2ef9-4e89-8075-8ad4133494b3\">\n",
       "    <div class=\"colab-df-container\">\n",
       "      <div>\n",
       "<style scoped>\n",
       "    .dataframe tbody tr th:only-of-type {\n",
       "        vertical-align: middle;\n",
       "    }\n",
       "\n",
       "    .dataframe tbody tr th {\n",
       "        vertical-align: top;\n",
       "    }\n",
       "\n",
       "    .dataframe thead th {\n",
       "        text-align: right;\n",
       "    }\n",
       "</style>\n",
       "<table border=\"1\" class=\"dataframe\">\n",
       "  <thead>\n",
       "    <tr style=\"text-align: right;\">\n",
       "      <th></th>\n",
       "      <th>Datetime</th>\n",
       "      <th>Close</th>\n",
       "      <th>Name</th>\n",
       "    </tr>\n",
       "  </thead>\n",
       "  <tbody>\n",
       "    <tr>\n",
       "      <th>0</th>\n",
       "      <td>2022-04-18 09:30:00-04:00</td>\n",
       "      <td>126.750000</td>\n",
       "      <td>A</td>\n",
       "    </tr>\n",
       "    <tr>\n",
       "      <th>1</th>\n",
       "      <td>2022-04-18 09:35:00-04:00</td>\n",
       "      <td>126.440002</td>\n",
       "      <td>A</td>\n",
       "    </tr>\n",
       "    <tr>\n",
       "      <th>2</th>\n",
       "      <td>2022-04-18 09:40:00-04:00</td>\n",
       "      <td>126.349998</td>\n",
       "      <td>A</td>\n",
       "    </tr>\n",
       "    <tr>\n",
       "      <th>3</th>\n",
       "      <td>2022-04-18 09:45:00-04:00</td>\n",
       "      <td>125.824997</td>\n",
       "      <td>A</td>\n",
       "    </tr>\n",
       "    <tr>\n",
       "      <th>4</th>\n",
       "      <td>2022-04-18 09:50:00-04:00</td>\n",
       "      <td>125.175003</td>\n",
       "      <td>A</td>\n",
       "    </tr>\n",
       "  </tbody>\n",
       "</table>\n",
       "</div>\n",
       "      <button class=\"colab-df-convert\" onclick=\"convertToInteractive('df-72497d5e-2ef9-4e89-8075-8ad4133494b3')\"\n",
       "              title=\"Convert this dataframe to an interactive table.\"\n",
       "              style=\"display:none;\">\n",
       "        \n",
       "  <svg xmlns=\"http://www.w3.org/2000/svg\" height=\"24px\"viewBox=\"0 0 24 24\"\n",
       "       width=\"24px\">\n",
       "    <path d=\"M0 0h24v24H0V0z\" fill=\"none\"/>\n",
       "    <path d=\"M18.56 5.44l.94 2.06.94-2.06 2.06-.94-2.06-.94-.94-2.06-.94 2.06-2.06.94zm-11 1L8.5 8.5l.94-2.06 2.06-.94-2.06-.94L8.5 2.5l-.94 2.06-2.06.94zm10 10l.94 2.06.94-2.06 2.06-.94-2.06-.94-.94-2.06-.94 2.06-2.06.94z\"/><path d=\"M17.41 7.96l-1.37-1.37c-.4-.4-.92-.59-1.43-.59-.52 0-1.04.2-1.43.59L10.3 9.45l-7.72 7.72c-.78.78-.78 2.05 0 2.83L4 21.41c.39.39.9.59 1.41.59.51 0 1.02-.2 1.41-.59l7.78-7.78 2.81-2.81c.8-.78.8-2.07 0-2.86zM5.41 20L4 18.59l7.72-7.72 1.47 1.35L5.41 20z\"/>\n",
       "  </svg>\n",
       "      </button>\n",
       "      \n",
       "  <style>\n",
       "    .colab-df-container {\n",
       "      display:flex;\n",
       "      flex-wrap:wrap;\n",
       "      gap: 12px;\n",
       "    }\n",
       "\n",
       "    .colab-df-convert {\n",
       "      background-color: #E8F0FE;\n",
       "      border: none;\n",
       "      border-radius: 50%;\n",
       "      cursor: pointer;\n",
       "      display: none;\n",
       "      fill: #1967D2;\n",
       "      height: 32px;\n",
       "      padding: 0 0 0 0;\n",
       "      width: 32px;\n",
       "    }\n",
       "\n",
       "    .colab-df-convert:hover {\n",
       "      background-color: #E2EBFA;\n",
       "      box-shadow: 0px 1px 2px rgba(60, 64, 67, 0.3), 0px 1px 3px 1px rgba(60, 64, 67, 0.15);\n",
       "      fill: #174EA6;\n",
       "    }\n",
       "\n",
       "    [theme=dark] .colab-df-convert {\n",
       "      background-color: #3B4455;\n",
       "      fill: #D2E3FC;\n",
       "    }\n",
       "\n",
       "    [theme=dark] .colab-df-convert:hover {\n",
       "      background-color: #434B5C;\n",
       "      box-shadow: 0px 1px 3px 1px rgba(0, 0, 0, 0.15);\n",
       "      filter: drop-shadow(0px 1px 2px rgba(0, 0, 0, 0.3));\n",
       "      fill: #FFFFFF;\n",
       "    }\n",
       "  </style>\n",
       "\n",
       "      <script>\n",
       "        const buttonEl =\n",
       "          document.querySelector('#df-72497d5e-2ef9-4e89-8075-8ad4133494b3 button.colab-df-convert');\n",
       "        buttonEl.style.display =\n",
       "          google.colab.kernel.accessAllowed ? 'block' : 'none';\n",
       "\n",
       "        async function convertToInteractive(key) {\n",
       "          const element = document.querySelector('#df-72497d5e-2ef9-4e89-8075-8ad4133494b3');\n",
       "          const dataTable =\n",
       "            await google.colab.kernel.invokeFunction('convertToInteractive',\n",
       "                                                     [key], {});\n",
       "          if (!dataTable) return;\n",
       "\n",
       "          const docLinkHtml = 'Like what you see? Visit the ' +\n",
       "            '<a target=\"_blank\" href=https://colab.research.google.com/notebooks/data_table.ipynb>data table notebook</a>'\n",
       "            + ' to learn more about interactive tables.';\n",
       "          element.innerHTML = '';\n",
       "          dataTable['output_type'] = 'display_data';\n",
       "          await google.colab.output.renderOutput(dataTable, element);\n",
       "          const docLink = document.createElement('div');\n",
       "          docLink.innerHTML = docLinkHtml;\n",
       "          element.appendChild(docLink);\n",
       "        }\n",
       "      </script>\n",
       "    </div>\n",
       "  </div>\n",
       "  "
      ],
      "text/plain": [
       "                   Datetime       Close Name\n",
       "0 2022-04-18 09:30:00-04:00  126.750000    A\n",
       "1 2022-04-18 09:35:00-04:00  126.440002    A\n",
       "2 2022-04-18 09:40:00-04:00  126.349998    A\n",
       "3 2022-04-18 09:45:00-04:00  125.824997    A\n",
       "4 2022-04-18 09:50:00-04:00  125.175003    A"
      ]
     },
     "execution_count": 25,
     "metadata": {},
     "output_type": "execute_result"
    }
   ],
   "source": [
    "stock_ready.sort_values(by=['Name','Datetime'],inplace=True)\n",
    "stock_ready.head()"
   ]
  },
  {
   "cell_type": "markdown",
   "metadata": {
    "id": "DgsAIdGlXdOm"
   },
   "source": [
    "### Create train and test datasets"
   ]
  },
  {
   "cell_type": "code",
   "execution_count": null,
   "metadata": {
    "id": "mR4pidXFprMI"
   },
   "outputs": [],
   "source": [
    "stock_train = pd.DataFrame()\n",
    "stock_test = pd.DataFrame()\n",
    "stock_pred = pd.DataFrame()\n",
    "for i, tckr in enumerate(stock_ready.Name.unique()):\n",
    "  temp = stock_ready[stock_ready.Name == tckr].copy()\n",
    "  if i == 0:\n",
    "    stock_train = temp.iloc[:-theta,:]\n",
    "    stock_test = temp.iloc[-theta:,:]\n",
    "    stock_pred = temp.iloc[-window:,:]\n",
    "  else:\n",
    "    stock_train = pd.concat([stock_train, temp.iloc[:-theta,:] ])\n",
    "    stock_test = pd.concat([stock_test, temp.iloc[-theta:,:] ])\n",
    "    stock_pred = pd.concat([stock_pred, temp.iloc[-window:,:] ])"
   ]
  },
  {
   "cell_type": "code",
   "execution_count": null,
   "metadata": {
    "id": "iVe87cJ9yg5F"
   },
   "outputs": [],
   "source": []
  },
  {
   "cell_type": "code",
   "execution_count": null,
   "metadata": {
    "colab": {
     "base_uri": "https://localhost:8080/",
     "height": 206
    },
    "id": "3INwLaf4Nr37",
    "outputId": "9244e5b3-c3a6-4a7a-d79b-b6d148019f97"
   },
   "outputs": [
    {
     "data": {
      "text/html": [
       "\n",
       "  <div id=\"df-5dfd605b-e4af-4221-ae56-6da22f3b9bbb\">\n",
       "    <div class=\"colab-df-container\">\n",
       "      <div>\n",
       "<style scoped>\n",
       "    .dataframe tbody tr th:only-of-type {\n",
       "        vertical-align: middle;\n",
       "    }\n",
       "\n",
       "    .dataframe tbody tr th {\n",
       "        vertical-align: top;\n",
       "    }\n",
       "\n",
       "    .dataframe thead th {\n",
       "        text-align: right;\n",
       "    }\n",
       "</style>\n",
       "<table border=\"1\" class=\"dataframe\">\n",
       "  <thead>\n",
       "    <tr style=\"text-align: right;\">\n",
       "      <th></th>\n",
       "      <th>Datetime</th>\n",
       "      <th>Close</th>\n",
       "      <th>Name</th>\n",
       "    </tr>\n",
       "  </thead>\n",
       "  <tbody>\n",
       "    <tr>\n",
       "      <th>898492</th>\n",
       "      <td>2022-05-16 12:21:40-04:00</td>\n",
       "      <td>163.509995</td>\n",
       "      <td>ZTS</td>\n",
       "    </tr>\n",
       "    <tr>\n",
       "      <th>898494</th>\n",
       "      <td>2022-05-16 12:21:41-04:00</td>\n",
       "      <td>163.509995</td>\n",
       "      <td>ZTS</td>\n",
       "    </tr>\n",
       "    <tr>\n",
       "      <th>898496</th>\n",
       "      <td>2022-05-16 12:21:42-04:00</td>\n",
       "      <td>163.509995</td>\n",
       "      <td>ZTS</td>\n",
       "    </tr>\n",
       "    <tr>\n",
       "      <th>898498</th>\n",
       "      <td>2022-05-16 12:21:43-04:00</td>\n",
       "      <td>163.509995</td>\n",
       "      <td>ZTS</td>\n",
       "    </tr>\n",
       "    <tr>\n",
       "      <th>898497</th>\n",
       "      <td>2022-05-16 12:21:48-04:00</td>\n",
       "      <td>163.509995</td>\n",
       "      <td>ZTS</td>\n",
       "    </tr>\n",
       "  </tbody>\n",
       "</table>\n",
       "</div>\n",
       "      <button class=\"colab-df-convert\" onclick=\"convertToInteractive('df-5dfd605b-e4af-4221-ae56-6da22f3b9bbb')\"\n",
       "              title=\"Convert this dataframe to an interactive table.\"\n",
       "              style=\"display:none;\">\n",
       "        \n",
       "  <svg xmlns=\"http://www.w3.org/2000/svg\" height=\"24px\"viewBox=\"0 0 24 24\"\n",
       "       width=\"24px\">\n",
       "    <path d=\"M0 0h24v24H0V0z\" fill=\"none\"/>\n",
       "    <path d=\"M18.56 5.44l.94 2.06.94-2.06 2.06-.94-2.06-.94-.94-2.06-.94 2.06-2.06.94zm-11 1L8.5 8.5l.94-2.06 2.06-.94-2.06-.94L8.5 2.5l-.94 2.06-2.06.94zm10 10l.94 2.06.94-2.06 2.06-.94-2.06-.94-.94-2.06-.94 2.06-2.06.94z\"/><path d=\"M17.41 7.96l-1.37-1.37c-.4-.4-.92-.59-1.43-.59-.52 0-1.04.2-1.43.59L10.3 9.45l-7.72 7.72c-.78.78-.78 2.05 0 2.83L4 21.41c.39.39.9.59 1.41.59.51 0 1.02-.2 1.41-.59l7.78-7.78 2.81-2.81c.8-.78.8-2.07 0-2.86zM5.41 20L4 18.59l7.72-7.72 1.47 1.35L5.41 20z\"/>\n",
       "  </svg>\n",
       "      </button>\n",
       "      \n",
       "  <style>\n",
       "    .colab-df-container {\n",
       "      display:flex;\n",
       "      flex-wrap:wrap;\n",
       "      gap: 12px;\n",
       "    }\n",
       "\n",
       "    .colab-df-convert {\n",
       "      background-color: #E8F0FE;\n",
       "      border: none;\n",
       "      border-radius: 50%;\n",
       "      cursor: pointer;\n",
       "      display: none;\n",
       "      fill: #1967D2;\n",
       "      height: 32px;\n",
       "      padding: 0 0 0 0;\n",
       "      width: 32px;\n",
       "    }\n",
       "\n",
       "    .colab-df-convert:hover {\n",
       "      background-color: #E2EBFA;\n",
       "      box-shadow: 0px 1px 2px rgba(60, 64, 67, 0.3), 0px 1px 3px 1px rgba(60, 64, 67, 0.15);\n",
       "      fill: #174EA6;\n",
       "    }\n",
       "\n",
       "    [theme=dark] .colab-df-convert {\n",
       "      background-color: #3B4455;\n",
       "      fill: #D2E3FC;\n",
       "    }\n",
       "\n",
       "    [theme=dark] .colab-df-convert:hover {\n",
       "      background-color: #434B5C;\n",
       "      box-shadow: 0px 1px 3px 1px rgba(0, 0, 0, 0.15);\n",
       "      filter: drop-shadow(0px 1px 2px rgba(0, 0, 0, 0.3));\n",
       "      fill: #FFFFFF;\n",
       "    }\n",
       "  </style>\n",
       "\n",
       "      <script>\n",
       "        const buttonEl =\n",
       "          document.querySelector('#df-5dfd605b-e4af-4221-ae56-6da22f3b9bbb button.colab-df-convert');\n",
       "        buttonEl.style.display =\n",
       "          google.colab.kernel.accessAllowed ? 'block' : 'none';\n",
       "\n",
       "        async function convertToInteractive(key) {\n",
       "          const element = document.querySelector('#df-5dfd605b-e4af-4221-ae56-6da22f3b9bbb');\n",
       "          const dataTable =\n",
       "            await google.colab.kernel.invokeFunction('convertToInteractive',\n",
       "                                                     [key], {});\n",
       "          if (!dataTable) return;\n",
       "\n",
       "          const docLinkHtml = 'Like what you see? Visit the ' +\n",
       "            '<a target=\"_blank\" href=https://colab.research.google.com/notebooks/data_table.ipynb>data table notebook</a>'\n",
       "            + ' to learn more about interactive tables.';\n",
       "          element.innerHTML = '';\n",
       "          dataTable['output_type'] = 'display_data';\n",
       "          await google.colab.output.renderOutput(dataTable, element);\n",
       "          const docLink = document.createElement('div');\n",
       "          docLink.innerHTML = docLinkHtml;\n",
       "          element.appendChild(docLink);\n",
       "        }\n",
       "      </script>\n",
       "    </div>\n",
       "  </div>\n",
       "  "
      ],
      "text/plain": [
       "                        Datetime       Close Name\n",
       "898492 2022-05-16 12:21:40-04:00  163.509995  ZTS\n",
       "898494 2022-05-16 12:21:41-04:00  163.509995  ZTS\n",
       "898496 2022-05-16 12:21:42-04:00  163.509995  ZTS\n",
       "898498 2022-05-16 12:21:43-04:00  163.509995  ZTS\n",
       "898497 2022-05-16 12:21:48-04:00  163.509995  ZTS"
      ]
     },
     "execution_count": 27,
     "metadata": {},
     "output_type": "execute_result"
    }
   ],
   "source": [
    "stock_test.tail()"
   ]
  },
  {
   "cell_type": "code",
   "execution_count": null,
   "metadata": {
    "colab": {
     "base_uri": "https://localhost:8080/",
     "height": 206
    },
    "id": "LzGznJkHNruL",
    "outputId": "83fc00cd-9e8c-4c2e-da90-eb74b48a1101"
   },
   "outputs": [
    {
     "data": {
      "text/html": [
       "\n",
       "  <div id=\"df-b12c3157-476c-4fa8-913b-acfa1a8085e4\">\n",
       "    <div class=\"colab-df-container\">\n",
       "      <div>\n",
       "<style scoped>\n",
       "    .dataframe tbody tr th:only-of-type {\n",
       "        vertical-align: middle;\n",
       "    }\n",
       "\n",
       "    .dataframe tbody tr th {\n",
       "        vertical-align: top;\n",
       "    }\n",
       "\n",
       "    .dataframe thead th {\n",
       "        text-align: right;\n",
       "    }\n",
       "</style>\n",
       "<table border=\"1\" class=\"dataframe\">\n",
       "  <thead>\n",
       "    <tr style=\"text-align: right;\">\n",
       "      <th></th>\n",
       "      <th>Datetime</th>\n",
       "      <th>Close</th>\n",
       "      <th>Name</th>\n",
       "    </tr>\n",
       "  </thead>\n",
       "  <tbody>\n",
       "    <tr>\n",
       "      <th>898420</th>\n",
       "      <td>2022-05-16 12:19:29-04:00</td>\n",
       "      <td>163.509995</td>\n",
       "      <td>ZTS</td>\n",
       "    </tr>\n",
       "    <tr>\n",
       "      <th>898414</th>\n",
       "      <td>2022-05-16 12:19:30-04:00</td>\n",
       "      <td>163.509995</td>\n",
       "      <td>ZTS</td>\n",
       "    </tr>\n",
       "    <tr>\n",
       "      <th>898418</th>\n",
       "      <td>2022-05-16 12:19:32-04:00</td>\n",
       "      <td>163.509995</td>\n",
       "      <td>ZTS</td>\n",
       "    </tr>\n",
       "    <tr>\n",
       "      <th>898419</th>\n",
       "      <td>2022-05-16 12:19:35-04:00</td>\n",
       "      <td>163.509995</td>\n",
       "      <td>ZTS</td>\n",
       "    </tr>\n",
       "    <tr>\n",
       "      <th>898421</th>\n",
       "      <td>2022-05-16 12:19:38-04:00</td>\n",
       "      <td>163.509995</td>\n",
       "      <td>ZTS</td>\n",
       "    </tr>\n",
       "  </tbody>\n",
       "</table>\n",
       "</div>\n",
       "      <button class=\"colab-df-convert\" onclick=\"convertToInteractive('df-b12c3157-476c-4fa8-913b-acfa1a8085e4')\"\n",
       "              title=\"Convert this dataframe to an interactive table.\"\n",
       "              style=\"display:none;\">\n",
       "        \n",
       "  <svg xmlns=\"http://www.w3.org/2000/svg\" height=\"24px\"viewBox=\"0 0 24 24\"\n",
       "       width=\"24px\">\n",
       "    <path d=\"M0 0h24v24H0V0z\" fill=\"none\"/>\n",
       "    <path d=\"M18.56 5.44l.94 2.06.94-2.06 2.06-.94-2.06-.94-.94-2.06-.94 2.06-2.06.94zm-11 1L8.5 8.5l.94-2.06 2.06-.94-2.06-.94L8.5 2.5l-.94 2.06-2.06.94zm10 10l.94 2.06.94-2.06 2.06-.94-2.06-.94-.94-2.06-.94 2.06-2.06.94z\"/><path d=\"M17.41 7.96l-1.37-1.37c-.4-.4-.92-.59-1.43-.59-.52 0-1.04.2-1.43.59L10.3 9.45l-7.72 7.72c-.78.78-.78 2.05 0 2.83L4 21.41c.39.39.9.59 1.41.59.51 0 1.02-.2 1.41-.59l7.78-7.78 2.81-2.81c.8-.78.8-2.07 0-2.86zM5.41 20L4 18.59l7.72-7.72 1.47 1.35L5.41 20z\"/>\n",
       "  </svg>\n",
       "      </button>\n",
       "      \n",
       "  <style>\n",
       "    .colab-df-container {\n",
       "      display:flex;\n",
       "      flex-wrap:wrap;\n",
       "      gap: 12px;\n",
       "    }\n",
       "\n",
       "    .colab-df-convert {\n",
       "      background-color: #E8F0FE;\n",
       "      border: none;\n",
       "      border-radius: 50%;\n",
       "      cursor: pointer;\n",
       "      display: none;\n",
       "      fill: #1967D2;\n",
       "      height: 32px;\n",
       "      padding: 0 0 0 0;\n",
       "      width: 32px;\n",
       "    }\n",
       "\n",
       "    .colab-df-convert:hover {\n",
       "      background-color: #E2EBFA;\n",
       "      box-shadow: 0px 1px 2px rgba(60, 64, 67, 0.3), 0px 1px 3px 1px rgba(60, 64, 67, 0.15);\n",
       "      fill: #174EA6;\n",
       "    }\n",
       "\n",
       "    [theme=dark] .colab-df-convert {\n",
       "      background-color: #3B4455;\n",
       "      fill: #D2E3FC;\n",
       "    }\n",
       "\n",
       "    [theme=dark] .colab-df-convert:hover {\n",
       "      background-color: #434B5C;\n",
       "      box-shadow: 0px 1px 3px 1px rgba(0, 0, 0, 0.15);\n",
       "      filter: drop-shadow(0px 1px 2px rgba(0, 0, 0, 0.3));\n",
       "      fill: #FFFFFF;\n",
       "    }\n",
       "  </style>\n",
       "\n",
       "      <script>\n",
       "        const buttonEl =\n",
       "          document.querySelector('#df-b12c3157-476c-4fa8-913b-acfa1a8085e4 button.colab-df-convert');\n",
       "        buttonEl.style.display =\n",
       "          google.colab.kernel.accessAllowed ? 'block' : 'none';\n",
       "\n",
       "        async function convertToInteractive(key) {\n",
       "          const element = document.querySelector('#df-b12c3157-476c-4fa8-913b-acfa1a8085e4');\n",
       "          const dataTable =\n",
       "            await google.colab.kernel.invokeFunction('convertToInteractive',\n",
       "                                                     [key], {});\n",
       "          if (!dataTable) return;\n",
       "\n",
       "          const docLinkHtml = 'Like what you see? Visit the ' +\n",
       "            '<a target=\"_blank\" href=https://colab.research.google.com/notebooks/data_table.ipynb>data table notebook</a>'\n",
       "            + ' to learn more about interactive tables.';\n",
       "          element.innerHTML = '';\n",
       "          dataTable['output_type'] = 'display_data';\n",
       "          await google.colab.output.renderOutput(dataTable, element);\n",
       "          const docLink = document.createElement('div');\n",
       "          docLink.innerHTML = docLinkHtml;\n",
       "          element.appendChild(docLink);\n",
       "        }\n",
       "      </script>\n",
       "    </div>\n",
       "  </div>\n",
       "  "
      ],
      "text/plain": [
       "                        Datetime       Close Name\n",
       "898420 2022-05-16 12:19:29-04:00  163.509995  ZTS\n",
       "898414 2022-05-16 12:19:30-04:00  163.509995  ZTS\n",
       "898418 2022-05-16 12:19:32-04:00  163.509995  ZTS\n",
       "898419 2022-05-16 12:19:35-04:00  163.509995  ZTS\n",
       "898421 2022-05-16 12:19:38-04:00  163.509995  ZTS"
      ]
     },
     "execution_count": 28,
     "metadata": {},
     "output_type": "execute_result"
    }
   ],
   "source": [
    "stock_train.tail()"
   ]
  },
  {
   "cell_type": "markdown",
   "metadata": {
    "id": "AChonYhAt4vQ"
   },
   "source": [
    "### Strategy\n",
    "\n",
    "For this exercise, we'll be considering historical stock close values . So a univaritate multiseries approach. "
   ]
  },
  {
   "cell_type": "markdown",
   "metadata": {
    "id": "yxa_5ZJ3tuVr"
   },
   "source": [
    "This notebooks looks exclusively at univariate (only past sales data) to forecast."
   ]
  },
  {
   "cell_type": "markdown",
   "metadata": {
    "id": "q89iOw8IZ-EV"
   },
   "source": [
    "## Nbeats Implementation"
   ]
  },
  {
   "cell_type": "markdown",
   "metadata": {
    "id": "a9dpinha6W6o"
   },
   "source": [
    "### Model Configuration"
   ]
  },
  {
   "cell_type": "code",
   "execution_count": null,
   "metadata": {
    "id": "ocg2mZ74uFXh"
   },
   "outputs": [],
   "source": [
    "# Class to create the block build\n",
    "# https://github.com/mrdbourke/tensorflow-deep-learning/blob/main/10_time_series_forecasting_in_tensorflow.ipynb\n",
    "\n",
    "class NBeatsBlock(tf.keras.layers.Layer):\n",
    "  def __init__(self, # the constructor takes all the hyperparameters for the layer\n",
    "               input_size: int,\n",
    "#               theta_size: int = ,\n",
    "               horizon: int,\n",
    "               n_neurons: int,\n",
    "               n_layers: int =4,\n",
    "               **kwargs): # the **kwargs argument takes care of all of the arguments for the parent class (input_shape, trainable, name)\n",
    "    super().__init__(**kwargs)\n",
    "    self.input_size = input_size\n",
    "    self.horizon = horizon\n",
    "    self.theta_size = self.input_size + self.horizon\n",
    "\n",
    "    self.n_neurons = n_neurons\n",
    "    self.n_layers = n_layers\n",
    "\n",
    "    # Block contains stack of 4 fully connected layers each has ReLU activation\n",
    "    self.hidden = [tf.keras.layers.Dense(n_neurons, activation=\"relu\") for _ in range(n_layers)]\n",
    "    # Output of block is a theta layer with linear activation\n",
    "    self.theta_layer = tf.keras.layers.Dense(self.theta_size, activation=\"linear\", name=\"theta\")\n",
    "\n",
    "  def call(self, inputs): # the call method is what runs when the layer is called \n",
    "    x = inputs \n",
    "    for layer in self.hidden: # pass inputs through each hidden layer \n",
    "      x = layer(x)\n",
    "    theta = self.theta_layer(x) \n",
    "    # Output the backcast and forecast from theta\n",
    "    backcast, forecast = theta[:, :self.input_size], theta[:, -self.horizon:]\n",
    "    return backcast, forecast"
   ]
  },
  {
   "cell_type": "markdown",
   "metadata": {
    "id": "SiS8BVKuEtEt"
   },
   "source": [
    "**Training data for N-BEATS**<br>\n",
    " Setting up training data for a time series deep learning model is more involved. This is done by using a sliding window, with fixed segments for training and label data. The label data represents the forecast horizon. We slice each series into segments of 80, each with 70 observations for training and 10 for labels. In otherwords, we use the prior 70 days of trading close data to predict the next 10.<br>\n",
    " *Note: not only does a single stock generate multiple training data records, the model is also trained using multiple stocks.*"
   ]
  },
  {
   "cell_type": "markdown",
   "metadata": {
    "id": "EmRj3V1xESwU"
   },
   "source": [
    "![windowing.png](data:image/png;base64,iVBORw0KGgoAAAANSUhEUgAABEgAAAGfCAYAAABMeOfmAAAACXBIWXMAAA7EAAAOxAGVKw4bAAAAB3RJTUUH5gQWDjsjGHBP/AAAIABJREFUeJzt3X9spHd9J/D3LBsCbLiDFpZsIOVH7b0m3SOrKq0am0RqSSvZK9CqBUdpckR3UjyqoLGDtKDQRFVEDtSLlNgc1cmz0lXhElZxaGU1ike9Bq4KWadqUbVB21CtTQNN2A1LIEhkyY8NmftjbK+9v23v+vH4+3pJVjzPPPPMewdLeN7+fr5Ta7VarQAAAAAUbEPVAQAAAACqpiABAAAAiqcgAQAAAIqnIAEAAACKpyABAAAAiqcgAQBWaCbN0Xp6a7XUZr96e+tpzpzbZ2nWZ69fb+YcXxoAQEECAKxMs96d/uFGphYcm5pqpP/u5jl8FpUIAHB+KUgAgOWbGc1djfa3PSPTabVaabWmMzkymJ5z+kRd6Rtrta8/1peuc3ptAAAFCQBwjmzbOldbdKVvaCx7x/oWnzAzmnrvsTGcWq039dHFK0PmxmjqzZmMzp7bO3vOwhGbpV43M83Ue3uPndNbz/GnAABlU5AAAMvXtTXbZr9t9PemPnqK/UGa9dS6h9NYOIeTqTSGu+cLkIUa/d0Znj136qnpUz//WV23mXp3fxpTC06aamT4plGDOwDAPAUJALACfdk1OTj7/VQaw/3prtXSu2gj1ZmMzs7hDM6P4bQyPdkew5kavjsn261kcHJ6fqTm5M7yujMHsr99Vibnzxk5xyNAAECnU5AAACvS1TeW1vRkRgaPVQ5Tjf50986u0Jh5JOOzizcaw93zYy7d/XMbu+7PgeOXcgxOZqzvDDuNLPm6jfT3tle5pG8oe/cO2csEAJinIAEAVq6rL0Nje9Oans7I/IKS4ZzTD7JZrq6h7J1dVZKpBatcbEICACygIAEAzp2urgyNTWauI9m/aAlHT0amW/OjMMe+9mZoRUs5zuK6fWPZ22plesFKl6nhm2zUCgDMU5AAAMvXrKe3t57mgqJhpjmR2U/+bX+yzfxGrlMZvnvx3iTN0Xp6e5e5WerZXrfZ/r45k3R19WVo7PbZAmcqp9v/FQAoi4IEAFi2mQP7MzXVSH93bdEeIElm9xFJkr7sGpndn6TRHm9pn9ud/uG5/UKW4+yvOzU1vCBj/2yBM5idp9r/FQAojoIEAFi2rqH7MjkymJ6FHwnT05PBkclML/j0ma6hve1Pl1n00TE96RmczPQKNks9q+v27WpnXBRxMJPTY9GPAABzaq1Wq1V1CAAAAIAqWUECAAAAFE9BAgAAABRPQQIAAAAUT0ECAAAAFE9BAgCsqq8++mzVEQAATqAgAQBWzStHX89fNr+fV46+XnUUAIBFFCQAwKo5+trrqc3+FwBgLVGQAACr5pVXX09tQy2vvKogAQDWFgUJALBqXn3t9Wyotf8LALCWKEgAgFXzytHXU6vFHiQAwJqjIAEAVs3R117PGzZssAcJALDmKEgAgFXzytHXs2GDFSQAwNqjIAEAVs2LL72WN27ckBdfeq3qKAAAiyhIAIBV89MXj+aiN2/MT188WnUUAIBFFCQAwKp54WdH8x/esjEv/ExBAgCsLQoSAGDVvPCzo/ml/3CBggQAWHMUJADAqjn4/Et578WbcvD5l6qOAgCwiIIEAFg1B3/8cv7Tr1yUgz9+ueooAACLKEgAgFXxi9dbefZHL+WKD/zHPPujl/KL11tVRwIAmKcgAQBWxfSzR9L17ovylje9Ib96yaZMP3uk6kgAAPMUJADAqvjrxw6m692bkiTd77kof/3YDypOBABwjIIEAFgVL7/6i/zG1rclSX5j69vy8quvV5wIAOAYBQkAcN798IVX8g//8pP81mVvT5L81mVvzz/8y0/ywxdeqTgZAEBbrdVqLdohbeLxQ/nZz1+rKg8AsA5NP/ti3nfxW/Lf+t87f+x/T34/33vu5+l+z0UVJgMA1pu3vmVjdn5oy5Ift6gg8YsKAHA+nOoXFX+YAQDOtZP9YeZszBckP3/lF9n5uX/I/7n9yrzr7Reel5AAAAAA59MPX3gl/+Wub2XiC7+dt1z4hrN+3PweJP/4nRfy27/+S8oRAAAAoGO96+0X5rd//Zfyj995YUmPmy9I/vnAT/OmN9qzFQAAAOhsb3rjG/LPB366pMfMNyLTz76YP7jm3ec8FAAAAMBq+oNrLsn0sy8u6TEbkuToa6189+CRdL9n03kJBgAAALBaut+zKd89eCRHX2ud+eRZG5Lk4I9fynve+ea8YUPtvIUDAAAAWA1v2FDLe9755hz88Utn/Zh2QfL8y7nkl9903oIBAAAArKZLfvlNOfj8y2d9/oYkee4nL+eSd7z5vIUCAAAAWE2XvOPNee4nSyxIXvjZ0bz9rRect1AAAAAAq+ntb70gL/zs6FmfryABAAAA1p3lFSQvHs3bLlKQAAAAAOvD2y66IC+8uMSC5Ocv/yIXvXnjeQsFAAAAsJouevPGHHnptbM+f0OSvHL0F7nwgg3nLRQAAADAarrwgg159bXXz/r82YLk9VywUUECAAAArA8XbNyQV44usSA5evR1K0gAAACAdePCCzbk6FILkldfa+WNChIAAABgnXjjclaQ2IMEAAAAWE8ufOMy9iB59bWWPUgAAACAdWNZe5C88qoVJAAAAMD6ceEFG3LDtZee9fm1JK3zFwcAAACgel/96lcX3b7++usX3d7YalXXj9RqtVT5/DLIIIMMMsgggwwyyCCDDDLIIEMZGc7EXA0AAABQPAUJAAAAUDwFCQAAAFA8BQkAAABQPAUJAAAAUDwFCQAAAFA8BQkAAABQPAUJAAAAUDwFCQAAAFA8BQkAAABQPAUJAAAAUDwFCQAAAFA8BQkAAABQPAUJAAAAUDwFCQAAAFA8BQkAAABQPAUJAAAAUDwFCQAAAFC8jbVardIAVT+/DDLIIIMMMsgggwwyyCCDDDLIsP4znMnGVqtVdQYAAACA82bPnj1nPMeIDQAAAFA8BQkAAABQPAUJAAAAUDwFCQAAAFA8BQkAAABQPAUJAAAAUDwFCQAAAFA8BQkAAABQPAUJAAAAUDwFCQAAAFA8BQkAAABQPAUJAAAAUDwFCQAAAFA8BQkAAABQPAUJAAAAUDwFCQAAAFA8BQkAAABQPAUJAAAAULyN40/eW3UGAFjzBjZvqjoCnGjLYNUJAGDdsIIEAAAAKJ6CBAAAACieggQAAAAonoIEAAAAKJ6CBAAAACieggQAAAAonoIEAAAAKJ6CBAAAACieggQAAAAonoIEAAAAKJ6CBAAAACieggQAAAAonoIEAAAAKJ6CBAAAACieggQAAAAonoIEAAAAKJ6CBAAAACieggQAAAAonoIEAAAAKN7GqgMAQCcYP3yk6ggZ2Lyp6gisNYcaVSdItgxWnQAAzomNA1fcWtmTjz95b2XPDQAAADDHiA0AAABQPAUJAAAAUDwFCQAAAFA8BQkAAABQPAUJAAAAUDwFCQAAAFA8BQkAAABQPAUJAAAAUDwFCQAAAFA8BQkAAABQPAUJAAAAUDwFCQAAAFA8BQkAAABQPAUJAAAAUDwFCQAAAFA8BQkAAABQPAUJAAAAUDwFCQAAAFC8jVUHAADOzvjhI1VHyMDmTVVHYK051Kg6QbJlsOoEAKwDlRYkA1fcWuXTJ0nGn7y36ggAAABAxYzYAAAAAMVTkAAAAADFU5AAAAAAxVOQAAAAAMVTkAAAAADFU5AAAAAAxVOQAAAAAMVTkAAAAADFU5AAAAAAxVOQAAAAAMVTkAAAAADFU5AAAAAAxVOQAAAAAMVTkAAAAADFU5AAAAAAxVOQAAAAAMVTkAAAAADFU5AAAAAAxdtYdQAAoHOMHz5SdYQMbN5UdQTWmkONqhMkWwarTgDAChVfkAxccWvVETL+5L1VRwAAAICiGbEBAAAAiqcgAQAAAIqnIAEAAACKpyABAAAAiqcgAQAAAIqnIAEAAACKpyABAAAAiqcgAQAAAIqnIAEAAACKpyABAAAAiqcgAQAAAIqnIAEAAACKpyABAAAAiqcgAQAAAIqnIAEAAACKpyABAAAAiqcgAQAAAIqnIAEAAACKt7HqAAAASzF++EjVETKweVPVEVhrDjWqTpBsGaw6AUBHU5CsAQNX3Fp1hIw/eW/VEQAAAKAyRmwAAACA4ilIAAAAgOIpSAAAAIDiKUg6UjP1Wi213nrqvbXUavU0q44EAAAAHUxB0omaE2kk6RnYlV0DPUkamdCQAAAd53BGP1pP/RvLv0LzM/XUPrP/3EUCoFgKkg7UnGgk6cnAjq507RhIT5KGhoR1bt9dn8512xd/7X585dd97oEv5bq7vrPyC7F2PP7Qop+TOx54/th9zzyWO87xzxAwZ+VlR6man6mndkk9vbsPHzv49NfTe0n7eO0SryvAalCQdJxm2v3IQHZ0JenakfYikgljNqyaqkqFrbs+lwf33TP/dfOHVj3C+vf4Q7lu+0PZV3WOZftOdn/qUG56ePbn5OGdyd1fzeQzs/d9ZCKZ+zn68lV59FNfmr0PoCLfuD/9/3p1Bq9ceHB/6r3jyZ2fT+vgWFr3X53GjX+e0aerCglQBgVJp5kfr9mRriRJV3YYs2GVPPfAl3Ld9k/nL/JHefD2y6qOs8DzmfzEwtUlx73BP+mqgfZjhu7+XvK13QtWGrSPL1pZ8PhDue4Tj+W5JMl3snv7lzL5wEPHPdfpM8y9du2vNfym/EMfz4P7tuWfTvY6rhXPPJY7Fr6GC28/86P8e7bkkktn77v0nfmVucc9vj+P5qr84Q3vaN/+0O/kpg9+Lz/4/qqmhzKdcTXE/tTn7z++CGivTKnN33//af8oNLP7zxecW0Gp8PTX07vweY+/vcjhjI58M4PDv5/LFx7+xr40cnVuv3lz+/bv/n5Grvy3PKUgATivFCQdZuF4zRxjNpxvc2/uh57+vTy47558fu4N5hqx764v5L6tN8+vLBnddShfXFho/Gnyyfn73pdHG4/lubwj/V9p387Hbl7iv+t7ue/u5LZ99+TBfR/P9jNleOax/MXdW2bPvycP7rsl/Zee4SkqdVlu3ndPHnz4XfmrtViUXHpNPrkrue9PH8tzeT6TfzqR7Pqj9mt66TX5w489kS9ufyj78nwmP7E7/z5733PfP5R88F25+LjL/fv3nz/ZswDnzP7Uh5L7Do6ldXAs03d+II2Rr2dmwRmNGx/J5Xvn7k+Ge4+VIM3P3JHhX/uT9kqKg2OZvvMH6f/o4sfPe/rruenP3p3J2XNbBz+bofef/3/hIu//cO67Mxke+npmcjijQ+PJnf/1pDlmdv9lhn/tTzL2u8cd/+4Pkiu3pPu48/d/93AAOH8UJB3luPGaOcZsOI+ee+BLGfrb7Rndd0/lq0YO3P2FE1doPPNY/upr78tNNx3LdvENv5drv70v//xMklyWm79yzfyb4ouv2Z6t3/7hbHmyfNd+uV2M5KwyJMkT+adO2+/i0mvy+X335MEvZ7ZwWDvar+9E/uITX8192ZlPLii3tt9+T2772BP54vYvnHDfYu/IJVtXJy+UbVvG/ubDmfvVpevaK9PzrUOZXnDG4P3Hioyum3dkMD/IgaeTPP313HX/BzLyx9vmz+26eUcGv/WtPHLK1RTfzETF+3W0M47npo/+ZYYzkPvmVoIsNFfm/I9tJ953gs3Z+mvnPCYAx9lYdQCW4ITxmjntMZvhqUYmmmPp66smHuvTxTfcktF8KUPbJ9orLRaUJM898KX2iEqS5Krctu/jufgcHXtw3z0nZNm663OnWOXxvdz3kU/nvkXH3pebTpqz/Xzn3mkyXHpNPv9wcsdHPp3rcrp/x+mdz9d77th86ZO0R1c+MpEDJ7uvcpfl5i9fles+9USu/fItC1aFfCe7t+9OvnxPHrx99jXbvi83PXxLfuOEazyfgweSrPZfl6FAM7v/PN1/9m8Ljlx9hkfMjpO8v/39cG89w4vu/0BGTvaw9384e/cmvb311JL03Pn57D1ZOXHebcvY/VenduM3M3j/Z4/7vS3J7MqSbfeP5ex+bTucA/+anLCkBIBzSkHSQU42XjOna8dAeoan0phoZkxDwjl28Q235MEb5kZtds+/wZ87vsi5PnZWTvMG/vGHMnT3lty275b2/c88ljs+8sPlPMnyMySzqzGuSfsN/Bey+71L32R29V7vdsnwaK7KbfvuWWPFyJzZzVh3XZX7PvVQfnP2tX/ugb/Lox/cmdHZ1/biG/4oN/3tF/LEY8+n/71bktnVQwvHbH7lvWtrZAzWnW/cn+4/e3cmD362XQY8/fX09h46w4M+kMvny8urM3nwxrMsEtIuSQ5+OO19Te5I/VfHThhhOf/2p37jDzJy59UZvvH+7Dwh/+E89a2kcWM9jYWHv3VHag8PZHr43cnsKpuFv/Vt+9Uqyh6Achix6RinGK+ZY8yGVXDxDbfkwX335JP56tr5aNxLL89VH3wif/XA2e0jse++iRw4/uCBHy0YuWmPXTz697P/vmceyx2feuIcZnhn3v3Bs4pajccfynXb9+c3F+yvshbtu2t3Hv3Y76X/ht/JTR98Il+c/Xm8eEEJkiR55qk88e3ZEuRD23LtwlGnx/9f7vv2VflNn4YEq6r5v8YzddyxhZ/QMrP7kTSuvDI73p/k/f85A1d+M3ftXs7eG5tz+ZVnPut8aH7mf6Zx444M3fz7Gbnym+n/zP7jztiWsfl9UsbSOvj5jFzZXvHS+psPp+t3t2dw4ajQN/5vhr91dXauetEDUBYrSDrFKcdr5hizYfVcfMMtebDqEPPekf6vfC75xBdy3d0LDn9wZ0a/ck0u/tDHc9vHPp0vbm+XHFt37cy1ObaC5OJrtmfr3RMZ2j4xvzJm++0359rtu3Pd15Lkqtz25avyxUV/4ltihscfynULS5aP3ZwH1+qb8g99PA+upc1GTubxh/LFr12V2/a1x736//vOPPGRv8vkTZel/7j/vZP2SFN7tc5lufnhnfOjTsn7ctPDt6zZEgg61eJVER/IyN7PZvLGevov+WaSpOfOgQxm4QqSD2Tk/iszPj9Gc3UmD87tWbI5Q3/z+eSjd6T2ZwsecuVAphfsazLvG/enduM3j92+8U/SWu1S4Rv3p//+qzN5sL23yNDoQMZ7H8noH29bwoax2zK2d2B+VGjudfTrHcD5VWu1Wq2qQ3BmzXot/Y2ejEzvzdDJG5JkZjS93cOZGpxMa2xp/xc6/uS9Kw8JAIUY2Lyp6ghwoi2DVScAWLP27NlzwrHrr79+0W0jNh3hDOM1c4zZAAAAwLIYsekIfRlrtTJ2xvO6MrS3laFVSAQAAADriRUkAAAAQPGsIAEAWKLxw0eqjmAfFE506LQ7iq8O+6AAHUxBQpJk4Ipbq45go1gAAAAqY8QGAAAAKJ6CBAAAACieggQAAAAonoKkkzXrqdVqqTerDgIAAACdTUECAAAAFE9BAgAAABRPQQIAAAAUT0ECAAAAFE9BAgAAABRPQQIAAAAUT0ECAAAAFE9BAgAAABRPQQIAAAAUT0ECAAAAFE9BAgAAABRPQQIAAAAUT0ECAAAAFG9j1QFYgb6xtFpjVacAAACAjqcgAQDoQOOHj1QdIQObN1UdgbXmUKPqBMmWwaoTAB1KQcKaMXDFrVVHyPiT91YdAQAAgArYgwQAAAAonoIEAAAAKJ6CBAAAACiegqSTNeup1WqpN6sOAgAAAJ1NQQIAAAAUT0ECAAAAFE9BAgAAABRPQQIAAAAUT0ECAAAAFE9BAgAAABRPQQIAAAAUT0ECAAAAFE9BAgAAABRPQQIAAAAUT0ECAAAAFE9BAgAAABRPQQIAAAAUb2PVAViBvrG0WmNVpwAAAICOpyABAGBZxg8fqTpCBjZvqjoCa82hRtUJki2DVScAlkFBAgsMXHFr1REy/uS9VUcAAAAojj1IAAAAgOIpSAAAAIDiKUgAAACA4ilIAAAAgOIpSNa1Zuq1Wmq1eprn5XwAAABYHxQka8nMaHprtdRO+tWb0ZmqAwIAAMD6pCBZS7qGsrfVSqvVyvRIT5KkZ2Q6rVYrrdbeDHUt9YJ9GWu10mqNpe+8nA8AAADrg4Kkk8yuMOkdHV08CtOsL1pt0ju/1GQmo70LR2baIzS9o83Z4+2v+vw8zVLPP/G5a7Vaar2jsdgFAACATqIg6UBTw8PJ5OxKj5nR9N51eaZbrbRa0xnpSaaG7z7tHiJTw/156vZWWq3JDCZp9J9+z5FTnj8zmt7+xuwql/ZzJ4OZ3DuUJS92AQAAgAopSDpRz0h2zc3AdA1l73wh0ZWt25Jkfw6cbgnH/OP7snNwBedPP5Wp9GRgR1eSruwY6FnJvwoAAAAqoyDpRNu2Llqh0awfG2/pb6xiju7L05OpjD8yk2Qmj4xPJT2Xp3sVIwAAAMC5oCDpcDOjvelvJIOT7c1dJwdXP8PUcHdqte4MT/Vk5D7jNQAAAHSejVUH4FzoyeXdSdLMxCquIJl5ZDxT6cnI9HI+YQcAAADWDitIOlzX0O0ZzFSGu2up1fqTwdVbQrL4uee+Tr/hKwAAAKxFtVar1ao6BJ2pWa+lv7FgBcnMaHq7hzM1OJnWWN8ZH8/JjT95b9URAKBjDGzeVHUEONGWCubegdPas2fPCceuv/76RbetIGGZZnJgf5Jsy9a58ZrppzJVYSIAAABYLnuQsExdGdo7madq/emvLdj4xOoRAAAAOpCChBXoy1irlbGqYwAAAMAKKUgAAOhY44ePVB3BPiic6NAqfrTkqdgHBZZMQQJrzMAVt1YdwUaxAABAcWzSCgAAABRPQQIAAAAUT0ECAAAAFE9B0sma9dRqtdSbVQcBAACAzqYgAQAAAIqnIAEAAACKpyABAAAAiqcgAQAAAIqnIAEAAACKpyABAAAAiqcgAQAAAIqnIAEAAACKpyABAAAAiqcgAQAAAIqnIAEAAACKpyABAAAAiqcgAQAAAIq3seoArEDfWFqtsapTAAAAQMdTkAAAwAqMHz5SdYQMbN5UdQTWmkONqhMkWwarTgBLoiABTjBwxa1VR8j4k/dWHQEAACiIPUgAAACA4ilIAAAAgOIpSAAAAIDiKUg6WbOeWq2WerPqIAAAANDZFCQAAABA8RQkAAAAQPEUJAAAAEDxFCQAAABA8RQkAAAAQPEUJAAAAEDxFCQAAABA8RQkAAAAQPEUJAAAAEDxFCQAAABA8RQkAAAAQPEUJAAAAEDxFCQAAABA8TZWHYAV6BtLqzVWdQoAAADoeAoSAADocOOHj1QdIQObN1UdgbXmUKPqBMmWwaoT0EEUJMCaNHDFrVVHyPiT91YdAQAAWCX2IAEAAACKpyABAAAAiqcgAQAAAIqnIOkIMxntraVWq6d52vOaqddqqfWOZmaVkgEAAMB6oCDpCF3ZMdCTpJGJ0zUkzYk0kvQM7EjXKiUDAACA9UBB0iG6dgykJ0njNA1Jc6KRpCcDO9QjAAAAsBQKkk7RtSPtRSQTpxizaabdjwxEPwIAAABLoyDpGGcYszFeAwAAAMumIOkgpxuzMV4DAAAAy6cg6SSnHLMxXgMAAAAroSDpKKcYszFeAwAAACuiIOkwJxuzMV4DAAAAK6Mg6TQnjNkYrwEAAICVUpB0nOPGbIzXAAAAwIopSDrQwjEb4zUAAACwcgqSTjQ/ZtOffuM1AAAAsGIbqw7AcnRlaG8rQ1XHAAAAgHXCChIAAACgeBv37NlTdQaANeriqgMAQMfY81TVCeBkvN/l7FlBAgAAABRPQQIAAAAUT0ECAAAAFE9BAgAAABRPQQIAAAAUb2PVAQA4tTdc/lzVEQCgYwxs3lR1BDjBnr9/a9UROEu1VqvVqjoEACc3/uS9VUcAgI6hIGFN2jJYdQKS7Nlz4kc+X3/99YtuG7EBAAAAiqcgAQAAAIqnIAEAAACKpyDpSM3Ua7XUeuup99ZSq9XTrDoSAAAAdDAFSSdqTqSRpGdgV3YN9CRpZEJDAgAAAMumIOlAzYlGkp4M7OhK146B9CRpaEgAAABg2RQkHaeZdj8ykB1dSbp2pL2IZMKYDQAAACyTgqTTzI/X7EhXkqQrO4zZAAAAwIooSDrMwvGaOcZsAAAAYGUUJB3luPGaOcZsAAAAYEUUJJ3khPGaOcZsAAAAYCUUJB3kZOM1c4zZAAAAwPIpSDrGKcZr5hizAQAAgGVTkHSKU47XzDFmAwAAAMulIOkQpxuvmWPMBgAAAJZHQdIRzjBeM8eYDQAAACzLxqoDcDb6MtZqZeyM53VlaG8rQ6uQCAAAANYTK0gAAACA4llBAgAArAvjh49UHSEDmzdVHYG15lCj6gTJlsGqE3QEBQnAGjZwxa1VR8j4k/dWHQEAAM47IzYAAABA8RQkAAAAQPEUJAAAAEDxFCSdrFlPrVZLvVl1EAAAAOhsChIAAACgeAoSAAAAoHgKEgAAAKB4ChIAAACgeAoSAAAAoHgKEgAAAKB4ChIAAACgeAoSAAAAoHgKEgAAAKB4ChIAAACgeAoSAAAAoHgKEgAAAKB4ChIAAACgeBurDsAK9I2l1RqrOgUAAAB0PAUJAADAOTJ++EjVETKweVPVEVhrDjWqTpBsGaw6wRkpSAA4rYErbq06QsafvLfqCAAArHP2IAEAAACKpyABAAAAiqcgAQAAAIqnIOlkzXpqtVrqzaqDAAAAQGdTkHAezGS0t5ZarZ52d9NMvbbw9qnO783ozHKe70zXBwAAgNNTkHCcubLiJCtTZkbTW6ul1juaZfUY58Tx5QsAAACsnIKE43Rlx0BPkqQxsbiCmHlkPFNJegZ2pGtJ1+zLWKuVVmssfecq5qpeHwAAgPVOQcIJuoZuz2CSNCYWrNKYySPjU0kGc/vQbD0yuwfK3FfvKedjTrLqY+Fje+/OU8c/5KTXnslob3eGp5Kkkf751SwnW1UyN3Yz97VwfKd9X+9oc361jL1cAAAAyqYg4ST6srPdkGR+EcnMI2n3IzvbqzRmRtN71+XdNypLAAADhUlEQVSZbrXSak1npCeZGr77LMdemqn3N5Kekfbjb08aUwvuPuW1uzK0t307Gcxkq5XW3qGTrGZppl7rT2PunNZ0RnqmMty9eI+TqeH+PHV7K63WZAaTNPqN7QAAAJRKQcJJ9bUbkvkxm7nxmsGds0MsXUPZO19OdGXrtiTZnwNnszlJcyKNLBjV6ds1W3pk5ddeeP2RXbMjN3NjQ1MZf2TBRXpGsqsvOVYILeE5AAAAWFcUJJxc384FYzbHxmt2Ltjko1k/Np7S3zj7S88c2H/Gc5Z77VNdv6vdsgAAAMBJKUg4hQVjNqPt8ZpjKzKSmdHe9DeSwclWWq1WJgfP/spnKitWcu1TXX+uNNm2dWnbywIAAFAGBQmnND9mMzycqfRkYMfx5UJPLu9OkmYmlrLKo/vy9CSZGn+k/XHBzbtnN149m2ufxcjN7OqX+eufYgUMAAAAzFGQcGpzYzZJ0jOQhf1I+5NupjLcXUut1p8MLmUJyVD2Tg4mU8PprtVSu+vyTC7YhORM1+7bNZKeuft7R3NiT9KXsemR9Mxdv9ad4anBTPoYYAAAAE6h1mq1WlWHYJma9dT6GxmcbGXMO39gHRt/8t6qIwBAxxjYvKnqCHCiLUvcO+Ec27NnzwnHrr/++kW3rSABAAAAiqcgAQAAAIq3seoArEDfWFqtsapTAAAAQMdTkAAAAKwj44ePVB3BPiic6NBSPvr0fHjrGc9QkACw5g1ccWvVEWwUCwCwztmDBAAAACieggQAAAAonoIEAAAAKJ6CpCPMZLS3llqtnuZpz2umXqul1juamVVKBgAAAOuBgqQjdGXHQE+SRiZO15A0J9JI0jOwI12rlAwAAADWAwVJh+jaMZCeJI3TNCTNiUaSngzsUI8AAADAUihIOkXXjrQXkUycYsymmXY/MhD9CAAAACyNgqRjnGHMxngNAAAALJuCpIOcbszGeA0AAAAsn4Kkk5xyzMZ4DQAAAKyEgqSjnGLMxngNAAAArIiCpMOcbMzGeA0AAACsjIKk05wwZmO8BgAAAFZKQdJxjhuzMV4DAAAAK6Yg6UALx2yM1wAAAMDKKUg60fyYTX/6jdcAAADAim2sOgDL0ZWhva0MVR0DAAAA1gkrSAAAAIDiKUgAAACA4tVarVar6hAAAAAAVbKCBAAAACieggQAAAAonoIEAAAAKJ6CBAAAACje/wcnYiAtRDVFqwAAAABJRU5ErkJggg==)"
   ]
  },
  {
   "cell_type": "code",
   "execution_count": null,
   "metadata": {
    "colab": {
     "base_uri": "https://localhost:8080/"
    },
    "id": "7TY0z7cGEOGn",
    "outputId": "42be49b7-bccc-4b17-e5fe-a511b2254981"
   },
   "outputs": [
    {
     "data": {
      "text/plain": [
       "(60, 72)"
      ]
     },
     "execution_count": 30,
     "metadata": {},
     "output_type": "execute_result"
    }
   ],
   "source": [
    "# Values from N-BEATS paper Figure 1 and Table 18/Appendix D\n",
    "epochs = 5000 # called \"Iterations\" in Table 18\n",
    "neurons = 512 # called \"Width\" in Table 18\n",
    "block_layers = 4\n",
    "stacks = 30\n",
    "batch = 1024\n",
    "\n",
    "input_size = window # This should be a multiple of the horizon size.\n",
    "theta_size = input_size + horizon\n",
    "\n",
    "input_size, theta_size"
   ]
  },
  {
   "cell_type": "markdown",
   "metadata": {
    "id": "Yub6wR4162fA"
   },
   "source": [
    "### Data Pipeline\n",
    "1. For every series, there will be samples generated that include\n",
    "- features of size window\n",
    "- & labels of size horizon\n",
    "2. Then, the sampled data records will be split into training and validation.\n",
    "3. Then grab the final 'window' number of samples (for example 80) and use this to make final prediction.<br>\n",
    "  - make sure prediction dates match the expected date range on submission file.\n",
    "4. Save this prediction   "
   ]
  },
  {
   "cell_type": "markdown",
   "metadata": {
    "id": "SPnE9yzC__7U"
   },
   "source": [
    "### Model Build out"
   ]
  },
  {
   "cell_type": "code",
   "execution_count": null,
   "metadata": {
    "colab": {
     "base_uri": "https://localhost:8080/"
    },
    "id": "xPzv1gtRpAN8",
    "outputId": "d381d175-3081-4277-e3a8-d3919e2d4b7e"
   },
   "outputs": [
    {
     "name": "stdout",
     "output_type": "stream",
     "text": [
      "CPU times: user 4 µs, sys: 1e+03 ns, total: 5 µs\n",
      "Wall time: 6.68 µs\n"
     ]
    }
   ],
   "source": [
    "%%time\n",
    "def model_build():\n",
    "  tf.random.set_seed(48)\n",
    "\n",
    "  # 1. Setup N-BEATS Block layer\n",
    "  nbeats_block_layer = NBeatsBlock(input_size=input_size,\n",
    "  #                                 theta_size=theta_size,\n",
    "                                  horizon=horizon,\n",
    "                                  n_neurons=neurons,\n",
    "                                  n_layers=block_layers,\n",
    "                                  name=\"Block_1\")\n",
    "\n",
    "  # 2. Create input to stacks\n",
    "  stack_input = layers.Input(shape=(input_size), name=\"stack_input\")\n",
    "\n",
    "  # 3. Create initial backcast and forecast input (backwards predictions are referred to as residuals in the paper)\n",
    "  backcast, forecast = nbeats_block_layer(stack_input)\n",
    "  # Add in subtraction residual link, thank you to: https://github.com/mrdbourke/tensorflow-deep-learning/discussions/174 \n",
    "  residuals = layers.subtract([stack_input, backcast], name=f\"subtract_00\") \n",
    "\n",
    "  # 4. Create stacks of blocks\n",
    "  for i, _ in enumerate(range(stacks-1)): # first stack is already creted in (3)\n",
    "\n",
    "    # 5. Use the NBeatsBlock to calculate the backcast as well as block forecast\n",
    "    backcast, block_forecast = NBeatsBlock(\n",
    "        input_size=input_size,\n",
    "  #      theta_size=theta_size,\n",
    "        horizon=horizon,\n",
    "        n_neurons=neurons,\n",
    "        n_layers=block_layers,\n",
    "        name=f\"NBeatsBlock_{i}\"\n",
    "    )(residuals) # pass it in residuals (the backcast)\n",
    "\n",
    "    # 6. Create the double residual stacking\n",
    "    residuals = layers.subtract([residuals, backcast], name=f\"subtract_{i}\") \n",
    "    forecast = layers.add([forecast, block_forecast], name=f\"add_{i}\")\n",
    "    \n",
    "  return nbeats_block_layer, stack_input, backcast, forecast,residuals"
   ]
  },
  {
   "cell_type": "code",
   "execution_count": null,
   "metadata": {
    "id": "2CA6fuSCLCml"
   },
   "outputs": [],
   "source": [
    "nbeats_block_layer, stack_input, backcast, forecast,residuals = model_build()"
   ]
  },
  {
   "cell_type": "markdown",
   "metadata": {
    "id": "HfIsiZnkNnlt"
   },
   "source": [
    "### Data Build"
   ]
  },
  {
   "cell_type": "code",
   "execution_count": null,
   "metadata": {
    "id": "HOll3omGmouJ"
   },
   "outputs": [],
   "source": [
    "def data_build(srl_num,input_df):\n",
    "  \"\"\"\n",
    "    performs the data build on multiple series\n",
    "  \"\"\"\n",
    "  x, y = [],[]\n",
    "  #ffeat = dict()  # final prediction features\n",
    "\n",
    "  for series in input_df[srl_num].unique():\n",
    "    # eval = []\n",
    "    temp = input_df[input_df[srl_num] == series].copy()\n",
    "    ser = change_shape(temp)\n",
    "    #ffeat[series] = ser[-window:]\n",
    "\n",
    "    # create two sets of x and y. THe second will be used to generate the true \n",
    "    # values to calculate MAE\n",
    "    ## check if first series, if not append.\n",
    "    if len(x) > 0: \n",
    "      x_temp, y_temp = window_gen(ser,window,horizon)\n",
    "      for x_array in x_temp:\n",
    "        x.append(x_array)\n",
    "      for y_array in y_temp:\n",
    "        y.append(y_array)\n",
    "    else: \n",
    "      x, y = window_gen(ser,window,horizon)\n",
    "  return x,y\n",
    "  #,ffeat"
   ]
  },
  {
   "cell_type": "code",
   "execution_count": null,
   "metadata": {
    "id": "nzDgNccVP3a6"
   },
   "outputs": [],
   "source": [
    "x,y = data_build('Name',stock_train)"
   ]
  },
  {
   "cell_type": "code",
   "execution_count": null,
   "metadata": {
    "colab": {
     "base_uri": "https://localhost:8080/"
    },
    "id": "-OLvCFO4wNKy",
    "outputId": "dbae1e28-0812-425a-bb13-281b9c6ec58d"
   },
   "outputs": [
    {
     "data": {
      "text/plain": [
       "826500"
      ]
     },
     "execution_count": 35,
     "metadata": {},
     "output_type": "execute_result"
    }
   ],
   "source": [
    "len(x)"
   ]
  },
  {
   "cell_type": "code",
   "execution_count": null,
   "metadata": {
    "colab": {
     "base_uri": "https://localhost:8080/"
    },
    "id": "qsWTTaOkQGNw",
    "outputId": "b1490539-8115-45fa-d58e-5569c09242df"
   },
   "outputs": [
    {
     "name": "stdout",
     "output_type": "stream",
     "text": [
      "x_train size 661200\n",
      "x_valide size 165300\n"
     ]
    }
   ],
   "source": [
    "train_ds,valid_ds, y_valid_true = data_split()"
   ]
  },
  {
   "cell_type": "code",
   "execution_count": null,
   "metadata": {
    "colab": {
     "base_uri": "https://localhost:8080/"
    },
    "id": "MoRSJ_n4Y3UA",
    "outputId": "424961dd-a792-452a-d33b-be3f26363b7d"
   },
   "outputs": [
    {
     "name": "stdout",
     "output_type": "stream",
     "text": [
      "Mounted at /content/gdrive\n"
     ]
    }
   ],
   "source": [
    "# initiate drive mount \n",
    "drive.mount('/content/gdrive')"
   ]
  },
  {
   "cell_type": "code",
   "execution_count": null,
   "metadata": {
    "id": "iEbA0Culnfdh"
   },
   "outputs": [],
   "source": [
    "def model_create():\n",
    "  # Put the stack model together\n",
    "  model = tf.keras.Model(inputs=stack_input, \n",
    "                        outputs=forecast, \n",
    "                        name=\"model_N-BEATS\")\n",
    "\n",
    "  # 8. Compile with MAE loss and Adam optimizer\n",
    "  model.compile(loss=\"mae\",\n",
    "                optimizer=tf.keras.optimizers.Adam(0.001),\n",
    "                metrics=[\"mae\", \"mse\"])\n",
    "  return model"
   ]
  },
  {
   "cell_type": "code",
   "execution_count": null,
   "metadata": {
    "id": "1yC9HqoRQO0e"
   },
   "outputs": [],
   "source": [
    "model = model_create()\n"
   ]
  },
  {
   "cell_type": "markdown",
   "metadata": {
    "id": "3sMckLH5N0H9"
   },
   "source": [
    "### Model fit"
   ]
  },
  {
   "cell_type": "code",
   "execution_count": null,
   "metadata": {
    "colab": {
     "base_uri": "https://localhost:8080/"
    },
    "id": "jjy_sfX3Nv4_",
    "outputId": "086ef106-60d0-4f06-a287-12dbd4411237"
   },
   "outputs": [
    {
     "name": "stdout",
     "output_type": "stream",
     "text": [
      "\n",
      "Epoch 391: ReduceLROnPlateau reducing learning rate to 0.00010000000474974513.\n"
     ]
    }
   ],
   "source": [
    "%%time\n",
    "history = model.fit(train_ds,\n",
    "            epochs=epochs,\n",
    "            validation_data=valid_ds,\n",
    "            verbose=0, # prevent large amounts of training outputs\n",
    "            # callbacks=[create_model_checkpoint(model_name=stack_model.name)] # saving model every epoch consumes far too much time\n",
    "            callbacks=[tf.keras.callbacks.EarlyStopping(monitor=\"val_loss\", patience=200, restore_best_weights=True),\n",
    "                              #  ModelCheckpoint('/content/gdrive/My Drive/ColabNotebooks/models/model_{val_loss:.4f}.h5',\n",
    "                              #  save_best_only=True,\n",
    "                              #  save_weights_only=False,\n",
    "                              #  monitor='val_accuracy')\n",
    "              tf.keras.callbacks.ReduceLROnPlateau(monitor=\"val_loss\", patience=100, verbose=1) ])"
   ]
  },
  {
   "cell_type": "markdown",
   "metadata": {
    "id": "ekn9BwpBwNYL"
   },
   "source": [
    "### Model Save"
   ]
  },
  {
   "cell_type": "code",
   "execution_count": null,
   "metadata": {
    "id": "CzHmG1Wh7t1D"
   },
   "outputs": [],
   "source": [
    "#model.save('/content/gdrive/MyDrive/model_sp_500')\n",
    "model.save('/content/gdrive/MyDrive/models2')"
   ]
  },
  {
   "cell_type": "code",
   "execution_count": null,
   "metadata": {
    "id": "9mdrkFTIstmb"
   },
   "outputs": [],
   "source": [
    "!ls /content/gdrive/MyDrive/ColabNotebooks/models2"
   ]
  },
  {
   "cell_type": "code",
   "execution_count": null,
   "metadata": {
    "id": "-4E434IgMUik"
   },
   "outputs": [],
   "source": [
    "!cp -r /content/gdrive/MyDrive/models2/ /content/gdrive/MyDrive/"
   ]
  },
  {
   "cell_type": "code",
   "execution_count": null,
   "metadata": {
    "id": "4S93iLY530gv"
   },
   "outputs": [],
   "source": [
    "#reconstructed_model = keras.models.load_model('/content/gdrive/MyDrive/models02')\n",
    "#recon_model=tf.saved_model.load('/content/gdrive/MyDrive/models/saved_model.pb')"
   ]
  },
  {
   "cell_type": "code",
   "execution_count": null,
   "metadata": {
    "colab": {
     "base_uri": "https://localhost:8080/"
    },
    "id": "VgRkSfUVnsbd",
    "outputId": "99eb747e-85b7-450d-c7c2-66f5ce3999f9"
   },
   "outputs": [
    {
     "name": "stdout",
     "output_type": "stream",
     "text": [
      "Mounted at /content/drive\n"
     ]
    }
   ],
   "source": [
    "# from google.colab import drive\n",
    "# drive.mount('/content/drive')\n",
    "# # copy it there\n"
   ]
  },
  {
   "cell_type": "code",
   "execution_count": null,
   "metadata": {
    "id": "zmrOyGFhtU5b"
   },
   "outputs": [],
   "source": [
    "!cp -r /content/gdrive/MyDrive/models200/ /content/drive/MyDrive"
   ]
  },
  {
   "cell_type": "markdown",
   "metadata": {
    "id": "MjnXAMZiRFXy"
   },
   "source": [
    "**Performance**"
   ]
  },
  {
   "cell_type": "code",
   "execution_count": null,
   "metadata": {
    "colab": {
     "base_uri": "https://localhost:8080/"
    },
    "id": "YFEMbJFP-vUv",
    "outputId": "a32f0198-6faa-40d2-b10a-1dfea2084853"
   },
   "outputs": [
    {
     "data": {
      "text/plain": [
       "keras.engine.functional.Functional"
      ]
     },
     "execution_count": 93,
     "metadata": {},
     "output_type": "execute_result"
    }
   ],
   "source": [
    "type(model)"
   ]
  },
  {
   "cell_type": "code",
   "execution_count": null,
   "metadata": {
    "colab": {
     "base_uri": "https://localhost:8080/"
    },
    "id": "-DXudHYrnkjp",
    "outputId": "6c1c136f-339e-4b1c-bf4f-4a2c2d5d7c76"
   },
   "outputs": [
    {
     "data": {
      "text/plain": [
       "keras.engine.functional.Functional"
      ]
     },
     "execution_count": 104,
     "metadata": {},
     "output_type": "execute_result"
    }
   ],
   "source": [
    "type(reconstructed_model)"
   ]
  },
  {
   "cell_type": "code",
   "execution_count": null,
   "metadata": {
    "colab": {
     "base_uri": "https://localhost:8080/"
    },
    "id": "Pc1HsJZcNv4_",
    "outputId": "ffc99a25-47dd-4c51-894a-c2eff848c504"
   },
   "outputs": [
    {
     "name": "stdout",
     "output_type": "stream",
     "text": [
      "3/3 [==============================] - 2s 58ms/step - loss: 1.5873 - mae: 1.5873 - mse: 7.9534\n"
     ]
    }
   ],
   "source": [
    "metrics = reconstructed_model.evaluate(valid_ds)\n",
    "#metrics = recon_model.evaluate(valid_ds)\n"
   ]
  },
  {
   "cell_type": "code",
   "execution_count": null,
   "metadata": {
    "id": "onhptwxCNv5A"
   },
   "outputs": [],
   "source": [
    "val_pred = model.predict(valid_ds)\n",
    "#val_pred = scaler.inverse_transform(val_pred)"
   ]
  },
  {
   "cell_type": "code",
   "execution_count": null,
   "metadata": {
    "colab": {
     "base_uri": "https://localhost:8080/"
    },
    "id": "INr9vc-fNv5B",
    "outputId": "3f669a8f-9806-4e33-fb52-96015b5ae0b5"
   },
   "outputs": [
    {
     "name": "stdout",
     "output_type": "stream",
     "text": [
      "CPU times: user 18.4 ms, sys: 0 ns, total: 18.4 ms\n",
      "Wall time: 20.2 ms\n"
     ]
    }
   ],
   "source": [
    "# # builds the array for true values\n",
    "# %%time \n",
    "# empty = 1\n",
    "# for array in y_valid_true:\n",
    "#   if empty == 1:\n",
    "#     Y_true = array.reshape(1,array.shape[0]).copy()\n",
    "#     empty = 0\n",
    "#   else:\n",
    "#     Y_true = np.append(Y_true,array.reshape(1,array.shape[0]),axis=0)"
   ]
  },
  {
   "cell_type": "markdown",
   "metadata": {
    "id": "ZTsnan_8Nv5D"
   },
   "source": [
    "**Validation MAE**\n",
    "This is for validation set. So there will be 5 validation examples per series. There fore we will take the entire matrix of actual observations and compare to matrix of same size of predictions."
   ]
  },
  {
   "cell_type": "code",
   "execution_count": null,
   "metadata": {
    "colab": {
     "base_uri": "https://localhost:8080/"
    },
    "id": "efWLFFvENv5D",
    "outputId": "e57c3fc0-3c7d-40bf-cb07-0b52656759be"
   },
   "outputs": [
    {
     "data": {
      "text/plain": [
       "1.6120051869204735"
      ]
     },
     "execution_count": 48,
     "metadata": {},
     "output_type": "execute_result"
    }
   ],
   "source": [
    "# #This is the weighte MAE for validation data \n",
    "# np.absolute(Y_true - val_pred).mean()"
   ]
  },
  {
   "cell_type": "code",
   "execution_count": null,
   "metadata": {
    "id": "o5T6xgniXF-8"
   },
   "outputs": [],
   "source": [
    "#losses = history.history['loss']\n",
    "mae = history.history['mae']\n",
    "#val_losses = history.history['val_loss']\n",
    "val_mae = history.history['val_mae']\n",
    "epochs = len(mae)"
   ]
  },
  {
   "cell_type": "code",
   "execution_count": null,
   "metadata": {
    "colab": {
     "base_uri": "https://localhost:8080/",
     "height": 335
    },
    "id": "1jiCXnqfXF-9",
    "outputId": "bd72a20f-57fa-486f-d172-02440d8339ed"
   },
   "outputs": [
    {
     "data": {
      "image/png": "[encoded data removed]",
      "text/plain": [
       "<Figure size 1080x360 with 1 Axes>"
      ]
     },
     "metadata": {},
     "output_type": "display_data"
    }
   ],
   "source": [
    "fig = plt.figure(figsize=(15, 5))\n",
    "ax2 = fig.add_subplot()\n",
    "ax2.plot(range(epochs), mae, label='Training MAE')\n",
    "ax2.plot(range(epochs), val_mae, label='Validation MAE')\n",
    "ax2.set_title('MAE')\n",
    "ax2.legend()\n",
    "plt.show()"
   ]
  },
  {
   "cell_type": "markdown",
   "metadata": {
    "id": "cWmq6e18Nv5E"
   },
   "source": [
    "### Generate Predictions\n",
    "\n",
    "- Back testing predictions for last h periods<br>\n",
    "- Run predictions on latest window days<br>\n"
   ]
  },
  {
   "cell_type": "code",
   "execution_count": null,
   "metadata": {
    "colab": {
     "base_uri": "https://localhost:8080/",
     "height": 380
    },
    "id": "wfnqZQpawRcu",
    "outputId": "71ac0486-af70-4987-a765-3c0248c6b4ad"
   },
   "outputs": [
    {
     "ename": "OSError",
     "evalue": "ignored",
     "output_type": "error",
     "traceback": [
      "\u001b[0;31m---------------------------------------------------------------------------\u001b[0m",
      "\u001b[0;31mOSError\u001b[0m                                   Traceback (most recent call last)",
      "\u001b[0;32m<ipython-input-4-af35f9abbbbb>\u001b[0m in \u001b[0;36m<module>\u001b[0;34m()\u001b[0m\n\u001b[1;32m      1\u001b[0m \u001b[0;31m#repull model\u001b[0m\u001b[0;34m\u001b[0m\u001b[0;34m\u001b[0m\u001b[0;34m\u001b[0m\u001b[0m\n\u001b[0;32m----> 2\u001b[0;31m \u001b[0mnew_model\u001b[0m \u001b[0;34m=\u001b[0m \u001b[0mtf\u001b[0m\u001b[0;34m.\u001b[0m\u001b[0mkeras\u001b[0m\u001b[0;34m.\u001b[0m\u001b[0mmodels\u001b[0m\u001b[0;34m.\u001b[0m\u001b[0mload_model\u001b[0m\u001b[0;34m(\u001b[0m\u001b[0;34m'saved_model/my_model'\u001b[0m\u001b[0;34m)\u001b[0m\u001b[0;34m\u001b[0m\u001b[0;34m\u001b[0m\u001b[0m\n\u001b[0m\u001b[1;32m      3\u001b[0m \u001b[0;34m\u001b[0m\u001b[0m\n\u001b[1;32m      4\u001b[0m \u001b[0;31m# Check its architecture\u001b[0m\u001b[0;34m\u001b[0m\u001b[0;34m\u001b[0m\u001b[0;34m\u001b[0m\u001b[0m\n\u001b[1;32m      5\u001b[0m \u001b[0mnew_model\u001b[0m\u001b[0;34m.\u001b[0m\u001b[0msummary\u001b[0m\u001b[0;34m(\u001b[0m\u001b[0;34m)\u001b[0m\u001b[0;34m\u001b[0m\u001b[0;34m\u001b[0m\u001b[0m\n",
      "\u001b[0;32m/usr/local/lib/python3.7/dist-packages/keras/utils/traceback_utils.py\u001b[0m in \u001b[0;36merror_handler\u001b[0;34m(*args, **kwargs)\u001b[0m\n\u001b[1;32m     65\u001b[0m     \u001b[0;32mexcept\u001b[0m \u001b[0mException\u001b[0m \u001b[0;32mas\u001b[0m \u001b[0me\u001b[0m\u001b[0;34m:\u001b[0m  \u001b[0;31m# pylint: disable=broad-except\u001b[0m\u001b[0;34m\u001b[0m\u001b[0;34m\u001b[0m\u001b[0m\n\u001b[1;32m     66\u001b[0m       \u001b[0mfiltered_tb\u001b[0m \u001b[0;34m=\u001b[0m \u001b[0m_process_traceback_frames\u001b[0m\u001b[0;34m(\u001b[0m\u001b[0me\u001b[0m\u001b[0;34m.\u001b[0m\u001b[0m__traceback__\u001b[0m\u001b[0;34m)\u001b[0m\u001b[0;34m\u001b[0m\u001b[0;34m\u001b[0m\u001b[0m\n\u001b[0;32m---> 67\u001b[0;31m       \u001b[0;32mraise\u001b[0m \u001b[0me\u001b[0m\u001b[0;34m.\u001b[0m\u001b[0mwith_traceback\u001b[0m\u001b[0;34m(\u001b[0m\u001b[0mfiltered_tb\u001b[0m\u001b[0;34m)\u001b[0m \u001b[0;32mfrom\u001b[0m \u001b[0;32mNone\u001b[0m\u001b[0;34m\u001b[0m\u001b[0;34m\u001b[0m\u001b[0m\n\u001b[0m\u001b[1;32m     68\u001b[0m     \u001b[0;32mfinally\u001b[0m\u001b[0;34m:\u001b[0m\u001b[0;34m\u001b[0m\u001b[0;34m\u001b[0m\u001b[0m\n\u001b[1;32m     69\u001b[0m       \u001b[0;32mdel\u001b[0m \u001b[0mfiltered_tb\u001b[0m\u001b[0;34m\u001b[0m\u001b[0;34m\u001b[0m\u001b[0m\n",
      "\u001b[0;32m/usr/local/lib/python3.7/dist-packages/keras/saving/save.py\u001b[0m in \u001b[0;36mload_model\u001b[0;34m(filepath, custom_objects, compile, options)\u001b[0m\n\u001b[1;32m    202\u001b[0m         \u001b[0;32mif\u001b[0m \u001b[0misinstance\u001b[0m\u001b[0;34m(\u001b[0m\u001b[0mfilepath_str\u001b[0m\u001b[0;34m,\u001b[0m \u001b[0mstr\u001b[0m\u001b[0;34m)\u001b[0m\u001b[0;34m:\u001b[0m\u001b[0;34m\u001b[0m\u001b[0;34m\u001b[0m\u001b[0m\n\u001b[1;32m    203\u001b[0m           \u001b[0;32mif\u001b[0m \u001b[0;32mnot\u001b[0m \u001b[0mtf\u001b[0m\u001b[0;34m.\u001b[0m\u001b[0mio\u001b[0m\u001b[0;34m.\u001b[0m\u001b[0mgfile\u001b[0m\u001b[0;34m.\u001b[0m\u001b[0mexists\u001b[0m\u001b[0;34m(\u001b[0m\u001b[0mfilepath_str\u001b[0m\u001b[0;34m)\u001b[0m\u001b[0;34m:\u001b[0m\u001b[0;34m\u001b[0m\u001b[0;34m\u001b[0m\u001b[0m\n\u001b[0;32m--> 204\u001b[0;31m             \u001b[0;32mraise\u001b[0m \u001b[0mIOError\u001b[0m\u001b[0;34m(\u001b[0m\u001b[0;34mf'No file or directory found at {filepath_str}'\u001b[0m\u001b[0;34m)\u001b[0m\u001b[0;34m\u001b[0m\u001b[0;34m\u001b[0m\u001b[0m\n\u001b[0m\u001b[1;32m    205\u001b[0m \u001b[0;34m\u001b[0m\u001b[0m\n\u001b[1;32m    206\u001b[0m           \u001b[0;32mif\u001b[0m \u001b[0mtf\u001b[0m\u001b[0;34m.\u001b[0m\u001b[0mio\u001b[0m\u001b[0;34m.\u001b[0m\u001b[0mgfile\u001b[0m\u001b[0;34m.\u001b[0m\u001b[0misdir\u001b[0m\u001b[0;34m(\u001b[0m\u001b[0mfilepath_str\u001b[0m\u001b[0;34m)\u001b[0m\u001b[0;34m:\u001b[0m\u001b[0;34m\u001b[0m\u001b[0;34m\u001b[0m\u001b[0m\n",
      "\u001b[0;31mOSError\u001b[0m: No file or directory found at saved_model/my_model"
     ]
    }
   ],
   "source": [
    "#repull model \n",
    "new_model = tf.keras.models.load_model('saved_model/my_model')\n",
    "\n",
    "# Check its architecture\n",
    "new_model.summary()"
   ]
  },
  {
   "cell_type": "markdown",
   "metadata": {
    "id": "SNEKl2Dy4PkC"
   },
   "source": [
    "**Prediction File**"
   ]
  },
  {
   "cell_type": "code",
   "execution_count": null,
   "metadata": {
    "id": "g9Vrk7WYeL3c"
   },
   "outputs": [],
   "source": [
    "\n",
    "# #today = date.today()\n",
    "# print(\"Today's date:\", today)"
   ]
  },
  {
   "cell_type": "code",
   "execution_count": null,
   "metadata": {
    "colab": {
     "base_uri": "https://localhost:8080/",
     "height": 206
    },
    "id": "BqfhMkf7duOY",
    "outputId": "4b8216df-599a-4ec7-b269-11e9e45ba024"
   },
   "outputs": [
    {
     "data": {
      "text/html": [
       "\n",
       "  <div id=\"df-7ad8497f-7cc4-4e2f-85c4-c32d6e901ec1\">\n",
       "    <div class=\"colab-df-container\">\n",
       "      <div>\n",
       "<style scoped>\n",
       "    .dataframe tbody tr th:only-of-type {\n",
       "        vertical-align: middle;\n",
       "    }\n",
       "\n",
       "    .dataframe tbody tr th {\n",
       "        vertical-align: top;\n",
       "    }\n",
       "\n",
       "    .dataframe thead th {\n",
       "        text-align: right;\n",
       "    }\n",
       "</style>\n",
       "<table border=\"1\" class=\"dataframe\">\n",
       "  <thead>\n",
       "    <tr style=\"text-align: right;\">\n",
       "      <th></th>\n",
       "      <th>Date</th>\n",
       "      <th>Close</th>\n",
       "      <th>Name</th>\n",
       "    </tr>\n",
       "  </thead>\n",
       "  <tbody>\n",
       "    <tr>\n",
       "      <th>5813</th>\n",
       "      <td>2022-01-07</td>\n",
       "      <td>0.61</td>\n",
       "      <td>ACFN</td>\n",
       "    </tr>\n",
       "    <tr>\n",
       "      <th>5814</th>\n",
       "      <td>2022-01-10</td>\n",
       "      <td>0.60</td>\n",
       "      <td>ACFN</td>\n",
       "    </tr>\n",
       "    <tr>\n",
       "      <th>5815</th>\n",
       "      <td>2022-01-11</td>\n",
       "      <td>0.60</td>\n",
       "      <td>ACFN</td>\n",
       "    </tr>\n",
       "    <tr>\n",
       "      <th>5816</th>\n",
       "      <td>2022-01-12</td>\n",
       "      <td>0.63</td>\n",
       "      <td>ACFN</td>\n",
       "    </tr>\n",
       "    <tr>\n",
       "      <th>5817</th>\n",
       "      <td>2022-01-13</td>\n",
       "      <td>0.60</td>\n",
       "      <td>ACFN</td>\n",
       "    </tr>\n",
       "  </tbody>\n",
       "</table>\n",
       "</div>\n",
       "      <button class=\"colab-df-convert\" onclick=\"convertToInteractive('df-7ad8497f-7cc4-4e2f-85c4-c32d6e901ec1')\"\n",
       "              title=\"Convert this dataframe to an interactive table.\"\n",
       "              style=\"display:none;\">\n",
       "        \n",
       "  <svg xmlns=\"http://www.w3.org/2000/svg\" height=\"24px\"viewBox=\"0 0 24 24\"\n",
       "       width=\"24px\">\n",
       "    <path d=\"M0 0h24v24H0V0z\" fill=\"none\"/>\n",
       "    <path d=\"M18.56 5.44l.94 2.06.94-2.06 2.06-.94-2.06-.94-.94-2.06-.94 2.06-2.06.94zm-11 1L8.5 8.5l.94-2.06 2.06-.94-2.06-.94L8.5 2.5l-.94 2.06-2.06.94zm10 10l.94 2.06.94-2.06 2.06-.94-2.06-.94-.94-2.06-.94 2.06-2.06.94z\"/><path d=\"M17.41 7.96l-1.37-1.37c-.4-.4-.92-.59-1.43-.59-.52 0-1.04.2-1.43.59L10.3 9.45l-7.72 7.72c-.78.78-.78 2.05 0 2.83L4 21.41c.39.39.9.59 1.41.59.51 0 1.02-.2 1.41-.59l7.78-7.78 2.81-2.81c.8-.78.8-2.07 0-2.86zM5.41 20L4 18.59l7.72-7.72 1.47 1.35L5.41 20z\"/>\n",
       "  </svg>\n",
       "      </button>\n",
       "      \n",
       "  <style>\n",
       "    .colab-df-container {\n",
       "      display:flex;\n",
       "      flex-wrap:wrap;\n",
       "      gap: 12px;\n",
       "    }\n",
       "\n",
       "    .colab-df-convert {\n",
       "      background-color: #E8F0FE;\n",
       "      border: none;\n",
       "      border-radius: 50%;\n",
       "      cursor: pointer;\n",
       "      display: none;\n",
       "      fill: #1967D2;\n",
       "      height: 32px;\n",
       "      padding: 0 0 0 0;\n",
       "      width: 32px;\n",
       "    }\n",
       "\n",
       "    .colab-df-convert:hover {\n",
       "      background-color: #E2EBFA;\n",
       "      box-shadow: 0px 1px 2px rgba(60, 64, 67, 0.3), 0px 1px 3px 1px rgba(60, 64, 67, 0.15);\n",
       "      fill: #174EA6;\n",
       "    }\n",
       "\n",
       "    [theme=dark] .colab-df-convert {\n",
       "      background-color: #3B4455;\n",
       "      fill: #D2E3FC;\n",
       "    }\n",
       "\n",
       "    [theme=dark] .colab-df-convert:hover {\n",
       "      background-color: #434B5C;\n",
       "      box-shadow: 0px 1px 3px 1px rgba(0, 0, 0, 0.15);\n",
       "      filter: drop-shadow(0px 1px 2px rgba(0, 0, 0, 0.3));\n",
       "      fill: #FFFFFF;\n",
       "    }\n",
       "  </style>\n",
       "\n",
       "      <script>\n",
       "        const buttonEl =\n",
       "          document.querySelector('#df-7ad8497f-7cc4-4e2f-85c4-c32d6e901ec1 button.colab-df-convert');\n",
       "        buttonEl.style.display =\n",
       "          google.colab.kernel.accessAllowed ? 'block' : 'none';\n",
       "\n",
       "        async function convertToInteractive(key) {\n",
       "          const element = document.querySelector('#df-7ad8497f-7cc4-4e2f-85c4-c32d6e901ec1');\n",
       "          const dataTable =\n",
       "            await google.colab.kernel.invokeFunction('convertToInteractive',\n",
       "                                                     [key], {});\n",
       "          if (!dataTable) return;\n",
       "\n",
       "          const docLinkHtml = 'Like what you see? Visit the ' +\n",
       "            '<a target=\"_blank\" href=https://colab.research.google.com/notebooks/data_table.ipynb>data table notebook</a>'\n",
       "            + ' to learn more about interactive tables.';\n",
       "          element.innerHTML = '';\n",
       "          dataTable['output_type'] = 'display_data';\n",
       "          await google.colab.output.renderOutput(dataTable, element);\n",
       "          const docLink = document.createElement('div');\n",
       "          docLink.innerHTML = docLinkHtml;\n",
       "          element.appendChild(docLink);\n",
       "        }\n",
       "      </script>\n",
       "    </div>\n",
       "  </div>\n",
       "  "
      ],
      "text/plain": [
       "           Date  Close  Name\n",
       "5813 2022-01-07   0.61  ACFN\n",
       "5814 2022-01-10   0.60  ACFN\n",
       "5815 2022-01-11   0.60  ACFN\n",
       "5816 2022-01-12   0.63  ACFN\n",
       "5817 2022-01-13   0.60  ACFN"
      ]
     },
     "execution_count": 62,
     "metadata": {},
     "output_type": "execute_result"
    }
   ],
   "source": [
    "stock_test.head()"
   ]
  },
  {
   "cell_type": "code",
   "execution_count": null,
   "metadata": {
    "id": "u-0QdYLlgJIV"
   },
   "outputs": [],
   "source": [
    "date_temp = stock_test.Date\n"
   ]
  },
  {
   "cell_type": "code",
   "execution_count": null,
   "metadata": {
    "id": "m0uJ1maWkAfp"
   },
   "outputs": [],
   "source": [
    "date_temp = date_temp[-horizon:]"
   ]
  },
  {
   "cell_type": "code",
   "execution_count": null,
   "metadata": {
    "id": "-lF9e2pPqxA2"
   },
   "outputs": [],
   "source": [
    "date_list = date_temp.tolist()\n"
   ]
  },
  {
   "cell_type": "code",
   "execution_count": null,
   "metadata": {
    "colab": {
     "base_uri": "https://localhost:8080/",
     "height": 206
    },
    "id": "1SdBgHhhV_7E",
    "outputId": "9c81d352-8cfd-4078-a33a-7438048b9590"
   },
   "outputs": [
    {
     "data": {
      "text/html": [
       "\n",
       "  <div id=\"df-6d7744ae-82b9-4237-a82e-4984e26bbadb\">\n",
       "    <div class=\"colab-df-container\">\n",
       "      <div>\n",
       "<style scoped>\n",
       "    .dataframe tbody tr th:only-of-type {\n",
       "        vertical-align: middle;\n",
       "    }\n",
       "\n",
       "    .dataframe tbody tr th {\n",
       "        vertical-align: top;\n",
       "    }\n",
       "\n",
       "    .dataframe thead th {\n",
       "        text-align: right;\n",
       "    }\n",
       "</style>\n",
       "<table border=\"1\" class=\"dataframe\">\n",
       "  <thead>\n",
       "    <tr style=\"text-align: right;\">\n",
       "      <th></th>\n",
       "      <th>Date</th>\n",
       "      <th>Close</th>\n",
       "      <th>Name</th>\n",
       "    </tr>\n",
       "  </thead>\n",
       "  <tbody>\n",
       "    <tr>\n",
       "      <th>5799</th>\n",
       "      <td>2022-01-05</td>\n",
       "      <td>0.63</td>\n",
       "      <td>ACFN</td>\n",
       "    </tr>\n",
       "    <tr>\n",
       "      <th>5800</th>\n",
       "      <td>2022-01-06</td>\n",
       "      <td>0.62</td>\n",
       "      <td>ACFN</td>\n",
       "    </tr>\n",
       "    <tr>\n",
       "      <th>5801</th>\n",
       "      <td>2022-01-07</td>\n",
       "      <td>0.61</td>\n",
       "      <td>ACFN</td>\n",
       "    </tr>\n",
       "    <tr>\n",
       "      <th>5802</th>\n",
       "      <td>2022-01-10</td>\n",
       "      <td>0.60</td>\n",
       "      <td>ACFN</td>\n",
       "    </tr>\n",
       "    <tr>\n",
       "      <th>5803</th>\n",
       "      <td>2022-01-11</td>\n",
       "      <td>0.60</td>\n",
       "      <td>ACFN</td>\n",
       "    </tr>\n",
       "  </tbody>\n",
       "</table>\n",
       "</div>\n",
       "      <button class=\"colab-df-convert\" onclick=\"convertToInteractive('df-6d7744ae-82b9-4237-a82e-4984e26bbadb')\"\n",
       "              title=\"Convert this dataframe to an interactive table.\"\n",
       "              style=\"display:none;\">\n",
       "        \n",
       "  <svg xmlns=\"http://www.w3.org/2000/svg\" height=\"24px\"viewBox=\"0 0 24 24\"\n",
       "       width=\"24px\">\n",
       "    <path d=\"M0 0h24v24H0V0z\" fill=\"none\"/>\n",
       "    <path d=\"M18.56 5.44l.94 2.06.94-2.06 2.06-.94-2.06-.94-.94-2.06-.94 2.06-2.06.94zm-11 1L8.5 8.5l.94-2.06 2.06-.94-2.06-.94L8.5 2.5l-.94 2.06-2.06.94zm10 10l.94 2.06.94-2.06 2.06-.94-2.06-.94-.94-2.06-.94 2.06-2.06.94z\"/><path d=\"M17.41 7.96l-1.37-1.37c-.4-.4-.92-.59-1.43-.59-.52 0-1.04.2-1.43.59L10.3 9.45l-7.72 7.72c-.78.78-.78 2.05 0 2.83L4 21.41c.39.39.9.59 1.41.59.51 0 1.02-.2 1.41-.59l7.78-7.78 2.81-2.81c.8-.78.8-2.07 0-2.86zM5.41 20L4 18.59l7.72-7.72 1.47 1.35L5.41 20z\"/>\n",
       "  </svg>\n",
       "      </button>\n",
       "      \n",
       "  <style>\n",
       "    .colab-df-container {\n",
       "      display:flex;\n",
       "      flex-wrap:wrap;\n",
       "      gap: 12px;\n",
       "    }\n",
       "\n",
       "    .colab-df-convert {\n",
       "      background-color: #E8F0FE;\n",
       "      border: none;\n",
       "      border-radius: 50%;\n",
       "      cursor: pointer;\n",
       "      display: none;\n",
       "      fill: #1967D2;\n",
       "      height: 32px;\n",
       "      padding: 0 0 0 0;\n",
       "      width: 32px;\n",
       "    }\n",
       "\n",
       "    .colab-df-convert:hover {\n",
       "      background-color: #E2EBFA;\n",
       "      box-shadow: 0px 1px 2px rgba(60, 64, 67, 0.3), 0px 1px 3px 1px rgba(60, 64, 67, 0.15);\n",
       "      fill: #174EA6;\n",
       "    }\n",
       "\n",
       "    [theme=dark] .colab-df-convert {\n",
       "      background-color: #3B4455;\n",
       "      fill: #D2E3FC;\n",
       "    }\n",
       "\n",
       "    [theme=dark] .colab-df-convert:hover {\n",
       "      background-color: #434B5C;\n",
       "      box-shadow: 0px 1px 3px 1px rgba(0, 0, 0, 0.15);\n",
       "      filter: drop-shadow(0px 1px 2px rgba(0, 0, 0, 0.3));\n",
       "      fill: #FFFFFF;\n",
       "    }\n",
       "  </style>\n",
       "\n",
       "      <script>\n",
       "        const buttonEl =\n",
       "          document.querySelector('#df-6d7744ae-82b9-4237-a82e-4984e26bbadb button.colab-df-convert');\n",
       "        buttonEl.style.display =\n",
       "          google.colab.kernel.accessAllowed ? 'block' : 'none';\n",
       "\n",
       "        async function convertToInteractive(key) {\n",
       "          const element = document.querySelector('#df-6d7744ae-82b9-4237-a82e-4984e26bbadb');\n",
       "          const dataTable =\n",
       "            await google.colab.kernel.invokeFunction('convertToInteractive',\n",
       "                                                     [key], {});\n",
       "          if (!dataTable) return;\n",
       "\n",
       "          const docLinkHtml = 'Like what you see? Visit the ' +\n",
       "            '<a target=\"_blank\" href=https://colab.research.google.com/notebooks/data_table.ipynb>data table notebook</a>'\n",
       "            + ' to learn more about interactive tables.';\n",
       "          element.innerHTML = '';\n",
       "          dataTable['output_type'] = 'display_data';\n",
       "          await google.colab.output.renderOutput(dataTable, element);\n",
       "          const docLink = document.createElement('div');\n",
       "          docLink.innerHTML = docLinkHtml;\n",
       "          element.appendChild(docLink);\n",
       "        }\n",
       "      </script>\n",
       "    </div>\n",
       "  </div>\n",
       "  "
      ],
      "text/plain": [
       "           Date  Close  Name\n",
       "5799 2022-01-05   0.63  ACFN\n",
       "5800 2022-01-06   0.62  ACFN\n",
       "5801 2022-01-07   0.61  ACFN\n",
       "5802 2022-01-10   0.60  ACFN\n",
       "5803 2022-01-11   0.60  ACFN"
      ]
     },
     "execution_count": 49,
     "metadata": {},
     "output_type": "execute_result"
    }
   ],
   "source": [
    "stock_test.head()"
   ]
  },
  {
   "cell_type": "markdown",
   "metadata": {
    "id": "6hPIgj6tiZox"
   },
   "source": [
    "#### Generate predictions for Back test"
   ]
  },
  {
   "cell_type": "code",
   "execution_count": null,
   "metadata": {
    "colab": {
     "base_uri": "https://localhost:8080/",
     "height": 236
    },
    "id": "XJTjENCXeLwS",
    "outputId": "f10a1571-d9b7-4d62-c649-60370d0d6ac2"
   },
   "outputs": [
    {
     "ename": "AttributeError",
     "evalue": "ignored",
     "output_type": "error",
     "traceback": [
      "\u001b[0;31m---------------------------------------------------------------------------\u001b[0m",
      "\u001b[0;31mAttributeError\u001b[0m                            Traceback (most recent call last)",
      "\u001b[0;32m<ipython-input-50-f053d8539f11>\u001b[0m in \u001b[0;36m<module>\u001b[0;34m()\u001b[0m\n\u001b[1;32m      8\u001b[0m   \u001b[0;31m# true values\u001b[0m\u001b[0;34m\u001b[0m\u001b[0;34m\u001b[0m\u001b[0;34m\u001b[0m\u001b[0m\n\u001b[1;32m      9\u001b[0m   \u001b[0my_true\u001b[0m \u001b[0;34m=\u001b[0m \u001b[0mstock_test\u001b[0m\u001b[0;34m[\u001b[0m\u001b[0mstock_test\u001b[0m\u001b[0;34m.\u001b[0m\u001b[0mName\u001b[0m \u001b[0;34m==\u001b[0m \u001b[0mtckr\u001b[0m\u001b[0;34m]\u001b[0m\u001b[0;34m.\u001b[0m\u001b[0miloc\u001b[0m\u001b[0;34m[\u001b[0m\u001b[0mwindow\u001b[0m\u001b[0;34m:\u001b[0m\u001b[0;34m,\u001b[0m\u001b[0;34m:\u001b[0m\u001b[0;34m]\u001b[0m\u001b[0;34m.\u001b[0m\u001b[0mcopy\u001b[0m\u001b[0;34m\u001b[0m\u001b[0;34m\u001b[0m\u001b[0m\n\u001b[0;32m---> 10\u001b[0;31m   \u001b[0my_true\u001b[0m \u001b[0;34m=\u001b[0m \u001b[0my_true\u001b[0m\u001b[0;34m.\u001b[0m\u001b[0mClose\u001b[0m\u001b[0;34m.\u001b[0m\u001b[0mvalues\u001b[0m\u001b[0;34m\u001b[0m\u001b[0;34m\u001b[0m\u001b[0m\n\u001b[0m\u001b[1;32m     11\u001b[0m \u001b[0;34m\u001b[0m\u001b[0m\n\u001b[1;32m     12\u001b[0m   \u001b[0mtest\u001b[0m \u001b[0;34m=\u001b[0m \u001b[0mx_test_temp\u001b[0m\u001b[0;34m.\u001b[0m\u001b[0mreshape\u001b[0m\u001b[0;34m(\u001b[0m\u001b[0;36m1\u001b[0m\u001b[0;34m,\u001b[0m\u001b[0mx_test_temp\u001b[0m\u001b[0;34m.\u001b[0m\u001b[0mshape\u001b[0m\u001b[0;34m[\u001b[0m\u001b[0;36m0\u001b[0m\u001b[0;34m]\u001b[0m\u001b[0;34m,\u001b[0m\u001b[0;36m1\u001b[0m\u001b[0;34m)\u001b[0m\u001b[0;34m\u001b[0m\u001b[0;34m\u001b[0m\u001b[0m\n",
      "\u001b[0;31mAttributeError\u001b[0m: 'function' object has no attribute 'Close'"
     ]
    }
   ],
   "source": [
    "pred_list = []\n",
    "for i, tckr in enumerate(stock_test.Name.unique()):\n",
    "  temp = stock_test[stock_test.Name == tckr].iloc[:window,:].copy()\n",
    "  x_test_temp = temp.Close.values\n",
    "  test = x_test_temp.reshape(1,x_test_temp.shape[0],1)\n",
    "  #x_test_temp, y_test_temp = single_data_build(temp)\n",
    "\n",
    "  # true values\n",
    "  temp_true = stock_test[stock_test.Name == tckr].iloc[window:,:].copy\n",
    "  y_true = temp_true.Close.values\n",
    "\n",
    "  test = x_test_temp.reshape(1,x_test_temp.shape[0],1)\n",
    "\n",
    "  pred = model.predict(test)\n",
    "\n",
    "  pred = pred[:,:horizon][0]\n",
    "  #stock = tckr\n",
    "  for i in range(horizon):\n",
    "    pred_list.append({'stock':tckr,'Date':date_list[i],'Forecasted Close':pred[i],'Actual Close':y_true[i]})\n"
   ]
  },
  {
   "cell_type": "code",
   "execution_count": null,
   "metadata": {
    "id": "0LSIBVotd2ZU"
   },
   "outputs": [],
   "source": [
    "pred_df = pd.DataFrame(pred_list)"
   ]
  },
  {
   "cell_type": "code",
   "execution_count": null,
   "metadata": {
    "id": "4HnjARESda9-"
   },
   "outputs": [],
   "source": [
    "pred_df.tail()"
   ]
  },
  {
   "cell_type": "markdown",
   "metadata": {
    "id": "Jo9brQ8Ui574"
   },
   "source": [
    "#### Generate Predictions for actual forecast"
   ]
  },
  {
   "cell_type": "code",
   "execution_count": null,
   "metadata": {
    "colab": {
     "base_uri": "https://localhost:8080/"
    },
    "id": "WS8enaZtNv5E",
    "outputId": "f795f018-77d8-45f6-c771-17c7fe4dfa86"
   },
   "outputs": [
    {
     "name": "stdout",
     "output_type": "stream",
     "text": [
      "CPU times: user 2min 50s, sys: 6.34 s, total: 2min 56s\n",
      "Wall time: 2min 46s\n"
     ]
    }
   ],
   "source": [
    "fcast_list = []\n",
    "for i, tckr in enumerate(stock_test.Name.unique()):\n",
    "  temp = stock_test[stock_test.Name == tckr].iloc[:window,:].copy()\n",
    "  x_test_temp = temp.Close.values\n",
    "  test = x_test_temp.reshape(1,x_test_temp.shape[0],1)\n",
    "  #x_test_temp, y_test_temp = single_data_build(temp)\n",
    "\n",
    "  test = x_test_temp.reshape(1,x_test_temp.shape[0],1)\n",
    "\n",
    "  pred = model.predict(test)\n",
    "\n",
    "  pred = pred[:,:horizon][0]\n",
    "  #stock = tckr\n",
    "  for i in range(horizon):\n",
    "    fcast_list.append({'stock':tckr,'Date':date_list[i],'Forecasted Close':pred[i])"
   ]
  },
  {
   "cell_type": "code",
   "execution_count": null,
   "metadata": {
    "id": "aI0PV8sMjdok"
   },
   "outputs": [],
   "source": [
    "fcast_list = pd.DataFrame(pred_list)"
   ]
  }
 ],
 "metadata": {
  "accelerator": "GPU",
  "colab": {
   "machine_shape": "hm",
   "provenance": [],
   "toc_visible": true
  },
  "kernelspec": {
   "display_name": "Python 3 (ipykernel)",
   "language": "python",
   "name": "python3"
  },
  "language_info": {
   "codemirror_mode": {
    "name": "ipython",
    "version": 3
   },
   "file_extension": ".py",
   "mimetype": "text/x-python",
   "name": "python",
   "nbconvert_exporter": "python",
   "pygments_lexer": "ipython3",
   "version": "3.7.13"
  }
 },
 "nbformat": 4,
 "nbformat_minor": 4
}
