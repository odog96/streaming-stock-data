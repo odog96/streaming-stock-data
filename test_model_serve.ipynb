{
 "cells": [
  {
   "cell_type": "code",
   "execution_count": 1,
   "id": "a15470f8-65a4-4544-835d-864dd20f3ec1",
   "metadata": {},
   "outputs": [],
   "source": [
    "import json, requests\n",
    "import pandas as pd\n",
    "import numpy as np\n",
    "import io\n",
    "import random\n",
    "import time\n",
    "\n",
    "from random import sample\n",
    "import warnings\n",
    "warnings.filterwarnings('ignore')"
   ]
  },
  {
   "cell_type": "code",
   "execution_count": 3,
   "id": "02ed6e20-bb91-421f-a2d2-424067232801",
   "metadata": {},
   "outputs": [],
   "source": [
    "from joblib import dump, load"
   ]
  },
  {
   "cell_type": "code",
   "execution_count": 5,
   "id": "e478be47-128d-4bd3-91ad-74f50d2119f8",
   "metadata": {},
   "outputs": [],
   "source": [
    "# load model\n",
    "pipe_rf = load(\"saved_models/pipe_rf.joblib\")"
   ]
  },
  {
   "cell_type": "code",
   "execution_count": 8,
   "id": "3a3040ef-9105-4e74-8252-2b5c1d04bfba",
   "metadata": {},
   "outputs": [],
   "source": [
    "# load test data\n",
    "df = pd.read_csv('test_model_input.csv')"
   ]
  },
  {
   "cell_type": "code",
   "execution_count": 25,
   "id": "6b62e6fd-35df-41cd-a979-c83e7c6cd095",
   "metadata": {},
   "outputs": [
    {
     "data": {
      "text/html": [
       "<div>\n",
       "<style scoped>\n",
       "    .dataframe tbody tr th:only-of-type {\n",
       "        vertical-align: middle;\n",
       "    }\n",
       "\n",
       "    .dataframe tbody tr th {\n",
       "        vertical-align: top;\n",
       "    }\n",
       "\n",
       "    .dataframe thead th {\n",
       "        text-align: right;\n",
       "    }\n",
       "</style>\n",
       "<table border=\"1\" class=\"dataframe\">\n",
       "  <thead>\n",
       "    <tr style=\"text-align: right;\">\n",
       "      <th></th>\n",
       "      <th>Datetime</th>\n",
       "      <th>Close</th>\n",
       "      <th>Volume</th>\n",
       "      <th>Name</th>\n",
       "      <th>return</th>\n",
       "      <th>vol</th>\n",
       "      <th>mom</th>\n",
       "      <th>sma</th>\n",
       "      <th>min</th>\n",
       "      <th>max</th>\n",
       "      <th>...</th>\n",
       "      <th>min_lag_4</th>\n",
       "      <th>min_lag_5</th>\n",
       "      <th>min_lag_6</th>\n",
       "      <th>max_lag_1</th>\n",
       "      <th>max_lag_2</th>\n",
       "      <th>max_lag_3</th>\n",
       "      <th>max_lag_4</th>\n",
       "      <th>max_lag_5</th>\n",
       "      <th>max_lag_6</th>\n",
       "      <th>direction</th>\n",
       "    </tr>\n",
       "  </thead>\n",
       "  <tbody>\n",
       "    <tr>\n",
       "      <th>0</th>\n",
       "      <td>2023-01-09 13:35:00</td>\n",
       "      <td>4801.009766</td>\n",
       "      <td>128.0</td>\n",
       "      <td>NVR</td>\n",
       "      <td>-0.000248</td>\n",
       "      <td>0.002066</td>\n",
       "      <td>-1.0</td>\n",
       "      <td>4806.449194</td>\n",
       "      <td>4795.140625</td>\n",
       "      <td>4820.000000</td>\n",
       "      <td>...</td>\n",
       "      <td>4795.140625</td>\n",
       "      <td>4795.140625</td>\n",
       "      <td>4799.000000</td>\n",
       "      <td>4820.000000</td>\n",
       "      <td>4828.270020</td>\n",
       "      <td>4828.270020</td>\n",
       "      <td>4828.270020</td>\n",
       "      <td>4828.270020</td>\n",
       "      <td>4828.270020</td>\n",
       "      <td>-1</td>\n",
       "    </tr>\n",
       "    <tr>\n",
       "      <th>1</th>\n",
       "      <td>2023-01-09 13:35:00</td>\n",
       "      <td>95.220001</td>\n",
       "      <td>6376.0</td>\n",
       "      <td>TER</td>\n",
       "      <td>-0.002779</td>\n",
       "      <td>0.001440</td>\n",
       "      <td>-1.0</td>\n",
       "      <td>95.496249</td>\n",
       "      <td>95.220001</td>\n",
       "      <td>95.720001</td>\n",
       "      <td>...</td>\n",
       "      <td>95.129997</td>\n",
       "      <td>95.050003</td>\n",
       "      <td>95.044998</td>\n",
       "      <td>95.720001</td>\n",
       "      <td>95.779999</td>\n",
       "      <td>95.779999</td>\n",
       "      <td>95.779999</td>\n",
       "      <td>95.779999</td>\n",
       "      <td>95.779999</td>\n",
       "      <td>-1</td>\n",
       "    </tr>\n",
       "    <tr>\n",
       "      <th>2</th>\n",
       "      <td>2023-01-09 13:35:00</td>\n",
       "      <td>71.900002</td>\n",
       "      <td>18195.0</td>\n",
       "      <td>MET</td>\n",
       "      <td>-0.001251</td>\n",
       "      <td>0.001000</td>\n",
       "      <td>-1.0</td>\n",
       "      <td>72.375500</td>\n",
       "      <td>71.900002</td>\n",
       "      <td>72.660004</td>\n",
       "      <td>...</td>\n",
       "      <td>72.120003</td>\n",
       "      <td>72.120003</td>\n",
       "      <td>72.205002</td>\n",
       "      <td>72.660004</td>\n",
       "      <td>72.660004</td>\n",
       "      <td>72.660004</td>\n",
       "      <td>72.660004</td>\n",
       "      <td>72.660004</td>\n",
       "      <td>72.660004</td>\n",
       "      <td>-1</td>\n",
       "    </tr>\n",
       "    <tr>\n",
       "      <th>3</th>\n",
       "      <td>2023-01-09 13:35:00</td>\n",
       "      <td>60.910000</td>\n",
       "      <td>50570.0</td>\n",
       "      <td>CTSH</td>\n",
       "      <td>-0.003442</td>\n",
       "      <td>0.001563</td>\n",
       "      <td>-1.0</td>\n",
       "      <td>60.808610</td>\n",
       "      <td>60.590000</td>\n",
       "      <td>61.139999</td>\n",
       "      <td>...</td>\n",
       "      <td>60.590000</td>\n",
       "      <td>60.590000</td>\n",
       "      <td>60.590000</td>\n",
       "      <td>61.139999</td>\n",
       "      <td>61.139999</td>\n",
       "      <td>61.060001</td>\n",
       "      <td>61.040001</td>\n",
       "      <td>61.040001</td>\n",
       "      <td>61.040001</td>\n",
       "      <td>-1</td>\n",
       "    </tr>\n",
       "    <tr>\n",
       "      <th>4</th>\n",
       "      <td>2023-01-09 13:35:00</td>\n",
       "      <td>412.540009</td>\n",
       "      <td>8610.0</td>\n",
       "      <td>KLAC</td>\n",
       "      <td>-0.002977</td>\n",
       "      <td>0.001480</td>\n",
       "      <td>-1.0</td>\n",
       "      <td>414.536813</td>\n",
       "      <td>412.540009</td>\n",
       "      <td>416.329987</td>\n",
       "      <td>...</td>\n",
       "      <td>412.959991</td>\n",
       "      <td>412.959991</td>\n",
       "      <td>412.959991</td>\n",
       "      <td>416.480011</td>\n",
       "      <td>416.739990</td>\n",
       "      <td>416.739990</td>\n",
       "      <td>416.739990</td>\n",
       "      <td>416.739990</td>\n",
       "      <td>416.739990</td>\n",
       "      <td>-1</td>\n",
       "    </tr>\n",
       "  </tbody>\n",
       "</table>\n",
       "<p>5 rows × 47 columns</p>\n",
       "</div>"
      ],
      "text/plain": [
       "              Datetime        Close   Volume  Name    return       vol  mom  \\\n",
       "0  2023-01-09 13:35:00  4801.009766    128.0   NVR -0.000248  0.002066 -1.0   \n",
       "1  2023-01-09 13:35:00    95.220001   6376.0   TER -0.002779  0.001440 -1.0   \n",
       "2  2023-01-09 13:35:00    71.900002  18195.0   MET -0.001251  0.001000 -1.0   \n",
       "3  2023-01-09 13:35:00    60.910000  50570.0  CTSH -0.003442  0.001563 -1.0   \n",
       "4  2023-01-09 13:35:00   412.540009   8610.0  KLAC -0.002977  0.001480 -1.0   \n",
       "\n",
       "           sma          min          max  ...    min_lag_4    min_lag_5  \\\n",
       "0  4806.449194  4795.140625  4820.000000  ...  4795.140625  4795.140625   \n",
       "1    95.496249    95.220001    95.720001  ...    95.129997    95.050003   \n",
       "2    72.375500    71.900002    72.660004  ...    72.120003    72.120003   \n",
       "3    60.808610    60.590000    61.139999  ...    60.590000    60.590000   \n",
       "4   414.536813   412.540009   416.329987  ...   412.959991   412.959991   \n",
       "\n",
       "     min_lag_6    max_lag_1    max_lag_2    max_lag_3    max_lag_4  \\\n",
       "0  4799.000000  4820.000000  4828.270020  4828.270020  4828.270020   \n",
       "1    95.044998    95.720001    95.779999    95.779999    95.779999   \n",
       "2    72.205002    72.660004    72.660004    72.660004    72.660004   \n",
       "3    60.590000    61.139999    61.139999    61.060001    61.040001   \n",
       "4   412.959991   416.480011   416.739990   416.739990   416.739990   \n",
       "\n",
       "     max_lag_5    max_lag_6  direction  \n",
       "0  4828.270020  4828.270020         -1  \n",
       "1    95.779999    95.779999         -1  \n",
       "2    72.660004    72.660004         -1  \n",
       "3    61.040001    61.040001         -1  \n",
       "4   416.739990   416.739990         -1  \n",
       "\n",
       "[5 rows x 47 columns]"
      ]
     },
     "execution_count": 25,
     "metadata": {},
     "output_type": "execute_result"
    }
   ],
   "source": [
    "df.head()"
   ]
  },
  {
   "cell_type": "code",
   "execution_count": 17,
   "id": "14b786c9-66c1-4a10-8d89-7e1dcd43c5c4",
   "metadata": {},
   "outputs": [],
   "source": [
    "features = ['return', 'vol', 'mom', 'sma', 'min', 'max']  \n",
    "lags = 6"
   ]
  },
  {
   "cell_type": "code",
   "execution_count": 19,
   "id": "ba0fda3e-2a14-40c3-abe3-21f40dedc656",
   "metadata": {},
   "outputs": [],
   "source": [
    "cols = []\n",
    "for f in features:\n",
    "  for lag in range(1, lags + 1):\n",
    "    col = f'{f}_lag_{lag}'\n",
    "    cols.append(col)"
   ]
  },
  {
   "cell_type": "code",
   "execution_count": null,
   "id": "36fe874d-278d-4fef-93ae-6eeed5b04ac8",
   "metadata": {},
   "outputs": [],
   "source": [
    "# convert all\n",
    "str_df = df.copy()\n",
    "for col in str_df.columns:\n",
    "    str_df[col] = str_df[col\n",
    "\n",
    "df['Marks'] = df['Marks'].astype(str)"
   ]
  },
  {
   "cell_type": "code",
   "execution_count": 24,
   "id": "5a90c69c-5c6c-4353-8e39-eaeb5cb787ba",
   "metadata": {},
   "outputs": [
    {
     "data": {
      "text/plain": [
       "[{'return_lag_1': -0.0021425126979011,\n",
       "  'return_lag_2': 0.0011643342299438,\n",
       "  'return_lag_3': 0.0005597566804979,\n",
       "  'return_lag_4': 0.0018895733736993,\n",
       "  'return_lag_5': -0.0014294624692999,\n",
       "  'return_lag_6': 0.0001499935149684,\n",
       "  'vol_lag_1': 0.0021610100401411,\n",
       "  'vol_lag_2': 0.0022901628748157,\n",
       "  'vol_lag_3': 0.0022798462625308,\n",
       "  'vol_lag_4': 0.0023072489270228,\n",
       "  'vol_lag_5': 0.0022711289934632,\n",
       "  'vol_lag_6': 0.002332806971207,\n",
       "  'mom_lag_1': -1.0,\n",
       "  'mom_lag_2': 1.0,\n",
       "  'mom_lag_3': -1.0,\n",
       "  'mom_lag_4': 1.0,\n",
       "  'mom_lag_5': -1.0,\n",
       "  'mom_lag_6': -1.0,\n",
       "  'sma_lag_1': 4807.098706054688,\n",
       "  'sma_lag_2': 4808.402197265625,\n",
       "  'sma_lag_3': 4808.28720703125,\n",
       "  'sma_lag_4': 4808.2912109375,\n",
       "  'sma_lag_5': 4808.030712890625,\n",
       "  'sma_lag_6': 4808.390307617187,\n",
       "  'min_lag_1': 4795.140625,\n",
       "  'min_lag_2': 4795.140625,\n",
       "  'min_lag_3': 4795.140625,\n",
       "  'min_lag_4': 4795.140625,\n",
       "  'min_lag_5': 4795.140625,\n",
       "  'min_lag_6': 4799.0,\n",
       "  'max_lag_1': 4820.0,\n",
       "  'max_lag_2': 4828.27001953125,\n",
       "  'max_lag_3': 4828.27001953125,\n",
       "  'max_lag_4': 4828.27001953125,\n",
       "  'max_lag_5': 4828.27001953125,\n",
       "  'max_lag_6': 4828.27001953125}]"
      ]
     },
     "execution_count": 24,
     "metadata": {},
     "output_type": "execute_result"
    }
   ],
   "source": [
    "df.head(1)[cols].to_dict('records')"
   ]
  },
  {
   "cell_type": "code",
   "execution_count": null,
   "id": "57d5ea8a-bed3-4429-9d26-24d02e0518d3",
   "metadata": {},
   "outputs": [],
   "source": [
    "input_example_dict = input_example.to_dict('series')"
   ]
  },
  {
   "cell_type": "markdown",
   "id": "8d8f28ad-04dd-4b62-8d0a-99d968e5d671",
   "metadata": {},
   "source": [
    "### Model Prediction"
   ]
  },
  {
   "cell_type": "code",
   "execution_count": 27,
   "id": "b2830e16-df0e-4488-a03e-8a50b627969f",
   "metadata": {},
   "outputs": [],
   "source": [
    "result = pipe_rf.predict(df[cols])"
   ]
  },
  {
   "cell_type": "code",
   "execution_count": 29,
   "id": "ee04ff43-55ec-4b6c-a090-ce95a337cb8a",
   "metadata": {},
   "outputs": [
    {
     "data": {
      "text/plain": [
       "array([-1,  1, -1,  1,  1,  1,  1,  1, -1, -1])"
      ]
     },
     "execution_count": 29,
     "metadata": {},
     "output_type": "execute_result"
    }
   ],
   "source": [
    "result"
   ]
  },
  {
   "cell_type": "code",
   "execution_count": null,
   "id": "0c401d18-b006-406b-8961-e493fdf519e5",
   "metadata": {},
   "outputs": [],
   "source": []
  }
 ],
 "metadata": {
  "kernelspec": {
   "display_name": "Python 3 (ipykernel)",
   "language": "python",
   "name": "python3"
  },
  "language_info": {
   "codemirror_mode": {
    "name": "ipython",
    "version": 3
   },
   "file_extension": ".py",
   "mimetype": "text/x-python",
   "name": "python",
   "nbconvert_exporter": "python",
   "pygments_lexer": "ipython3",
   "version": "3.7.13"
  }
 },
 "nbformat": 4,
 "nbformat_minor": 5
}
