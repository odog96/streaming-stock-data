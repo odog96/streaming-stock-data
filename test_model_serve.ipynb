{
 "cells": [
  {
   "cell_type": "code",
   "execution_count": null,
   "id": "a15470f8-65a4-4544-835d-864dd20f3ec1",
   "metadata": {},
   "outputs": [],
   "source": [
    "import json, requests\n",
    "import pandas as pd\n",
    "import numpy as np\n",
    "import io\n",
    "import random\n",
    "import time\n",
    "from sklearn.pipeline import make_pipeline\n",
    "\n",
    "from joblib import dump, load\n",
    "\n",
    "from random import sample\n",
    "import warnings\n",
    "warnings.filterwarnings('ignore')"
   ]
  },
  {
   "cell_type": "markdown",
   "id": "0a29f864-0bb7-4470-b0d9-d9ac99c01223",
   "metadata": {},
   "source": [
    "**Get test data**"
   ]
  },
  {
   "cell_type": "code",
   "execution_count": 2,
   "id": "3a3040ef-9105-4e74-8252-2b5c1d04bfba",
   "metadata": {},
   "outputs": [],
   "source": [
    "# load test data\n",
    "df = pd.read_csv('test_model_input.csv')\n",
    "# create column set\n",
    "features = ['return', 'vol', 'mom', 'sma', 'min', 'max']  \n",
    "lags = 6\n",
    "\n",
    "cols = []\n",
    "for f in features:\n",
    "  for lag in range(1, lags + 1):\n",
    "    col = f'{f}_lag_{lag}'\n",
    "    cols.append(col)"
   ]
  },
  {
   "cell_type": "markdown",
   "id": "bdf18984-efe5-41ee-8b49-6ec84e790bb4",
   "metadata": {},
   "source": [
    "### Automate the dictionary build"
   ]
  },
  {
   "cell_type": "code",
   "execution_count": 199,
   "id": "3255b38c-5c02-4251-ad67-de3190249e89",
   "metadata": {},
   "outputs": [],
   "source": [
    "# Model - new model- \n",
    "model_url = 'https://modelservice.ml-6e89be47-314.loki-cdp.a465-9q4k.cloudera.site/model'\n",
    "accessKey = 'm11sdyxpwyfdnbe1cf45keu9q260j765'"
   ]
  },
  {
   "cell_type": "markdown",
   "id": "e6e26aad-0753-4111-98a2-d4476e6a19ee",
   "metadata": {},
   "source": [
    "input data frame is df"
   ]
  },
  {
   "cell_type": "code",
   "execution_count": 215,
   "id": "5b0b0b99-f06c-4483-815c-a82899d77c9a",
   "metadata": {},
   "outputs": [],
   "source": [
    "# build input for api into dictionary w/ values as a list\n",
    "input_data_mult = dict()\n",
    "for col in cols:\n",
    "    input_data_mult[col] = df[col].to_list()    \n",
    "    \n",
    "# build embedded dictionary step 1    \n",
    "request_dict = {\"request\":input_data_mult}\n",
    "\n",
    "# access key will be end point specific\n",
    "BackDict = {\"accessKey\":accessKey}\n",
    "BackDict.update(request_dict)\n",
    "request_dict=BackDict"
   ]
  },
  {
   "cell_type": "code",
   "execution_count": 222,
   "id": "2a15cd09-9ef5-4495-acac-6793db3069b2",
   "metadata": {},
   "outputs": [],
   "source": [
    "r9 = requests.post(model_url, data=json.dumps(request_dict),headers={'Content-Type': 'application/json'})"
   ]
  },
  {
   "cell_type": "code",
   "execution_count": 223,
   "id": "3535c8f6-9b72-4ba5-872b-67129f0fbc0a",
   "metadata": {},
   "outputs": [
    {
     "data": {
      "text/plain": [
       "{'success': True,\n",
       " 'response': {'model_deployment_crn': 'crn:cdp:ml:us-west-1:558bc1d2-8867-4357-8524-311d51259233:workspace:61120f1b-0e6a-483d-a73d-6594c1f7ae6f/1dffefd1-084b-43f0-acf9-eaf1b569f00c',\n",
       "  'prediction': [-1, 1, -1, 1, 1, 1, 1, 1, -1, -1],\n",
       "  'uuid': '572ffe0f-7609-40b1-bf66-d8fbf84d9adb'},\n",
       " 'ReplicaID': 'rf-direction-3-7-11-7b5957fc5d-m58vp',\n",
       " 'Size': 281,\n",
       " 'StatusCode': 200}"
      ]
     },
     "execution_count": 223,
     "metadata": {},
     "output_type": "execute_result"
    }
   ],
   "source": [
    "r9.json()"
   ]
  },
  {
   "cell_type": "code",
   "execution_count": 224,
   "id": "aedccb7f-582a-4421-b92f-c76989745215",
   "metadata": {},
   "outputs": [
    {
     "data": {
      "text/plain": [
       "{'model_deployment_crn': 'crn:cdp:ml:us-west-1:558bc1d2-8867-4357-8524-311d51259233:workspace:61120f1b-0e6a-483d-a73d-6594c1f7ae6f/1dffefd1-084b-43f0-acf9-eaf1b569f00c',\n",
       " 'prediction': [-1, 1, -1, 1, 1, 1, 1, 1, -1, -1],\n",
       " 'uuid': '572ffe0f-7609-40b1-bf66-d8fbf84d9adb'}"
      ]
     },
     "execution_count": 224,
     "metadata": {},
     "output_type": "execute_result"
    }
   ],
   "source": [
    "r9.json()['response']"
   ]
  },
  {
   "cell_type": "markdown",
   "id": "f3e51e96-5ecf-4ea8-8a7e-fe130e351c46",
   "metadata": {},
   "source": [
    "request_dict.keys()"
   ]
  },
  {
   "cell_type": "code",
   "execution_count": 225,
   "id": "fbc8ccf5-0c57-4345-8eed-6ef4621c51c1",
   "metadata": {},
   "outputs": [
    {
     "data": {
      "text/plain": [
       "[-1, 1, -1, 1, 1, 1, 1, 1, -1, -1]"
      ]
     },
     "execution_count": 225,
     "metadata": {},
     "output_type": "execute_result"
    }
   ],
   "source": [
    "r9.json()['response']['prediction']"
   ]
  },
  {
   "cell_type": "code",
   "execution_count": 226,
   "id": "89bb0684-e2b4-4312-ad94-cc1a1a4ab3e0",
   "metadata": {},
   "outputs": [
    {
     "data": {
      "text/plain": [
       "0     NVR\n",
       "1     TER\n",
       "2     MET\n",
       "3    CTSH\n",
       "4    KLAC\n",
       "5    CSGP\n",
       "6     ETN\n",
       "7     IEX\n",
       "8    AAPL\n",
       "9     DAL\n",
       "Name: Name, dtype: object"
      ]
     },
     "execution_count": 226,
     "metadata": {},
     "output_type": "execute_result"
    }
   ],
   "source": [
    "df.Name"
   ]
  }
 ],
 "metadata": {
  "kernelspec": {
   "display_name": "Python 3 (ipykernel)",
   "language": "python",
   "name": "python3"
  },
  "language_info": {
   "codemirror_mode": {
    "name": "ipython",
    "version": 3
   },
   "file_extension": ".py",
   "mimetype": "text/x-python",
   "name": "python",
   "nbconvert_exporter": "python",
   "pygments_lexer": "ipython3",
   "version": "3.9.11"
  }
 },
 "nbformat": 4,
 "nbformat_minor": 5
}
