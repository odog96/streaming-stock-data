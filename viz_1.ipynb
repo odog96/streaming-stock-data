{
 "cells": [
  {
   "cell_type": "markdown",
   "id": "23a37523-0b52-4ad7-851c-d5d715787f83",
   "metadata": {},
   "source": [
    "## Visualizations<br>\n",
    "catalog:<br>\n",
    "1. Forecast based visuals\n",
    "2. Past returns vs. Future expected\n",
    "3. Return vs volatility\n",
    "4. Best and worst buys (bar Chart) of returns ( top 10 / bottom 10)\n",
    "5. Technical Analysis - line chart SMA50 / SMA200 by symbol ( add buy /sell signals)\n",
    "6. Technical Analysis - buy/sell/hold by stock "
   ]
  },
  {
   "cell_type": "code",
   "execution_count": 3,
   "id": "c97a077a-5ee9-4120-bd11-ad870b20ad55",
   "metadata": {},
   "outputs": [],
   "source": [
    "import cml.data_v1 as cmldata\n",
    "import os\n",
    "import json, requests\n",
    "from joblib import dump, load\n",
    "\n",
    "import matplotlib as mlab\n",
    "import matplotlib.pyplot as plt\n",
    "import seaborn as sns \n",
    "import time\n",
    "import math\n",
    "import pandas as pd\n",
    "import numpy as np"
   ]
  },
  {
   "cell_type": "code",
   "execution_count": 4,
   "id": "ebf021be-eafc-457a-b19d-85765ae8e401",
   "metadata": {},
   "outputs": [],
   "source": [
    "CONNECTION_NAME = \"loki-rtdm\"\n",
    "# ## Sample Usage to get pandas data frame\n",
    "EXAMPLE_SQL_QUERY = \"show databases\"\n",
    "# Alternate Sample Usage to provide different credentials as optional parameters\n",
    "conn = cmldata.get_connection(\n",
    "   CONNECTION_NAME, {\"USERNAME\": os.environ['PROJECT_OWNER'], \"PASSWORD\": \"D83j8TNG#PS#jAQ\"}\n",
    ")"
   ]
  },
  {
   "cell_type": "markdown",
   "id": "568979c6-ee68-44d9-9688-a47c798b48a1",
   "metadata": {},
   "source": [
    "**Get Data**"
   ]
  },
  {
   "cell_type": "code",
   "execution_count": 5,
   "id": "52094420-8cc6-47b2-a835-7b5712fdaecd",
   "metadata": {},
   "outputs": [],
   "source": [
    "get_sample_data = \"select * from loki_stocks.stock_history \\\n",
    "where symbol_time > '2022-12-18'\"\n",
    "df = conn.get_pandas_dataframe(get_sample_data)\n",
    "\n",
    "df.drop(['last_refreshed','information'],axis=1,inplace=True)"
   ]
  },
  {
   "cell_type": "code",
   "execution_count": 6,
   "id": "9fa038fb-3068-4c3b-b9c4-25cea3543424",
   "metadata": {},
   "outputs": [
    {
     "data": {
      "text/plain": [
       "(660, 7)"
      ]
     },
     "execution_count": 6,
     "metadata": {},
     "output_type": "execute_result"
    }
   ],
   "source": [
    "# symbol of top 10 tickers with most observations\n",
    "tck_keep_list = df.groupby('symbol').size().sort_values().tail(10).reset_index().symbol.tolist()\n",
    "# create a df with last 100 time stamps\n",
    "df_light = df[df.symbol.isin(tck_keep_list)].copy()\n",
    "\n",
    "window_begin = df_light.symbol_time.drop_duplicates().sort_values().tail(100).min()\n",
    "\n",
    "df_light = df_light[df_light.symbol_time >= window_begin].copy()\n",
    "df_light.shape"
   ]
  },
  {
   "cell_type": "code",
   "execution_count": 7,
   "id": "ea3ad167-a4d5-4648-98ab-fad12c8e9d4e",
   "metadata": {},
   "outputs": [
    {
     "data": {
      "text/plain": [
       "array(['SYF', 'GOOGL', 'AMZN', 'HWM', 'TSLA', 'NVDA', 'KEY', 'MOS',\n",
       "       'SWKS'], dtype=object)"
      ]
     },
     "execution_count": 7,
     "metadata": {},
     "output_type": "execute_result"
    }
   ],
   "source": [
    "df_light.symbol.unique()"
   ]
  },
  {
   "cell_type": "code",
   "execution_count": 9,
   "id": "95140f6e-94a0-4135-bff7-2721b36f27b1",
   "metadata": {},
   "outputs": [],
   "source": [
    "# df_light.tail()"
   ]
  },
  {
   "cell_type": "markdown",
   "id": "618fa168-ba80-4521-a40c-cb643a1538f9",
   "metadata": {},
   "source": [
    "#### Forecast Visual\n",
    "hit model with all stocks"
   ]
  },
  {
   "cell_type": "code",
   "execution_count": 10,
   "id": "f25faacf-3051-4b1d-ab17-d66064f33b4c",
   "metadata": {},
   "outputs": [],
   "source": [
    "model_url = 'https://modelservice.ml-92202c44-d46.loki-cdp.a465-9q4k.cloudera.site/model'\n",
    "accessKey = 'm45a083on9okf24psw58d0v8j6ht6w3u'"
   ]
  },
  {
   "cell_type": "code",
   "execution_count": 11,
   "id": "ac9a6cff-6367-4cf1-b3bb-77375a1d5c59",
   "metadata": {},
   "outputs": [],
   "source": [
    "cols = ['symbol', 'symbol_time','close', 'volume']"
   ]
  },
  {
   "cell_type": "code",
   "execution_count": 12,
   "id": "abf5db51-d2fd-44b7-b1d9-af46de1cf62e",
   "metadata": {},
   "outputs": [],
   "source": [
    "input_data_mult = dict()\n",
    "for col in cols:\n",
    "    input_data_mult[col] = df_light[col].to_list()    \n",
    "    \n",
    "# build embedded dictionary step 1    \n",
    "request_dict = {\"request\":input_data_mult}\n",
    "\n",
    "# access key will be end point specific\n",
    "BackDict = {\"accessKey\":accessKey}\n",
    "BackDict.update(request_dict)\n",
    "request_dict=BackDict"
   ]
  },
  {
   "cell_type": "code",
   "execution_count": 13,
   "id": "fa1e00a5-c142-4214-b1d2-6a4b25ce9b22",
   "metadata": {},
   "outputs": [
    {
     "name": "stdout",
     "output_type": "stream",
     "text": [
      "CPU times: user 9.18 ms, sys: 3.74 ms, total: 12.9 ms\n",
      "Wall time: 163 ms\n"
     ]
    }
   ],
   "source": [
    "%%time\n",
    "r = requests.post(model_url, data=json.dumps(request_dict),headers={'Content-Type': 'application/json'})"
   ]
  },
  {
   "cell_type": "code",
   "execution_count": 14,
   "id": "7c417e3f-38ca-47bd-9780-611d917883eb",
   "metadata": {},
   "outputs": [],
   "source": [
    "response = r.json()['response']['prediction']"
   ]
  },
  {
   "cell_type": "code",
   "execution_count": 15,
   "id": "0147da99-bbfc-4a40-8f15-2d5eec263a5c",
   "metadata": {},
   "outputs": [],
   "source": [
    "test_df = pd.DataFrame.from_dict(response)"
   ]
  },
  {
   "cell_type": "code",
   "execution_count": 16,
   "id": "b36c3960-e386-4b2d-b0eb-f4e1b26ba049",
   "metadata": {},
   "outputs": [
    {
     "data": {
      "text/html": [
       "<div>\n",
       "<style scoped>\n",
       "    .dataframe tbody tr th:only-of-type {\n",
       "        vertical-align: middle;\n",
       "    }\n",
       "\n",
       "    .dataframe tbody tr th {\n",
       "        vertical-align: top;\n",
       "    }\n",
       "\n",
       "    .dataframe thead th {\n",
       "        text-align: right;\n",
       "    }\n",
       "</style>\n",
       "<table border=\"1\" class=\"dataframe\">\n",
       "  <thead>\n",
       "    <tr style=\"text-align: right;\">\n",
       "      <th></th>\n",
       "      <th>pred_time</th>\n",
       "      <th>prediction</th>\n",
       "      <th>symbol</th>\n",
       "    </tr>\n",
       "  </thead>\n",
       "  <tbody>\n",
       "    <tr>\n",
       "      <th>0</th>\n",
       "      <td>2022-12-22 20:00:00</td>\n",
       "      <td>[32.3353157043457, 32.33622360229492, 32.33319...</td>\n",
       "      <td>SYF</td>\n",
       "    </tr>\n",
       "    <tr>\n",
       "      <th>1</th>\n",
       "      <td>2022-12-22 20:00:00</td>\n",
       "      <td>[87.56707763671875, 87.5639419555664, 87.55883...</td>\n",
       "      <td>GOOGL</td>\n",
       "    </tr>\n",
       "    <tr>\n",
       "      <th>2</th>\n",
       "      <td>2022-12-22 20:00:00</td>\n",
       "      <td>[83.3201675415039, 83.31318664550781, 83.30554...</td>\n",
       "      <td>AMZN</td>\n",
       "    </tr>\n",
       "    <tr>\n",
       "      <th>3</th>\n",
       "      <td>2022-12-22 20:00:00</td>\n",
       "      <td>[38.53777313232422, 38.538307189941406, 38.534...</td>\n",
       "      <td>HWM</td>\n",
       "    </tr>\n",
       "    <tr>\n",
       "      <th>4</th>\n",
       "      <td>2022-12-22 20:00:00</td>\n",
       "      <td>[126.91903686523438, 126.89751434326172, 126.8...</td>\n",
       "      <td>TSLA</td>\n",
       "    </tr>\n",
       "  </tbody>\n",
       "</table>\n",
       "</div>"
      ],
      "text/plain": [
       "             pred_time                                         prediction  \\\n",
       "0  2022-12-22 20:00:00  [32.3353157043457, 32.33622360229492, 32.33319...   \n",
       "1  2022-12-22 20:00:00  [87.56707763671875, 87.5639419555664, 87.55883...   \n",
       "2  2022-12-22 20:00:00  [83.3201675415039, 83.31318664550781, 83.30554...   \n",
       "3  2022-12-22 20:00:00  [38.53777313232422, 38.538307189941406, 38.534...   \n",
       "4  2022-12-22 20:00:00  [126.91903686523438, 126.89751434326172, 126.8...   \n",
       "\n",
       "  symbol  \n",
       "0    SYF  \n",
       "1  GOOGL  \n",
       "2   AMZN  \n",
       "3    HWM  \n",
       "4   TSLA  "
      ]
     },
     "execution_count": 16,
     "metadata": {},
     "output_type": "execute_result"
    }
   ],
   "source": [
    "test_df.head()"
   ]
  },
  {
   "cell_type": "code",
   "execution_count": 17,
   "id": "e605fb9e-5112-4079-901c-1fb92aa01473",
   "metadata": {},
   "outputs": [],
   "source": [
    "column_list = []\n",
    "for i in range(1,13):\n",
    "    col = 'f_'+str(i)\n",
    "    column_list.append(col)\n",
    "    \n",
    "pred_df = pd.DataFrame(columns=column_list)\n",
    "for i in range(len(test_df)):\n",
    "    pred_df.loc[i] = test_df.iloc[i,1]"
   ]
  },
  {
   "cell_type": "code",
   "execution_count": 18,
   "id": "3f73bda8-8f6a-4802-8004-8f385c78a492",
   "metadata": {},
   "outputs": [
    {
     "data": {
      "text/html": [
       "<div>\n",
       "<style scoped>\n",
       "    .dataframe tbody tr th:only-of-type {\n",
       "        vertical-align: middle;\n",
       "    }\n",
       "\n",
       "    .dataframe tbody tr th {\n",
       "        vertical-align: top;\n",
       "    }\n",
       "\n",
       "    .dataframe thead th {\n",
       "        text-align: right;\n",
       "    }\n",
       "</style>\n",
       "<table border=\"1\" class=\"dataframe\">\n",
       "  <thead>\n",
       "    <tr style=\"text-align: right;\">\n",
       "      <th></th>\n",
       "      <th>f_1</th>\n",
       "      <th>f_2</th>\n",
       "      <th>f_3</th>\n",
       "      <th>f_4</th>\n",
       "      <th>f_5</th>\n",
       "      <th>f_6</th>\n",
       "      <th>f_7</th>\n",
       "      <th>f_8</th>\n",
       "      <th>f_9</th>\n",
       "      <th>f_10</th>\n",
       "      <th>f_11</th>\n",
       "      <th>f_12</th>\n",
       "    </tr>\n",
       "  </thead>\n",
       "  <tbody>\n",
       "    <tr>\n",
       "      <th>0</th>\n",
       "      <td>32.335316</td>\n",
       "      <td>32.336224</td>\n",
       "      <td>32.333191</td>\n",
       "      <td>32.337585</td>\n",
       "      <td>32.329288</td>\n",
       "      <td>32.336529</td>\n",
       "      <td>32.335209</td>\n",
       "      <td>32.331589</td>\n",
       "      <td>32.345909</td>\n",
       "      <td>32.342384</td>\n",
       "      <td>32.343513</td>\n",
       "      <td>32.342545</td>\n",
       "    </tr>\n",
       "    <tr>\n",
       "      <th>1</th>\n",
       "      <td>87.567078</td>\n",
       "      <td>87.563942</td>\n",
       "      <td>87.558830</td>\n",
       "      <td>87.571220</td>\n",
       "      <td>87.551086</td>\n",
       "      <td>87.565216</td>\n",
       "      <td>87.556641</td>\n",
       "      <td>87.551117</td>\n",
       "      <td>87.576363</td>\n",
       "      <td>87.566795</td>\n",
       "      <td>87.564148</td>\n",
       "      <td>87.565453</td>\n",
       "    </tr>\n",
       "    <tr>\n",
       "      <th>2</th>\n",
       "      <td>83.320168</td>\n",
       "      <td>83.313187</td>\n",
       "      <td>83.305542</td>\n",
       "      <td>83.315308</td>\n",
       "      <td>83.292313</td>\n",
       "      <td>83.301811</td>\n",
       "      <td>83.290047</td>\n",
       "      <td>83.283310</td>\n",
       "      <td>83.301376</td>\n",
       "      <td>83.291756</td>\n",
       "      <td>83.286354</td>\n",
       "      <td>83.285835</td>\n",
       "    </tr>\n",
       "    <tr>\n",
       "      <th>3</th>\n",
       "      <td>38.537773</td>\n",
       "      <td>38.538307</td>\n",
       "      <td>38.534782</td>\n",
       "      <td>38.540215</td>\n",
       "      <td>38.531067</td>\n",
       "      <td>38.539101</td>\n",
       "      <td>38.537384</td>\n",
       "      <td>38.533398</td>\n",
       "      <td>38.549934</td>\n",
       "      <td>38.545940</td>\n",
       "      <td>38.546986</td>\n",
       "      <td>38.546383</td>\n",
       "    </tr>\n",
       "    <tr>\n",
       "      <th>4</th>\n",
       "      <td>126.919037</td>\n",
       "      <td>126.897514</td>\n",
       "      <td>126.870552</td>\n",
       "      <td>126.899818</td>\n",
       "      <td>126.846985</td>\n",
       "      <td>126.822144</td>\n",
       "      <td>126.831146</td>\n",
       "      <td>126.782318</td>\n",
       "      <td>126.806648</td>\n",
       "      <td>126.785934</td>\n",
       "      <td>126.796211</td>\n",
       "      <td>126.791107</td>\n",
       "    </tr>\n",
       "  </tbody>\n",
       "</table>\n",
       "</div>"
      ],
      "text/plain": [
       "          f_1         f_2         f_3         f_4         f_5         f_6  \\\n",
       "0   32.335316   32.336224   32.333191   32.337585   32.329288   32.336529   \n",
       "1   87.567078   87.563942   87.558830   87.571220   87.551086   87.565216   \n",
       "2   83.320168   83.313187   83.305542   83.315308   83.292313   83.301811   \n",
       "3   38.537773   38.538307   38.534782   38.540215   38.531067   38.539101   \n",
       "4  126.919037  126.897514  126.870552  126.899818  126.846985  126.822144   \n",
       "\n",
       "          f_7         f_8         f_9        f_10        f_11        f_12  \n",
       "0   32.335209   32.331589   32.345909   32.342384   32.343513   32.342545  \n",
       "1   87.556641   87.551117   87.576363   87.566795   87.564148   87.565453  \n",
       "2   83.290047   83.283310   83.301376   83.291756   83.286354   83.285835  \n",
       "3   38.537384   38.533398   38.549934   38.545940   38.546986   38.546383  \n",
       "4  126.831146  126.782318  126.806648  126.785934  126.796211  126.791107  "
      ]
     },
     "execution_count": 18,
     "metadata": {},
     "output_type": "execute_result"
    }
   ],
   "source": [
    "pred_df.head()"
   ]
  },
  {
   "cell_type": "code",
   "execution_count": 19,
   "id": "c88acfd2-48e6-4a13-ada9-ef3ff88a2616",
   "metadata": {},
   "outputs": [],
   "source": [
    "df_out = pd.concat([test_df,pred_df],axis=1).drop(['prediction'],axis=1)"
   ]
  },
  {
   "cell_type": "code",
   "execution_count": 20,
   "id": "4284f514-cd51-498f-82b0-9c9889843eeb",
   "metadata": {},
   "outputs": [],
   "source": [
    "# we need to add most recent price from history to df\n",
    "last_price = []\n",
    "for i,tckr in enumerate(df_light.symbol.unique()):\n",
    "    temp = df_light[df_light.symbol == tckr].copy()\n",
    "    temp = temp.sort_values('symbol_time').tail(1)\n",
    "    #print('symbol ',tckr,'date ',temp.symbol_time.values[0],' close price ', temp.close.values[0])\n",
    "    last_price.append(temp.close.values[0])"
   ]
  },
  {
   "cell_type": "code",
   "execution_count": 21,
   "id": "3061fd57-7a8e-4aac-8453-00134ab3a39e",
   "metadata": {},
   "outputs": [],
   "source": [
    "df_out['f_0'] = last_price"
   ]
  },
  {
   "cell_type": "code",
   "execution_count": 23,
   "id": "17049e14-f850-4da2-b5da-f995c37b6d6d",
   "metadata": {},
   "outputs": [],
   "source": [
    "# need to reorder the columns\n",
    "df_out = df_out[['pred_time', 'symbol', 'f_0', 'f_1', 'f_2', 'f_3', 'f_4', 'f_5', 'f_6', 'f_7',\n",
    "       'f_8', 'f_9', 'f_10', 'f_11', 'f_12']]"
   ]
  },
  {
   "cell_type": "code",
   "execution_count": 24,
   "id": "338ab0b8-83c5-47d1-bff9-0cc5d3dd3bf6",
   "metadata": {},
   "outputs": [],
   "source": [
    "# create a return list\n",
    "column_return_list = []\n",
    "for i in range(1,13):\n",
    "    col = 'ret_'+str(i)\n",
    "    column_return_list.append(col)\n",
    "# create an independent return df, will be concatenated with main df down below\n",
    "return_df = pd.DataFrame(columns=column_return_list)\n",
    "for i in range(len(df_out)):\n",
    "    return_df.loc[i] = (df_out.loc[i][2:].pct_change()[1:].cumsum().apply(np.exp)*100).tolist()   "
   ]
  },
  {
   "cell_type": "code",
   "execution_count": 25,
   "id": "e74641f4-b15f-4341-a3d5-5de30e4d2d3e",
   "metadata": {},
   "outputs": [],
   "source": [
    "df_out2 = pd.concat([df_out,return_df],axis=1)"
   ]
  },
  {
   "cell_type": "code",
   "execution_count": 26,
   "id": "99e19871-aa95-447f-b373-2815dc79133d",
   "metadata": {},
   "outputs": [],
   "source": [
    "# all signals\n",
    "# plt.figure(num = 3, figsize=(8, 5))\n",
    "# x = range(1,13)\n",
    "# for i in range(len(df_out)):\n",
    "#     y = df_out2.loc[i][-12:].tolist()\n",
    "#     plt.plot(x, y)\n",
    "# plt.show()"
   ]
  },
  {
   "cell_type": "markdown",
   "id": "60f02dca-672d-469c-af0a-1202bbe868d9",
   "metadata": {},
   "source": [
    "# Viz 1\n",
    "prospective - forecast model based"
   ]
  },
  {
   "cell_type": "code",
   "execution_count": 27,
   "id": "9816bdce-64f7-4bb9-9fa9-97b955a2eb70",
   "metadata": {},
   "outputs": [
    {
     "data": {
      "image/png": "[encoded data removed]",
      "text/plain": [
       "<Figure size 576x360 with 1 Axes>"
      ]
     },
     "metadata": {
      "needs_background": "light"
     },
     "output_type": "display_data"
    }
   ],
   "source": [
    "plt.figure(num = 3, figsize=(8, 5))\n",
    "x = range(1,13)\n",
    "# S&P \n",
    "y = df_out2.iloc[:,-12:].mean()\n",
    "plt.plot(x, y,label='S&P')\n",
    "# best\n",
    "y = df_out2[df_out2.ret_12 == df_out2.ret_12.max()].iloc[:,-12:].values[0].tolist()\n",
    "best_stock = df_out2[df_out2.ret_12 == df_out2.ret_12.max()].iloc[:,1].values[0]\n",
    "plt.plot(x, y,label=best_stock)\n",
    "# worst\n",
    "y = df_out2[df_out2.ret_12 == df_out2.ret_12.min()].iloc[:,-12:].values[0].tolist()\n",
    "worst_stock = df_out2[df_out2.ret_12 == df_out2.ret_12.min()].iloc[:,1].values[0]\n",
    "plt.plot(x, y,label = worst_stock)\n",
    "plt.legend()\n",
    "plt.title('Best / worst Performers')\n",
    "plt.show()"
   ]
  },
  {
   "cell_type": "markdown",
   "id": "056501e3-a2cc-4ce3-88c1-c9428d8c5199",
   "metadata": {},
   "source": [
    "**Start of viz2**"
   ]
  },
  {
   "cell_type": "code",
   "execution_count": 28,
   "id": "f3946447-b689-4f5a-9fc1-6337ad83c473",
   "metadata": {},
   "outputs": [
    {
     "data": {
      "text/plain": [
       "symbol\n",
       "AMZN     100\n",
       "GOOGL     93\n",
       "HWM       54\n",
       "KEY       53\n",
       "MOS       54\n",
       "NVDA      99\n",
       "SWKS      53\n",
       "SYF       54\n",
       "TSLA     100\n",
       "dtype: int64"
      ]
     },
     "execution_count": 28,
     "metadata": {},
     "output_type": "execute_result"
    }
   ],
   "source": [
    "df_light.groupby(['symbol']).size()"
   ]
  },
  {
   "cell_type": "code",
   "execution_count": 31,
   "id": "ad8c7a57-b12c-47fe-a815-ac22dc170a5c",
   "metadata": {},
   "outputs": [],
   "source": [
    "import warnings\n",
    "warnings.filterwarnings('ignore')\n",
    "from transform_forecaster import fill_blanks;"
   ]
  },
  {
   "cell_type": "code",
   "execution_count": 32,
   "id": "129455b5-91ff-4847-868c-9a43746299d0",
   "metadata": {},
   "outputs": [],
   "source": [
    "date_range = df_light.symbol_time.drop_duplicates()\n",
    "date_range = pd.DataFrame(date_range)"
   ]
  },
  {
   "cell_type": "code",
   "execution_count": 40,
   "id": "34da54ba-e5b4-4afc-82b1-570bef24866e",
   "metadata": {},
   "outputs": [],
   "source": [
    "stock_ready = fill_blanks(df_light,'symbol',date_range,'symbol_time')"
   ]
  },
  {
   "cell_type": "code",
   "execution_count": 41,
   "id": "f7abb75a-c25d-425d-9866-dc1ce9cc9d62",
   "metadata": {},
   "outputs": [],
   "source": [
    "stock_ready = stock_ready[['symbol', 'symbol_time', 'close', 'volume']]"
   ]
  },
  {
   "cell_type": "code",
   "execution_count": 42,
   "id": "9ec6fe7d-221e-4586-8d40-86b33e4e4b55",
   "metadata": {},
   "outputs": [
    {
     "data": {
      "text/plain": [
       "Index(['symbol', 'symbol_time', 'close', 'volume'], dtype='object')"
      ]
     },
     "execution_count": 42,
     "metadata": {},
     "output_type": "execute_result"
    }
   ],
   "source": [
    "stock_ready.columns"
   ]
  },
  {
   "cell_type": "code",
   "execution_count": 47,
   "id": "419f20cf-ad93-427b-aa65-63cf9e0b6857",
   "metadata": {},
   "outputs": [],
   "source": [
    "df_int = pd.DataFrame()\n",
    "for tckr in stock_ready.symbol.unique():\n",
    "    temp = stock_ready[stock_ready[\"symbol\"] == tckr]\n",
    "    temp.sort_values('symbol_time', inplace=True)\n",
    "    temp['return'] = np.log(temp.close / temp.close.shift(1))  \n",
    "    temp.dropna(inplace=True)\n",
    "    temp['performance'] = temp['return'].cumsum().apply(np.exp)\n",
    "    temp = temp.sort_values('symbol_time').tail(1)\n",
    "    df_int = df_int.append(temp,ignore_index=True)"
   ]
  },
  {
   "cell_type": "code",
   "execution_count": 65,
   "id": "c97da5b0-be7b-4151-a65e-d1ca49d8fd42",
   "metadata": {},
   "outputs": [
    {
     "data": {
      "text/html": [
       "<div>\n",
       "<style scoped>\n",
       "    .dataframe tbody tr th:only-of-type {\n",
       "        vertical-align: middle;\n",
       "    }\n",
       "\n",
       "    .dataframe tbody tr th {\n",
       "        vertical-align: top;\n",
       "    }\n",
       "\n",
       "    .dataframe thead th {\n",
       "        text-align: right;\n",
       "    }\n",
       "</style>\n",
       "<table border=\"1\" class=\"dataframe\">\n",
       "  <thead>\n",
       "    <tr style=\"text-align: right;\">\n",
       "      <th></th>\n",
       "      <th>symbol</th>\n",
       "      <th>symbol_time</th>\n",
       "      <th>close</th>\n",
       "      <th>volume</th>\n",
       "      <th>return</th>\n",
       "      <th>performance</th>\n",
       "    </tr>\n",
       "  </thead>\n",
       "  <tbody>\n",
       "    <tr>\n",
       "      <th>0</th>\n",
       "      <td>SYF</td>\n",
       "      <td>2022-12-22 20:00:00</td>\n",
       "      <td>32.099998</td>\n",
       "      <td>56089.0</td>\n",
       "      <td>0.000000</td>\n",
       "      <td>1.000000</td>\n",
       "    </tr>\n",
       "    <tr>\n",
       "      <th>1</th>\n",
       "      <td>GOOGL</td>\n",
       "      <td>2022-12-22 20:00:00</td>\n",
       "      <td>87.550003</td>\n",
       "      <td>2675.0</td>\n",
       "      <td>-0.000571</td>\n",
       "      <td>1.004108</td>\n",
       "    </tr>\n",
       "    <tr>\n",
       "      <th>2</th>\n",
       "      <td>AMZN</td>\n",
       "      <td>2022-12-22 20:00:00</td>\n",
       "      <td>83.300003</td>\n",
       "      <td>13983.0</td>\n",
       "      <td>-0.000240</td>\n",
       "      <td>0.996471</td>\n",
       "    </tr>\n",
       "    <tr>\n",
       "      <th>3</th>\n",
       "      <td>HWM</td>\n",
       "      <td>2022-12-22 20:00:00</td>\n",
       "      <td>38.349998</td>\n",
       "      <td>10717.0</td>\n",
       "      <td>0.000000</td>\n",
       "      <td>1.000000</td>\n",
       "    </tr>\n",
       "    <tr>\n",
       "      <th>4</th>\n",
       "      <td>TSLA</td>\n",
       "      <td>2022-12-22 20:00:00</td>\n",
       "      <td>126.849998</td>\n",
       "      <td>151616.0</td>\n",
       "      <td>-0.006678</td>\n",
       "      <td>0.986776</td>\n",
       "    </tr>\n",
       "    <tr>\n",
       "      <th>5</th>\n",
       "      <td>NVDA</td>\n",
       "      <td>2022-12-22 20:00:00</td>\n",
       "      <td>151.660004</td>\n",
       "      <td>5267.0</td>\n",
       "      <td>-0.002897</td>\n",
       "      <td>0.999755</td>\n",
       "    </tr>\n",
       "    <tr>\n",
       "      <th>6</th>\n",
       "      <td>KEY</td>\n",
       "      <td>2022-12-22 20:00:00</td>\n",
       "      <td>16.820000</td>\n",
       "      <td>98576.0</td>\n",
       "      <td>0.000000</td>\n",
       "      <td>1.000000</td>\n",
       "    </tr>\n",
       "    <tr>\n",
       "      <th>7</th>\n",
       "      <td>MOS</td>\n",
       "      <td>2022-12-22 20:00:00</td>\n",
       "      <td>44.459999</td>\n",
       "      <td>35155.0</td>\n",
       "      <td>0.000000</td>\n",
       "      <td>1.000000</td>\n",
       "    </tr>\n",
       "    <tr>\n",
       "      <th>8</th>\n",
       "      <td>SWKS</td>\n",
       "      <td>2022-12-22 20:00:00</td>\n",
       "      <td>87.220001</td>\n",
       "      <td>24845.0</td>\n",
       "      <td>0.000000</td>\n",
       "      <td>1.000000</td>\n",
       "    </tr>\n",
       "  </tbody>\n",
       "</table>\n",
       "</div>"
      ],
      "text/plain": [
       "  symbol          symbol_time       close    volume    return  performance\n",
       "0    SYF  2022-12-22 20:00:00   32.099998   56089.0  0.000000     1.000000\n",
       "1  GOOGL  2022-12-22 20:00:00   87.550003    2675.0 -0.000571     1.004108\n",
       "2   AMZN  2022-12-22 20:00:00   83.300003   13983.0 -0.000240     0.996471\n",
       "3    HWM  2022-12-22 20:00:00   38.349998   10717.0  0.000000     1.000000\n",
       "4   TSLA  2022-12-22 20:00:00  126.849998  151616.0 -0.006678     0.986776\n",
       "5   NVDA  2022-12-22 20:00:00  151.660004    5267.0 -0.002897     0.999755\n",
       "6    KEY  2022-12-22 20:00:00   16.820000   98576.0  0.000000     1.000000\n",
       "7    MOS  2022-12-22 20:00:00   44.459999   35155.0  0.000000     1.000000\n",
       "8   SWKS  2022-12-22 20:00:00   87.220001   24845.0  0.000000     1.000000"
      ]
     },
     "execution_count": 65,
     "metadata": {},
     "output_type": "execute_result"
    }
   ],
   "source": []
  },
  {
   "cell_type": "code",
   "execution_count": 67,
   "id": "4f9beb17-55b7-4ecf-b33e-701d650fb2b7",
   "metadata": {},
   "outputs": [],
   "source": [
    "df1 = df_int[['symbol','performance','volume']]\n",
    "df2 = df_out2[['symbol','ret_12']]"
   ]
  },
  {
   "cell_type": "code",
   "execution_count": 68,
   "id": "b49b8aff-841d-4aba-987d-6d8de4224cb9",
   "metadata": {},
   "outputs": [],
   "source": [
    "# get last date for this ... performance\n",
    "df_scatter = df1.merge(df2,how='left',on='symbol')"
   ]
  },
  {
   "cell_type": "code",
   "execution_count": 70,
   "id": "47f6e940-a6e0-4801-9a5d-5e3c8ee82447",
   "metadata": {},
   "outputs": [
    {
     "data": {
      "text/html": [
       "<div>\n",
       "<style scoped>\n",
       "    .dataframe tbody tr th:only-of-type {\n",
       "        vertical-align: middle;\n",
       "    }\n",
       "\n",
       "    .dataframe tbody tr th {\n",
       "        vertical-align: top;\n",
       "    }\n",
       "\n",
       "    .dataframe thead th {\n",
       "        text-align: right;\n",
       "    }\n",
       "</style>\n",
       "<table border=\"1\" class=\"dataframe\">\n",
       "  <thead>\n",
       "    <tr style=\"text-align: right;\">\n",
       "      <th></th>\n",
       "      <th>symbol</th>\n",
       "      <th>performance</th>\n",
       "      <th>volume</th>\n",
       "      <th>ret_12</th>\n",
       "    </tr>\n",
       "  </thead>\n",
       "  <tbody>\n",
       "    <tr>\n",
       "      <th>0</th>\n",
       "      <td>SYF</td>\n",
       "      <td>100.000000</td>\n",
       "      <td>56089.0</td>\n",
       "      <td>100.007887</td>\n",
       "    </tr>\n",
       "    <tr>\n",
       "      <th>1</th>\n",
       "      <td>GOOGL</td>\n",
       "      <td>100.410819</td>\n",
       "      <td>2675.0</td>\n",
       "      <td>100.017659</td>\n",
       "    </tr>\n",
       "    <tr>\n",
       "      <th>2</th>\n",
       "      <td>AMZN</td>\n",
       "      <td>99.647110</td>\n",
       "      <td>13983.0</td>\n",
       "      <td>99.983005</td>\n",
       "    </tr>\n",
       "    <tr>\n",
       "      <th>3</th>\n",
       "      <td>HWM</td>\n",
       "      <td>100.000000</td>\n",
       "      <td>10717.0</td>\n",
       "      <td>100.016576</td>\n",
       "    </tr>\n",
       "    <tr>\n",
       "      <th>4</th>\n",
       "      <td>TSLA</td>\n",
       "      <td>98.677554</td>\n",
       "      <td>151616.0</td>\n",
       "      <td>99.953617</td>\n",
       "    </tr>\n",
       "    <tr>\n",
       "      <th>5</th>\n",
       "      <td>NVDA</td>\n",
       "      <td>99.975477</td>\n",
       "      <td>5267.0</td>\n",
       "      <td>100.028168</td>\n",
       "    </tr>\n",
       "    <tr>\n",
       "      <th>6</th>\n",
       "      <td>KEY</td>\n",
       "      <td>100.000000</td>\n",
       "      <td>98576.0</td>\n",
       "      <td>100.031387</td>\n",
       "    </tr>\n",
       "    <tr>\n",
       "      <th>7</th>\n",
       "      <td>MOS</td>\n",
       "      <td>100.000000</td>\n",
       "      <td>35155.0</td>\n",
       "      <td>100.017106</td>\n",
       "    </tr>\n",
       "    <tr>\n",
       "      <th>8</th>\n",
       "      <td>SWKS</td>\n",
       "      <td>100.000000</td>\n",
       "      <td>24845.0</td>\n",
       "      <td>99.996090</td>\n",
       "    </tr>\n",
       "  </tbody>\n",
       "</table>\n",
       "</div>"
      ],
      "text/plain": [
       "  symbol  performance    volume      ret_12\n",
       "0    SYF   100.000000   56089.0  100.007887\n",
       "1  GOOGL   100.410819    2675.0  100.017659\n",
       "2   AMZN    99.647110   13983.0   99.983005\n",
       "3    HWM   100.000000   10717.0  100.016576\n",
       "4   TSLA    98.677554  151616.0   99.953617\n",
       "5   NVDA    99.975477    5267.0  100.028168\n",
       "6    KEY   100.000000   98576.0  100.031387\n",
       "7    MOS   100.000000   35155.0  100.017106\n",
       "8   SWKS   100.000000   24845.0   99.996090"
      ]
     },
     "execution_count": 70,
     "metadata": {},
     "output_type": "execute_result"
    }
   ],
   "source": [
    "df_scatter['performance'] = df_scatter['performance']*100\n",
    "#df_scatter['ret_12'] = df_scatter['ret_12'] -1\n",
    "df_scatter"
   ]
  },
  {
   "cell_type": "code",
   "execution_count": null,
   "id": "f476e856-443d-4e10-b911-3303ef31691d",
   "metadata": {},
   "outputs": [],
   "source": []
  },
  {
   "cell_type": "markdown",
   "id": "1b051809-b171-4d68-84e1-2a471589ed3a",
   "metadata": {},
   "source": [
    "# Viz 2"
   ]
  },
  {
   "cell_type": "code",
   "execution_count": 71,
   "id": "352e833c-415e-43d7-a698-ea8603dbd6e7",
   "metadata": {},
   "outputs": [
    {
     "data": {
      "text/plain": [
       "<AxesSubplot:xlabel='performance', ylabel='ret_12'>"
      ]
     },
     "execution_count": 71,
     "metadata": {},
     "output_type": "execute_result"
    },
    {
     "data": {
      "image/png": "[encoded data removed]",
      "text/plain": [
       "<Figure size 432x288 with 1 Axes>"
      ]
     },
     "metadata": {
      "needs_background": "light"
     },
     "output_type": "display_data"
    }
   ],
   "source": [
    "sns.scatterplot(data=df_scatter, x=\"performance\", y=\"ret_12\",size=\"volume\")"
   ]
  },
  {
   "cell_type": "code",
   "execution_count": null,
   "id": "554d4841-8827-46b8-8a35-187c1ece8036",
   "metadata": {},
   "outputs": [],
   "source": []
  }
 ],
 "metadata": {
  "kernelspec": {
   "display_name": "Python 3 (ipykernel)",
   "language": "python",
   "name": "python3"
  },
  "language_info": {
   "codemirror_mode": {
    "name": "ipython",
    "version": 3
   },
   "file_extension": ".py",
   "mimetype": "text/x-python",
   "name": "python",
   "nbconvert_exporter": "python",
   "pygments_lexer": "ipython3",
   "version": "3.8.13"
  }
 },
 "nbformat": 4,
 "nbformat_minor": 5
}
