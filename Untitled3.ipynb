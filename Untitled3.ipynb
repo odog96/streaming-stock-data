{
 "cells": [
  {
   "cell_type": "code",
   "execution_count": 2,
   "id": "b93ae51f-f57d-4f2d-89ba-a5b55f3224a4",
   "metadata": {},
   "outputs": [],
   "source": [
    "import cml.data_v1 as cmldata\n",
    "\n",
    "CONNECTION_NAME = \"impala\"\n",
    "#conn = cmldata.get_connection(CONNECTION_NAME)\n",
    "\n",
    "# ## Sample Usage to get pandas data frame\n",
    "# EXAMPLE_SQL_QUERY = \"show databases\"\n",
    "# dataframe = conn.get_pandas_dataframe(EXAMPLE_SQL_QUERY)\n",
    "# print(dataframe)\n",
    "\n",
    "## Other Usage Notes:\n",
    "\n",
    "# Alternate Sample Usage to provide different credentials as optional parameters\n",
    "conn = cmldata.get_connection(\n",
    "   CONNECTION_NAME, {\"USERNAME\": \"ozarate\", \"PASSWORD\": \"b!LFdfjmEPBbF67\"}\n",
    ")\n",
    "\n",
    "## Alternate Sample Usage to get DB API Connection interface\n",
    "db_conn = conn.get_base_connection()\n",
    "\n"
   ]
  },
  {
   "cell_type": "code",
   "execution_count": 3,
   "id": "576cda54-0275-413d-8b6a-351f18d43676",
   "metadata": {},
   "outputs": [
    {
     "name": "stdout",
     "output_type": "stream",
     "text": [
      "('_impala_builtins', 'System database for Impala builtin functions')\n",
      "('default', 'Default Hive database')\n",
      "('loki_stocks', '')\n"
     ]
    }
   ],
   "source": [
    "EXAMPLE_SQL_QUERY = \"show databases\"\n",
    "# Alternate Sample Usage to get DB API Cursor interface\n",
    "db_cursor = conn.get_cursor()\n",
    "db_cursor.execute(EXAMPLE_SQL_QUERY)\n",
    "for row in db_cursor:\n",
    " print(row)"
   ]
  },
  {
   "cell_type": "code",
   "execution_count": null,
   "id": "c4efbc1c-ef01-4c94-8d9e-1efaf60f25ad",
   "metadata": {},
   "outputs": [],
   "source": []
  }
 ],
 "metadata": {
  "kernelspec": {
   "display_name": "Python 3 (ipykernel)",
   "language": "python",
   "name": "python3"
  },
  "language_info": {
   "codemirror_mode": {
    "name": "ipython",
    "version": 3
   },
   "file_extension": ".py",
   "mimetype": "text/x-python",
   "name": "python",
   "nbconvert_exporter": "python",
   "pygments_lexer": "ipython3",
   "version": "3.7.13"
  }
 },
 "nbformat": 4,
 "nbformat_minor": 5
}
