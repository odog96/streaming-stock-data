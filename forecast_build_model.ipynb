{
 "cells": [
  {
   "cell_type": "markdown",
   "metadata": {
    "id": "JPv5G8naqyT3"
   },
   "source": [
    "## Using N-Beats to Forecast stock data\n",
    "\n",
    "<br>\n",
    "\n",
    "\n",
    "The model architechture is based on the following paper:<br>\n",
    "\n",
    "https://arxiv.org/abs/1905.10437\n",
    "\n",
    "\n",
    "Used github for initial implementation of NBEATs Tensorflow code Blocks.<br>\n",
    "https://github.com/mrdbourke/tensorflow-deep-learning/blob/main/10_time_series_forecasting_in_tensorflow.ipynb\n",
    "\n",
    "**Gather Historical Stock Price Data**\n",
    "1.   Gather list of S&P 500 companies\n",
    "2.   Grab a sample of n stocks\n",
    "3.   Pull Weekly or Daily close price Data\n",
    "\n",
    "\n"
   ]
  },
  {
   "cell_type": "markdown",
   "metadata": {
    "id": "RleGDC6fecJz"
   },
   "source": [
    "### 5 mins version of forecast"
   ]
  },
  {
   "cell_type": "code",
   "execution_count": 1,
   "metadata": {
    "id": "Kq8QvUkTe5oo"
   },
   "outputs": [],
   "source": [
    "import json, requests\n",
    "import pandas as pd\n",
    "import numpy as np\n",
    "import io\n",
    "import warnings\n",
    "warnings.filterwarnings('ignore')"
   ]
  },
  {
   "cell_type": "code",
   "execution_count": 2,
   "metadata": {},
   "outputs": [
    {
     "name": "stderr",
     "output_type": "stream",
     "text": [
      "2023-01-17 22:55:10.770685: I tensorflow/core/platform/cpu_feature_guard.cc:193] This TensorFlow binary is optimized with oneAPI Deep Neural Network Library (oneDNN) to use the following CPU instructions in performance-critical operations:  AVX2 AVX512F AVX512_VNNI FMA\n",
      "To enable them in other operations, rebuild TensorFlow with the appropriate compiler flags.\n",
      "2023-01-17 22:55:11.530089: I tensorflow/core/util/port.cc:104] oneDNN custom operations are on. You may see slightly different numerical results due to floating-point round-off errors from different computation orders. To turn them off, set the environment variable `TF_ENABLE_ONEDNN_OPTS=0`.\n",
      "2023-01-17 22:55:18.654207: W tensorflow/compiler/xla/stream_executor/platform/default/dso_loader.cc:64] Could not load dynamic library 'libnvinfer.so.7'; dlerror: libnvinfer.so.7: cannot open shared object file: No such file or directory; LD_LIBRARY_PATH: /usr/local/nvidia/lib64:/usr/local/cuda/lib64:/usr/local/nvidia/lib:/usr/local/cuda/lib:/usr/local/nvidia/lib:/usr/local/nvidia/lib64\n",
      "2023-01-17 22:55:18.654684: W tensorflow/compiler/xla/stream_executor/platform/default/dso_loader.cc:64] Could not load dynamic library 'libnvinfer_plugin.so.7'; dlerror: libnvinfer_plugin.so.7: cannot open shared object file: No such file or directory; LD_LIBRARY_PATH: /usr/local/nvidia/lib64:/usr/local/cuda/lib64:/usr/local/nvidia/lib:/usr/local/cuda/lib:/usr/local/nvidia/lib:/usr/local/nvidia/lib64\n",
      "2023-01-17 22:55:18.654693: W tensorflow/compiler/tf2tensorrt/utils/py_utils.cc:38] TF-TRT Warning: Cannot dlopen some TensorRT libraries. If you would like to use Nvidia GPU with TensorRT, please make sure the missing libraries mentioned above are installed properly.\n"
     ]
    }
   ],
   "source": [
    "from transform_forecaster import stock_data_pull, fill_blanks, change_shape, dataset, window_gen; \n",
    "#, data_split"
   ]
  },
  {
   "cell_type": "code",
   "execution_count": 3,
   "metadata": {
    "colab": {
     "base_uri": "https://localhost:8080/"
    },
    "id": "CNmWY90u-921",
    "outputId": "9320c27f-264c-4341-f2a5-c60943ecc462"
   },
   "outputs": [],
   "source": [
    "import matplotlib as mlab\n",
    "import matplotlib.pyplot as plt\n",
    "import seaborn as sns \n",
    "import time\n",
    "import math\n",
    "\n",
    "# import statsmodels.api as sm    \n",
    "# import scipy.stats as stats \n",
    "# from pylab import rcParams\n",
    "\n",
    "import sys\n",
    "from functools import reduce\n",
    "import itertools\n",
    "import random\n",
    "\n",
    "import datetime\n",
    "from datetime import date, timedelta\n",
    "from pandas.tseries.offsets import Day, MonthBegin, MonthEnd\n",
    "\n",
    "# Libraries for stock data\n",
    "import yfinance as yf\n",
    "\n",
    "from sklearn.metrics import mean_absolute_error, mean_absolute_percentage_error, mean_squared_error\n",
    "from sklearn.metrics import mean_squared_error\n",
    "from sklearn.metrics import mean_squared_error as MSE\n",
    "from sklearn.metrics import accuracy_score, mean_absolute_percentage_error, mean_absolute_error\n",
    "from sklearn.metrics import confusion_matrix, classification_report\n",
    "\n",
    "# don't believe I need this for this model build\n",
    "# from sklearn.preprocessing import StandardScaler\n",
    "# from sklearn.preprocessing import MinMaxScaler\n",
    "\n",
    "from sklearn.decomposition import PCA\n",
    "from sklearn.manifold import TSNE\n",
    "from sklearn.ensemble import RandomForestClassifier\n",
    "from sklearn.model_selection import train_test_split\n",
    "\n",
    "\n",
    "import tensorflow as tf\n",
    "from tensorflow import keras\n",
    "from tensorflow.keras import models, layers\n",
    "from tensorflow.keras.layers import Conv1D,BatchNormalization, Dropout, Flatten, Input, Dense\n",
    "from tensorflow.keras.callbacks import ModelCheckpoint, EarlyStopping\n",
    "from tensorflow.keras.models import Sequential"
   ]
  },
  {
   "cell_type": "code",
   "execution_count": 4,
   "metadata": {},
   "outputs": [],
   "source": [
    "#import tensorflow_datasets as tfds\n"
   ]
  },
  {
   "cell_type": "markdown",
   "metadata": {},
   "source": [
    "### Functions<br>\n",
    "Functions that couldn't be included in python file at this time"
   ]
  },
  {
   "cell_type": "code",
   "execution_count": 5,
   "metadata": {},
   "outputs": [],
   "source": [
    "def data_split(x,y):\n",
    "  split_size = int(len(x) * 0.8)\n",
    "  x_train, y_train = x[:split_size], y[:split_size]\n",
    "  print('x_train size',len(x_train))\n",
    "  x_valid, y_valid = x[split_size:], y[split_size:]\n",
    "  print('x_valid size',len(x_valid))\n",
    "  # line below is redudant, but keeping it to not change references\n",
    "  # x_valid_true, y_valid_true = x[split_size:], y[split_size:]\n",
    "  train_ds,valid_ds =  dataset(x_train,y_train,x_valid,y_valid,batch)\n",
    "  return train_ds,valid_ds\n",
    "#, y_valid_true"
   ]
  },
  {
   "cell_type": "markdown",
   "metadata": {
    "id": "Z6r6JzZqkFBk"
   },
   "source": [
    "#### Pull CSV file from end point\n",
    "- this data will be used for prediction \n",
    "- and for picking stocks to include in training"
   ]
  },
  {
   "cell_type": "code",
   "execution_count": 6,
   "metadata": {},
   "outputs": [],
   "source": [
    "table=pd.read_html('https://en.wikipedia.org/wiki/List_of_S%26P_500_companies')\n",
    "tckr = table[0]\n",
    "# convert to list\n",
    "basket = tckr.Symbol.unique().tolist()"
   ]
  },
  {
   "cell_type": "markdown",
   "metadata": {
    "id": "nmefKLZeM-FT"
   },
   "source": [
    "**Download Stock data**"
   ]
  },
  {
   "cell_type": "markdown",
   "metadata": {
    "id": "CDsECE3UMj4-"
   },
   "source": [
    "**Pick start and stop dates**<br>\n",
    "We will grab most recent stock data<br>\n",
    "then we will cut into back test and training data<br>\n",
    "backtesting will be used in the end><br>\n",
    "recursive process - <br>\n",
    "there will be a pull done twice. <br>\n",
    "The second time will have filtered basket set"
   ]
  },
  {
   "cell_type": "code",
   "execution_count": 7,
   "metadata": {},
   "outputs": [
    {
     "name": "stdout",
     "output_type": "stream",
     "text": [
      "\n",
      "1 Failed download:\n",
      "- BRK.B: No data found, symbol may be delisted\n",
      "\n",
      "1 Failed download:\n",
      "- BF.B: No data found for this date range, symbol may be delisted\n",
      "Index(['Open', 'High', 'Low', 'Close', 'Adj Close', 'Volume', 'Name'], dtype='object')\n"
     ]
    }
   ],
   "source": [
    "# Pull stock data for given ticker symvols\n",
    "stock_total = stock_data_pull(basket,False);"
   ]
  },
  {
   "cell_type": "code",
   "execution_count": 8,
   "metadata": {},
   "outputs": [],
   "source": [
    "# remove symbols that don't have at least 90 % of max # of observations\n",
    "# 2 lines below give complete date range\n",
    "date_range = stock_total.Datetime.drop_duplicates()\n",
    "date_range = pd.DataFrame(date_range)\n",
    "\n",
    "count_df = stock_total.groupby('Name').size().reset_index().sort_values(0,ascending=False)\n",
    "count_df.columns = ['Name','Count']\n",
    "count_df = count_df[count_df['Count'] > len(date_range)*.9]\n",
    "tckr_basket_filtered = count_df.Name.tolist()"
   ]
  },
  {
   "cell_type": "code",
   "execution_count": 9,
   "metadata": {},
   "outputs": [
    {
     "data": {
      "text/plain": [
       "['AZO', 'GEHC', 'BRK.B', 'NVR', 'MTD', 'TDY', 'BF.B', 'BIO']"
      ]
     },
     "execution_count": 9,
     "metadata": {},
     "output_type": "execute_result"
    }
   ],
   "source": [
    "# list of ticker symbols removed\n",
    "list(set(basket) - set(tckr_basket_filtered))"
   ]
  },
  {
   "cell_type": "code",
   "execution_count": 10,
   "metadata": {},
   "outputs": [
    {
     "name": "stdout",
     "output_type": "stream",
     "text": [
      "Index(['Open', 'High', 'Low', 'Close', 'Adj Close', 'Volume', 'Name'], dtype='object')\n"
     ]
    }
   ],
   "source": [
    "# Pull stock data for given ticker symvols\n",
    "stock_total = stock_data_pull(tckr_basket_filtered,False);"
   ]
  },
  {
   "cell_type": "code",
   "execution_count": 11,
   "metadata": {},
   "outputs": [],
   "source": [
    "#stock_total.head()"
   ]
  },
  {
   "cell_type": "code",
   "execution_count": 12,
   "metadata": {},
   "outputs": [],
   "source": [
    "stock_ready = fill_blanks(stock_total,'Name',date_range,'Datetime');"
   ]
  },
  {
   "cell_type": "code",
   "execution_count": 13,
   "metadata": {
    "colab": {
     "base_uri": "https://localhost:8080/"
    },
    "id": "6mop8Lvao54B",
    "outputId": "f8a66b8e-f256-438f-fad7-dc0363e2a1b2"
   },
   "outputs": [],
   "source": [
    "# # checks to ensure if all tckrs have same size\n",
    "# sizes = stock_ready.groupby('Name').size().unique()\n",
    "# size_count = sizes.shape[0]\n",
    "\n",
    "# if size_count == 1:\n",
    "#   print (f'all good, all data contain {sizes[0]} observations')\n",
    "# else:\n",
    "#   print(f'error, your stock contain tckrs with varying number of observations:{sizes}')\n",
    "\n",
    "# stock_ready.sort_values(by=['Name','Datetime'],inplace=True)\n",
    "# stock_ready.head()"
   ]
  },
  {
   "cell_type": "markdown",
   "metadata": {
    "id": "DgsAIdGlXdOm"
   },
   "source": [
    "### Split data for final, out of sample testing<br>\n",
    "We'll leave over 100 time observations for out of sample validation<br>\n",
    "The data remaining will later be split into train and test"
   ]
  },
  {
   "cell_type": "code",
   "execution_count": 14,
   "metadata": {},
   "outputs": [],
   "source": [
    "# input window and forecast horizon\n",
    "window = 60\n",
    "horizon = 12\n",
    "theta = window+horizon\n",
    "# out of sample size\n",
    "oos_size = 100\n",
    "cut_back = theta + oos_size\n",
    "\n",
    "### split into out of sample data and training\n",
    "stock_train = pd.DataFrame()\n",
    "stock_test = pd.DataFrame()\n",
    "#stock_pred = pd.DataFrame()\n",
    "for i, tckr in enumerate(stock_ready.Name.unique()):\n",
    "    temp = stock_ready[stock_ready.Name == tckr].copy()\n",
    "    temp_train = temp.iloc[:-cut_back,:]\n",
    "    temp_test = temp.iloc[-cut_back:,:]\n",
    "    if i == 0:\n",
    "        stock_train = temp_train\n",
    "        stock_test = temp_test\n",
    "    else:\n",
    "        stock_train = pd.concat([stock_train, temp_train  ])\n",
    "        stock_test = pd.concat([stock_test,temp_test  ])"
   ]
  },
  {
   "cell_type": "code",
   "execution_count": 15,
   "metadata": {},
   "outputs": [
    {
     "data": {
      "text/plain": [
       "array([1311])"
      ]
     },
     "execution_count": 15,
     "metadata": {},
     "output_type": "execute_result"
    }
   ],
   "source": [
    "sizes = stock_train.groupby('Name').size().unique()\n",
    "sizes"
   ]
  },
  {
   "cell_type": "markdown",
   "metadata": {
    "id": "AChonYhAt4vQ"
   },
   "source": [
    "### Strategy\n",
    "\n",
    "For this exercise, we'll be considering historical stock close values . So a univaritate multiseries approach. "
   ]
  },
  {
   "cell_type": "markdown",
   "metadata": {
    "id": "yxa_5ZJ3tuVr"
   },
   "source": [
    "This notebooks looks exclusively at univariate (only past sales data) to forecast."
   ]
  },
  {
   "cell_type": "markdown",
   "metadata": {
    "id": "q89iOw8IZ-EV"
   },
   "source": [
    "## Nbeats Implementation"
   ]
  },
  {
   "cell_type": "markdown",
   "metadata": {
    "id": "a9dpinha6W6o"
   },
   "source": [
    "### Model Configuration"
   ]
  },
  {
   "cell_type": "code",
   "execution_count": 16,
   "metadata": {
    "id": "ocg2mZ74uFXh"
   },
   "outputs": [],
   "source": [
    "# Class to create the block build\n",
    "# https://github.com/mrdbourke/tensorflow-deep-learning/blob/main/10_time_series_forecasting_in_tensorflow.ipynb\n",
    "\n",
    "class NBeatsBlock(tf.keras.layers.Layer):\n",
    "  def __init__(self, # the constructor takes all the hyperparameters for the layer\n",
    "               input_size: int,\n",
    "#               theta_size: int = ,\n",
    "               \n",
    "               horizon: int,\n",
    "               n_neurons: int,\n",
    "               n_layers: int =4,\n",
    "               **kwargs): # the **kwargs argument takes care of all of the arguments for the parent class (input_shape, trainable, name)\n",
    "    super().__init__(**kwargs)\n",
    "    self.input_size = input_size\n",
    "    self.horizon = horizon\n",
    "    self.theta_size = self.input_size + self.horizon\n",
    "\n",
    "    self.n_neurons = n_neurons\n",
    "    self.n_layers = n_layers\n",
    "\n",
    "    # Block contains stack of 4 fully connected layers each has ReLU activation\n",
    "    self.hidden = [tf.keras.layers.Dense(n_neurons, activation=\"relu\") for _ in range(n_layers)]\n",
    "    # Output of block is a theta layer with linear activation\n",
    "    self.theta_layer = tf.keras.layers.Dense(self.theta_size, activation=\"linear\", name=\"theta\")\n",
    "\n",
    "  def call(self, inputs): # the call method is what runs when the layer is called \n",
    "    x = inputs \n",
    "    for layer in self.hidden: # pass inputs through each hidden layer \n",
    "      x = layer(x)\n",
    "    theta = self.theta_layer(x) \n",
    "    # Output the backcast and forecast from theta\n",
    "    backcast, forecast = theta[:, :self.input_size], theta[:, -self.horizon:]\n",
    "    return backcast, forecast"
   ]
  },
  {
   "cell_type": "markdown",
   "metadata": {
    "id": "SiS8BVKuEtEt"
   },
   "source": [
    "**Training data for N-BEATS**<br>\n",
    " Setting up training data for a time series deep learning model is more involved. This is done by using a sliding window, with fixed segments for training and label data. The label data represents the forecast horizon. We slice each series into segments of 80, each with 70 observations for training and 10 for labels. In otherwords, we use the prior 70 days of trading close data to predict the next 10.<br>\n",
    " *Note: not only does a single stock generate multiple training data records, the model is also trained using multiple stocks.*"
   ]
  },
  {
   "cell_type": "markdown",
   "metadata": {
    "id": "EmRj3V1xESwU"
   },
   "source": [
    "![windowing.png](data:image/png;base64,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)"
   ]
  },
  {
   "cell_type": "code",
   "execution_count": 17,
   "metadata": {
    "colab": {
     "base_uri": "https://localhost:8080/"
    },
    "id": "7TY0z7cGEOGn",
    "outputId": "42be49b7-bccc-4b17-e5fe-a511b2254981"
   },
   "outputs": [
    {
     "data": {
      "text/plain": [
       "(60, 72)"
      ]
     },
     "execution_count": 17,
     "metadata": {},
     "output_type": "execute_result"
    }
   ],
   "source": [
    "# Values from N-BEATS paper Figure 1 and Table 18/Appendix D\n",
    "\n",
    "#epochs = 5000 # called \"Iterations\" in Table 18\n",
    "epochs = 500\n",
    "neurons = 512 # called \"Width\" in Table 18\n",
    "block_layers = 4\n",
    "stacks = 30\n",
    "#batch = 1024\n",
    "batch = 256\n",
    "\n",
    "input_size = window # This should be a multiple of the horizon size.\n",
    "theta_size = input_size + horizon\n",
    "\n",
    "input_size, theta_size"
   ]
  },
  {
   "cell_type": "markdown",
   "metadata": {
    "id": "Yub6wR4162fA"
   },
   "source": [
    "### Data Pipeline\n",
    "1. For every series, there will be samples generated that include\n",
    "- features of size window\n",
    "- & labels of size horizon\n",
    "2. Then, the sampled data records will be split into training and validation.\n",
    "3. Then grab the final 'window' number of samples (for example 80) and use this to make final prediction.<br>\n",
    "  - make sure prediction dates match the expected date range on submission file.\n",
    "4. Save this prediction   "
   ]
  },
  {
   "cell_type": "markdown",
   "metadata": {
    "id": "SPnE9yzC__7U"
   },
   "source": [
    "### Model Build out"
   ]
  },
  {
   "cell_type": "code",
   "execution_count": 18,
   "metadata": {
    "colab": {
     "base_uri": "https://localhost:8080/"
    },
    "id": "xPzv1gtRpAN8",
    "outputId": "d381d175-3081-4277-e3a8-d3919e2d4b7e"
   },
   "outputs": [
    {
     "name": "stdout",
     "output_type": "stream",
     "text": [
      "CPU times: user 3 µs, sys: 0 ns, total: 3 µs\n",
      "Wall time: 6.91 µs\n"
     ]
    }
   ],
   "source": [
    "%%time\n",
    "def model_build():\n",
    "  tf.random.set_seed(48)\n",
    "\n",
    "  # 1. Setup N-BEATS Block layer\n",
    "  nbeats_block_layer = NBeatsBlock(input_size=input_size,\n",
    "  #                                 theta_size=theta_size,\n",
    "                                  horizon=horizon,\n",
    "                                  n_neurons=neurons,\n",
    "                                  n_layers=block_layers,\n",
    "                                  name=\"Block_1\")\n",
    "\n",
    "  # 2. Create input to stacks\n",
    "  stack_input = layers.Input(shape=(input_size), name=\"stack_input\")\n",
    "\n",
    "  # 3. Create initial backcast and forecast input (backwards predictions are referred to as residuals in the paper)\n",
    "  backcast, forecast = nbeats_block_layer(stack_input)\n",
    "  # Add in subtraction residual link, thank you to: https://github.com/mrdbourke/tensorflow-deep-learning/discussions/174 \n",
    "  residuals = layers.subtract([stack_input, backcast], name=f\"subtract_00\") \n",
    "\n",
    "  # 4. Create stacks of blocks\n",
    "  for i, _ in enumerate(range(stacks-1)): # first stack is already creted in (3)\n",
    "\n",
    "    # 5. Use the NBeatsBlock to calculate the backcast as well as block forecast\n",
    "    backcast, block_forecast = NBeatsBlock(\n",
    "        input_size=input_size,\n",
    "  #      theta_size=theta_size,\n",
    "        horizon=horizon,\n",
    "        n_neurons=neurons,\n",
    "        n_layers=block_layers,\n",
    "        name=f\"NBeatsBlock_{i}\"\n",
    "    )(residuals) # pass it in residuals (the backcast)\n",
    "\n",
    "    # 6. Create the double residual stacking\n",
    "    residuals = layers.subtract([residuals, backcast], name=f\"subtract_{i}\") \n",
    "    forecast = layers.add([forecast, block_forecast], name=f\"add_{i}\")\n",
    "    \n",
    "  return nbeats_block_layer, stack_input, backcast, forecast,residuals"
   ]
  },
  {
   "cell_type": "code",
   "execution_count": 19,
   "metadata": {
    "id": "2CA6fuSCLCml"
   },
   "outputs": [
    {
     "name": "stderr",
     "output_type": "stream",
     "text": [
      "2023-01-17 22:59:38.846742: I tensorflow/compiler/xla/stream_executor/cuda/cuda_gpu_executor.cc:981] successful NUMA node read from SysFS had negative value (-1), but there must be at least one NUMA node, so returning NUMA node zero\n",
      "2023-01-17 22:59:38.855265: I tensorflow/compiler/xla/stream_executor/cuda/cuda_gpu_executor.cc:981] successful NUMA node read from SysFS had negative value (-1), but there must be at least one NUMA node, so returning NUMA node zero\n",
      "2023-01-17 22:59:38.856483: I tensorflow/compiler/xla/stream_executor/cuda/cuda_gpu_executor.cc:981] successful NUMA node read from SysFS had negative value (-1), but there must be at least one NUMA node, so returning NUMA node zero\n",
      "2023-01-17 22:59:38.857391: I tensorflow/core/platform/cpu_feature_guard.cc:193] This TensorFlow binary is optimized with oneAPI Deep Neural Network Library (oneDNN) to use the following CPU instructions in performance-critical operations:  AVX2 AVX512F AVX512_VNNI FMA\n",
      "To enable them in other operations, rebuild TensorFlow with the appropriate compiler flags.\n",
      "2023-01-17 22:59:38.858016: I tensorflow/compiler/xla/stream_executor/cuda/cuda_gpu_executor.cc:981] successful NUMA node read from SysFS had negative value (-1), but there must be at least one NUMA node, so returning NUMA node zero\n",
      "2023-01-17 22:59:38.858644: I tensorflow/compiler/xla/stream_executor/cuda/cuda_gpu_executor.cc:981] successful NUMA node read from SysFS had negative value (-1), but there must be at least one NUMA node, so returning NUMA node zero\n",
      "2023-01-17 22:59:38.859209: I tensorflow/compiler/xla/stream_executor/cuda/cuda_gpu_executor.cc:981] successful NUMA node read from SysFS had negative value (-1), but there must be at least one NUMA node, so returning NUMA node zero\n",
      "2023-01-17 22:59:40.501706: I tensorflow/compiler/xla/stream_executor/cuda/cuda_gpu_executor.cc:981] successful NUMA node read from SysFS had negative value (-1), but there must be at least one NUMA node, so returning NUMA node zero\n",
      "2023-01-17 22:59:40.502385: I tensorflow/compiler/xla/stream_executor/cuda/cuda_gpu_executor.cc:981] successful NUMA node read from SysFS had negative value (-1), but there must be at least one NUMA node, so returning NUMA node zero\n",
      "2023-01-17 22:59:40.502963: I tensorflow/compiler/xla/stream_executor/cuda/cuda_gpu_executor.cc:981] successful NUMA node read from SysFS had negative value (-1), but there must be at least one NUMA node, so returning NUMA node zero\n",
      "2023-01-17 22:59:40.503486: I tensorflow/core/common_runtime/gpu/gpu_device.cc:1613] Created device /job:localhost/replica:0/task:0/device:GPU:0 with 13781 MB memory:  -> device: 0, name: Tesla T4, pci bus id: 0000:00:1e.0, compute capability: 7.5\n"
     ]
    }
   ],
   "source": [
    "nbeats_block_layer, stack_input, backcast, forecast,residuals = model_build()"
   ]
  },
  {
   "cell_type": "code",
   "execution_count": 20,
   "metadata": {},
   "outputs": [
    {
     "data": {
      "text/plain": [
       "__main__.NBeatsBlock"
      ]
     },
     "execution_count": 20,
     "metadata": {},
     "output_type": "execute_result"
    }
   ],
   "source": [
    "type(nbeats_block_layer)"
   ]
  },
  {
   "cell_type": "markdown",
   "metadata": {
    "id": "HfIsiZnkNnlt"
   },
   "source": [
    "### Data Build"
   ]
  },
  {
   "cell_type": "code",
   "execution_count": 21,
   "metadata": {
    "id": "HOll3omGmouJ"
   },
   "outputs": [],
   "source": [
    "def data_build(srl_num,input_df):\n",
    "  \"\"\"\n",
    "    performs the data build on multiple series\n",
    "  \"\"\"\n",
    "  x, y = [],[]\n",
    "  #ffeat = dict()  # final prediction features\n",
    "\n",
    "  for series in input_df[srl_num].unique():\n",
    "    # eval = []\n",
    "    temp = input_df[input_df[srl_num] == series].copy()\n",
    "    ser = change_shape(temp)\n",
    "    #ffeat[series] = ser[-window:]\n",
    "\n",
    "    # create two sets of x and y. THe second will be used to generate the true \n",
    "    # values to calculate MAE\n",
    "    ## check if first series, if not append.\n",
    "    if len(x) > 0: \n",
    "      x_temp, y_temp = window_gen(ser,window,horizon)\n",
    "      for x_array in x_temp:\n",
    "        x.append(x_array)\n",
    "      for y_array in y_temp:\n",
    "        y.append(y_array)\n",
    "    else: \n",
    "      x, y = window_gen(ser,window,horizon)\n",
    "  return x,y\n",
    "  #,ffeat"
   ]
  },
  {
   "cell_type": "code",
   "execution_count": 22,
   "metadata": {
    "id": "nzDgNccVP3a6"
   },
   "outputs": [],
   "source": [
    "x,y = data_build('Name',stock_train)"
   ]
  },
  {
   "cell_type": "markdown",
   "metadata": {},
   "source": [
    "#### Testing tensor flow capability on CML<br>\n",
    "creating a small subset of data for testing"
   ]
  },
  {
   "cell_type": "code",
   "execution_count": 23,
   "metadata": {},
   "outputs": [],
   "source": [
    "# subsample\n",
    "subsample = 8192"
   ]
  },
  {
   "cell_type": "code",
   "execution_count": 24,
   "metadata": {},
   "outputs": [],
   "source": [
    "small_x = x[:subsample]\n",
    "small_y = y[:subsample]"
   ]
  },
  {
   "cell_type": "code",
   "execution_count": 25,
   "metadata": {},
   "outputs": [
    {
     "name": "stdout",
     "output_type": "stream",
     "text": [
      "x_train size 6553\n",
      "x_valid size 1639\n"
     ]
    }
   ],
   "source": [
    "train_dataset, test_dataset = data_split(small_x,small_y)"
   ]
  },
  {
   "cell_type": "code",
   "execution_count": 26,
   "metadata": {},
   "outputs": [],
   "source": [
    "#len(x)\n",
    "#len(small_y)\n",
    "#small_y[0].shape\n",
    "\n",
    "# create new array for input and output\n",
    "# x_array = np.zeros((1,input_size))\n",
    "# for i in range(subsample):\n",
    "#     if i == 0:\n",
    "#         x_array = small_x[i]\n",
    "#         y_array = small_y[i]\n",
    "#     else:\n",
    "#         x_array = np.append( [x_array],[small_x[i]] )\n",
    "#         y_array = np.append( [y_array], [small_y[i]] )\n",
    "\n",
    "\n",
    "# x_array = x_array.reshape(subsample,input_size)\n",
    "# y_array = y_array.reshape(subsample,horizon)\n",
    "# x_array = x_array.reshape(subsample,1,input_size)\n",
    "# y_array = y_array.reshape(subsample,1,horizon)\n"
   ]
  },
  {
   "cell_type": "code",
   "execution_count": null,
   "metadata": {},
   "outputs": [],
   "source": []
  },
  {
   "cell_type": "code",
   "execution_count": null,
   "metadata": {},
   "outputs": [],
   "source": []
  },
  {
   "cell_type": "code",
   "execution_count": 27,
   "metadata": {
    "id": "iEbA0Culnfdh"
   },
   "outputs": [],
   "source": [
    "def model_create():\n",
    "  # Put the stack model together\n",
    "  model = tf.keras.Model(inputs=stack_input, \n",
    "                        outputs=forecast, \n",
    "                        name=\"model_N-BEATS\")\n",
    "\n",
    "  # 8. Compile with MAE loss and Adam optimizer\n",
    "  model.compile(loss=\"mae\",\n",
    "                optimizer=tf.keras.optimizers.Adam(0.001),\n",
    "                metrics=[\"mae\", \"mse\"])\n",
    "  return model"
   ]
  },
  {
   "cell_type": "code",
   "execution_count": 28,
   "metadata": {
    "id": "1yC9HqoRQO0e"
   },
   "outputs": [],
   "source": [
    "model_small = model_create()"
   ]
  },
  {
   "cell_type": "markdown",
   "metadata": {
    "id": "3sMckLH5N0H9"
   },
   "source": [
    "### Model fit"
   ]
  },
  {
   "cell_type": "code",
   "execution_count": 29,
   "metadata": {
    "colab": {
     "base_uri": "https://localhost:8080/"
    },
    "id": "jjy_sfX3Nv4_",
    "outputId": "086ef106-60d0-4f06-a287-12dbd4411237"
   },
   "outputs": [],
   "source": [
    "# %time\n",
    "# history = model_small.fit(x=small_x_train,y= small_y_train,\n",
    "#             epochs=epochs,\n",
    "#             validation_data=(small_x_valid, small_y_valid),\n",
    "#             verbose=2, # prevent large amounts of training outputs\n",
    "#             # callbacks=[create_model_checkpoint(model_name=stack_model.name)] # saving model every epoch consumes far too much time\n",
    "#             callbacks=[tf.keras.callbacks.EarlyStopping(monitor=\"val_loss\", patience=20, restore_best_weights=True),\n",
    "#               tf.keras.callbacks.ReduceLROnPlateau(monitor=\"val_loss\", patience=10, verbose=1) ])"
   ]
  },
  {
   "cell_type": "code",
   "execution_count": 30,
   "metadata": {},
   "outputs": [
    {
     "name": "stdout",
     "output_type": "stream",
     "text": [
      "CPU times: user 6 µs, sys: 0 ns, total: 6 µs\n",
      "Wall time: 11.4 µs\n"
     ]
    },
    {
     "name": "stderr",
     "output_type": "stream",
     "text": [
      "2023-01-17 23:00:20.986852: I tensorflow/compiler/xla/service/service.cc:173] XLA service 0x556605eb4b50 initialized for platform CUDA (this does not guarantee that XLA will be used). Devices:\n",
      "2023-01-17 23:00:20.986888: I tensorflow/compiler/xla/service/service.cc:181]   StreamExecutor device (0): Tesla T4, Compute Capability 7.5\n",
      "2023-01-17 23:00:20.992387: I tensorflow/compiler/mlir/tensorflow/utils/dump_mlir_util.cc:268] disabling MLIR crash reproducer, set env var `MLIR_CRASH_REPRODUCER_DIRECTORY` to enable.\n",
      "2023-01-17 23:00:21.015393: W tensorflow/compiler/xla/service/gpu/nvptx_helper.cc:56] Can't find libdevice directory ${CUDA_DIR}/nvvm/libdevice. This may result in compilation or runtime failures, if the program we try to run uses routines from libdevice.\n",
      "Searched for CUDA in the following directories:\n",
      "  ./cuda_sdk_lib\n",
      "  /usr/local/cuda-11.2\n",
      "  /usr/local/cuda\n",
      "  .\n",
      "You can choose the search directory by setting xla_gpu_cuda_data_dir in HloModule's DebugOptions.  For most apps, setting the environment variable XLA_FLAGS=--xla_gpu_cuda_data_dir=/path/to/cuda will work.\n",
      "2023-01-17 23:00:21.018090: W tensorflow/compiler/xla/service/gpu/llvm_gpu_backend/gpu_backend_lib.cc:326] libdevice is required by this HLO module but was not found at ./libdevice.10.bc\n",
      "2023-01-17 23:00:21.018271: I tensorflow/compiler/jit/xla_compilation_cache.cc:477] Compiled cluster using XLA!  This line is logged at most once for the lifetime of the process.\n",
      "2023-01-17 23:00:21.018373: W tensorflow/core/framework/op_kernel.cc:1830] OP_REQUIRES failed at xla_ops.cc:446 : INTERNAL: libdevice not found at ./libdevice.10.bc\n",
      "2023-01-17 23:00:21.037399: W tensorflow/compiler/xla/service/gpu/llvm_gpu_backend/gpu_backend_lib.cc:326] libdevice is required by this HLO module but was not found at ./libdevice.10.bc\n",
      "2023-01-17 23:00:21.037630: W tensorflow/core/framework/op_kernel.cc:1830] OP_REQUIRES failed at xla_ops.cc:446 : INTERNAL: libdevice not found at ./libdevice.10.bc\n",
      "2023-01-17 23:00:21.056974: W tensorflow/compiler/xla/service/gpu/llvm_gpu_backend/gpu_backend_lib.cc:326] libdevice is required by this HLO module but was not found at ./libdevice.10.bc\n",
      "2023-01-17 23:00:21.057203: W tensorflow/core/framework/op_kernel.cc:1830] OP_REQUIRES failed at xla_ops.cc:446 : INTERNAL: libdevice not found at ./libdevice.10.bc\n",
      "2023-01-17 23:00:21.075989: W tensorflow/compiler/xla/service/gpu/llvm_gpu_backend/gpu_backend_lib.cc:326] libdevice is required by this HLO module but was not found at ./libdevice.10.bc\n",
      "2023-01-17 23:00:21.076218: W tensorflow/core/framework/op_kernel.cc:1830] OP_REQUIRES failed at xla_ops.cc:446 : INTERNAL: libdevice not found at ./libdevice.10.bc\n",
      "2023-01-17 23:00:21.095491: W tensorflow/compiler/xla/service/gpu/llvm_gpu_backend/gpu_backend_lib.cc:326] libdevice is required by this HLO module but was not found at ./libdevice.10.bc\n",
      "2023-01-17 23:00:21.095722: W tensorflow/core/framework/op_kernel.cc:1830] OP_REQUIRES failed at xla_ops.cc:446 : INTERNAL: libdevice not found at ./libdevice.10.bc\n",
      "2023-01-17 23:00:21.114658: W tensorflow/compiler/xla/service/gpu/llvm_gpu_backend/gpu_backend_lib.cc:326] libdevice is required by this HLO module but was not found at ./libdevice.10.bc\n",
      "2023-01-17 23:00:21.114888: W tensorflow/core/framework/op_kernel.cc:1830] OP_REQUIRES failed at xla_ops.cc:446 : INTERNAL: libdevice not found at ./libdevice.10.bc\n",
      "2023-01-17 23:00:21.134166: W tensorflow/compiler/xla/service/gpu/llvm_gpu_backend/gpu_backend_lib.cc:326] libdevice is required by this HLO module but was not found at ./libdevice.10.bc\n",
      "2023-01-17 23:00:21.134397: W tensorflow/core/framework/op_kernel.cc:1830] OP_REQUIRES failed at xla_ops.cc:446 : INTERNAL: libdevice not found at ./libdevice.10.bc\n",
      "2023-01-17 23:00:21.153415: W tensorflow/compiler/xla/service/gpu/llvm_gpu_backend/gpu_backend_lib.cc:326] libdevice is required by this HLO module but was not found at ./libdevice.10.bc\n",
      "2023-01-17 23:00:21.153645: W tensorflow/core/framework/op_kernel.cc:1830] OP_REQUIRES failed at xla_ops.cc:446 : INTERNAL: libdevice not found at ./libdevice.10.bc\n",
      "2023-01-17 23:00:21.173023: W tensorflow/compiler/xla/service/gpu/llvm_gpu_backend/gpu_backend_lib.cc:326] libdevice is required by this HLO module but was not found at ./libdevice.10.bc\n",
      "2023-01-17 23:00:21.173282: W tensorflow/core/framework/op_kernel.cc:1830] OP_REQUIRES failed at xla_ops.cc:446 : INTERNAL: libdevice not found at ./libdevice.10.bc\n",
      "2023-01-17 23:00:21.192165: W tensorflow/compiler/xla/service/gpu/llvm_gpu_backend/gpu_backend_lib.cc:326] libdevice is required by this HLO module but was not found at ./libdevice.10.bc\n",
      "2023-01-17 23:00:21.192407: W tensorflow/core/framework/op_kernel.cc:1830] OP_REQUIRES failed at xla_ops.cc:446 : INTERNAL: libdevice not found at ./libdevice.10.bc\n",
      "2023-01-17 23:00:21.211895: W tensorflow/compiler/xla/service/gpu/llvm_gpu_backend/gpu_backend_lib.cc:326] libdevice is required by this HLO module but was not found at ./libdevice.10.bc\n",
      "2023-01-17 23:00:21.212128: W tensorflow/core/framework/op_kernel.cc:1830] OP_REQUIRES failed at xla_ops.cc:446 : INTERNAL: libdevice not found at ./libdevice.10.bc\n",
      "2023-01-17 23:00:21.231087: W tensorflow/compiler/xla/service/gpu/llvm_gpu_backend/gpu_backend_lib.cc:326] libdevice is required by this HLO module but was not found at ./libdevice.10.bc\n",
      "2023-01-17 23:00:21.231321: W tensorflow/core/framework/op_kernel.cc:1830] OP_REQUIRES failed at xla_ops.cc:446 : INTERNAL: libdevice not found at ./libdevice.10.bc\n",
      "2023-01-17 23:00:21.250816: W tensorflow/compiler/xla/service/gpu/llvm_gpu_backend/gpu_backend_lib.cc:326] libdevice is required by this HLO module but was not found at ./libdevice.10.bc\n",
      "2023-01-17 23:00:21.251049: W tensorflow/core/framework/op_kernel.cc:1830] OP_REQUIRES failed at xla_ops.cc:446 : INTERNAL: libdevice not found at ./libdevice.10.bc\n",
      "2023-01-17 23:00:21.270120: W tensorflow/compiler/xla/service/gpu/llvm_gpu_backend/gpu_backend_lib.cc:326] libdevice is required by this HLO module but was not found at ./libdevice.10.bc\n",
      "2023-01-17 23:00:21.270353: W tensorflow/core/framework/op_kernel.cc:1830] OP_REQUIRES failed at xla_ops.cc:446 : INTERNAL: libdevice not found at ./libdevice.10.bc\n",
      "2023-01-17 23:00:21.289716: W tensorflow/compiler/xla/service/gpu/llvm_gpu_backend/gpu_backend_lib.cc:326] libdevice is required by this HLO module but was not found at ./libdevice.10.bc\n",
      "2023-01-17 23:00:21.289951: W tensorflow/core/framework/op_kernel.cc:1830] OP_REQUIRES failed at xla_ops.cc:446 : INTERNAL: libdevice not found at ./libdevice.10.bc\n",
      "2023-01-17 23:00:21.309022: W tensorflow/compiler/xla/service/gpu/llvm_gpu_backend/gpu_backend_lib.cc:326] libdevice is required by this HLO module but was not found at ./libdevice.10.bc\n",
      "2023-01-17 23:00:21.309258: W tensorflow/core/framework/op_kernel.cc:1830] OP_REQUIRES failed at xla_ops.cc:446 : INTERNAL: libdevice not found at ./libdevice.10.bc\n",
      "2023-01-17 23:00:21.328795: W tensorflow/compiler/xla/service/gpu/llvm_gpu_backend/gpu_backend_lib.cc:326] libdevice is required by this HLO module but was not found at ./libdevice.10.bc\n",
      "2023-01-17 23:00:21.329031: W tensorflow/core/framework/op_kernel.cc:1830] OP_REQUIRES failed at xla_ops.cc:446 : INTERNAL: libdevice not found at ./libdevice.10.bc\n",
      "2023-01-17 23:00:21.348083: W tensorflow/compiler/xla/service/gpu/llvm_gpu_backend/gpu_backend_lib.cc:326] libdevice is required by this HLO module but was not found at ./libdevice.10.bc\n",
      "2023-01-17 23:00:21.348318: W tensorflow/core/framework/op_kernel.cc:1830] OP_REQUIRES failed at xla_ops.cc:446 : INTERNAL: libdevice not found at ./libdevice.10.bc\n",
      "2023-01-17 23:00:21.367782: W tensorflow/compiler/xla/service/gpu/llvm_gpu_backend/gpu_backend_lib.cc:326] libdevice is required by this HLO module but was not found at ./libdevice.10.bc\n",
      "2023-01-17 23:00:21.368019: W tensorflow/core/framework/op_kernel.cc:1830] OP_REQUIRES failed at xla_ops.cc:446 : INTERNAL: libdevice not found at ./libdevice.10.bc\n",
      "2023-01-17 23:00:21.387087: W tensorflow/compiler/xla/service/gpu/llvm_gpu_backend/gpu_backend_lib.cc:326] libdevice is required by this HLO module but was not found at ./libdevice.10.bc\n",
      "2023-01-17 23:00:21.387319: W tensorflow/core/framework/op_kernel.cc:1830] OP_REQUIRES failed at xla_ops.cc:446 : INTERNAL: libdevice not found at ./libdevice.10.bc\n",
      "2023-01-17 23:00:21.406817: W tensorflow/compiler/xla/service/gpu/llvm_gpu_backend/gpu_backend_lib.cc:326] libdevice is required by this HLO module but was not found at ./libdevice.10.bc\n",
      "2023-01-17 23:00:21.407052: W tensorflow/core/framework/op_kernel.cc:1830] OP_REQUIRES failed at xla_ops.cc:446 : INTERNAL: libdevice not found at ./libdevice.10.bc\n",
      "2023-01-17 23:00:21.426298: W tensorflow/compiler/xla/service/gpu/llvm_gpu_backend/gpu_backend_lib.cc:326] libdevice is required by this HLO module but was not found at ./libdevice.10.bc\n",
      "2023-01-17 23:00:21.426536: W tensorflow/core/framework/op_kernel.cc:1830] OP_REQUIRES failed at xla_ops.cc:446 : INTERNAL: libdevice not found at ./libdevice.10.bc\n",
      "2023-01-17 23:00:21.447130: W tensorflow/compiler/xla/service/gpu/llvm_gpu_backend/gpu_backend_lib.cc:326] libdevice is required by this HLO module but was not found at ./libdevice.10.bc\n",
      "2023-01-17 23:00:21.447366: W tensorflow/core/framework/op_kernel.cc:1830] OP_REQUIRES failed at xla_ops.cc:446 : INTERNAL: libdevice not found at ./libdevice.10.bc\n",
      "2023-01-17 23:00:21.466459: W tensorflow/compiler/xla/service/gpu/llvm_gpu_backend/gpu_backend_lib.cc:326] libdevice is required by this HLO module but was not found at ./libdevice.10.bc\n",
      "2023-01-17 23:00:21.466720: W tensorflow/core/framework/op_kernel.cc:1830] OP_REQUIRES failed at xla_ops.cc:446 : INTERNAL: libdevice not found at ./libdevice.10.bc\n",
      "2023-01-17 23:00:21.486312: W tensorflow/compiler/xla/service/gpu/llvm_gpu_backend/gpu_backend_lib.cc:326] libdevice is required by this HLO module but was not found at ./libdevice.10.bc\n",
      "2023-01-17 23:00:21.486564: W tensorflow/core/framework/op_kernel.cc:1830] OP_REQUIRES failed at xla_ops.cc:446 : INTERNAL: libdevice not found at ./libdevice.10.bc\n",
      "2023-01-17 23:00:21.505671: W tensorflow/compiler/xla/service/gpu/llvm_gpu_backend/gpu_backend_lib.cc:326] libdevice is required by this HLO module but was not found at ./libdevice.10.bc\n",
      "2023-01-17 23:00:21.505908: W tensorflow/core/framework/op_kernel.cc:1830] OP_REQUIRES failed at xla_ops.cc:446 : INTERNAL: libdevice not found at ./libdevice.10.bc\n",
      "2023-01-17 23:00:21.525485: W tensorflow/compiler/xla/service/gpu/llvm_gpu_backend/gpu_backend_lib.cc:326] libdevice is required by this HLO module but was not found at ./libdevice.10.bc\n",
      "2023-01-17 23:00:21.525722: W tensorflow/core/framework/op_kernel.cc:1830] OP_REQUIRES failed at xla_ops.cc:446 : INTERNAL: libdevice not found at ./libdevice.10.bc\n",
      "2023-01-17 23:00:21.544773: W tensorflow/compiler/xla/service/gpu/llvm_gpu_backend/gpu_backend_lib.cc:326] libdevice is required by this HLO module but was not found at ./libdevice.10.bc\n",
      "2023-01-17 23:00:21.545011: W tensorflow/core/framework/op_kernel.cc:1830] OP_REQUIRES failed at xla_ops.cc:446 : INTERNAL: libdevice not found at ./libdevice.10.bc\n",
      "2023-01-17 23:00:21.564583: W tensorflow/compiler/xla/service/gpu/llvm_gpu_backend/gpu_backend_lib.cc:326] libdevice is required by this HLO module but was not found at ./libdevice.10.bc\n",
      "2023-01-17 23:00:21.564821: W tensorflow/core/framework/op_kernel.cc:1830] OP_REQUIRES failed at xla_ops.cc:446 : INTERNAL: libdevice not found at ./libdevice.10.bc\n",
      "2023-01-17 23:00:21.583941: W tensorflow/compiler/xla/service/gpu/llvm_gpu_backend/gpu_backend_lib.cc:326] libdevice is required by this HLO module but was not found at ./libdevice.10.bc\n",
      "2023-01-17 23:00:21.584177: W tensorflow/core/framework/op_kernel.cc:1830] OP_REQUIRES failed at xla_ops.cc:446 : INTERNAL: libdevice not found at ./libdevice.10.bc\n",
      "2023-01-17 23:00:21.603724: W tensorflow/compiler/xla/service/gpu/llvm_gpu_backend/gpu_backend_lib.cc:326] libdevice is required by this HLO module but was not found at ./libdevice.10.bc\n",
      "2023-01-17 23:00:21.603964: W tensorflow/core/framework/op_kernel.cc:1830] OP_REQUIRES failed at xla_ops.cc:446 : INTERNAL: libdevice not found at ./libdevice.10.bc\n",
      "2023-01-17 23:00:21.623123: W tensorflow/compiler/xla/service/gpu/llvm_gpu_backend/gpu_backend_lib.cc:326] libdevice is required by this HLO module but was not found at ./libdevice.10.bc\n",
      "2023-01-17 23:00:21.623360: W tensorflow/core/framework/op_kernel.cc:1830] OP_REQUIRES failed at xla_ops.cc:446 : INTERNAL: libdevice not found at ./libdevice.10.bc\n",
      "2023-01-17 23:00:21.642823: W tensorflow/compiler/xla/service/gpu/llvm_gpu_backend/gpu_backend_lib.cc:326] libdevice is required by this HLO module but was not found at ./libdevice.10.bc\n",
      "2023-01-17 23:00:21.643060: W tensorflow/core/framework/op_kernel.cc:1830] OP_REQUIRES failed at xla_ops.cc:446 : INTERNAL: libdevice not found at ./libdevice.10.bc\n",
      "2023-01-17 23:00:21.662155: W tensorflow/compiler/xla/service/gpu/llvm_gpu_backend/gpu_backend_lib.cc:326] libdevice is required by this HLO module but was not found at ./libdevice.10.bc\n",
      "2023-01-17 23:00:21.662393: W tensorflow/core/framework/op_kernel.cc:1830] OP_REQUIRES failed at xla_ops.cc:446 : INTERNAL: libdevice not found at ./libdevice.10.bc\n",
      "2023-01-17 23:00:21.681964: W tensorflow/compiler/xla/service/gpu/llvm_gpu_backend/gpu_backend_lib.cc:326] libdevice is required by this HLO module but was not found at ./libdevice.10.bc\n",
      "2023-01-17 23:00:21.682203: W tensorflow/core/framework/op_kernel.cc:1830] OP_REQUIRES failed at xla_ops.cc:446 : INTERNAL: libdevice not found at ./libdevice.10.bc\n",
      "2023-01-17 23:00:21.701316: W tensorflow/compiler/xla/service/gpu/llvm_gpu_backend/gpu_backend_lib.cc:326] libdevice is required by this HLO module but was not found at ./libdevice.10.bc\n",
      "2023-01-17 23:00:21.701554: W tensorflow/core/framework/op_kernel.cc:1830] OP_REQUIRES failed at xla_ops.cc:446 : INTERNAL: libdevice not found at ./libdevice.10.bc\n",
      "2023-01-17 23:00:21.721132: W tensorflow/compiler/xla/service/gpu/llvm_gpu_backend/gpu_backend_lib.cc:326] libdevice is required by this HLO module but was not found at ./libdevice.10.bc\n",
      "2023-01-17 23:00:21.721371: W tensorflow/core/framework/op_kernel.cc:1830] OP_REQUIRES failed at xla_ops.cc:446 : INTERNAL: libdevice not found at ./libdevice.10.bc\n",
      "2023-01-17 23:00:21.740562: W tensorflow/compiler/xla/service/gpu/llvm_gpu_backend/gpu_backend_lib.cc:326] libdevice is required by this HLO module but was not found at ./libdevice.10.bc\n",
      "2023-01-17 23:00:21.740798: W tensorflow/core/framework/op_kernel.cc:1830] OP_REQUIRES failed at xla_ops.cc:446 : INTERNAL: libdevice not found at ./libdevice.10.bc\n",
      "2023-01-17 23:00:21.760301: W tensorflow/compiler/xla/service/gpu/llvm_gpu_backend/gpu_backend_lib.cc:326] libdevice is required by this HLO module but was not found at ./libdevice.10.bc\n",
      "2023-01-17 23:00:21.760548: W tensorflow/core/framework/op_kernel.cc:1830] OP_REQUIRES failed at xla_ops.cc:446 : INTERNAL: libdevice not found at ./libdevice.10.bc\n",
      "2023-01-17 23:00:21.779705: W tensorflow/compiler/xla/service/gpu/llvm_gpu_backend/gpu_backend_lib.cc:326] libdevice is required by this HLO module but was not found at ./libdevice.10.bc\n",
      "2023-01-17 23:00:21.779944: W tensorflow/core/framework/op_kernel.cc:1830] OP_REQUIRES failed at xla_ops.cc:446 : INTERNAL: libdevice not found at ./libdevice.10.bc\n",
      "2023-01-17 23:00:21.799558: W tensorflow/compiler/xla/service/gpu/llvm_gpu_backend/gpu_backend_lib.cc:326] libdevice is required by this HLO module but was not found at ./libdevice.10.bc\n",
      "2023-01-17 23:00:21.799798: W tensorflow/core/framework/op_kernel.cc:1830] OP_REQUIRES failed at xla_ops.cc:446 : INTERNAL: libdevice not found at ./libdevice.10.bc\n",
      "2023-01-17 23:00:21.820386: W tensorflow/compiler/xla/service/gpu/llvm_gpu_backend/gpu_backend_lib.cc:326] libdevice is required by this HLO module but was not found at ./libdevice.10.bc\n",
      "2023-01-17 23:00:21.820626: W tensorflow/core/framework/op_kernel.cc:1830] OP_REQUIRES failed at xla_ops.cc:446 : INTERNAL: libdevice not found at ./libdevice.10.bc\n",
      "2023-01-17 23:00:21.840485: W tensorflow/compiler/xla/service/gpu/llvm_gpu_backend/gpu_backend_lib.cc:326] libdevice is required by this HLO module but was not found at ./libdevice.10.bc\n",
      "2023-01-17 23:00:21.840730: W tensorflow/core/framework/op_kernel.cc:1830] OP_REQUIRES failed at xla_ops.cc:446 : INTERNAL: libdevice not found at ./libdevice.10.bc\n",
      "2023-01-17 23:00:21.859984: W tensorflow/compiler/xla/service/gpu/llvm_gpu_backend/gpu_backend_lib.cc:326] libdevice is required by this HLO module but was not found at ./libdevice.10.bc\n",
      "2023-01-17 23:00:21.860226: W tensorflow/core/framework/op_kernel.cc:1830] OP_REQUIRES failed at xla_ops.cc:446 : INTERNAL: libdevice not found at ./libdevice.10.bc\n",
      "2023-01-17 23:00:21.879829: W tensorflow/compiler/xla/service/gpu/llvm_gpu_backend/gpu_backend_lib.cc:326] libdevice is required by this HLO module but was not found at ./libdevice.10.bc\n",
      "2023-01-17 23:00:21.880069: W tensorflow/core/framework/op_kernel.cc:1830] OP_REQUIRES failed at xla_ops.cc:446 : INTERNAL: libdevice not found at ./libdevice.10.bc\n",
      "2023-01-17 23:00:21.899267: W tensorflow/compiler/xla/service/gpu/llvm_gpu_backend/gpu_backend_lib.cc:326] libdevice is required by this HLO module but was not found at ./libdevice.10.bc\n",
      "2023-01-17 23:00:21.899509: W tensorflow/core/framework/op_kernel.cc:1830] OP_REQUIRES failed at xla_ops.cc:446 : INTERNAL: libdevice not found at ./libdevice.10.bc\n",
      "2023-01-17 23:00:21.919024: W tensorflow/compiler/xla/service/gpu/llvm_gpu_backend/gpu_backend_lib.cc:326] libdevice is required by this HLO module but was not found at ./libdevice.10.bc\n",
      "2023-01-17 23:00:21.919265: W tensorflow/core/framework/op_kernel.cc:1830] OP_REQUIRES failed at xla_ops.cc:446 : INTERNAL: libdevice not found at ./libdevice.10.bc\n",
      "2023-01-17 23:00:21.938478: W tensorflow/compiler/xla/service/gpu/llvm_gpu_backend/gpu_backend_lib.cc:326] libdevice is required by this HLO module but was not found at ./libdevice.10.bc\n",
      "2023-01-17 23:00:21.938768: W tensorflow/core/framework/op_kernel.cc:1830] OP_REQUIRES failed at xla_ops.cc:446 : INTERNAL: libdevice not found at ./libdevice.10.bc\n",
      "2023-01-17 23:00:21.958324: W tensorflow/compiler/xla/service/gpu/llvm_gpu_backend/gpu_backend_lib.cc:326] libdevice is required by this HLO module but was not found at ./libdevice.10.bc\n",
      "2023-01-17 23:00:21.958589: W tensorflow/core/framework/op_kernel.cc:1830] OP_REQUIRES failed at xla_ops.cc:446 : INTERNAL: libdevice not found at ./libdevice.10.bc\n",
      "2023-01-17 23:00:21.977758: W tensorflow/compiler/xla/service/gpu/llvm_gpu_backend/gpu_backend_lib.cc:326] libdevice is required by this HLO module but was not found at ./libdevice.10.bc\n",
      "2023-01-17 23:00:21.977998: W tensorflow/core/framework/op_kernel.cc:1830] OP_REQUIRES failed at xla_ops.cc:446 : INTERNAL: libdevice not found at ./libdevice.10.bc\n",
      "2023-01-17 23:00:21.997668: W tensorflow/compiler/xla/service/gpu/llvm_gpu_backend/gpu_backend_lib.cc:326] libdevice is required by this HLO module but was not found at ./libdevice.10.bc\n",
      "2023-01-17 23:00:21.997937: W tensorflow/core/framework/op_kernel.cc:1830] OP_REQUIRES failed at xla_ops.cc:446 : INTERNAL: libdevice not found at ./libdevice.10.bc\n",
      "2023-01-17 23:00:22.017102: W tensorflow/compiler/xla/service/gpu/llvm_gpu_backend/gpu_backend_lib.cc:326] libdevice is required by this HLO module but was not found at ./libdevice.10.bc\n",
      "2023-01-17 23:00:22.017341: W tensorflow/core/framework/op_kernel.cc:1830] OP_REQUIRES failed at xla_ops.cc:446 : INTERNAL: libdevice not found at ./libdevice.10.bc\n",
      "2023-01-17 23:00:22.037022: W tensorflow/compiler/xla/service/gpu/llvm_gpu_backend/gpu_backend_lib.cc:326] libdevice is required by this HLO module but was not found at ./libdevice.10.bc\n",
      "2023-01-17 23:00:22.037264: W tensorflow/core/framework/op_kernel.cc:1830] OP_REQUIRES failed at xla_ops.cc:446 : INTERNAL: libdevice not found at ./libdevice.10.bc\n",
      "2023-01-17 23:00:22.056459: W tensorflow/compiler/xla/service/gpu/llvm_gpu_backend/gpu_backend_lib.cc:326] libdevice is required by this HLO module but was not found at ./libdevice.10.bc\n",
      "2023-01-17 23:00:22.056735: W tensorflow/core/framework/op_kernel.cc:1830] OP_REQUIRES failed at xla_ops.cc:446 : INTERNAL: libdevice not found at ./libdevice.10.bc\n",
      "2023-01-17 23:00:22.076366: W tensorflow/compiler/xla/service/gpu/llvm_gpu_backend/gpu_backend_lib.cc:326] libdevice is required by this HLO module but was not found at ./libdevice.10.bc\n",
      "2023-01-17 23:00:22.076605: W tensorflow/core/framework/op_kernel.cc:1830] OP_REQUIRES failed at xla_ops.cc:446 : INTERNAL: libdevice not found at ./libdevice.10.bc\n",
      "2023-01-17 23:00:22.095786: W tensorflow/compiler/xla/service/gpu/llvm_gpu_backend/gpu_backend_lib.cc:326] libdevice is required by this HLO module but was not found at ./libdevice.10.bc\n",
      "2023-01-17 23:00:22.096028: W tensorflow/core/framework/op_kernel.cc:1830] OP_REQUIRES failed at xla_ops.cc:446 : INTERNAL: libdevice not found at ./libdevice.10.bc\n",
      "2023-01-17 23:00:22.115704: W tensorflow/compiler/xla/service/gpu/llvm_gpu_backend/gpu_backend_lib.cc:326] libdevice is required by this HLO module but was not found at ./libdevice.10.bc\n",
      "2023-01-17 23:00:22.115949: W tensorflow/core/framework/op_kernel.cc:1830] OP_REQUIRES failed at xla_ops.cc:446 : INTERNAL: libdevice not found at ./libdevice.10.bc\n",
      "2023-01-17 23:00:22.135242: W tensorflow/compiler/xla/service/gpu/llvm_gpu_backend/gpu_backend_lib.cc:326] libdevice is required by this HLO module but was not found at ./libdevice.10.bc\n",
      "2023-01-17 23:00:22.135484: W tensorflow/core/framework/op_kernel.cc:1830] OP_REQUIRES failed at xla_ops.cc:446 : INTERNAL: libdevice not found at ./libdevice.10.bc\n",
      "2023-01-17 23:00:22.155134: W tensorflow/compiler/xla/service/gpu/llvm_gpu_backend/gpu_backend_lib.cc:326] libdevice is required by this HLO module but was not found at ./libdevice.10.bc\n",
      "2023-01-17 23:00:22.155375: W tensorflow/core/framework/op_kernel.cc:1830] OP_REQUIRES failed at xla_ops.cc:446 : INTERNAL: libdevice not found at ./libdevice.10.bc\n",
      "2023-01-17 23:00:22.174517: W tensorflow/compiler/xla/service/gpu/llvm_gpu_backend/gpu_backend_lib.cc:326] libdevice is required by this HLO module but was not found at ./libdevice.10.bc\n",
      "2023-01-17 23:00:22.174782: W tensorflow/core/framework/op_kernel.cc:1830] OP_REQUIRES failed at xla_ops.cc:446 : INTERNAL: libdevice not found at ./libdevice.10.bc\n",
      "2023-01-17 23:00:22.194360: W tensorflow/compiler/xla/service/gpu/llvm_gpu_backend/gpu_backend_lib.cc:326] libdevice is required by this HLO module but was not found at ./libdevice.10.bc\n",
      "2023-01-17 23:00:22.194620: W tensorflow/core/framework/op_kernel.cc:1830] OP_REQUIRES failed at xla_ops.cc:446 : INTERNAL: libdevice not found at ./libdevice.10.bc\n",
      "2023-01-17 23:00:22.213795: W tensorflow/compiler/xla/service/gpu/llvm_gpu_backend/gpu_backend_lib.cc:326] libdevice is required by this HLO module but was not found at ./libdevice.10.bc\n",
      "2023-01-17 23:00:22.214036: W tensorflow/core/framework/op_kernel.cc:1830] OP_REQUIRES failed at xla_ops.cc:446 : INTERNAL: libdevice not found at ./libdevice.10.bc\n",
      "2023-01-17 23:00:22.233689: W tensorflow/compiler/xla/service/gpu/llvm_gpu_backend/gpu_backend_lib.cc:326] libdevice is required by this HLO module but was not found at ./libdevice.10.bc\n",
      "2023-01-17 23:00:22.233929: W tensorflow/core/framework/op_kernel.cc:1830] OP_REQUIRES failed at xla_ops.cc:446 : INTERNAL: libdevice not found at ./libdevice.10.bc\n",
      "2023-01-17 23:00:22.253135: W tensorflow/compiler/xla/service/gpu/llvm_gpu_backend/gpu_backend_lib.cc:326] libdevice is required by this HLO module but was not found at ./libdevice.10.bc\n",
      "2023-01-17 23:00:22.253376: W tensorflow/core/framework/op_kernel.cc:1830] OP_REQUIRES failed at xla_ops.cc:446 : INTERNAL: libdevice not found at ./libdevice.10.bc\n",
      "2023-01-17 23:00:22.272995: W tensorflow/compiler/xla/service/gpu/llvm_gpu_backend/gpu_backend_lib.cc:326] libdevice is required by this HLO module but was not found at ./libdevice.10.bc\n",
      "2023-01-17 23:00:22.273239: W tensorflow/core/framework/op_kernel.cc:1830] OP_REQUIRES failed at xla_ops.cc:446 : INTERNAL: libdevice not found at ./libdevice.10.bc\n",
      "2023-01-17 23:00:22.292456: W tensorflow/compiler/xla/service/gpu/llvm_gpu_backend/gpu_backend_lib.cc:326] libdevice is required by this HLO module but was not found at ./libdevice.10.bc\n",
      "2023-01-17 23:00:22.292696: W tensorflow/core/framework/op_kernel.cc:1830] OP_REQUIRES failed at xla_ops.cc:446 : INTERNAL: libdevice not found at ./libdevice.10.bc\n",
      "2023-01-17 23:00:22.312291: W tensorflow/compiler/xla/service/gpu/llvm_gpu_backend/gpu_backend_lib.cc:326] libdevice is required by this HLO module but was not found at ./libdevice.10.bc\n",
      "2023-01-17 23:00:22.312542: W tensorflow/core/framework/op_kernel.cc:1830] OP_REQUIRES failed at xla_ops.cc:446 : INTERNAL: libdevice not found at ./libdevice.10.bc\n",
      "2023-01-17 23:00:22.331806: W tensorflow/compiler/xla/service/gpu/llvm_gpu_backend/gpu_backend_lib.cc:326] libdevice is required by this HLO module but was not found at ./libdevice.10.bc\n",
      "2023-01-17 23:00:22.332048: W tensorflow/core/framework/op_kernel.cc:1830] OP_REQUIRES failed at xla_ops.cc:446 : INTERNAL: libdevice not found at ./libdevice.10.bc\n",
      "2023-01-17 23:00:22.351732: W tensorflow/compiler/xla/service/gpu/llvm_gpu_backend/gpu_backend_lib.cc:326] libdevice is required by this HLO module but was not found at ./libdevice.10.bc\n",
      "2023-01-17 23:00:22.351976: W tensorflow/core/framework/op_kernel.cc:1830] OP_REQUIRES failed at xla_ops.cc:446 : INTERNAL: libdevice not found at ./libdevice.10.bc\n",
      "2023-01-17 23:00:22.371221: W tensorflow/compiler/xla/service/gpu/llvm_gpu_backend/gpu_backend_lib.cc:326] libdevice is required by this HLO module but was not found at ./libdevice.10.bc\n",
      "2023-01-17 23:00:22.371466: W tensorflow/core/framework/op_kernel.cc:1830] OP_REQUIRES failed at xla_ops.cc:446 : INTERNAL: libdevice not found at ./libdevice.10.bc\n",
      "2023-01-17 23:00:22.391106: W tensorflow/compiler/xla/service/gpu/llvm_gpu_backend/gpu_backend_lib.cc:326] libdevice is required by this HLO module but was not found at ./libdevice.10.bc\n",
      "2023-01-17 23:00:22.391350: W tensorflow/core/framework/op_kernel.cc:1830] OP_REQUIRES failed at xla_ops.cc:446 : INTERNAL: libdevice not found at ./libdevice.10.bc\n",
      "2023-01-17 23:00:22.410583: W tensorflow/compiler/xla/service/gpu/llvm_gpu_backend/gpu_backend_lib.cc:326] libdevice is required by this HLO module but was not found at ./libdevice.10.bc\n",
      "2023-01-17 23:00:22.410821: W tensorflow/core/framework/op_kernel.cc:1830] OP_REQUIRES failed at xla_ops.cc:446 : INTERNAL: libdevice not found at ./libdevice.10.bc\n",
      "2023-01-17 23:00:22.430435: W tensorflow/compiler/xla/service/gpu/llvm_gpu_backend/gpu_backend_lib.cc:326] libdevice is required by this HLO module but was not found at ./libdevice.10.bc\n",
      "2023-01-17 23:00:22.430707: W tensorflow/core/framework/op_kernel.cc:1830] OP_REQUIRES failed at xla_ops.cc:446 : INTERNAL: libdevice not found at ./libdevice.10.bc\n",
      "2023-01-17 23:00:22.449928: W tensorflow/compiler/xla/service/gpu/llvm_gpu_backend/gpu_backend_lib.cc:326] libdevice is required by this HLO module but was not found at ./libdevice.10.bc\n",
      "2023-01-17 23:00:22.450206: W tensorflow/core/framework/op_kernel.cc:1830] OP_REQUIRES failed at xla_ops.cc:446 : INTERNAL: libdevice not found at ./libdevice.10.bc\n",
      "2023-01-17 23:00:22.469855: W tensorflow/compiler/xla/service/gpu/llvm_gpu_backend/gpu_backend_lib.cc:326] libdevice is required by this HLO module but was not found at ./libdevice.10.bc\n",
      "2023-01-17 23:00:22.470099: W tensorflow/core/framework/op_kernel.cc:1830] OP_REQUIRES failed at xla_ops.cc:446 : INTERNAL: libdevice not found at ./libdevice.10.bc\n",
      "2023-01-17 23:00:22.489336: W tensorflow/compiler/xla/service/gpu/llvm_gpu_backend/gpu_backend_lib.cc:326] libdevice is required by this HLO module but was not found at ./libdevice.10.bc\n",
      "2023-01-17 23:00:22.489579: W tensorflow/core/framework/op_kernel.cc:1830] OP_REQUIRES failed at xla_ops.cc:446 : INTERNAL: libdevice not found at ./libdevice.10.bc\n",
      "2023-01-17 23:00:22.509258: W tensorflow/compiler/xla/service/gpu/llvm_gpu_backend/gpu_backend_lib.cc:326] libdevice is required by this HLO module but was not found at ./libdevice.10.bc\n",
      "2023-01-17 23:00:22.509502: W tensorflow/core/framework/op_kernel.cc:1830] OP_REQUIRES failed at xla_ops.cc:446 : INTERNAL: libdevice not found at ./libdevice.10.bc\n",
      "2023-01-17 23:00:22.528821: W tensorflow/compiler/xla/service/gpu/llvm_gpu_backend/gpu_backend_lib.cc:326] libdevice is required by this HLO module but was not found at ./libdevice.10.bc\n",
      "2023-01-17 23:00:22.529061: W tensorflow/core/framework/op_kernel.cc:1830] OP_REQUIRES failed at xla_ops.cc:446 : INTERNAL: libdevice not found at ./libdevice.10.bc\n",
      "2023-01-17 23:00:22.548720: W tensorflow/compiler/xla/service/gpu/llvm_gpu_backend/gpu_backend_lib.cc:326] libdevice is required by this HLO module but was not found at ./libdevice.10.bc\n",
      "2023-01-17 23:00:22.548964: W tensorflow/core/framework/op_kernel.cc:1830] OP_REQUIRES failed at xla_ops.cc:446 : INTERNAL: libdevice not found at ./libdevice.10.bc\n",
      "2023-01-17 23:00:22.568265: W tensorflow/compiler/xla/service/gpu/llvm_gpu_backend/gpu_backend_lib.cc:326] libdevice is required by this HLO module but was not found at ./libdevice.10.bc\n",
      "2023-01-17 23:00:22.568515: W tensorflow/core/framework/op_kernel.cc:1830] OP_REQUIRES failed at xla_ops.cc:446 : INTERNAL: libdevice not found at ./libdevice.10.bc\n",
      "2023-01-17 23:00:22.588245: W tensorflow/compiler/xla/service/gpu/llvm_gpu_backend/gpu_backend_lib.cc:326] libdevice is required by this HLO module but was not found at ./libdevice.10.bc\n",
      "2023-01-17 23:00:22.588500: W tensorflow/core/framework/op_kernel.cc:1830] OP_REQUIRES failed at xla_ops.cc:446 : INTERNAL: libdevice not found at ./libdevice.10.bc\n",
      "2023-01-17 23:00:22.607777: W tensorflow/compiler/xla/service/gpu/llvm_gpu_backend/gpu_backend_lib.cc:326] libdevice is required by this HLO module but was not found at ./libdevice.10.bc\n",
      "2023-01-17 23:00:22.608046: W tensorflow/core/framework/op_kernel.cc:1830] OP_REQUIRES failed at xla_ops.cc:446 : INTERNAL: libdevice not found at ./libdevice.10.bc\n",
      "2023-01-17 23:00:22.627634: W tensorflow/compiler/xla/service/gpu/llvm_gpu_backend/gpu_backend_lib.cc:326] libdevice is required by this HLO module but was not found at ./libdevice.10.bc\n",
      "2023-01-17 23:00:22.627875: W tensorflow/core/framework/op_kernel.cc:1830] OP_REQUIRES failed at xla_ops.cc:446 : INTERNAL: libdevice not found at ./libdevice.10.bc\n",
      "2023-01-17 23:00:22.647141: W tensorflow/compiler/xla/service/gpu/llvm_gpu_backend/gpu_backend_lib.cc:326] libdevice is required by this HLO module but was not found at ./libdevice.10.bc\n",
      "2023-01-17 23:00:22.647384: W tensorflow/core/framework/op_kernel.cc:1830] OP_REQUIRES failed at xla_ops.cc:446 : INTERNAL: libdevice not found at ./libdevice.10.bc\n",
      "2023-01-17 23:00:22.667001: W tensorflow/compiler/xla/service/gpu/llvm_gpu_backend/gpu_backend_lib.cc:326] libdevice is required by this HLO module but was not found at ./libdevice.10.bc\n",
      "2023-01-17 23:00:22.667243: W tensorflow/core/framework/op_kernel.cc:1830] OP_REQUIRES failed at xla_ops.cc:446 : INTERNAL: libdevice not found at ./libdevice.10.bc\n",
      "2023-01-17 23:00:22.686452: W tensorflow/compiler/xla/service/gpu/llvm_gpu_backend/gpu_backend_lib.cc:326] libdevice is required by this HLO module but was not found at ./libdevice.10.bc\n",
      "2023-01-17 23:00:22.686720: W tensorflow/core/framework/op_kernel.cc:1830] OP_REQUIRES failed at xla_ops.cc:446 : INTERNAL: libdevice not found at ./libdevice.10.bc\n",
      "2023-01-17 23:00:22.706345: W tensorflow/compiler/xla/service/gpu/llvm_gpu_backend/gpu_backend_lib.cc:326] libdevice is required by this HLO module but was not found at ./libdevice.10.bc\n",
      "2023-01-17 23:00:22.706615: W tensorflow/core/framework/op_kernel.cc:1830] OP_REQUIRES failed at xla_ops.cc:446 : INTERNAL: libdevice not found at ./libdevice.10.bc\n",
      "2023-01-17 23:00:22.725894: W tensorflow/compiler/xla/service/gpu/llvm_gpu_backend/gpu_backend_lib.cc:326] libdevice is required by this HLO module but was not found at ./libdevice.10.bc\n",
      "2023-01-17 23:00:22.726136: W tensorflow/core/framework/op_kernel.cc:1830] OP_REQUIRES failed at xla_ops.cc:446 : INTERNAL: libdevice not found at ./libdevice.10.bc\n",
      "2023-01-17 23:00:22.745799: W tensorflow/compiler/xla/service/gpu/llvm_gpu_backend/gpu_backend_lib.cc:326] libdevice is required by this HLO module but was not found at ./libdevice.10.bc\n",
      "2023-01-17 23:00:22.746041: W tensorflow/core/framework/op_kernel.cc:1830] OP_REQUIRES failed at xla_ops.cc:446 : INTERNAL: libdevice not found at ./libdevice.10.bc\n",
      "2023-01-17 23:00:22.765368: W tensorflow/compiler/xla/service/gpu/llvm_gpu_backend/gpu_backend_lib.cc:326] libdevice is required by this HLO module but was not found at ./libdevice.10.bc\n",
      "2023-01-17 23:00:22.765610: W tensorflow/core/framework/op_kernel.cc:1830] OP_REQUIRES failed at xla_ops.cc:446 : INTERNAL: libdevice not found at ./libdevice.10.bc\n",
      "2023-01-17 23:00:22.785279: W tensorflow/compiler/xla/service/gpu/llvm_gpu_backend/gpu_backend_lib.cc:326] libdevice is required by this HLO module but was not found at ./libdevice.10.bc\n",
      "2023-01-17 23:00:22.785522: W tensorflow/core/framework/op_kernel.cc:1830] OP_REQUIRES failed at xla_ops.cc:446 : INTERNAL: libdevice not found at ./libdevice.10.bc\n",
      "2023-01-17 23:00:22.804845: W tensorflow/compiler/xla/service/gpu/llvm_gpu_backend/gpu_backend_lib.cc:326] libdevice is required by this HLO module but was not found at ./libdevice.10.bc\n",
      "2023-01-17 23:00:22.805086: W tensorflow/core/framework/op_kernel.cc:1830] OP_REQUIRES failed at xla_ops.cc:446 : INTERNAL: libdevice not found at ./libdevice.10.bc\n",
      "2023-01-17 23:00:22.825990: W tensorflow/compiler/xla/service/gpu/llvm_gpu_backend/gpu_backend_lib.cc:326] libdevice is required by this HLO module but was not found at ./libdevice.10.bc\n",
      "2023-01-17 23:00:22.826234: W tensorflow/core/framework/op_kernel.cc:1830] OP_REQUIRES failed at xla_ops.cc:446 : INTERNAL: libdevice not found at ./libdevice.10.bc\n",
      "2023-01-17 23:00:22.845839: W tensorflow/compiler/xla/service/gpu/llvm_gpu_backend/gpu_backend_lib.cc:326] libdevice is required by this HLO module but was not found at ./libdevice.10.bc\n",
      "2023-01-17 23:00:22.846088: W tensorflow/core/framework/op_kernel.cc:1830] OP_REQUIRES failed at xla_ops.cc:446 : INTERNAL: libdevice not found at ./libdevice.10.bc\n",
      "2023-01-17 23:00:22.866177: W tensorflow/compiler/xla/service/gpu/llvm_gpu_backend/gpu_backend_lib.cc:326] libdevice is required by this HLO module but was not found at ./libdevice.10.bc\n",
      "2023-01-17 23:00:22.866460: W tensorflow/core/framework/op_kernel.cc:1830] OP_REQUIRES failed at xla_ops.cc:446 : INTERNAL: libdevice not found at ./libdevice.10.bc\n",
      "2023-01-17 23:00:22.885900: W tensorflow/compiler/xla/service/gpu/llvm_gpu_backend/gpu_backend_lib.cc:326] libdevice is required by this HLO module but was not found at ./libdevice.10.bc\n",
      "2023-01-17 23:00:22.886140: W tensorflow/core/framework/op_kernel.cc:1830] OP_REQUIRES failed at xla_ops.cc:446 : INTERNAL: libdevice not found at ./libdevice.10.bc\n",
      "2023-01-17 23:00:22.906177: W tensorflow/compiler/xla/service/gpu/llvm_gpu_backend/gpu_backend_lib.cc:326] libdevice is required by this HLO module but was not found at ./libdevice.10.bc\n",
      "2023-01-17 23:00:22.906422: W tensorflow/core/framework/op_kernel.cc:1830] OP_REQUIRES failed at xla_ops.cc:446 : INTERNAL: libdevice not found at ./libdevice.10.bc\n",
      "2023-01-17 23:00:22.925796: W tensorflow/compiler/xla/service/gpu/llvm_gpu_backend/gpu_backend_lib.cc:326] libdevice is required by this HLO module but was not found at ./libdevice.10.bc\n",
      "2023-01-17 23:00:22.926039: W tensorflow/core/framework/op_kernel.cc:1830] OP_REQUIRES failed at xla_ops.cc:446 : INTERNAL: libdevice not found at ./libdevice.10.bc\n",
      "2023-01-17 23:00:22.945819: W tensorflow/compiler/xla/service/gpu/llvm_gpu_backend/gpu_backend_lib.cc:326] libdevice is required by this HLO module but was not found at ./libdevice.10.bc\n",
      "2023-01-17 23:00:22.946062: W tensorflow/core/framework/op_kernel.cc:1830] OP_REQUIRES failed at xla_ops.cc:446 : INTERNAL: libdevice not found at ./libdevice.10.bc\n",
      "2023-01-17 23:00:22.965455: W tensorflow/compiler/xla/service/gpu/llvm_gpu_backend/gpu_backend_lib.cc:326] libdevice is required by this HLO module but was not found at ./libdevice.10.bc\n",
      "2023-01-17 23:00:22.965698: W tensorflow/core/framework/op_kernel.cc:1830] OP_REQUIRES failed at xla_ops.cc:446 : INTERNAL: libdevice not found at ./libdevice.10.bc\n",
      "2023-01-17 23:00:22.985546: W tensorflow/compiler/xla/service/gpu/llvm_gpu_backend/gpu_backend_lib.cc:326] libdevice is required by this HLO module but was not found at ./libdevice.10.bc\n",
      "2023-01-17 23:00:22.985798: W tensorflow/core/framework/op_kernel.cc:1830] OP_REQUIRES failed at xla_ops.cc:446 : INTERNAL: libdevice not found at ./libdevice.10.bc\n",
      "2023-01-17 23:00:23.005203: W tensorflow/compiler/xla/service/gpu/llvm_gpu_backend/gpu_backend_lib.cc:326] libdevice is required by this HLO module but was not found at ./libdevice.10.bc\n",
      "2023-01-17 23:00:23.005445: W tensorflow/core/framework/op_kernel.cc:1830] OP_REQUIRES failed at xla_ops.cc:446 : INTERNAL: libdevice not found at ./libdevice.10.bc\n",
      "2023-01-17 23:00:23.025239: W tensorflow/compiler/xla/service/gpu/llvm_gpu_backend/gpu_backend_lib.cc:326] libdevice is required by this HLO module but was not found at ./libdevice.10.bc\n",
      "2023-01-17 23:00:23.025481: W tensorflow/core/framework/op_kernel.cc:1830] OP_REQUIRES failed at xla_ops.cc:446 : INTERNAL: libdevice not found at ./libdevice.10.bc\n",
      "2023-01-17 23:00:23.044936: W tensorflow/compiler/xla/service/gpu/llvm_gpu_backend/gpu_backend_lib.cc:326] libdevice is required by this HLO module but was not found at ./libdevice.10.bc\n",
      "2023-01-17 23:00:23.045179: W tensorflow/core/framework/op_kernel.cc:1830] OP_REQUIRES failed at xla_ops.cc:446 : INTERNAL: libdevice not found at ./libdevice.10.bc\n",
      "2023-01-17 23:00:23.064863: W tensorflow/compiler/xla/service/gpu/llvm_gpu_backend/gpu_backend_lib.cc:326] libdevice is required by this HLO module but was not found at ./libdevice.10.bc\n",
      "2023-01-17 23:00:23.065108: W tensorflow/core/framework/op_kernel.cc:1830] OP_REQUIRES failed at xla_ops.cc:446 : INTERNAL: libdevice not found at ./libdevice.10.bc\n",
      "2023-01-17 23:00:23.084550: W tensorflow/compiler/xla/service/gpu/llvm_gpu_backend/gpu_backend_lib.cc:326] libdevice is required by this HLO module but was not found at ./libdevice.10.bc\n",
      "2023-01-17 23:00:23.084793: W tensorflow/core/framework/op_kernel.cc:1830] OP_REQUIRES failed at xla_ops.cc:446 : INTERNAL: libdevice not found at ./libdevice.10.bc\n",
      "2023-01-17 23:00:23.104549: W tensorflow/compiler/xla/service/gpu/llvm_gpu_backend/gpu_backend_lib.cc:326] libdevice is required by this HLO module but was not found at ./libdevice.10.bc\n",
      "2023-01-17 23:00:23.104792: W tensorflow/core/framework/op_kernel.cc:1830] OP_REQUIRES failed at xla_ops.cc:446 : INTERNAL: libdevice not found at ./libdevice.10.bc\n",
      "2023-01-17 23:00:23.124213: W tensorflow/compiler/xla/service/gpu/llvm_gpu_backend/gpu_backend_lib.cc:326] libdevice is required by this HLO module but was not found at ./libdevice.10.bc\n",
      "2023-01-17 23:00:23.124467: W tensorflow/core/framework/op_kernel.cc:1830] OP_REQUIRES failed at xla_ops.cc:446 : INTERNAL: libdevice not found at ./libdevice.10.bc\n",
      "2023-01-17 23:00:23.144368: W tensorflow/compiler/xla/service/gpu/llvm_gpu_backend/gpu_backend_lib.cc:326] libdevice is required by this HLO module but was not found at ./libdevice.10.bc\n",
      "2023-01-17 23:00:23.144616: W tensorflow/core/framework/op_kernel.cc:1830] OP_REQUIRES failed at xla_ops.cc:446 : INTERNAL: libdevice not found at ./libdevice.10.bc\n",
      "2023-01-17 23:00:23.163975: W tensorflow/compiler/xla/service/gpu/llvm_gpu_backend/gpu_backend_lib.cc:326] libdevice is required by this HLO module but was not found at ./libdevice.10.bc\n",
      "2023-01-17 23:00:23.164220: W tensorflow/core/framework/op_kernel.cc:1830] OP_REQUIRES failed at xla_ops.cc:446 : INTERNAL: libdevice not found at ./libdevice.10.bc\n",
      "2023-01-17 23:00:23.184085: W tensorflow/compiler/xla/service/gpu/llvm_gpu_backend/gpu_backend_lib.cc:326] libdevice is required by this HLO module but was not found at ./libdevice.10.bc\n",
      "2023-01-17 23:00:23.184339: W tensorflow/core/framework/op_kernel.cc:1830] OP_REQUIRES failed at xla_ops.cc:446 : INTERNAL: libdevice not found at ./libdevice.10.bc\n",
      "2023-01-17 23:00:23.203659: W tensorflow/compiler/xla/service/gpu/llvm_gpu_backend/gpu_backend_lib.cc:326] libdevice is required by this HLO module but was not found at ./libdevice.10.bc\n",
      "2023-01-17 23:00:23.203903: W tensorflow/core/framework/op_kernel.cc:1830] OP_REQUIRES failed at xla_ops.cc:446 : INTERNAL: libdevice not found at ./libdevice.10.bc\n",
      "2023-01-17 23:00:23.223746: W tensorflow/compiler/xla/service/gpu/llvm_gpu_backend/gpu_backend_lib.cc:326] libdevice is required by this HLO module but was not found at ./libdevice.10.bc\n",
      "2023-01-17 23:00:23.223990: W tensorflow/core/framework/op_kernel.cc:1830] OP_REQUIRES failed at xla_ops.cc:446 : INTERNAL: libdevice not found at ./libdevice.10.bc\n",
      "2023-01-17 23:00:23.243326: W tensorflow/compiler/xla/service/gpu/llvm_gpu_backend/gpu_backend_lib.cc:326] libdevice is required by this HLO module but was not found at ./libdevice.10.bc\n",
      "2023-01-17 23:00:23.243567: W tensorflow/core/framework/op_kernel.cc:1830] OP_REQUIRES failed at xla_ops.cc:446 : INTERNAL: libdevice not found at ./libdevice.10.bc\n",
      "2023-01-17 23:00:23.263325: W tensorflow/compiler/xla/service/gpu/llvm_gpu_backend/gpu_backend_lib.cc:326] libdevice is required by this HLO module but was not found at ./libdevice.10.bc\n",
      "2023-01-17 23:00:23.263566: W tensorflow/core/framework/op_kernel.cc:1830] OP_REQUIRES failed at xla_ops.cc:446 : INTERNAL: libdevice not found at ./libdevice.10.bc\n",
      "2023-01-17 23:00:23.283041: W tensorflow/compiler/xla/service/gpu/llvm_gpu_backend/gpu_backend_lib.cc:326] libdevice is required by this HLO module but was not found at ./libdevice.10.bc\n",
      "2023-01-17 23:00:23.283282: W tensorflow/core/framework/op_kernel.cc:1830] OP_REQUIRES failed at xla_ops.cc:446 : INTERNAL: libdevice not found at ./libdevice.10.bc\n",
      "2023-01-17 23:00:23.303273: W tensorflow/compiler/xla/service/gpu/llvm_gpu_backend/gpu_backend_lib.cc:326] libdevice is required by this HLO module but was not found at ./libdevice.10.bc\n",
      "2023-01-17 23:00:23.303516: W tensorflow/core/framework/op_kernel.cc:1830] OP_REQUIRES failed at xla_ops.cc:446 : INTERNAL: libdevice not found at ./libdevice.10.bc\n",
      "2023-01-17 23:00:23.323060: W tensorflow/compiler/xla/service/gpu/llvm_gpu_backend/gpu_backend_lib.cc:326] libdevice is required by this HLO module but was not found at ./libdevice.10.bc\n",
      "2023-01-17 23:00:23.323300: W tensorflow/core/framework/op_kernel.cc:1830] OP_REQUIRES failed at xla_ops.cc:446 : INTERNAL: libdevice not found at ./libdevice.10.bc\n",
      "2023-01-17 23:00:23.343137: W tensorflow/compiler/xla/service/gpu/llvm_gpu_backend/gpu_backend_lib.cc:326] libdevice is required by this HLO module but was not found at ./libdevice.10.bc\n",
      "2023-01-17 23:00:23.343381: W tensorflow/core/framework/op_kernel.cc:1830] OP_REQUIRES failed at xla_ops.cc:446 : INTERNAL: libdevice not found at ./libdevice.10.bc\n",
      "2023-01-17 23:00:23.362837: W tensorflow/compiler/xla/service/gpu/llvm_gpu_backend/gpu_backend_lib.cc:326] libdevice is required by this HLO module but was not found at ./libdevice.10.bc\n",
      "2023-01-17 23:00:23.363078: W tensorflow/core/framework/op_kernel.cc:1830] OP_REQUIRES failed at xla_ops.cc:446 : INTERNAL: libdevice not found at ./libdevice.10.bc\n",
      "2023-01-17 23:00:23.382927: W tensorflow/compiler/xla/service/gpu/llvm_gpu_backend/gpu_backend_lib.cc:326] libdevice is required by this HLO module but was not found at ./libdevice.10.bc\n",
      "2023-01-17 23:00:23.383171: W tensorflow/core/framework/op_kernel.cc:1830] OP_REQUIRES failed at xla_ops.cc:446 : INTERNAL: libdevice not found at ./libdevice.10.bc\n",
      "2023-01-17 23:00:23.402541: W tensorflow/compiler/xla/service/gpu/llvm_gpu_backend/gpu_backend_lib.cc:326] libdevice is required by this HLO module but was not found at ./libdevice.10.bc\n",
      "2023-01-17 23:00:23.402825: W tensorflow/core/framework/op_kernel.cc:1830] OP_REQUIRES failed at xla_ops.cc:446 : INTERNAL: libdevice not found at ./libdevice.10.bc\n",
      "2023-01-17 23:00:23.422653: W tensorflow/compiler/xla/service/gpu/llvm_gpu_backend/gpu_backend_lib.cc:326] libdevice is required by this HLO module but was not found at ./libdevice.10.bc\n",
      "2023-01-17 23:00:23.422896: W tensorflow/core/framework/op_kernel.cc:1830] OP_REQUIRES failed at xla_ops.cc:446 : INTERNAL: libdevice not found at ./libdevice.10.bc\n",
      "2023-01-17 23:00:23.442218: W tensorflow/compiler/xla/service/gpu/llvm_gpu_backend/gpu_backend_lib.cc:326] libdevice is required by this HLO module but was not found at ./libdevice.10.bc\n",
      "2023-01-17 23:00:23.442461: W tensorflow/core/framework/op_kernel.cc:1830] OP_REQUIRES failed at xla_ops.cc:446 : INTERNAL: libdevice not found at ./libdevice.10.bc\n",
      "2023-01-17 23:00:23.462229: W tensorflow/compiler/xla/service/gpu/llvm_gpu_backend/gpu_backend_lib.cc:326] libdevice is required by this HLO module but was not found at ./libdevice.10.bc\n",
      "2023-01-17 23:00:23.462472: W tensorflow/core/framework/op_kernel.cc:1830] OP_REQUIRES failed at xla_ops.cc:446 : INTERNAL: libdevice not found at ./libdevice.10.bc\n",
      "2023-01-17 23:00:23.481898: W tensorflow/compiler/xla/service/gpu/llvm_gpu_backend/gpu_backend_lib.cc:326] libdevice is required by this HLO module but was not found at ./libdevice.10.bc\n",
      "2023-01-17 23:00:23.482140: W tensorflow/core/framework/op_kernel.cc:1830] OP_REQUIRES failed at xla_ops.cc:446 : INTERNAL: libdevice not found at ./libdevice.10.bc\n",
      "2023-01-17 23:00:23.501867: W tensorflow/compiler/xla/service/gpu/llvm_gpu_backend/gpu_backend_lib.cc:326] libdevice is required by this HLO module but was not found at ./libdevice.10.bc\n",
      "2023-01-17 23:00:23.502110: W tensorflow/core/framework/op_kernel.cc:1830] OP_REQUIRES failed at xla_ops.cc:446 : INTERNAL: libdevice not found at ./libdevice.10.bc\n",
      "2023-01-17 23:00:23.521508: W tensorflow/compiler/xla/service/gpu/llvm_gpu_backend/gpu_backend_lib.cc:326] libdevice is required by this HLO module but was not found at ./libdevice.10.bc\n",
      "2023-01-17 23:00:23.521750: W tensorflow/core/framework/op_kernel.cc:1830] OP_REQUIRES failed at xla_ops.cc:446 : INTERNAL: libdevice not found at ./libdevice.10.bc\n",
      "2023-01-17 23:00:23.541515: W tensorflow/compiler/xla/service/gpu/llvm_gpu_backend/gpu_backend_lib.cc:326] libdevice is required by this HLO module but was not found at ./libdevice.10.bc\n",
      "2023-01-17 23:00:23.541760: W tensorflow/core/framework/op_kernel.cc:1830] OP_REQUIRES failed at xla_ops.cc:446 : INTERNAL: libdevice not found at ./libdevice.10.bc\n",
      "2023-01-17 23:00:23.561173: W tensorflow/compiler/xla/service/gpu/llvm_gpu_backend/gpu_backend_lib.cc:326] libdevice is required by this HLO module but was not found at ./libdevice.10.bc\n",
      "2023-01-17 23:00:23.561418: W tensorflow/core/framework/op_kernel.cc:1830] OP_REQUIRES failed at xla_ops.cc:446 : INTERNAL: libdevice not found at ./libdevice.10.bc\n",
      "2023-01-17 23:00:23.581214: W tensorflow/compiler/xla/service/gpu/llvm_gpu_backend/gpu_backend_lib.cc:326] libdevice is required by this HLO module but was not found at ./libdevice.10.bc\n",
      "2023-01-17 23:00:23.581460: W tensorflow/core/framework/op_kernel.cc:1830] OP_REQUIRES failed at xla_ops.cc:446 : INTERNAL: libdevice not found at ./libdevice.10.bc\n",
      "2023-01-17 23:00:23.600917: W tensorflow/compiler/xla/service/gpu/llvm_gpu_backend/gpu_backend_lib.cc:326] libdevice is required by this HLO module but was not found at ./libdevice.10.bc\n",
      "2023-01-17 23:00:23.601159: W tensorflow/core/framework/op_kernel.cc:1830] OP_REQUIRES failed at xla_ops.cc:446 : INTERNAL: libdevice not found at ./libdevice.10.bc\n",
      "2023-01-17 23:00:23.620927: W tensorflow/compiler/xla/service/gpu/llvm_gpu_backend/gpu_backend_lib.cc:326] libdevice is required by this HLO module but was not found at ./libdevice.10.bc\n",
      "2023-01-17 23:00:23.621171: W tensorflow/core/framework/op_kernel.cc:1830] OP_REQUIRES failed at xla_ops.cc:446 : INTERNAL: libdevice not found at ./libdevice.10.bc\n",
      "2023-01-17 23:00:23.640568: W tensorflow/compiler/xla/service/gpu/llvm_gpu_backend/gpu_backend_lib.cc:326] libdevice is required by this HLO module but was not found at ./libdevice.10.bc\n",
      "2023-01-17 23:00:23.640810: W tensorflow/core/framework/op_kernel.cc:1830] OP_REQUIRES failed at xla_ops.cc:446 : INTERNAL: libdevice not found at ./libdevice.10.bc\n",
      "2023-01-17 23:00:23.660612: W tensorflow/compiler/xla/service/gpu/llvm_gpu_backend/gpu_backend_lib.cc:326] libdevice is required by this HLO module but was not found at ./libdevice.10.bc\n",
      "2023-01-17 23:00:23.660854: W tensorflow/core/framework/op_kernel.cc:1830] OP_REQUIRES failed at xla_ops.cc:446 : INTERNAL: libdevice not found at ./libdevice.10.bc\n",
      "2023-01-17 23:00:23.680663: W tensorflow/compiler/xla/service/gpu/llvm_gpu_backend/gpu_backend_lib.cc:326] libdevice is required by this HLO module but was not found at ./libdevice.10.bc\n",
      "2023-01-17 23:00:23.680911: W tensorflow/core/framework/op_kernel.cc:1830] OP_REQUIRES failed at xla_ops.cc:446 : INTERNAL: libdevice not found at ./libdevice.10.bc\n",
      "2023-01-17 23:00:23.700680: W tensorflow/compiler/xla/service/gpu/llvm_gpu_backend/gpu_backend_lib.cc:326] libdevice is required by this HLO module but was not found at ./libdevice.10.bc\n",
      "2023-01-17 23:00:23.700925: W tensorflow/core/framework/op_kernel.cc:1830] OP_REQUIRES failed at xla_ops.cc:446 : INTERNAL: libdevice not found at ./libdevice.10.bc\n",
      "2023-01-17 23:00:23.720348: W tensorflow/compiler/xla/service/gpu/llvm_gpu_backend/gpu_backend_lib.cc:326] libdevice is required by this HLO module but was not found at ./libdevice.10.bc\n",
      "2023-01-17 23:00:23.720590: W tensorflow/core/framework/op_kernel.cc:1830] OP_REQUIRES failed at xla_ops.cc:446 : INTERNAL: libdevice not found at ./libdevice.10.bc\n",
      "2023-01-17 23:00:23.740495: W tensorflow/compiler/xla/service/gpu/llvm_gpu_backend/gpu_backend_lib.cc:326] libdevice is required by this HLO module but was not found at ./libdevice.10.bc\n",
      "2023-01-17 23:00:23.740764: W tensorflow/core/framework/op_kernel.cc:1830] OP_REQUIRES failed at xla_ops.cc:446 : INTERNAL: libdevice not found at ./libdevice.10.bc\n",
      "2023-01-17 23:00:23.760153: W tensorflow/compiler/xla/service/gpu/llvm_gpu_backend/gpu_backend_lib.cc:326] libdevice is required by this HLO module but was not found at ./libdevice.10.bc\n",
      "2023-01-17 23:00:23.760431: W tensorflow/core/framework/op_kernel.cc:1830] OP_REQUIRES failed at xla_ops.cc:446 : INTERNAL: libdevice not found at ./libdevice.10.bc\n",
      "2023-01-17 23:00:23.780230: W tensorflow/compiler/xla/service/gpu/llvm_gpu_backend/gpu_backend_lib.cc:326] libdevice is required by this HLO module but was not found at ./libdevice.10.bc\n",
      "2023-01-17 23:00:23.780483: W tensorflow/core/framework/op_kernel.cc:1830] OP_REQUIRES failed at xla_ops.cc:446 : INTERNAL: libdevice not found at ./libdevice.10.bc\n",
      "2023-01-17 23:00:23.800097: W tensorflow/compiler/xla/service/gpu/llvm_gpu_backend/gpu_backend_lib.cc:326] libdevice is required by this HLO module but was not found at ./libdevice.10.bc\n",
      "2023-01-17 23:00:23.800351: W tensorflow/core/framework/op_kernel.cc:1830] OP_REQUIRES failed at xla_ops.cc:446 : INTERNAL: libdevice not found at ./libdevice.10.bc\n",
      "2023-01-17 23:00:23.820480: W tensorflow/compiler/xla/service/gpu/llvm_gpu_backend/gpu_backend_lib.cc:326] libdevice is required by this HLO module but was not found at ./libdevice.10.bc\n",
      "2023-01-17 23:00:23.820815: W tensorflow/core/framework/op_kernel.cc:1830] OP_REQUIRES failed at xla_ops.cc:446 : INTERNAL: libdevice not found at ./libdevice.10.bc\n",
      "2023-01-17 23:00:23.840966: W tensorflow/compiler/xla/service/gpu/llvm_gpu_backend/gpu_backend_lib.cc:326] libdevice is required by this HLO module but was not found at ./libdevice.10.bc\n",
      "2023-01-17 23:00:23.841210: W tensorflow/core/framework/op_kernel.cc:1830] OP_REQUIRES failed at xla_ops.cc:446 : INTERNAL: libdevice not found at ./libdevice.10.bc\n",
      "2023-01-17 23:00:23.861106: W tensorflow/compiler/xla/service/gpu/llvm_gpu_backend/gpu_backend_lib.cc:326] libdevice is required by this HLO module but was not found at ./libdevice.10.bc\n",
      "2023-01-17 23:00:23.861351: W tensorflow/core/framework/op_kernel.cc:1830] OP_REQUIRES failed at xla_ops.cc:446 : INTERNAL: libdevice not found at ./libdevice.10.bc\n",
      "2023-01-17 23:00:23.880800: W tensorflow/compiler/xla/service/gpu/llvm_gpu_backend/gpu_backend_lib.cc:326] libdevice is required by this HLO module but was not found at ./libdevice.10.bc\n",
      "2023-01-17 23:00:23.881044: W tensorflow/core/framework/op_kernel.cc:1830] OP_REQUIRES failed at xla_ops.cc:446 : INTERNAL: libdevice not found at ./libdevice.10.bc\n",
      "2023-01-17 23:00:23.900963: W tensorflow/compiler/xla/service/gpu/llvm_gpu_backend/gpu_backend_lib.cc:326] libdevice is required by this HLO module but was not found at ./libdevice.10.bc\n",
      "2023-01-17 23:00:23.901208: W tensorflow/core/framework/op_kernel.cc:1830] OP_REQUIRES failed at xla_ops.cc:446 : INTERNAL: libdevice not found at ./libdevice.10.bc\n",
      "2023-01-17 23:00:23.920709: W tensorflow/compiler/xla/service/gpu/llvm_gpu_backend/gpu_backend_lib.cc:326] libdevice is required by this HLO module but was not found at ./libdevice.10.bc\n",
      "2023-01-17 23:00:23.920952: W tensorflow/core/framework/op_kernel.cc:1830] OP_REQUIRES failed at xla_ops.cc:446 : INTERNAL: libdevice not found at ./libdevice.10.bc\n",
      "2023-01-17 23:00:23.941754: W tensorflow/compiler/xla/service/gpu/llvm_gpu_backend/gpu_backend_lib.cc:326] libdevice is required by this HLO module but was not found at ./libdevice.10.bc\n",
      "2023-01-17 23:00:23.942000: W tensorflow/core/framework/op_kernel.cc:1830] OP_REQUIRES failed at xla_ops.cc:446 : INTERNAL: libdevice not found at ./libdevice.10.bc\n",
      "2023-01-17 23:00:23.961465: W tensorflow/compiler/xla/service/gpu/llvm_gpu_backend/gpu_backend_lib.cc:326] libdevice is required by this HLO module but was not found at ./libdevice.10.bc\n",
      "2023-01-17 23:00:23.961707: W tensorflow/core/framework/op_kernel.cc:1830] OP_REQUIRES failed at xla_ops.cc:446 : INTERNAL: libdevice not found at ./libdevice.10.bc\n",
      "2023-01-17 23:00:23.982123: W tensorflow/compiler/xla/service/gpu/llvm_gpu_backend/gpu_backend_lib.cc:326] libdevice is required by this HLO module but was not found at ./libdevice.10.bc\n",
      "2023-01-17 23:00:23.982369: W tensorflow/core/framework/op_kernel.cc:1830] OP_REQUIRES failed at xla_ops.cc:446 : INTERNAL: libdevice not found at ./libdevice.10.bc\n",
      "2023-01-17 23:00:24.001830: W tensorflow/compiler/xla/service/gpu/llvm_gpu_backend/gpu_backend_lib.cc:326] libdevice is required by this HLO module but was not found at ./libdevice.10.bc\n",
      "2023-01-17 23:00:24.002075: W tensorflow/core/framework/op_kernel.cc:1830] OP_REQUIRES failed at xla_ops.cc:446 : INTERNAL: libdevice not found at ./libdevice.10.bc\n",
      "2023-01-17 23:00:24.021863: W tensorflow/compiler/xla/service/gpu/llvm_gpu_backend/gpu_backend_lib.cc:326] libdevice is required by this HLO module but was not found at ./libdevice.10.bc\n",
      "2023-01-17 23:00:24.022107: W tensorflow/core/framework/op_kernel.cc:1830] OP_REQUIRES failed at xla_ops.cc:446 : INTERNAL: libdevice not found at ./libdevice.10.bc\n",
      "2023-01-17 23:00:24.041515: W tensorflow/compiler/xla/service/gpu/llvm_gpu_backend/gpu_backend_lib.cc:326] libdevice is required by this HLO module but was not found at ./libdevice.10.bc\n",
      "2023-01-17 23:00:24.041761: W tensorflow/core/framework/op_kernel.cc:1830] OP_REQUIRES failed at xla_ops.cc:446 : INTERNAL: libdevice not found at ./libdevice.10.bc\n",
      "2023-01-17 23:00:24.061616: W tensorflow/compiler/xla/service/gpu/llvm_gpu_backend/gpu_backend_lib.cc:326] libdevice is required by this HLO module but was not found at ./libdevice.10.bc\n",
      "2023-01-17 23:00:24.061859: W tensorflow/core/framework/op_kernel.cc:1830] OP_REQUIRES failed at xla_ops.cc:446 : INTERNAL: libdevice not found at ./libdevice.10.bc\n",
      "2023-01-17 23:00:24.081283: W tensorflow/compiler/xla/service/gpu/llvm_gpu_backend/gpu_backend_lib.cc:326] libdevice is required by this HLO module but was not found at ./libdevice.10.bc\n",
      "2023-01-17 23:00:24.081527: W tensorflow/core/framework/op_kernel.cc:1830] OP_REQUIRES failed at xla_ops.cc:446 : INTERNAL: libdevice not found at ./libdevice.10.bc\n",
      "2023-01-17 23:00:24.101416: W tensorflow/compiler/xla/service/gpu/llvm_gpu_backend/gpu_backend_lib.cc:326] libdevice is required by this HLO module but was not found at ./libdevice.10.bc\n",
      "2023-01-17 23:00:24.101662: W tensorflow/core/framework/op_kernel.cc:1830] OP_REQUIRES failed at xla_ops.cc:446 : INTERNAL: libdevice not found at ./libdevice.10.bc\n",
      "2023-01-17 23:00:24.121117: W tensorflow/compiler/xla/service/gpu/llvm_gpu_backend/gpu_backend_lib.cc:326] libdevice is required by this HLO module but was not found at ./libdevice.10.bc\n",
      "2023-01-17 23:00:24.121361: W tensorflow/core/framework/op_kernel.cc:1830] OP_REQUIRES failed at xla_ops.cc:446 : INTERNAL: libdevice not found at ./libdevice.10.bc\n",
      "2023-01-17 23:00:24.141316: W tensorflow/compiler/xla/service/gpu/llvm_gpu_backend/gpu_backend_lib.cc:326] libdevice is required by this HLO module but was not found at ./libdevice.10.bc\n",
      "2023-01-17 23:00:24.141564: W tensorflow/core/framework/op_kernel.cc:1830] OP_REQUIRES failed at xla_ops.cc:446 : INTERNAL: libdevice not found at ./libdevice.10.bc\n",
      "2023-01-17 23:00:24.161210: W tensorflow/compiler/xla/service/gpu/llvm_gpu_backend/gpu_backend_lib.cc:326] libdevice is required by this HLO module but was not found at ./libdevice.10.bc\n",
      "2023-01-17 23:00:24.161572: W tensorflow/core/framework/op_kernel.cc:1830] OP_REQUIRES failed at xla_ops.cc:446 : INTERNAL: libdevice not found at ./libdevice.10.bc\n",
      "2023-01-17 23:00:24.181647: W tensorflow/compiler/xla/service/gpu/llvm_gpu_backend/gpu_backend_lib.cc:326] libdevice is required by this HLO module but was not found at ./libdevice.10.bc\n",
      "2023-01-17 23:00:24.181891: W tensorflow/core/framework/op_kernel.cc:1830] OP_REQUIRES failed at xla_ops.cc:446 : INTERNAL: libdevice not found at ./libdevice.10.bc\n",
      "2023-01-17 23:00:24.201351: W tensorflow/compiler/xla/service/gpu/llvm_gpu_backend/gpu_backend_lib.cc:326] libdevice is required by this HLO module but was not found at ./libdevice.10.bc\n",
      "2023-01-17 23:00:24.201595: W tensorflow/core/framework/op_kernel.cc:1830] OP_REQUIRES failed at xla_ops.cc:446 : INTERNAL: libdevice not found at ./libdevice.10.bc\n",
      "2023-01-17 23:00:24.221731: W tensorflow/compiler/xla/service/gpu/llvm_gpu_backend/gpu_backend_lib.cc:326] libdevice is required by this HLO module but was not found at ./libdevice.10.bc\n",
      "2023-01-17 23:00:24.221980: W tensorflow/core/framework/op_kernel.cc:1830] OP_REQUIRES failed at xla_ops.cc:446 : INTERNAL: libdevice not found at ./libdevice.10.bc\n",
      "2023-01-17 23:00:24.241423: W tensorflow/compiler/xla/service/gpu/llvm_gpu_backend/gpu_backend_lib.cc:326] libdevice is required by this HLO module but was not found at ./libdevice.10.bc\n",
      "2023-01-17 23:00:24.241667: W tensorflow/core/framework/op_kernel.cc:1830] OP_REQUIRES failed at xla_ops.cc:446 : INTERNAL: libdevice not found at ./libdevice.10.bc\n",
      "2023-01-17 23:00:24.261685: W tensorflow/compiler/xla/service/gpu/llvm_gpu_backend/gpu_backend_lib.cc:326] libdevice is required by this HLO module but was not found at ./libdevice.10.bc\n",
      "2023-01-17 23:00:24.261928: W tensorflow/core/framework/op_kernel.cc:1830] OP_REQUIRES failed at xla_ops.cc:446 : INTERNAL: libdevice not found at ./libdevice.10.bc\n",
      "2023-01-17 23:00:24.281438: W tensorflow/compiler/xla/service/gpu/llvm_gpu_backend/gpu_backend_lib.cc:326] libdevice is required by this HLO module but was not found at ./libdevice.10.bc\n",
      "2023-01-17 23:00:24.281685: W tensorflow/core/framework/op_kernel.cc:1830] OP_REQUIRES failed at xla_ops.cc:446 : INTERNAL: libdevice not found at ./libdevice.10.bc\n",
      "2023-01-17 23:00:24.301546: W tensorflow/compiler/xla/service/gpu/llvm_gpu_backend/gpu_backend_lib.cc:326] libdevice is required by this HLO module but was not found at ./libdevice.10.bc\n",
      "2023-01-17 23:00:24.301792: W tensorflow/core/framework/op_kernel.cc:1830] OP_REQUIRES failed at xla_ops.cc:446 : INTERNAL: libdevice not found at ./libdevice.10.bc\n",
      "2023-01-17 23:00:24.322123: W tensorflow/compiler/xla/service/gpu/llvm_gpu_backend/gpu_backend_lib.cc:326] libdevice is required by this HLO module but was not found at ./libdevice.10.bc\n",
      "2023-01-17 23:00:24.322369: W tensorflow/core/framework/op_kernel.cc:1830] OP_REQUIRES failed at xla_ops.cc:446 : INTERNAL: libdevice not found at ./libdevice.10.bc\n",
      "2023-01-17 23:00:24.342296: W tensorflow/compiler/xla/service/gpu/llvm_gpu_backend/gpu_backend_lib.cc:326] libdevice is required by this HLO module but was not found at ./libdevice.10.bc\n",
      "2023-01-17 23:00:24.342541: W tensorflow/core/framework/op_kernel.cc:1830] OP_REQUIRES failed at xla_ops.cc:446 : INTERNAL: libdevice not found at ./libdevice.10.bc\n",
      "2023-01-17 23:00:24.362116: W tensorflow/compiler/xla/service/gpu/llvm_gpu_backend/gpu_backend_lib.cc:326] libdevice is required by this HLO module but was not found at ./libdevice.10.bc\n",
      "2023-01-17 23:00:24.362361: W tensorflow/core/framework/op_kernel.cc:1830] OP_REQUIRES failed at xla_ops.cc:446 : INTERNAL: libdevice not found at ./libdevice.10.bc\n",
      "2023-01-17 23:00:24.382621: W tensorflow/compiler/xla/service/gpu/llvm_gpu_backend/gpu_backend_lib.cc:326] libdevice is required by this HLO module but was not found at ./libdevice.10.bc\n",
      "2023-01-17 23:00:24.382877: W tensorflow/core/framework/op_kernel.cc:1830] OP_REQUIRES failed at xla_ops.cc:446 : INTERNAL: libdevice not found at ./libdevice.10.bc\n",
      "2023-01-17 23:00:24.402492: W tensorflow/compiler/xla/service/gpu/llvm_gpu_backend/gpu_backend_lib.cc:326] libdevice is required by this HLO module but was not found at ./libdevice.10.bc\n",
      "2023-01-17 23:00:24.402768: W tensorflow/core/framework/op_kernel.cc:1830] OP_REQUIRES failed at xla_ops.cc:446 : INTERNAL: libdevice not found at ./libdevice.10.bc\n",
      "2023-01-17 23:00:24.423564: W tensorflow/compiler/xla/service/gpu/llvm_gpu_backend/gpu_backend_lib.cc:326] libdevice is required by this HLO module but was not found at ./libdevice.10.bc\n",
      "2023-01-17 23:00:24.423818: W tensorflow/core/framework/op_kernel.cc:1830] OP_REQUIRES failed at xla_ops.cc:446 : INTERNAL: libdevice not found at ./libdevice.10.bc\n",
      "2023-01-17 23:00:24.443437: W tensorflow/compiler/xla/service/gpu/llvm_gpu_backend/gpu_backend_lib.cc:326] libdevice is required by this HLO module but was not found at ./libdevice.10.bc\n",
      "2023-01-17 23:00:24.443692: W tensorflow/core/framework/op_kernel.cc:1830] OP_REQUIRES failed at xla_ops.cc:446 : INTERNAL: libdevice not found at ./libdevice.10.bc\n",
      "2023-01-17 23:00:24.463988: W tensorflow/compiler/xla/service/gpu/llvm_gpu_backend/gpu_backend_lib.cc:326] libdevice is required by this HLO module but was not found at ./libdevice.10.bc\n",
      "2023-01-17 23:00:24.464386: W tensorflow/core/framework/op_kernel.cc:1830] OP_REQUIRES failed at xla_ops.cc:446 : INTERNAL: libdevice not found at ./libdevice.10.bc\n",
      "2023-01-17 23:00:24.484477: W tensorflow/compiler/xla/service/gpu/llvm_gpu_backend/gpu_backend_lib.cc:326] libdevice is required by this HLO module but was not found at ./libdevice.10.bc\n",
      "2023-01-17 23:00:24.484759: W tensorflow/core/framework/op_kernel.cc:1830] OP_REQUIRES failed at xla_ops.cc:446 : INTERNAL: libdevice not found at ./libdevice.10.bc\n",
      "2023-01-17 23:00:24.505043: W tensorflow/compiler/xla/service/gpu/llvm_gpu_backend/gpu_backend_lib.cc:326] libdevice is required by this HLO module but was not found at ./libdevice.10.bc\n",
      "2023-01-17 23:00:24.505304: W tensorflow/core/framework/op_kernel.cc:1830] OP_REQUIRES failed at xla_ops.cc:446 : INTERNAL: libdevice not found at ./libdevice.10.bc\n",
      "2023-01-17 23:00:24.524939: W tensorflow/compiler/xla/service/gpu/llvm_gpu_backend/gpu_backend_lib.cc:326] libdevice is required by this HLO module but was not found at ./libdevice.10.bc\n",
      "2023-01-17 23:00:24.525188: W tensorflow/core/framework/op_kernel.cc:1830] OP_REQUIRES failed at xla_ops.cc:446 : INTERNAL: libdevice not found at ./libdevice.10.bc\n",
      "2023-01-17 23:00:24.545137: W tensorflow/compiler/xla/service/gpu/llvm_gpu_backend/gpu_backend_lib.cc:326] libdevice is required by this HLO module but was not found at ./libdevice.10.bc\n",
      "2023-01-17 23:00:24.545385: W tensorflow/core/framework/op_kernel.cc:1830] OP_REQUIRES failed at xla_ops.cc:446 : INTERNAL: libdevice not found at ./libdevice.10.bc\n",
      "2023-01-17 23:00:24.564913: W tensorflow/compiler/xla/service/gpu/llvm_gpu_backend/gpu_backend_lib.cc:326] libdevice is required by this HLO module but was not found at ./libdevice.10.bc\n",
      "2023-01-17 23:00:24.565158: W tensorflow/core/framework/op_kernel.cc:1830] OP_REQUIRES failed at xla_ops.cc:446 : INTERNAL: libdevice not found at ./libdevice.10.bc\n",
      "2023-01-17 23:00:24.585097: W tensorflow/compiler/xla/service/gpu/llvm_gpu_backend/gpu_backend_lib.cc:326] libdevice is required by this HLO module but was not found at ./libdevice.10.bc\n",
      "2023-01-17 23:00:24.585342: W tensorflow/core/framework/op_kernel.cc:1830] OP_REQUIRES failed at xla_ops.cc:446 : INTERNAL: libdevice not found at ./libdevice.10.bc\n",
      "2023-01-17 23:00:24.604841: W tensorflow/compiler/xla/service/gpu/llvm_gpu_backend/gpu_backend_lib.cc:326] libdevice is required by this HLO module but was not found at ./libdevice.10.bc\n",
      "2023-01-17 23:00:24.605085: W tensorflow/core/framework/op_kernel.cc:1830] OP_REQUIRES failed at xla_ops.cc:446 : INTERNAL: libdevice not found at ./libdevice.10.bc\n",
      "2023-01-17 23:00:24.625034: W tensorflow/compiler/xla/service/gpu/llvm_gpu_backend/gpu_backend_lib.cc:326] libdevice is required by this HLO module but was not found at ./libdevice.10.bc\n",
      "2023-01-17 23:00:24.625279: W tensorflow/core/framework/op_kernel.cc:1830] OP_REQUIRES failed at xla_ops.cc:446 : INTERNAL: libdevice not found at ./libdevice.10.bc\n",
      "2023-01-17 23:00:24.644829: W tensorflow/compiler/xla/service/gpu/llvm_gpu_backend/gpu_backend_lib.cc:326] libdevice is required by this HLO module but was not found at ./libdevice.10.bc\n",
      "2023-01-17 23:00:24.645074: W tensorflow/core/framework/op_kernel.cc:1830] OP_REQUIRES failed at xla_ops.cc:446 : INTERNAL: libdevice not found at ./libdevice.10.bc\n",
      "2023-01-17 23:00:24.664944: W tensorflow/compiler/xla/service/gpu/llvm_gpu_backend/gpu_backend_lib.cc:326] libdevice is required by this HLO module but was not found at ./libdevice.10.bc\n",
      "2023-01-17 23:00:24.665189: W tensorflow/core/framework/op_kernel.cc:1830] OP_REQUIRES failed at xla_ops.cc:446 : INTERNAL: libdevice not found at ./libdevice.10.bc\n",
      "2023-01-17 23:00:24.684693: W tensorflow/compiler/xla/service/gpu/llvm_gpu_backend/gpu_backend_lib.cc:326] libdevice is required by this HLO module but was not found at ./libdevice.10.bc\n",
      "2023-01-17 23:00:24.684939: W tensorflow/core/framework/op_kernel.cc:1830] OP_REQUIRES failed at xla_ops.cc:446 : INTERNAL: libdevice not found at ./libdevice.10.bc\n",
      "2023-01-17 23:00:24.704873: W tensorflow/compiler/xla/service/gpu/llvm_gpu_backend/gpu_backend_lib.cc:326] libdevice is required by this HLO module but was not found at ./libdevice.10.bc\n",
      "2023-01-17 23:00:24.705119: W tensorflow/core/framework/op_kernel.cc:1830] OP_REQUIRES failed at xla_ops.cc:446 : INTERNAL: libdevice not found at ./libdevice.10.bc\n",
      "2023-01-17 23:00:24.724702: W tensorflow/compiler/xla/service/gpu/llvm_gpu_backend/gpu_backend_lib.cc:326] libdevice is required by this HLO module but was not found at ./libdevice.10.bc\n",
      "2023-01-17 23:00:24.724946: W tensorflow/core/framework/op_kernel.cc:1830] OP_REQUIRES failed at xla_ops.cc:446 : INTERNAL: libdevice not found at ./libdevice.10.bc\n",
      "2023-01-17 23:00:24.744920: W tensorflow/compiler/xla/service/gpu/llvm_gpu_backend/gpu_backend_lib.cc:326] libdevice is required by this HLO module but was not found at ./libdevice.10.bc\n",
      "2023-01-17 23:00:24.745165: W tensorflow/core/framework/op_kernel.cc:1830] OP_REQUIRES failed at xla_ops.cc:446 : INTERNAL: libdevice not found at ./libdevice.10.bc\n",
      "2023-01-17 23:00:24.764669: W tensorflow/compiler/xla/service/gpu/llvm_gpu_backend/gpu_backend_lib.cc:326] libdevice is required by this HLO module but was not found at ./libdevice.10.bc\n",
      "2023-01-17 23:00:24.764916: W tensorflow/core/framework/op_kernel.cc:1830] OP_REQUIRES failed at xla_ops.cc:446 : INTERNAL: libdevice not found at ./libdevice.10.bc\n",
      "2023-01-17 23:00:24.784867: W tensorflow/compiler/xla/service/gpu/llvm_gpu_backend/gpu_backend_lib.cc:326] libdevice is required by this HLO module but was not found at ./libdevice.10.bc\n",
      "2023-01-17 23:00:24.785113: W tensorflow/core/framework/op_kernel.cc:1830] OP_REQUIRES failed at xla_ops.cc:446 : INTERNAL: libdevice not found at ./libdevice.10.bc\n",
      "2023-01-17 23:00:24.804637: W tensorflow/compiler/xla/service/gpu/llvm_gpu_backend/gpu_backend_lib.cc:326] libdevice is required by this HLO module but was not found at ./libdevice.10.bc\n",
      "2023-01-17 23:00:24.804881: W tensorflow/core/framework/op_kernel.cc:1830] OP_REQUIRES failed at xla_ops.cc:446 : INTERNAL: libdevice not found at ./libdevice.10.bc\n",
      "2023-01-17 23:00:24.825350: W tensorflow/compiler/xla/service/gpu/llvm_gpu_backend/gpu_backend_lib.cc:326] libdevice is required by this HLO module but was not found at ./libdevice.10.bc\n",
      "2023-01-17 23:00:24.825687: W tensorflow/core/framework/op_kernel.cc:1830] OP_REQUIRES failed at xla_ops.cc:446 : INTERNAL: libdevice not found at ./libdevice.10.bc\n",
      "2023-01-17 23:00:24.845993: W tensorflow/compiler/xla/service/gpu/llvm_gpu_backend/gpu_backend_lib.cc:326] libdevice is required by this HLO module but was not found at ./libdevice.10.bc\n",
      "2023-01-17 23:00:24.846246: W tensorflow/core/framework/op_kernel.cc:1830] OP_REQUIRES failed at xla_ops.cc:446 : INTERNAL: libdevice not found at ./libdevice.10.bc\n",
      "2023-01-17 23:00:24.866276: W tensorflow/compiler/xla/service/gpu/llvm_gpu_backend/gpu_backend_lib.cc:326] libdevice is required by this HLO module but was not found at ./libdevice.10.bc\n",
      "2023-01-17 23:00:24.866527: W tensorflow/core/framework/op_kernel.cc:1830] OP_REQUIRES failed at xla_ops.cc:446 : INTERNAL: libdevice not found at ./libdevice.10.bc\n",
      "2023-01-17 23:00:24.886156: W tensorflow/compiler/xla/service/gpu/llvm_gpu_backend/gpu_backend_lib.cc:326] libdevice is required by this HLO module but was not found at ./libdevice.10.bc\n",
      "2023-01-17 23:00:24.886402: W tensorflow/core/framework/op_kernel.cc:1830] OP_REQUIRES failed at xla_ops.cc:446 : INTERNAL: libdevice not found at ./libdevice.10.bc\n",
      "2023-01-17 23:00:24.906370: W tensorflow/compiler/xla/service/gpu/llvm_gpu_backend/gpu_backend_lib.cc:326] libdevice is required by this HLO module but was not found at ./libdevice.10.bc\n",
      "2023-01-17 23:00:24.906631: W tensorflow/core/framework/op_kernel.cc:1830] OP_REQUIRES failed at xla_ops.cc:446 : INTERNAL: libdevice not found at ./libdevice.10.bc\n",
      "2023-01-17 23:00:24.926155: W tensorflow/compiler/xla/service/gpu/llvm_gpu_backend/gpu_backend_lib.cc:326] libdevice is required by this HLO module but was not found at ./libdevice.10.bc\n",
      "2023-01-17 23:00:24.926400: W tensorflow/core/framework/op_kernel.cc:1830] OP_REQUIRES failed at xla_ops.cc:446 : INTERNAL: libdevice not found at ./libdevice.10.bc\n",
      "2023-01-17 23:00:24.946402: W tensorflow/compiler/xla/service/gpu/llvm_gpu_backend/gpu_backend_lib.cc:326] libdevice is required by this HLO module but was not found at ./libdevice.10.bc\n",
      "2023-01-17 23:00:24.946700: W tensorflow/core/framework/op_kernel.cc:1830] OP_REQUIRES failed at xla_ops.cc:446 : INTERNAL: libdevice not found at ./libdevice.10.bc\n",
      "2023-01-17 23:00:24.966222: W tensorflow/compiler/xla/service/gpu/llvm_gpu_backend/gpu_backend_lib.cc:326] libdevice is required by this HLO module but was not found at ./libdevice.10.bc\n",
      "2023-01-17 23:00:24.966467: W tensorflow/core/framework/op_kernel.cc:1830] OP_REQUIRES failed at xla_ops.cc:446 : INTERNAL: libdevice not found at ./libdevice.10.bc\n",
      "2023-01-17 23:00:24.986412: W tensorflow/compiler/xla/service/gpu/llvm_gpu_backend/gpu_backend_lib.cc:326] libdevice is required by this HLO module but was not found at ./libdevice.10.bc\n",
      "2023-01-17 23:00:24.986702: W tensorflow/core/framework/op_kernel.cc:1830] OP_REQUIRES failed at xla_ops.cc:446 : INTERNAL: libdevice not found at ./libdevice.10.bc\n",
      "2023-01-17 23:00:25.006193: W tensorflow/compiler/xla/service/gpu/llvm_gpu_backend/gpu_backend_lib.cc:326] libdevice is required by this HLO module but was not found at ./libdevice.10.bc\n",
      "2023-01-17 23:00:25.006440: W tensorflow/core/framework/op_kernel.cc:1830] OP_REQUIRES failed at xla_ops.cc:446 : INTERNAL: libdevice not found at ./libdevice.10.bc\n",
      "2023-01-17 23:00:25.026323: W tensorflow/compiler/xla/service/gpu/llvm_gpu_backend/gpu_backend_lib.cc:326] libdevice is required by this HLO module but was not found at ./libdevice.10.bc\n",
      "2023-01-17 23:00:25.026594: W tensorflow/core/framework/op_kernel.cc:1830] OP_REQUIRES failed at xla_ops.cc:446 : INTERNAL: libdevice not found at ./libdevice.10.bc\n",
      "2023-01-17 23:00:25.046172: W tensorflow/compiler/xla/service/gpu/llvm_gpu_backend/gpu_backend_lib.cc:326] libdevice is required by this HLO module but was not found at ./libdevice.10.bc\n",
      "2023-01-17 23:00:25.046417: W tensorflow/core/framework/op_kernel.cc:1830] OP_REQUIRES failed at xla_ops.cc:446 : INTERNAL: libdevice not found at ./libdevice.10.bc\n",
      "2023-01-17 23:00:25.066319: W tensorflow/compiler/xla/service/gpu/llvm_gpu_backend/gpu_backend_lib.cc:326] libdevice is required by this HLO module but was not found at ./libdevice.10.bc\n",
      "2023-01-17 23:00:25.066581: W tensorflow/core/framework/op_kernel.cc:1830] OP_REQUIRES failed at xla_ops.cc:446 : INTERNAL: libdevice not found at ./libdevice.10.bc\n",
      "2023-01-17 23:00:25.086115: W tensorflow/compiler/xla/service/gpu/llvm_gpu_backend/gpu_backend_lib.cc:326] libdevice is required by this HLO module but was not found at ./libdevice.10.bc\n",
      "2023-01-17 23:00:25.086360: W tensorflow/core/framework/op_kernel.cc:1830] OP_REQUIRES failed at xla_ops.cc:446 : INTERNAL: libdevice not found at ./libdevice.10.bc\n",
      "2023-01-17 23:00:25.106311: W tensorflow/compiler/xla/service/gpu/llvm_gpu_backend/gpu_backend_lib.cc:326] libdevice is required by this HLO module but was not found at ./libdevice.10.bc\n",
      "2023-01-17 23:00:25.106576: W tensorflow/core/framework/op_kernel.cc:1830] OP_REQUIRES failed at xla_ops.cc:446 : INTERNAL: libdevice not found at ./libdevice.10.bc\n",
      "2023-01-17 23:00:25.126176: W tensorflow/compiler/xla/service/gpu/llvm_gpu_backend/gpu_backend_lib.cc:326] libdevice is required by this HLO module but was not found at ./libdevice.10.bc\n",
      "2023-01-17 23:00:25.126420: W tensorflow/core/framework/op_kernel.cc:1830] OP_REQUIRES failed at xla_ops.cc:446 : INTERNAL: libdevice not found at ./libdevice.10.bc\n",
      "2023-01-17 23:00:25.146472: W tensorflow/compiler/xla/service/gpu/llvm_gpu_backend/gpu_backend_lib.cc:326] libdevice is required by this HLO module but was not found at ./libdevice.10.bc\n",
      "2023-01-17 23:00:25.146744: W tensorflow/core/framework/op_kernel.cc:1830] OP_REQUIRES failed at xla_ops.cc:446 : INTERNAL: libdevice not found at ./libdevice.10.bc\n",
      "2023-01-17 23:00:25.166325: W tensorflow/compiler/xla/service/gpu/llvm_gpu_backend/gpu_backend_lib.cc:326] libdevice is required by this HLO module but was not found at ./libdevice.10.bc\n",
      "2023-01-17 23:00:25.166623: W tensorflow/core/framework/op_kernel.cc:1830] OP_REQUIRES failed at xla_ops.cc:446 : INTERNAL: libdevice not found at ./libdevice.10.bc\n",
      "2023-01-17 23:00:25.186665: W tensorflow/compiler/xla/service/gpu/llvm_gpu_backend/gpu_backend_lib.cc:326] libdevice is required by this HLO module but was not found at ./libdevice.10.bc\n",
      "2023-01-17 23:00:25.186910: W tensorflow/core/framework/op_kernel.cc:1830] OP_REQUIRES failed at xla_ops.cc:446 : INTERNAL: libdevice not found at ./libdevice.10.bc\n",
      "2023-01-17 23:00:25.206473: W tensorflow/compiler/xla/service/gpu/llvm_gpu_backend/gpu_backend_lib.cc:326] libdevice is required by this HLO module but was not found at ./libdevice.10.bc\n",
      "2023-01-17 23:00:25.206738: W tensorflow/core/framework/op_kernel.cc:1830] OP_REQUIRES failed at xla_ops.cc:446 : INTERNAL: libdevice not found at ./libdevice.10.bc\n",
      "2023-01-17 23:00:25.226797: W tensorflow/compiler/xla/service/gpu/llvm_gpu_backend/gpu_backend_lib.cc:326] libdevice is required by this HLO module but was not found at ./libdevice.10.bc\n",
      "2023-01-17 23:00:25.227042: W tensorflow/core/framework/op_kernel.cc:1830] OP_REQUIRES failed at xla_ops.cc:446 : INTERNAL: libdevice not found at ./libdevice.10.bc\n",
      "2023-01-17 23:00:25.246654: W tensorflow/compiler/xla/service/gpu/llvm_gpu_backend/gpu_backend_lib.cc:326] libdevice is required by this HLO module but was not found at ./libdevice.10.bc\n",
      "2023-01-17 23:00:25.246900: W tensorflow/core/framework/op_kernel.cc:1830] OP_REQUIRES failed at xla_ops.cc:446 : INTERNAL: libdevice not found at ./libdevice.10.bc\n",
      "2023-01-17 23:00:25.266849: W tensorflow/compiler/xla/service/gpu/llvm_gpu_backend/gpu_backend_lib.cc:326] libdevice is required by this HLO module but was not found at ./libdevice.10.bc\n",
      "2023-01-17 23:00:25.267095: W tensorflow/core/framework/op_kernel.cc:1830] OP_REQUIRES failed at xla_ops.cc:446 : INTERNAL: libdevice not found at ./libdevice.10.bc\n",
      "2023-01-17 23:00:25.286678: W tensorflow/compiler/xla/service/gpu/llvm_gpu_backend/gpu_backend_lib.cc:326] libdevice is required by this HLO module but was not found at ./libdevice.10.bc\n",
      "2023-01-17 23:00:25.286922: W tensorflow/core/framework/op_kernel.cc:1830] OP_REQUIRES failed at xla_ops.cc:446 : INTERNAL: libdevice not found at ./libdevice.10.bc\n",
      "2023-01-17 23:00:25.306973: W tensorflow/compiler/xla/service/gpu/llvm_gpu_backend/gpu_backend_lib.cc:326] libdevice is required by this HLO module but was not found at ./libdevice.10.bc\n",
      "2023-01-17 23:00:25.307220: W tensorflow/core/framework/op_kernel.cc:1830] OP_REQUIRES failed at xla_ops.cc:446 : INTERNAL: libdevice not found at ./libdevice.10.bc\n",
      "2023-01-17 23:00:25.326847: W tensorflow/compiler/xla/service/gpu/llvm_gpu_backend/gpu_backend_lib.cc:326] libdevice is required by this HLO module but was not found at ./libdevice.10.bc\n",
      "2023-01-17 23:00:25.327090: W tensorflow/core/framework/op_kernel.cc:1830] OP_REQUIRES failed at xla_ops.cc:446 : INTERNAL: libdevice not found at ./libdevice.10.bc\n",
      "2023-01-17 23:00:25.347092: W tensorflow/compiler/xla/service/gpu/llvm_gpu_backend/gpu_backend_lib.cc:326] libdevice is required by this HLO module but was not found at ./libdevice.10.bc\n",
      "2023-01-17 23:00:25.347339: W tensorflow/core/framework/op_kernel.cc:1830] OP_REQUIRES failed at xla_ops.cc:446 : INTERNAL: libdevice not found at ./libdevice.10.bc\n",
      "2023-01-17 23:00:25.366936: W tensorflow/compiler/xla/service/gpu/llvm_gpu_backend/gpu_backend_lib.cc:326] libdevice is required by this HLO module but was not found at ./libdevice.10.bc\n",
      "2023-01-17 23:00:25.367180: W tensorflow/core/framework/op_kernel.cc:1830] OP_REQUIRES failed at xla_ops.cc:446 : INTERNAL: libdevice not found at ./libdevice.10.bc\n",
      "2023-01-17 23:00:25.387188: W tensorflow/compiler/xla/service/gpu/llvm_gpu_backend/gpu_backend_lib.cc:326] libdevice is required by this HLO module but was not found at ./libdevice.10.bc\n",
      "2023-01-17 23:00:25.387433: W tensorflow/core/framework/op_kernel.cc:1830] OP_REQUIRES failed at xla_ops.cc:446 : INTERNAL: libdevice not found at ./libdevice.10.bc\n",
      "2023-01-17 23:00:25.407001: W tensorflow/compiler/xla/service/gpu/llvm_gpu_backend/gpu_backend_lib.cc:326] libdevice is required by this HLO module but was not found at ./libdevice.10.bc\n",
      "2023-01-17 23:00:25.407247: W tensorflow/core/framework/op_kernel.cc:1830] OP_REQUIRES failed at xla_ops.cc:446 : INTERNAL: libdevice not found at ./libdevice.10.bc\n",
      "2023-01-17 23:00:25.427252: W tensorflow/compiler/xla/service/gpu/llvm_gpu_backend/gpu_backend_lib.cc:326] libdevice is required by this HLO module but was not found at ./libdevice.10.bc\n",
      "2023-01-17 23:00:25.427503: W tensorflow/core/framework/op_kernel.cc:1830] OP_REQUIRES failed at xla_ops.cc:446 : INTERNAL: libdevice not found at ./libdevice.10.bc\n",
      "2023-01-17 23:00:25.447129: W tensorflow/compiler/xla/service/gpu/llvm_gpu_backend/gpu_backend_lib.cc:326] libdevice is required by this HLO module but was not found at ./libdevice.10.bc\n",
      "2023-01-17 23:00:25.447374: W tensorflow/core/framework/op_kernel.cc:1830] OP_REQUIRES failed at xla_ops.cc:446 : INTERNAL: libdevice not found at ./libdevice.10.bc\n",
      "2023-01-17 23:00:25.467561: W tensorflow/compiler/xla/service/gpu/llvm_gpu_backend/gpu_backend_lib.cc:326] libdevice is required by this HLO module but was not found at ./libdevice.10.bc\n",
      "2023-01-17 23:00:25.467812: W tensorflow/core/framework/op_kernel.cc:1830] OP_REQUIRES failed at xla_ops.cc:446 : INTERNAL: libdevice not found at ./libdevice.10.bc\n",
      "2023-01-17 23:00:25.487448: W tensorflow/compiler/xla/service/gpu/llvm_gpu_backend/gpu_backend_lib.cc:326] libdevice is required by this HLO module but was not found at ./libdevice.10.bc\n",
      "2023-01-17 23:00:25.487694: W tensorflow/core/framework/op_kernel.cc:1830] OP_REQUIRES failed at xla_ops.cc:446 : INTERNAL: libdevice not found at ./libdevice.10.bc\n",
      "2023-01-17 23:00:25.507687: W tensorflow/compiler/xla/service/gpu/llvm_gpu_backend/gpu_backend_lib.cc:326] libdevice is required by this HLO module but was not found at ./libdevice.10.bc\n",
      "2023-01-17 23:00:25.507935: W tensorflow/core/framework/op_kernel.cc:1830] OP_REQUIRES failed at xla_ops.cc:446 : INTERNAL: libdevice not found at ./libdevice.10.bc\n",
      "2023-01-17 23:00:25.527606: W tensorflow/compiler/xla/service/gpu/llvm_gpu_backend/gpu_backend_lib.cc:326] libdevice is required by this HLO module but was not found at ./libdevice.10.bc\n",
      "2023-01-17 23:00:25.527852: W tensorflow/core/framework/op_kernel.cc:1830] OP_REQUIRES failed at xla_ops.cc:446 : INTERNAL: libdevice not found at ./libdevice.10.bc\n",
      "2023-01-17 23:00:25.547906: W tensorflow/compiler/xla/service/gpu/llvm_gpu_backend/gpu_backend_lib.cc:326] libdevice is required by this HLO module but was not found at ./libdevice.10.bc\n",
      "2023-01-17 23:00:25.548151: W tensorflow/core/framework/op_kernel.cc:1830] OP_REQUIRES failed at xla_ops.cc:446 : INTERNAL: libdevice not found at ./libdevice.10.bc\n",
      "2023-01-17 23:00:25.567781: W tensorflow/compiler/xla/service/gpu/llvm_gpu_backend/gpu_backend_lib.cc:326] libdevice is required by this HLO module but was not found at ./libdevice.10.bc\n",
      "2023-01-17 23:00:25.568024: W tensorflow/core/framework/op_kernel.cc:1830] OP_REQUIRES failed at xla_ops.cc:446 : INTERNAL: libdevice not found at ./libdevice.10.bc\n",
      "2023-01-17 23:00:25.588055: W tensorflow/compiler/xla/service/gpu/llvm_gpu_backend/gpu_backend_lib.cc:326] libdevice is required by this HLO module but was not found at ./libdevice.10.bc\n",
      "2023-01-17 23:00:25.588302: W tensorflow/core/framework/op_kernel.cc:1830] OP_REQUIRES failed at xla_ops.cc:446 : INTERNAL: libdevice not found at ./libdevice.10.bc\n",
      "2023-01-17 23:00:25.607897: W tensorflow/compiler/xla/service/gpu/llvm_gpu_backend/gpu_backend_lib.cc:326] libdevice is required by this HLO module but was not found at ./libdevice.10.bc\n",
      "2023-01-17 23:00:25.608146: W tensorflow/core/framework/op_kernel.cc:1830] OP_REQUIRES failed at xla_ops.cc:446 : INTERNAL: libdevice not found at ./libdevice.10.bc\n",
      "2023-01-17 23:00:25.628161: W tensorflow/compiler/xla/service/gpu/llvm_gpu_backend/gpu_backend_lib.cc:326] libdevice is required by this HLO module but was not found at ./libdevice.10.bc\n",
      "2023-01-17 23:00:25.628416: W tensorflow/core/framework/op_kernel.cc:1830] OP_REQUIRES failed at xla_ops.cc:446 : INTERNAL: libdevice not found at ./libdevice.10.bc\n",
      "2023-01-17 23:00:25.648020: W tensorflow/compiler/xla/service/gpu/llvm_gpu_backend/gpu_backend_lib.cc:326] libdevice is required by this HLO module but was not found at ./libdevice.10.bc\n",
      "2023-01-17 23:00:25.648264: W tensorflow/core/framework/op_kernel.cc:1830] OP_REQUIRES failed at xla_ops.cc:446 : INTERNAL: libdevice not found at ./libdevice.10.bc\n",
      "2023-01-17 23:00:25.668293: W tensorflow/compiler/xla/service/gpu/llvm_gpu_backend/gpu_backend_lib.cc:326] libdevice is required by this HLO module but was not found at ./libdevice.10.bc\n",
      "2023-01-17 23:00:25.668549: W tensorflow/core/framework/op_kernel.cc:1830] OP_REQUIRES failed at xla_ops.cc:446 : INTERNAL: libdevice not found at ./libdevice.10.bc\n",
      "2023-01-17 23:00:25.688199: W tensorflow/compiler/xla/service/gpu/llvm_gpu_backend/gpu_backend_lib.cc:326] libdevice is required by this HLO module but was not found at ./libdevice.10.bc\n",
      "2023-01-17 23:00:25.688454: W tensorflow/core/framework/op_kernel.cc:1830] OP_REQUIRES failed at xla_ops.cc:446 : INTERNAL: libdevice not found at ./libdevice.10.bc\n",
      "2023-01-17 23:00:25.708508: W tensorflow/compiler/xla/service/gpu/llvm_gpu_backend/gpu_backend_lib.cc:326] libdevice is required by this HLO module but was not found at ./libdevice.10.bc\n",
      "2023-01-17 23:00:25.708751: W tensorflow/core/framework/op_kernel.cc:1830] OP_REQUIRES failed at xla_ops.cc:446 : INTERNAL: libdevice not found at ./libdevice.10.bc\n",
      "2023-01-17 23:00:25.728366: W tensorflow/compiler/xla/service/gpu/llvm_gpu_backend/gpu_backend_lib.cc:326] libdevice is required by this HLO module but was not found at ./libdevice.10.bc\n",
      "2023-01-17 23:00:25.728609: W tensorflow/core/framework/op_kernel.cc:1830] OP_REQUIRES failed at xla_ops.cc:446 : INTERNAL: libdevice not found at ./libdevice.10.bc\n",
      "2023-01-17 23:00:25.748654: W tensorflow/compiler/xla/service/gpu/llvm_gpu_backend/gpu_backend_lib.cc:326] libdevice is required by this HLO module but was not found at ./libdevice.10.bc\n",
      "2023-01-17 23:00:25.748898: W tensorflow/core/framework/op_kernel.cc:1830] OP_REQUIRES failed at xla_ops.cc:446 : INTERNAL: libdevice not found at ./libdevice.10.bc\n",
      "2023-01-17 23:00:25.768541: W tensorflow/compiler/xla/service/gpu/llvm_gpu_backend/gpu_backend_lib.cc:326] libdevice is required by this HLO module but was not found at ./libdevice.10.bc\n",
      "2023-01-17 23:00:25.768789: W tensorflow/core/framework/op_kernel.cc:1830] OP_REQUIRES failed at xla_ops.cc:446 : INTERNAL: libdevice not found at ./libdevice.10.bc\n",
      "2023-01-17 23:00:25.788815: W tensorflow/compiler/xla/service/gpu/llvm_gpu_backend/gpu_backend_lib.cc:326] libdevice is required by this HLO module but was not found at ./libdevice.10.bc\n",
      "2023-01-17 23:00:25.789087: W tensorflow/core/framework/op_kernel.cc:1830] OP_REQUIRES failed at xla_ops.cc:446 : INTERNAL: libdevice not found at ./libdevice.10.bc\n",
      "2023-01-17 23:00:25.808659: W tensorflow/compiler/xla/service/gpu/llvm_gpu_backend/gpu_backend_lib.cc:326] libdevice is required by this HLO module but was not found at ./libdevice.10.bc\n",
      "2023-01-17 23:00:25.808905: W tensorflow/core/framework/op_kernel.cc:1830] OP_REQUIRES failed at xla_ops.cc:446 : INTERNAL: libdevice not found at ./libdevice.10.bc\n",
      "2023-01-17 23:00:25.829056: W tensorflow/compiler/xla/service/gpu/llvm_gpu_backend/gpu_backend_lib.cc:326] libdevice is required by this HLO module but was not found at ./libdevice.10.bc\n",
      "2023-01-17 23:00:25.829401: W tensorflow/core/framework/op_kernel.cc:1830] OP_REQUIRES failed at xla_ops.cc:446 : INTERNAL: libdevice not found at ./libdevice.10.bc\n",
      "2023-01-17 23:00:25.850080: W tensorflow/compiler/xla/service/gpu/llvm_gpu_backend/gpu_backend_lib.cc:326] libdevice is required by this HLO module but was not found at ./libdevice.10.bc\n",
      "2023-01-17 23:00:25.850328: W tensorflow/core/framework/op_kernel.cc:1830] OP_REQUIRES failed at xla_ops.cc:446 : INTERNAL: libdevice not found at ./libdevice.10.bc\n",
      "2023-01-17 23:00:25.870439: W tensorflow/compiler/xla/service/gpu/llvm_gpu_backend/gpu_backend_lib.cc:326] libdevice is required by this HLO module but was not found at ./libdevice.10.bc\n",
      "2023-01-17 23:00:25.870717: W tensorflow/core/framework/op_kernel.cc:1830] OP_REQUIRES failed at xla_ops.cc:446 : INTERNAL: libdevice not found at ./libdevice.10.bc\n",
      "2023-01-17 23:00:25.890385: W tensorflow/compiler/xla/service/gpu/llvm_gpu_backend/gpu_backend_lib.cc:326] libdevice is required by this HLO module but was not found at ./libdevice.10.bc\n",
      "2023-01-17 23:00:25.890652: W tensorflow/core/framework/op_kernel.cc:1830] OP_REQUIRES failed at xla_ops.cc:446 : INTERNAL: libdevice not found at ./libdevice.10.bc\n",
      "2023-01-17 23:00:25.910762: W tensorflow/compiler/xla/service/gpu/llvm_gpu_backend/gpu_backend_lib.cc:326] libdevice is required by this HLO module but was not found at ./libdevice.10.bc\n",
      "2023-01-17 23:00:25.911007: W tensorflow/core/framework/op_kernel.cc:1830] OP_REQUIRES failed at xla_ops.cc:446 : INTERNAL: libdevice not found at ./libdevice.10.bc\n",
      "2023-01-17 23:00:25.930651: W tensorflow/compiler/xla/service/gpu/llvm_gpu_backend/gpu_backend_lib.cc:326] libdevice is required by this HLO module but was not found at ./libdevice.10.bc\n",
      "2023-01-17 23:00:25.930898: W tensorflow/core/framework/op_kernel.cc:1830] OP_REQUIRES failed at xla_ops.cc:446 : INTERNAL: libdevice not found at ./libdevice.10.bc\n",
      "2023-01-17 23:00:25.950962: W tensorflow/compiler/xla/service/gpu/llvm_gpu_backend/gpu_backend_lib.cc:326] libdevice is required by this HLO module but was not found at ./libdevice.10.bc\n",
      "2023-01-17 23:00:25.951208: W tensorflow/core/framework/op_kernel.cc:1830] OP_REQUIRES failed at xla_ops.cc:446 : INTERNAL: libdevice not found at ./libdevice.10.bc\n",
      "2023-01-17 23:00:25.970912: W tensorflow/compiler/xla/service/gpu/llvm_gpu_backend/gpu_backend_lib.cc:326] libdevice is required by this HLO module but was not found at ./libdevice.10.bc\n",
      "2023-01-17 23:00:25.971158: W tensorflow/core/framework/op_kernel.cc:1830] OP_REQUIRES failed at xla_ops.cc:446 : INTERNAL: libdevice not found at ./libdevice.10.bc\n",
      "2023-01-17 23:00:25.991177: W tensorflow/compiler/xla/service/gpu/llvm_gpu_backend/gpu_backend_lib.cc:326] libdevice is required by this HLO module but was not found at ./libdevice.10.bc\n",
      "2023-01-17 23:00:25.991424: W tensorflow/core/framework/op_kernel.cc:1830] OP_REQUIRES failed at xla_ops.cc:446 : INTERNAL: libdevice not found at ./libdevice.10.bc\n",
      "2023-01-17 23:00:26.011060: W tensorflow/compiler/xla/service/gpu/llvm_gpu_backend/gpu_backend_lib.cc:326] libdevice is required by this HLO module but was not found at ./libdevice.10.bc\n",
      "2023-01-17 23:00:26.011305: W tensorflow/core/framework/op_kernel.cc:1830] OP_REQUIRES failed at xla_ops.cc:446 : INTERNAL: libdevice not found at ./libdevice.10.bc\n",
      "2023-01-17 23:00:26.031380: W tensorflow/compiler/xla/service/gpu/llvm_gpu_backend/gpu_backend_lib.cc:326] libdevice is required by this HLO module but was not found at ./libdevice.10.bc\n",
      "2023-01-17 23:00:26.031627: W tensorflow/core/framework/op_kernel.cc:1830] OP_REQUIRES failed at xla_ops.cc:446 : INTERNAL: libdevice not found at ./libdevice.10.bc\n",
      "2023-01-17 23:00:26.051330: W tensorflow/compiler/xla/service/gpu/llvm_gpu_backend/gpu_backend_lib.cc:326] libdevice is required by this HLO module but was not found at ./libdevice.10.bc\n",
      "2023-01-17 23:00:26.051576: W tensorflow/core/framework/op_kernel.cc:1830] OP_REQUIRES failed at xla_ops.cc:446 : INTERNAL: libdevice not found at ./libdevice.10.bc\n",
      "2023-01-17 23:00:26.071631: W tensorflow/compiler/xla/service/gpu/llvm_gpu_backend/gpu_backend_lib.cc:326] libdevice is required by this HLO module but was not found at ./libdevice.10.bc\n",
      "2023-01-17 23:00:26.071880: W tensorflow/core/framework/op_kernel.cc:1830] OP_REQUIRES failed at xla_ops.cc:446 : INTERNAL: libdevice not found at ./libdevice.10.bc\n",
      "2023-01-17 23:00:26.091608: W tensorflow/compiler/xla/service/gpu/llvm_gpu_backend/gpu_backend_lib.cc:326] libdevice is required by this HLO module but was not found at ./libdevice.10.bc\n",
      "2023-01-17 23:00:26.091854: W tensorflow/core/framework/op_kernel.cc:1830] OP_REQUIRES failed at xla_ops.cc:446 : INTERNAL: libdevice not found at ./libdevice.10.bc\n",
      "2023-01-17 23:00:26.111920: W tensorflow/compiler/xla/service/gpu/llvm_gpu_backend/gpu_backend_lib.cc:326] libdevice is required by this HLO module but was not found at ./libdevice.10.bc\n",
      "2023-01-17 23:00:26.112167: W tensorflow/core/framework/op_kernel.cc:1830] OP_REQUIRES failed at xla_ops.cc:446 : INTERNAL: libdevice not found at ./libdevice.10.bc\n",
      "2023-01-17 23:00:26.131885: W tensorflow/compiler/xla/service/gpu/llvm_gpu_backend/gpu_backend_lib.cc:326] libdevice is required by this HLO module but was not found at ./libdevice.10.bc\n",
      "2023-01-17 23:00:26.132130: W tensorflow/core/framework/op_kernel.cc:1830] OP_REQUIRES failed at xla_ops.cc:446 : INTERNAL: libdevice not found at ./libdevice.10.bc\n",
      "2023-01-17 23:00:26.152302: W tensorflow/compiler/xla/service/gpu/llvm_gpu_backend/gpu_backend_lib.cc:326] libdevice is required by this HLO module but was not found at ./libdevice.10.bc\n",
      "2023-01-17 23:00:26.152558: W tensorflow/core/framework/op_kernel.cc:1830] OP_REQUIRES failed at xla_ops.cc:446 : INTERNAL: libdevice not found at ./libdevice.10.bc\n",
      "2023-01-17 23:00:26.172304: W tensorflow/compiler/xla/service/gpu/llvm_gpu_backend/gpu_backend_lib.cc:326] libdevice is required by this HLO module but was not found at ./libdevice.10.bc\n",
      "2023-01-17 23:00:26.172559: W tensorflow/core/framework/op_kernel.cc:1830] OP_REQUIRES failed at xla_ops.cc:446 : INTERNAL: libdevice not found at ./libdevice.10.bc\n",
      "2023-01-17 23:00:26.192767: W tensorflow/compiler/xla/service/gpu/llvm_gpu_backend/gpu_backend_lib.cc:326] libdevice is required by this HLO module but was not found at ./libdevice.10.bc\n",
      "2023-01-17 23:00:26.193014: W tensorflow/core/framework/op_kernel.cc:1830] OP_REQUIRES failed at xla_ops.cc:446 : INTERNAL: libdevice not found at ./libdevice.10.bc\n",
      "2023-01-17 23:00:26.212789: W tensorflow/compiler/xla/service/gpu/llvm_gpu_backend/gpu_backend_lib.cc:326] libdevice is required by this HLO module but was not found at ./libdevice.10.bc\n",
      "2023-01-17 23:00:26.213038: W tensorflow/core/framework/op_kernel.cc:1830] OP_REQUIRES failed at xla_ops.cc:446 : INTERNAL: libdevice not found at ./libdevice.10.bc\n",
      "2023-01-17 23:00:26.233210: W tensorflow/compiler/xla/service/gpu/llvm_gpu_backend/gpu_backend_lib.cc:326] libdevice is required by this HLO module but was not found at ./libdevice.10.bc\n",
      "2023-01-17 23:00:26.233458: W tensorflow/core/framework/op_kernel.cc:1830] OP_REQUIRES failed at xla_ops.cc:446 : INTERNAL: libdevice not found at ./libdevice.10.bc\n",
      "2023-01-17 23:00:26.253129: W tensorflow/compiler/xla/service/gpu/llvm_gpu_backend/gpu_backend_lib.cc:326] libdevice is required by this HLO module but was not found at ./libdevice.10.bc\n",
      "2023-01-17 23:00:26.253376: W tensorflow/core/framework/op_kernel.cc:1830] OP_REQUIRES failed at xla_ops.cc:446 : INTERNAL: libdevice not found at ./libdevice.10.bc\n",
      "2023-01-17 23:00:26.273420: W tensorflow/compiler/xla/service/gpu/llvm_gpu_backend/gpu_backend_lib.cc:326] libdevice is required by this HLO module but was not found at ./libdevice.10.bc\n",
      "2023-01-17 23:00:26.273669: W tensorflow/core/framework/op_kernel.cc:1830] OP_REQUIRES failed at xla_ops.cc:446 : INTERNAL: libdevice not found at ./libdevice.10.bc\n",
      "2023-01-17 23:00:26.293333: W tensorflow/compiler/xla/service/gpu/llvm_gpu_backend/gpu_backend_lib.cc:326] libdevice is required by this HLO module but was not found at ./libdevice.10.bc\n",
      "2023-01-17 23:00:26.293581: W tensorflow/core/framework/op_kernel.cc:1830] OP_REQUIRES failed at xla_ops.cc:446 : INTERNAL: libdevice not found at ./libdevice.10.bc\n",
      "2023-01-17 23:00:26.313680: W tensorflow/compiler/xla/service/gpu/llvm_gpu_backend/gpu_backend_lib.cc:326] libdevice is required by this HLO module but was not found at ./libdevice.10.bc\n",
      "2023-01-17 23:00:26.313927: W tensorflow/core/framework/op_kernel.cc:1830] OP_REQUIRES failed at xla_ops.cc:446 : INTERNAL: libdevice not found at ./libdevice.10.bc\n",
      "2023-01-17 23:00:26.333672: W tensorflow/compiler/xla/service/gpu/llvm_gpu_backend/gpu_backend_lib.cc:326] libdevice is required by this HLO module but was not found at ./libdevice.10.bc\n",
      "2023-01-17 23:00:26.333918: W tensorflow/core/framework/op_kernel.cc:1830] OP_REQUIRES failed at xla_ops.cc:446 : INTERNAL: libdevice not found at ./libdevice.10.bc\n",
      "2023-01-17 23:00:26.354022: W tensorflow/compiler/xla/service/gpu/llvm_gpu_backend/gpu_backend_lib.cc:326] libdevice is required by this HLO module but was not found at ./libdevice.10.bc\n",
      "2023-01-17 23:00:26.354268: W tensorflow/core/framework/op_kernel.cc:1830] OP_REQUIRES failed at xla_ops.cc:446 : INTERNAL: libdevice not found at ./libdevice.10.bc\n",
      "2023-01-17 23:00:26.373987: W tensorflow/compiler/xla/service/gpu/llvm_gpu_backend/gpu_backend_lib.cc:326] libdevice is required by this HLO module but was not found at ./libdevice.10.bc\n",
      "2023-01-17 23:00:26.374234: W tensorflow/core/framework/op_kernel.cc:1830] OP_REQUIRES failed at xla_ops.cc:446 : INTERNAL: libdevice not found at ./libdevice.10.bc\n",
      "2023-01-17 23:00:26.394392: W tensorflow/compiler/xla/service/gpu/llvm_gpu_backend/gpu_backend_lib.cc:326] libdevice is required by this HLO module but was not found at ./libdevice.10.bc\n",
      "2023-01-17 23:00:26.394654: W tensorflow/core/framework/op_kernel.cc:1830] OP_REQUIRES failed at xla_ops.cc:446 : INTERNAL: libdevice not found at ./libdevice.10.bc\n",
      "2023-01-17 23:00:26.414415: W tensorflow/compiler/xla/service/gpu/llvm_gpu_backend/gpu_backend_lib.cc:326] libdevice is required by this HLO module but was not found at ./libdevice.10.bc\n",
      "2023-01-17 23:00:26.414677: W tensorflow/core/framework/op_kernel.cc:1830] OP_REQUIRES failed at xla_ops.cc:446 : INTERNAL: libdevice not found at ./libdevice.10.bc\n",
      "2023-01-17 23:00:26.434805: W tensorflow/compiler/xla/service/gpu/llvm_gpu_backend/gpu_backend_lib.cc:326] libdevice is required by this HLO module but was not found at ./libdevice.10.bc\n",
      "2023-01-17 23:00:26.435054: W tensorflow/core/framework/op_kernel.cc:1830] OP_REQUIRES failed at xla_ops.cc:446 : INTERNAL: libdevice not found at ./libdevice.10.bc\n",
      "2023-01-17 23:00:26.454854: W tensorflow/compiler/xla/service/gpu/llvm_gpu_backend/gpu_backend_lib.cc:326] libdevice is required by this HLO module but was not found at ./libdevice.10.bc\n",
      "2023-01-17 23:00:26.455102: W tensorflow/core/framework/op_kernel.cc:1830] OP_REQUIRES failed at xla_ops.cc:446 : INTERNAL: libdevice not found at ./libdevice.10.bc\n",
      "2023-01-17 23:00:26.475230: W tensorflow/compiler/xla/service/gpu/llvm_gpu_backend/gpu_backend_lib.cc:326] libdevice is required by this HLO module but was not found at ./libdevice.10.bc\n",
      "2023-01-17 23:00:26.475480: W tensorflow/core/framework/op_kernel.cc:1830] OP_REQUIRES failed at xla_ops.cc:446 : INTERNAL: libdevice not found at ./libdevice.10.bc\n",
      "2023-01-17 23:00:26.495273: W tensorflow/compiler/xla/service/gpu/llvm_gpu_backend/gpu_backend_lib.cc:326] libdevice is required by this HLO module but was not found at ./libdevice.10.bc\n",
      "2023-01-17 23:00:26.495519: W tensorflow/core/framework/op_kernel.cc:1830] OP_REQUIRES failed at xla_ops.cc:446 : INTERNAL: libdevice not found at ./libdevice.10.bc\n",
      "2023-01-17 23:00:26.515639: W tensorflow/compiler/xla/service/gpu/llvm_gpu_backend/gpu_backend_lib.cc:326] libdevice is required by this HLO module but was not found at ./libdevice.10.bc\n",
      "2023-01-17 23:00:26.515888: W tensorflow/core/framework/op_kernel.cc:1830] OP_REQUIRES failed at xla_ops.cc:446 : INTERNAL: libdevice not found at ./libdevice.10.bc\n",
      "2023-01-17 23:00:26.535628: W tensorflow/compiler/xla/service/gpu/llvm_gpu_backend/gpu_backend_lib.cc:326] libdevice is required by this HLO module but was not found at ./libdevice.10.bc\n",
      "2023-01-17 23:00:26.535876: W tensorflow/core/framework/op_kernel.cc:1830] OP_REQUIRES failed at xla_ops.cc:446 : INTERNAL: libdevice not found at ./libdevice.10.bc\n",
      "2023-01-17 23:00:26.555952: W tensorflow/compiler/xla/service/gpu/llvm_gpu_backend/gpu_backend_lib.cc:326] libdevice is required by this HLO module but was not found at ./libdevice.10.bc\n",
      "2023-01-17 23:00:26.556201: W tensorflow/core/framework/op_kernel.cc:1830] OP_REQUIRES failed at xla_ops.cc:446 : INTERNAL: libdevice not found at ./libdevice.10.bc\n",
      "2023-01-17 23:00:26.575869: W tensorflow/compiler/xla/service/gpu/llvm_gpu_backend/gpu_backend_lib.cc:326] libdevice is required by this HLO module but was not found at ./libdevice.10.bc\n",
      "2023-01-17 23:00:26.576115: W tensorflow/core/framework/op_kernel.cc:1830] OP_REQUIRES failed at xla_ops.cc:446 : INTERNAL: libdevice not found at ./libdevice.10.bc\n",
      "2023-01-17 23:00:26.596204: W tensorflow/compiler/xla/service/gpu/llvm_gpu_backend/gpu_backend_lib.cc:326] libdevice is required by this HLO module but was not found at ./libdevice.10.bc\n",
      "2023-01-17 23:00:26.596464: W tensorflow/core/framework/op_kernel.cc:1830] OP_REQUIRES failed at xla_ops.cc:446 : INTERNAL: libdevice not found at ./libdevice.10.bc\n",
      "2023-01-17 23:00:26.616188: W tensorflow/compiler/xla/service/gpu/llvm_gpu_backend/gpu_backend_lib.cc:326] libdevice is required by this HLO module but was not found at ./libdevice.10.bc\n",
      "2023-01-17 23:00:26.616447: W tensorflow/core/framework/op_kernel.cc:1830] OP_REQUIRES failed at xla_ops.cc:446 : INTERNAL: libdevice not found at ./libdevice.10.bc\n",
      "2023-01-17 23:00:26.636522: W tensorflow/compiler/xla/service/gpu/llvm_gpu_backend/gpu_backend_lib.cc:326] libdevice is required by this HLO module but was not found at ./libdevice.10.bc\n",
      "2023-01-17 23:00:26.636769: W tensorflow/core/framework/op_kernel.cc:1830] OP_REQUIRES failed at xla_ops.cc:446 : INTERNAL: libdevice not found at ./libdevice.10.bc\n",
      "2023-01-17 23:00:26.656433: W tensorflow/compiler/xla/service/gpu/llvm_gpu_backend/gpu_backend_lib.cc:326] libdevice is required by this HLO module but was not found at ./libdevice.10.bc\n",
      "2023-01-17 23:00:26.656680: W tensorflow/core/framework/op_kernel.cc:1830] OP_REQUIRES failed at xla_ops.cc:446 : INTERNAL: libdevice not found at ./libdevice.10.bc\n",
      "2023-01-17 23:00:26.676711: W tensorflow/compiler/xla/service/gpu/llvm_gpu_backend/gpu_backend_lib.cc:326] libdevice is required by this HLO module but was not found at ./libdevice.10.bc\n",
      "2023-01-17 23:00:26.676957: W tensorflow/core/framework/op_kernel.cc:1830] OP_REQUIRES failed at xla_ops.cc:446 : INTERNAL: libdevice not found at ./libdevice.10.bc\n",
      "2023-01-17 23:00:26.696603: W tensorflow/compiler/xla/service/gpu/llvm_gpu_backend/gpu_backend_lib.cc:326] libdevice is required by this HLO module but was not found at ./libdevice.10.bc\n",
      "2023-01-17 23:00:26.696848: W tensorflow/core/framework/op_kernel.cc:1830] OP_REQUIRES failed at xla_ops.cc:446 : INTERNAL: libdevice not found at ./libdevice.10.bc\n",
      "2023-01-17 23:00:26.716919: W tensorflow/compiler/xla/service/gpu/llvm_gpu_backend/gpu_backend_lib.cc:326] libdevice is required by this HLO module but was not found at ./libdevice.10.bc\n",
      "2023-01-17 23:00:26.717167: W tensorflow/core/framework/op_kernel.cc:1830] OP_REQUIRES failed at xla_ops.cc:446 : INTERNAL: libdevice not found at ./libdevice.10.bc\n",
      "2023-01-17 23:00:26.736931: W tensorflow/compiler/xla/service/gpu/llvm_gpu_backend/gpu_backend_lib.cc:326] libdevice is required by this HLO module but was not found at ./libdevice.10.bc\n",
      "2023-01-17 23:00:26.737176: W tensorflow/core/framework/op_kernel.cc:1830] OP_REQUIRES failed at xla_ops.cc:446 : INTERNAL: libdevice not found at ./libdevice.10.bc\n",
      "2023-01-17 23:00:26.757284: W tensorflow/compiler/xla/service/gpu/llvm_gpu_backend/gpu_backend_lib.cc:326] libdevice is required by this HLO module but was not found at ./libdevice.10.bc\n",
      "2023-01-17 23:00:26.757532: W tensorflow/core/framework/op_kernel.cc:1830] OP_REQUIRES failed at xla_ops.cc:446 : INTERNAL: libdevice not found at ./libdevice.10.bc\n",
      "2023-01-17 23:00:26.777300: W tensorflow/compiler/xla/service/gpu/llvm_gpu_backend/gpu_backend_lib.cc:326] libdevice is required by this HLO module but was not found at ./libdevice.10.bc\n",
      "2023-01-17 23:00:26.777546: W tensorflow/core/framework/op_kernel.cc:1830] OP_REQUIRES failed at xla_ops.cc:446 : INTERNAL: libdevice not found at ./libdevice.10.bc\n",
      "2023-01-17 23:00:26.797683: W tensorflow/compiler/xla/service/gpu/llvm_gpu_backend/gpu_backend_lib.cc:326] libdevice is required by this HLO module but was not found at ./libdevice.10.bc\n",
      "2023-01-17 23:00:26.797933: W tensorflow/core/framework/op_kernel.cc:1830] OP_REQUIRES failed at xla_ops.cc:446 : INTERNAL: libdevice not found at ./libdevice.10.bc\n",
      "2023-01-17 23:00:26.817642: W tensorflow/compiler/xla/service/gpu/llvm_gpu_backend/gpu_backend_lib.cc:326] libdevice is required by this HLO module but was not found at ./libdevice.10.bc\n",
      "2023-01-17 23:00:26.817889: W tensorflow/core/framework/op_kernel.cc:1830] OP_REQUIRES failed at xla_ops.cc:446 : INTERNAL: libdevice not found at ./libdevice.10.bc\n",
      "2023-01-17 23:00:26.839300: W tensorflow/compiler/xla/service/gpu/llvm_gpu_backend/gpu_backend_lib.cc:326] libdevice is required by this HLO module but was not found at ./libdevice.10.bc\n",
      "2023-01-17 23:00:26.839552: W tensorflow/core/framework/op_kernel.cc:1830] OP_REQUIRES failed at xla_ops.cc:446 : INTERNAL: libdevice not found at ./libdevice.10.bc\n",
      "2023-01-17 23:00:26.859405: W tensorflow/compiler/xla/service/gpu/llvm_gpu_backend/gpu_backend_lib.cc:326] libdevice is required by this HLO module but was not found at ./libdevice.10.bc\n",
      "2023-01-17 23:00:26.859653: W tensorflow/core/framework/op_kernel.cc:1830] OP_REQUIRES failed at xla_ops.cc:446 : INTERNAL: libdevice not found at ./libdevice.10.bc\n",
      "2023-01-17 23:00:26.879876: W tensorflow/compiler/xla/service/gpu/llvm_gpu_backend/gpu_backend_lib.cc:326] libdevice is required by this HLO module but was not found at ./libdevice.10.bc\n",
      "2023-01-17 23:00:26.880127: W tensorflow/core/framework/op_kernel.cc:1830] OP_REQUIRES failed at xla_ops.cc:446 : INTERNAL: libdevice not found at ./libdevice.10.bc\n",
      "2023-01-17 23:00:26.899938: W tensorflow/compiler/xla/service/gpu/llvm_gpu_backend/gpu_backend_lib.cc:326] libdevice is required by this HLO module but was not found at ./libdevice.10.bc\n",
      "2023-01-17 23:00:26.900184: W tensorflow/core/framework/op_kernel.cc:1830] OP_REQUIRES failed at xla_ops.cc:446 : INTERNAL: libdevice not found at ./libdevice.10.bc\n",
      "2023-01-17 23:00:26.920336: W tensorflow/compiler/xla/service/gpu/llvm_gpu_backend/gpu_backend_lib.cc:326] libdevice is required by this HLO module but was not found at ./libdevice.10.bc\n",
      "2023-01-17 23:00:26.920581: W tensorflow/core/framework/op_kernel.cc:1830] OP_REQUIRES failed at xla_ops.cc:446 : INTERNAL: libdevice not found at ./libdevice.10.bc\n",
      "2023-01-17 23:00:26.940279: W tensorflow/compiler/xla/service/gpu/llvm_gpu_backend/gpu_backend_lib.cc:326] libdevice is required by this HLO module but was not found at ./libdevice.10.bc\n",
      "2023-01-17 23:00:26.940534: W tensorflow/core/framework/op_kernel.cc:1830] OP_REQUIRES failed at xla_ops.cc:446 : INTERNAL: libdevice not found at ./libdevice.10.bc\n",
      "2023-01-17 23:00:26.960528: W tensorflow/compiler/xla/service/gpu/llvm_gpu_backend/gpu_backend_lib.cc:326] libdevice is required by this HLO module but was not found at ./libdevice.10.bc\n",
      "2023-01-17 23:00:26.960774: W tensorflow/core/framework/op_kernel.cc:1830] OP_REQUIRES failed at xla_ops.cc:446 : INTERNAL: libdevice not found at ./libdevice.10.bc\n",
      "2023-01-17 23:00:26.980470: W tensorflow/compiler/xla/service/gpu/llvm_gpu_backend/gpu_backend_lib.cc:326] libdevice is required by this HLO module but was not found at ./libdevice.10.bc\n",
      "2023-01-17 23:00:26.980716: W tensorflow/core/framework/op_kernel.cc:1830] OP_REQUIRES failed at xla_ops.cc:446 : INTERNAL: libdevice not found at ./libdevice.10.bc\n"
     ]
    },
    {
     "ename": "InternalError",
     "evalue": "Graph execution error:\n\nDetected at node 'StatefulPartitionedCall_298' defined at (most recent call last):\n    File \"/usr/local/lib/python3.8/runpy.py\", line 194, in _run_module_as_main\n      return _run_code(code, main_globals, None,\n    File \"/usr/local/lib/python3.8/runpy.py\", line 87, in _run_code\n      exec(code, run_globals)\n    File \"/usr/local/lib/python3.8/site-packages/ipykernel_launcher.py\", line 16, in <module>\n      app.launch_new_instance()\n    File \"/usr/local/lib/python3.8/site-packages/traitlets/config/application.py\", line 846, in launch_instance\n      app.start()\n    File \"/usr/local/lib/python3.8/site-packages/ipykernel/kernelapp.py\", line 677, in start\n      self.io_loop.start()\n    File \"/usr/local/lib/python3.8/site-packages/tornado/platform/asyncio.py\", line 199, in start\n      self.asyncio_loop.run_forever()\n    File \"/usr/local/lib/python3.8/asyncio/base_events.py\", line 570, in run_forever\n      self._run_once()\n    File \"/usr/local/lib/python3.8/asyncio/base_events.py\", line 1859, in _run_once\n      handle._run()\n    File \"/usr/local/lib/python3.8/asyncio/events.py\", line 81, in _run\n      self._context.run(self._callback, *self._args)\n    File \"/usr/local/lib/python3.8/site-packages/ipykernel/kernelbase.py\", line 457, in dispatch_queue\n      await self.process_one()\n    File \"/usr/local/lib/python3.8/site-packages/ipykernel/kernelbase.py\", line 446, in process_one\n      await dispatch(*args)\n    File \"/usr/local/lib/python3.8/site-packages/ipykernel/kernelbase.py\", line 353, in dispatch_shell\n      await result\n    File \"/usr/local/lib/python3.8/site-packages/ipykernel/kernelbase.py\", line 648, in execute_request\n      reply_content = await reply_content\n    File \"/usr/local/lib/python3.8/site-packages/ipykernel/ipkernel.py\", line 353, in do_execute\n      res = shell.run_cell(code, store_history=store_history, silent=silent)\n    File \"/usr/local/lib/python3.8/site-packages/ipykernel/zmqshell.py\", line 533, in run_cell\n      return super(ZMQInteractiveShell, self).run_cell(*args, **kwargs)\n    File \"/usr/local/lib/python3.8/site-packages/IPython/core/interactiveshell.py\", line 2914, in run_cell\n      result = self._run_cell(\n    File \"/usr/local/lib/python3.8/site-packages/IPython/core/interactiveshell.py\", line 2960, in _run_cell\n      return runner(coro)\n    File \"/usr/local/lib/python3.8/site-packages/IPython/core/async_helpers.py\", line 78, in _pseudo_sync_runner\n      coro.send(None)\n    File \"/usr/local/lib/python3.8/site-packages/IPython/core/interactiveshell.py\", line 3185, in run_cell_async\n      has_raised = await self.run_ast_nodes(code_ast.body, cell_name,\n    File \"/usr/local/lib/python3.8/site-packages/IPython/core/interactiveshell.py\", line 3377, in run_ast_nodes\n      if (await self.run_code(code, result,  async_=asy)):\n    File \"/usr/local/lib/python3.8/site-packages/IPython/core/interactiveshell.py\", line 3457, in run_code\n      exec(code_obj, self.user_global_ns, self.user_ns)\n    File \"/tmp/ipykernel_1924/3069515480.py\", line 2, in <module>\n      history = model_small.fit(train_dataset,\n    File \"/home/cdsw/.local/lib/python3.8/site-packages/keras/utils/traceback_utils.py\", line 65, in error_handler\n      return fn(*args, **kwargs)\n    File \"/home/cdsw/.local/lib/python3.8/site-packages/keras/engine/training.py\", line 1650, in fit\n      tmp_logs = self.train_function(iterator)\n    File \"/home/cdsw/.local/lib/python3.8/site-packages/keras/engine/training.py\", line 1249, in train_function\n      return step_function(self, iterator)\n    File \"/home/cdsw/.local/lib/python3.8/site-packages/keras/engine/training.py\", line 1233, in step_function\n      outputs = model.distribute_strategy.run(run_step, args=(data,))\n    File \"/home/cdsw/.local/lib/python3.8/site-packages/keras/engine/training.py\", line 1222, in run_step\n      outputs = model.train_step(data)\n    File \"/home/cdsw/.local/lib/python3.8/site-packages/keras/engine/training.py\", line 1027, in train_step\n      self.optimizer.minimize(loss, self.trainable_variables, tape=tape)\n    File \"/home/cdsw/.local/lib/python3.8/site-packages/keras/optimizers/optimizer_experimental/optimizer.py\", line 527, in minimize\n      self.apply_gradients(grads_and_vars)\n    File \"/home/cdsw/.local/lib/python3.8/site-packages/keras/optimizers/optimizer_experimental/optimizer.py\", line 1140, in apply_gradients\n      return super().apply_gradients(grads_and_vars, name=name)\n    File \"/home/cdsw/.local/lib/python3.8/site-packages/keras/optimizers/optimizer_experimental/optimizer.py\", line 634, in apply_gradients\n      iteration = self._internal_apply_gradients(grads_and_vars)\n    File \"/home/cdsw/.local/lib/python3.8/site-packages/keras/optimizers/optimizer_experimental/optimizer.py\", line 1166, in _internal_apply_gradients\n      return tf.__internal__.distribute.interim.maybe_merge_call(\n    File \"/home/cdsw/.local/lib/python3.8/site-packages/keras/optimizers/optimizer_experimental/optimizer.py\", line 1216, in _distributed_apply_gradients_fn\n      distribution.extended.update(\n    File \"/home/cdsw/.local/lib/python3.8/site-packages/keras/optimizers/optimizer_experimental/optimizer.py\", line 1211, in apply_grad_to_update_var\n      return self._update_step_xla(grad, var, id(self._var_key(var)))\nNode: 'StatefulPartitionedCall_298'\nlibdevice not found at ./libdevice.10.bc\n\t [[{{node StatefulPartitionedCall_298}}]] [Op:__inference_train_function_31091]",
     "output_type": "error",
     "traceback": [
      "\u001b[0;31m---------------------------------------------------------------------------\u001b[0m",
      "\u001b[0;31mInternalError\u001b[0m                             Traceback (most recent call last)",
      "\u001b[0;32m/tmp/ipykernel_1924/3069515480.py\u001b[0m in \u001b[0;36m<module>\u001b[0;34m\u001b[0m\n\u001b[1;32m      1\u001b[0m \u001b[0mget_ipython\u001b[0m\u001b[0;34m(\u001b[0m\u001b[0;34m)\u001b[0m\u001b[0;34m.\u001b[0m\u001b[0mrun_line_magic\u001b[0m\u001b[0;34m(\u001b[0m\u001b[0;34m'time'\u001b[0m\u001b[0;34m,\u001b[0m \u001b[0;34m''\u001b[0m\u001b[0;34m)\u001b[0m\u001b[0;34m\u001b[0m\u001b[0;34m\u001b[0m\u001b[0m\n\u001b[0;32m----> 2\u001b[0;31m history = model_small.fit(train_dataset,\n\u001b[0m\u001b[1;32m      3\u001b[0m             \u001b[0mepochs\u001b[0m\u001b[0;34m=\u001b[0m\u001b[0mepochs\u001b[0m\u001b[0;34m,\u001b[0m\u001b[0;34m\u001b[0m\u001b[0;34m\u001b[0m\u001b[0m\n\u001b[1;32m      4\u001b[0m             \u001b[0mvalidation_data\u001b[0m\u001b[0;34m=\u001b[0m\u001b[0mtest_dataset\u001b[0m\u001b[0;34m,\u001b[0m\u001b[0;34m\u001b[0m\u001b[0;34m\u001b[0m\u001b[0m\n\u001b[1;32m      5\u001b[0m             \u001b[0mverbose\u001b[0m\u001b[0;34m=\u001b[0m\u001b[0;36m0\u001b[0m\u001b[0;34m,\u001b[0m\u001b[0;34m\u001b[0m\u001b[0;34m\u001b[0m\u001b[0m\n",
      "\u001b[0;32m~/.local/lib/python3.8/site-packages/keras/utils/traceback_utils.py\u001b[0m in \u001b[0;36merror_handler\u001b[0;34m(*args, **kwargs)\u001b[0m\n\u001b[1;32m     68\u001b[0m             \u001b[0;31m# To get the full stack trace, call:\u001b[0m\u001b[0;34m\u001b[0m\u001b[0;34m\u001b[0m\u001b[0;34m\u001b[0m\u001b[0m\n\u001b[1;32m     69\u001b[0m             \u001b[0;31m# `tf.debugging.disable_traceback_filtering()`\u001b[0m\u001b[0;34m\u001b[0m\u001b[0;34m\u001b[0m\u001b[0;34m\u001b[0m\u001b[0m\n\u001b[0;32m---> 70\u001b[0;31m             \u001b[0;32mraise\u001b[0m \u001b[0me\u001b[0m\u001b[0;34m.\u001b[0m\u001b[0mwith_traceback\u001b[0m\u001b[0;34m(\u001b[0m\u001b[0mfiltered_tb\u001b[0m\u001b[0;34m)\u001b[0m \u001b[0;32mfrom\u001b[0m \u001b[0;32mNone\u001b[0m\u001b[0;34m\u001b[0m\u001b[0;34m\u001b[0m\u001b[0m\n\u001b[0m\u001b[1;32m     71\u001b[0m         \u001b[0;32mfinally\u001b[0m\u001b[0;34m:\u001b[0m\u001b[0;34m\u001b[0m\u001b[0;34m\u001b[0m\u001b[0m\n\u001b[1;32m     72\u001b[0m             \u001b[0;32mdel\u001b[0m \u001b[0mfiltered_tb\u001b[0m\u001b[0;34m\u001b[0m\u001b[0;34m\u001b[0m\u001b[0m\n",
      "\u001b[0;32m~/.local/lib/python3.8/site-packages/tensorflow/python/eager/execute.py\u001b[0m in \u001b[0;36mquick_execute\u001b[0;34m(op_name, num_outputs, inputs, attrs, ctx, name)\u001b[0m\n\u001b[1;32m     50\u001b[0m   \u001b[0;32mtry\u001b[0m\u001b[0;34m:\u001b[0m\u001b[0;34m\u001b[0m\u001b[0;34m\u001b[0m\u001b[0m\n\u001b[1;32m     51\u001b[0m     \u001b[0mctx\u001b[0m\u001b[0;34m.\u001b[0m\u001b[0mensure_initialized\u001b[0m\u001b[0;34m(\u001b[0m\u001b[0;34m)\u001b[0m\u001b[0;34m\u001b[0m\u001b[0;34m\u001b[0m\u001b[0m\n\u001b[0;32m---> 52\u001b[0;31m     tensors = pywrap_tfe.TFE_Py_Execute(ctx._handle, device_name, op_name,\n\u001b[0m\u001b[1;32m     53\u001b[0m                                         inputs, attrs, num_outputs)\n\u001b[1;32m     54\u001b[0m   \u001b[0;32mexcept\u001b[0m \u001b[0mcore\u001b[0m\u001b[0;34m.\u001b[0m\u001b[0m_NotOkStatusException\u001b[0m \u001b[0;32mas\u001b[0m \u001b[0me\u001b[0m\u001b[0;34m:\u001b[0m\u001b[0;34m\u001b[0m\u001b[0;34m\u001b[0m\u001b[0m\n",
      "\u001b[0;31mInternalError\u001b[0m: Graph execution error:\n\nDetected at node 'StatefulPartitionedCall_298' defined at (most recent call last):\n    File \"/usr/local/lib/python3.8/runpy.py\", line 194, in _run_module_as_main\n      return _run_code(code, main_globals, None,\n    File \"/usr/local/lib/python3.8/runpy.py\", line 87, in _run_code\n      exec(code, run_globals)\n    File \"/usr/local/lib/python3.8/site-packages/ipykernel_launcher.py\", line 16, in <module>\n      app.launch_new_instance()\n    File \"/usr/local/lib/python3.8/site-packages/traitlets/config/application.py\", line 846, in launch_instance\n      app.start()\n    File \"/usr/local/lib/python3.8/site-packages/ipykernel/kernelapp.py\", line 677, in start\n      self.io_loop.start()\n    File \"/usr/local/lib/python3.8/site-packages/tornado/platform/asyncio.py\", line 199, in start\n      self.asyncio_loop.run_forever()\n    File \"/usr/local/lib/python3.8/asyncio/base_events.py\", line 570, in run_forever\n      self._run_once()\n    File \"/usr/local/lib/python3.8/asyncio/base_events.py\", line 1859, in _run_once\n      handle._run()\n    File \"/usr/local/lib/python3.8/asyncio/events.py\", line 81, in _run\n      self._context.run(self._callback, *self._args)\n    File \"/usr/local/lib/python3.8/site-packages/ipykernel/kernelbase.py\", line 457, in dispatch_queue\n      await self.process_one()\n    File \"/usr/local/lib/python3.8/site-packages/ipykernel/kernelbase.py\", line 446, in process_one\n      await dispatch(*args)\n    File \"/usr/local/lib/python3.8/site-packages/ipykernel/kernelbase.py\", line 353, in dispatch_shell\n      await result\n    File \"/usr/local/lib/python3.8/site-packages/ipykernel/kernelbase.py\", line 648, in execute_request\n      reply_content = await reply_content\n    File \"/usr/local/lib/python3.8/site-packages/ipykernel/ipkernel.py\", line 353, in do_execute\n      res = shell.run_cell(code, store_history=store_history, silent=silent)\n    File \"/usr/local/lib/python3.8/site-packages/ipykernel/zmqshell.py\", line 533, in run_cell\n      return super(ZMQInteractiveShell, self).run_cell(*args, **kwargs)\n    File \"/usr/local/lib/python3.8/site-packages/IPython/core/interactiveshell.py\", line 2914, in run_cell\n      result = self._run_cell(\n    File \"/usr/local/lib/python3.8/site-packages/IPython/core/interactiveshell.py\", line 2960, in _run_cell\n      return runner(coro)\n    File \"/usr/local/lib/python3.8/site-packages/IPython/core/async_helpers.py\", line 78, in _pseudo_sync_runner\n      coro.send(None)\n    File \"/usr/local/lib/python3.8/site-packages/IPython/core/interactiveshell.py\", line 3185, in run_cell_async\n      has_raised = await self.run_ast_nodes(code_ast.body, cell_name,\n    File \"/usr/local/lib/python3.8/site-packages/IPython/core/interactiveshell.py\", line 3377, in run_ast_nodes\n      if (await self.run_code(code, result,  async_=asy)):\n    File \"/usr/local/lib/python3.8/site-packages/IPython/core/interactiveshell.py\", line 3457, in run_code\n      exec(code_obj, self.user_global_ns, self.user_ns)\n    File \"/tmp/ipykernel_1924/3069515480.py\", line 2, in <module>\n      history = model_small.fit(train_dataset,\n    File \"/home/cdsw/.local/lib/python3.8/site-packages/keras/utils/traceback_utils.py\", line 65, in error_handler\n      return fn(*args, **kwargs)\n    File \"/home/cdsw/.local/lib/python3.8/site-packages/keras/engine/training.py\", line 1650, in fit\n      tmp_logs = self.train_function(iterator)\n    File \"/home/cdsw/.local/lib/python3.8/site-packages/keras/engine/training.py\", line 1249, in train_function\n      return step_function(self, iterator)\n    File \"/home/cdsw/.local/lib/python3.8/site-packages/keras/engine/training.py\", line 1233, in step_function\n      outputs = model.distribute_strategy.run(run_step, args=(data,))\n    File \"/home/cdsw/.local/lib/python3.8/site-packages/keras/engine/training.py\", line 1222, in run_step\n      outputs = model.train_step(data)\n    File \"/home/cdsw/.local/lib/python3.8/site-packages/keras/engine/training.py\", line 1027, in train_step\n      self.optimizer.minimize(loss, self.trainable_variables, tape=tape)\n    File \"/home/cdsw/.local/lib/python3.8/site-packages/keras/optimizers/optimizer_experimental/optimizer.py\", line 527, in minimize\n      self.apply_gradients(grads_and_vars)\n    File \"/home/cdsw/.local/lib/python3.8/site-packages/keras/optimizers/optimizer_experimental/optimizer.py\", line 1140, in apply_gradients\n      return super().apply_gradients(grads_and_vars, name=name)\n    File \"/home/cdsw/.local/lib/python3.8/site-packages/keras/optimizers/optimizer_experimental/optimizer.py\", line 634, in apply_gradients\n      iteration = self._internal_apply_gradients(grads_and_vars)\n    File \"/home/cdsw/.local/lib/python3.8/site-packages/keras/optimizers/optimizer_experimental/optimizer.py\", line 1166, in _internal_apply_gradients\n      return tf.__internal__.distribute.interim.maybe_merge_call(\n    File \"/home/cdsw/.local/lib/python3.8/site-packages/keras/optimizers/optimizer_experimental/optimizer.py\", line 1216, in _distributed_apply_gradients_fn\n      distribution.extended.update(\n    File \"/home/cdsw/.local/lib/python3.8/site-packages/keras/optimizers/optimizer_experimental/optimizer.py\", line 1211, in apply_grad_to_update_var\n      return self._update_step_xla(grad, var, id(self._var_key(var)))\nNode: 'StatefulPartitionedCall_298'\nlibdevice not found at ./libdevice.10.bc\n\t [[{{node StatefulPartitionedCall_298}}]] [Op:__inference_train_function_31091]"
     ]
    }
   ],
   "source": [
    "%time\n",
    "history = model_small.fit(train_dataset,\n",
    "            epochs=epochs,\n",
    "            validation_data=test_dataset,\n",
    "            verbose=0, \n",
    "            # callbacks=[create_model_checkpoint(model_name=stack_model.name)] # saving model every epoch consumes far too much time\n",
    "            callbacks=[tf.keras.callbacks.EarlyStopping(monitor=\"val_loss\", patience=200, restore_best_weights=True),\n",
    "              tf.keras.callbacks.ReduceLROnPlateau(monitor=\"val_loss\", patience=100, verbose=1) ])"
   ]
  },
  {
   "cell_type": "markdown",
   "metadata": {
    "id": "ekn9BwpBwNYL"
   },
   "source": [
    "### Model Save"
   ]
  },
  {
   "cell_type": "code",
   "execution_count": null,
   "metadata": {},
   "outputs": [],
   "source": []
  },
  {
   "cell_type": "code",
   "execution_count": 153,
   "metadata": {
    "id": "CzHmG1Wh7t1D"
   },
   "outputs": [
    {
     "name": "stderr",
     "output_type": "stream",
     "text": [
      "WARNING:absl:Found untraced functions such as theta_layer_call_fn, theta_layer_call_and_return_conditional_losses, theta_layer_call_fn, theta_layer_call_and_return_conditional_losses, theta_layer_call_fn while saving (showing 5 of 300). These functions will not be directly callable after loading.\n"
     ]
    },
    {
     "ename": "PermissionDeniedError",
     "evalue": "/saved_models; Permission denied",
     "output_type": "error",
     "traceback": [
      "\u001b[0;31m---------------------------------------------------------------------------\u001b[0m",
      "\u001b[0;31mPermissionDeniedError\u001b[0m                     Traceback (most recent call last)",
      "\u001b[0;32m/tmp/ipykernel_581/3983627191.py\u001b[0m in \u001b[0;36m<module>\u001b[0;34m\u001b[0m\n\u001b[1;32m      1\u001b[0m \u001b[0;31m#model.save('/content/gdrive/MyDrive/model_sp_500')\u001b[0m\u001b[0;34m\u001b[0m\u001b[0;34m\u001b[0m\u001b[0;34m\u001b[0m\u001b[0m\n\u001b[0;32m----> 2\u001b[0;31m \u001b[0mmodel_small\u001b[0m\u001b[0;34m.\u001b[0m\u001b[0msave\u001b[0m\u001b[0;34m(\u001b[0m\u001b[0;34m'/saved_models/small_model'\u001b[0m\u001b[0;34m)\u001b[0m\u001b[0;34m\u001b[0m\u001b[0;34m\u001b[0m\u001b[0m\n\u001b[0m\u001b[1;32m      3\u001b[0m \u001b[0;31m#model.save('/saved_models/models2')\u001b[0m\u001b[0;34m\u001b[0m\u001b[0;34m\u001b[0m\u001b[0;34m\u001b[0m\u001b[0m\n",
      "\u001b[0;32m~/.local/lib/python3.8/site-packages/keras/utils/traceback_utils.py\u001b[0m in \u001b[0;36merror_handler\u001b[0;34m(*args, **kwargs)\u001b[0m\n\u001b[1;32m     68\u001b[0m             \u001b[0;31m# To get the full stack trace, call:\u001b[0m\u001b[0;34m\u001b[0m\u001b[0;34m\u001b[0m\u001b[0;34m\u001b[0m\u001b[0m\n\u001b[1;32m     69\u001b[0m             \u001b[0;31m# `tf.debugging.disable_traceback_filtering()`\u001b[0m\u001b[0;34m\u001b[0m\u001b[0;34m\u001b[0m\u001b[0;34m\u001b[0m\u001b[0m\n\u001b[0;32m---> 70\u001b[0;31m             \u001b[0;32mraise\u001b[0m \u001b[0me\u001b[0m\u001b[0;34m.\u001b[0m\u001b[0mwith_traceback\u001b[0m\u001b[0;34m(\u001b[0m\u001b[0mfiltered_tb\u001b[0m\u001b[0;34m)\u001b[0m \u001b[0;32mfrom\u001b[0m \u001b[0;32mNone\u001b[0m\u001b[0;34m\u001b[0m\u001b[0;34m\u001b[0m\u001b[0m\n\u001b[0m\u001b[1;32m     71\u001b[0m         \u001b[0;32mfinally\u001b[0m\u001b[0;34m:\u001b[0m\u001b[0;34m\u001b[0m\u001b[0;34m\u001b[0m\u001b[0m\n\u001b[1;32m     72\u001b[0m             \u001b[0;32mdel\u001b[0m \u001b[0mfiltered_tb\u001b[0m\u001b[0;34m\u001b[0m\u001b[0;34m\u001b[0m\u001b[0m\n",
      "\u001b[0;32m~/.local/lib/python3.8/site-packages/tensorflow/python/lib/io/file_io.py\u001b[0m in \u001b[0;36mrecursive_create_dir_v2\u001b[0;34m(path)\u001b[0m\n\u001b[1;32m    511\u001b[0m     \u001b[0merrors\u001b[0m\u001b[0;34m.\u001b[0m\u001b[0mOpError\u001b[0m\u001b[0;34m:\u001b[0m \u001b[0mIf\u001b[0m \u001b[0mthe\u001b[0m \u001b[0moperation\u001b[0m \u001b[0mfails\u001b[0m\u001b[0;34m.\u001b[0m\u001b[0;34m\u001b[0m\u001b[0;34m\u001b[0m\u001b[0m\n\u001b[1;32m    512\u001b[0m   \"\"\"\n\u001b[0;32m--> 513\u001b[0;31m   \u001b[0m_pywrap_file_io\u001b[0m\u001b[0;34m.\u001b[0m\u001b[0mRecursivelyCreateDir\u001b[0m\u001b[0;34m(\u001b[0m\u001b[0mcompat\u001b[0m\u001b[0;34m.\u001b[0m\u001b[0mpath_to_bytes\u001b[0m\u001b[0;34m(\u001b[0m\u001b[0mpath\u001b[0m\u001b[0;34m)\u001b[0m\u001b[0;34m)\u001b[0m\u001b[0;34m\u001b[0m\u001b[0;34m\u001b[0m\u001b[0m\n\u001b[0m\u001b[1;32m    514\u001b[0m \u001b[0;34m\u001b[0m\u001b[0m\n\u001b[1;32m    515\u001b[0m \u001b[0;34m\u001b[0m\u001b[0m\n",
      "\u001b[0;31mPermissionDeniedError\u001b[0m: /saved_models; Permission denied"
     ]
    }
   ],
   "source": [
    "#model.save('/content/gdrive/MyDrive/model_sp_500')\n",
    "model_small.save('/saved_models/small_model')\n",
    "#model.save('/saved_models/models2')"
   ]
  },
  {
   "cell_type": "code",
   "execution_count": null,
   "metadata": {
    "id": "9mdrkFTIstmb"
   },
   "outputs": [],
   "source": [
    "!ls /content/gdrive/MyDrive/ColabNotebooks/models2"
   ]
  },
  {
   "cell_type": "code",
   "execution_count": null,
   "metadata": {
    "id": "-4E434IgMUik"
   },
   "outputs": [],
   "source": [
    "!cp -r /content/gdrive/MyDrive/models2/ /content/gdrive/MyDrive/"
   ]
  },
  {
   "cell_type": "code",
   "execution_count": null,
   "metadata": {
    "id": "4S93iLY530gv"
   },
   "outputs": [],
   "source": [
    "#reconstructed_model = keras.models.load_model('/content/gdrive/MyDrive/models02')\n",
    "#recon_model=tf.saved_model.load('/content/gdrive/MyDrive/models/saved_model.pb')"
   ]
  },
  {
   "cell_type": "code",
   "execution_count": null,
   "metadata": {
    "colab": {
     "base_uri": "https://localhost:8080/"
    },
    "id": "VgRkSfUVnsbd",
    "outputId": "99eb747e-85b7-450d-c7c2-66f5ce3999f9"
   },
   "outputs": [],
   "source": [
    "# from google.colab import drive\n",
    "# drive.mount('/content/drive')\n",
    "# # copy it there\n"
   ]
  },
  {
   "cell_type": "code",
   "execution_count": null,
   "metadata": {
    "id": "zmrOyGFhtU5b"
   },
   "outputs": [],
   "source": [
    "!cp -r /content/gdrive/MyDrive/models200/ /content/drive/MyDrive"
   ]
  },
  {
   "cell_type": "markdown",
   "metadata": {
    "id": "MjnXAMZiRFXy"
   },
   "source": [
    "**Performance**"
   ]
  },
  {
   "cell_type": "code",
   "execution_count": null,
   "metadata": {
    "colab": {
     "base_uri": "https://localhost:8080/"
    },
    "id": "YFEMbJFP-vUv",
    "outputId": "a32f0198-6faa-40d2-b10a-1dfea2084853"
   },
   "outputs": [],
   "source": [
    "type(model)"
   ]
  },
  {
   "cell_type": "code",
   "execution_count": null,
   "metadata": {
    "colab": {
     "base_uri": "https://localhost:8080/"
    },
    "id": "-DXudHYrnkjp",
    "outputId": "6c1c136f-339e-4b1c-bf4f-4a2c2d5d7c76"
   },
   "outputs": [],
   "source": [
    "type(reconstructed_model)"
   ]
  },
  {
   "cell_type": "code",
   "execution_count": null,
   "metadata": {
    "colab": {
     "base_uri": "https://localhost:8080/"
    },
    "id": "Pc1HsJZcNv4_",
    "outputId": "ffc99a25-47dd-4c51-894a-c2eff848c504"
   },
   "outputs": [],
   "source": [
    "metrics = reconstructed_model.evaluate(valid_ds)\n",
    "#metrics = recon_model.evaluate(valid_ds)\n"
   ]
  },
  {
   "cell_type": "code",
   "execution_count": null,
   "metadata": {
    "id": "onhptwxCNv5A"
   },
   "outputs": [],
   "source": [
    "val_pred = model.predict(valid_ds)\n",
    "#val_pred = scaler.inverse_transform(val_pred)"
   ]
  },
  {
   "cell_type": "code",
   "execution_count": null,
   "metadata": {
    "colab": {
     "base_uri": "https://localhost:8080/"
    },
    "id": "INr9vc-fNv5B",
    "outputId": "3f669a8f-9806-4e33-fb52-96015b5ae0b5"
   },
   "outputs": [],
   "source": [
    "# # builds the array for true values\n",
    "# %%time \n",
    "# empty = 1\n",
    "# for array in y_valid_true:\n",
    "#   if empty == 1:\n",
    "#     Y_true = array.reshape(1,array.shape[0]).copy()\n",
    "#     empty = 0\n",
    "#   else:\n",
    "#     Y_true = np.append(Y_true,array.reshape(1,array.shape[0]),axis=0)"
   ]
  },
  {
   "cell_type": "markdown",
   "metadata": {
    "id": "ZTsnan_8Nv5D"
   },
   "source": [
    "**Validation MAE**\n",
    "This is for validation set. So there will be 5 validation examples per series. There fore we will take the entire matrix of actual observations and compare to matrix of same size of predictions."
   ]
  },
  {
   "cell_type": "code",
   "execution_count": null,
   "metadata": {
    "colab": {
     "base_uri": "https://localhost:8080/"
    },
    "id": "efWLFFvENv5D",
    "outputId": "e57c3fc0-3c7d-40bf-cb07-0b52656759be"
   },
   "outputs": [],
   "source": [
    "# #This is the weighte MAE for validation data \n",
    "# np.absolute(Y_true - val_pred).mean()"
   ]
  },
  {
   "cell_type": "code",
   "execution_count": null,
   "metadata": {
    "id": "o5T6xgniXF-8"
   },
   "outputs": [],
   "source": [
    "#losses = history.history['loss']\n",
    "mae = history.history['mae']\n",
    "#val_losses = history.history['val_loss']\n",
    "val_mae = history.history['val_mae']\n",
    "epochs = len(mae)"
   ]
  },
  {
   "cell_type": "code",
   "execution_count": null,
   "metadata": {
    "colab": {
     "base_uri": "https://localhost:8080/",
     "height": 335
    },
    "id": "1jiCXnqfXF-9",
    "outputId": "bd72a20f-57fa-486f-d172-02440d8339ed"
   },
   "outputs": [],
   "source": [
    "fig = plt.figure(figsize=(15, 5))\n",
    "ax2 = fig.add_subplot()\n",
    "ax2.plot(range(epochs), mae, label='Training MAE')\n",
    "ax2.plot(range(epochs), val_mae, label='Validation MAE')\n",
    "ax2.set_title('MAE')\n",
    "ax2.legend()\n",
    "plt.show()"
   ]
  },
  {
   "cell_type": "markdown",
   "metadata": {
    "id": "cWmq6e18Nv5E"
   },
   "source": [
    "### Generate Predictions\n",
    "\n",
    "- Back testing predictions for last h periods<br>\n",
    "- Run predictions on latest window days<br>\n"
   ]
  },
  {
   "cell_type": "code",
   "execution_count": null,
   "metadata": {
    "colab": {
     "base_uri": "https://localhost:8080/",
     "height": 380
    },
    "id": "wfnqZQpawRcu",
    "outputId": "71ac0486-af70-4987-a765-3c0248c6b4ad"
   },
   "outputs": [],
   "source": [
    "#repull model \n",
    "new_model = tf.keras.models.load_model('saved_model/my_model')\n",
    "\n",
    "# Check its architecture\n",
    "new_model.summary()"
   ]
  },
  {
   "cell_type": "markdown",
   "metadata": {
    "id": "SNEKl2Dy4PkC"
   },
   "source": [
    "**Prediction File**"
   ]
  },
  {
   "cell_type": "code",
   "execution_count": null,
   "metadata": {
    "id": "g9Vrk7WYeL3c"
   },
   "outputs": [],
   "source": [
    "\n",
    "# #today = date.today()\n",
    "# print(\"Today's date:\", today)"
   ]
  },
  {
   "cell_type": "code",
   "execution_count": null,
   "metadata": {
    "colab": {
     "base_uri": "https://localhost:8080/",
     "height": 206
    },
    "id": "BqfhMkf7duOY",
    "outputId": "4b8216df-599a-4ec7-b269-11e9e45ba024"
   },
   "outputs": [],
   "source": [
    "stock_test.head()"
   ]
  },
  {
   "cell_type": "code",
   "execution_count": null,
   "metadata": {
    "id": "u-0QdYLlgJIV"
   },
   "outputs": [],
   "source": [
    "date_temp = stock_test.Date\n"
   ]
  },
  {
   "cell_type": "code",
   "execution_count": null,
   "metadata": {
    "id": "m0uJ1maWkAfp"
   },
   "outputs": [],
   "source": [
    "date_temp = date_temp[-horizon:]"
   ]
  },
  {
   "cell_type": "code",
   "execution_count": null,
   "metadata": {
    "id": "-lF9e2pPqxA2"
   },
   "outputs": [],
   "source": [
    "date_list = date_temp.tolist()\n"
   ]
  },
  {
   "cell_type": "code",
   "execution_count": null,
   "metadata": {
    "colab": {
     "base_uri": "https://localhost:8080/",
     "height": 206
    },
    "id": "1SdBgHhhV_7E",
    "outputId": "9c81d352-8cfd-4078-a33a-7438048b9590"
   },
   "outputs": [],
   "source": [
    "stock_test.head()"
   ]
  },
  {
   "cell_type": "markdown",
   "metadata": {
    "id": "6hPIgj6tiZox"
   },
   "source": [
    "#### Generate predictions for Back test"
   ]
  },
  {
   "cell_type": "code",
   "execution_count": null,
   "metadata": {
    "colab": {
     "base_uri": "https://localhost:8080/",
     "height": 236
    },
    "id": "XJTjENCXeLwS",
    "outputId": "f10a1571-d9b7-4d62-c649-60370d0d6ac2"
   },
   "outputs": [],
   "source": [
    "pred_list = []\n",
    "for i, tckr in enumerate(stock_test.Name.unique()):\n",
    "  temp = stock_test[stock_test.Name == tckr].iloc[:window,:].copy()\n",
    "  x_test_temp = temp.Close.values\n",
    "  test = x_test_temp.reshape(1,x_test_temp.shape[0],1)\n",
    "  #x_test_temp, y_test_temp = single_data_build(temp)\n",
    "\n",
    "  # true values\n",
    "  temp_true = stock_test[stock_test.Name == tckr].iloc[window:,:].copy\n",
    "  y_true = temp_true.Close.values\n",
    "\n",
    "  test = x_test_temp.reshape(1,x_test_temp.shape[0],1)\n",
    "\n",
    "  pred = model.predict(test)\n",
    "\n",
    "  pred = pred[:,:horizon][0]\n",
    "  #stock = tckr\n",
    "  for i in range(horizon):\n",
    "    pred_list.append({'stock':tckr,'Date':date_list[i],'Forecasted Close':pred[i],'Actual Close':y_true[i]})\n"
   ]
  },
  {
   "cell_type": "code",
   "execution_count": null,
   "metadata": {
    "id": "0LSIBVotd2ZU"
   },
   "outputs": [],
   "source": [
    "pred_df = pd.DataFrame(pred_list)"
   ]
  },
  {
   "cell_type": "code",
   "execution_count": null,
   "metadata": {
    "id": "4HnjARESda9-"
   },
   "outputs": [],
   "source": [
    "pred_df.tail()"
   ]
  },
  {
   "cell_type": "markdown",
   "metadata": {
    "id": "Jo9brQ8Ui574"
   },
   "source": [
    "#### Generate Predictions for actual forecast"
   ]
  },
  {
   "cell_type": "code",
   "execution_count": null,
   "metadata": {
    "colab": {
     "base_uri": "https://localhost:8080/"
    },
    "id": "WS8enaZtNv5E",
    "outputId": "f795f018-77d8-45f6-c771-17c7fe4dfa86"
   },
   "outputs": [],
   "source": [
    "fcast_list = []\n",
    "for i, tckr in enumerate(stock_test.Name.unique()):\n",
    "  temp = stock_test[stock_test.Name == tckr].iloc[:window,:].copy()\n",
    "  x_test_temp = temp.Close.values\n",
    "  test = x_test_temp.reshape(1,x_test_temp.shape[0],1)\n",
    "  #x_test_temp, y_test_temp = single_data_build(temp)\n",
    "\n",
    "  test = x_test_temp.reshape(1,x_test_temp.shape[0],1)\n",
    "\n",
    "  pred = model.predict(test)\n",
    "\n",
    "  pred = pred[:,:horizon][0]\n",
    "  #stock = tckr\n",
    "  for i in range(horizon):\n",
    "    fcast_list.append({'stock':tckr,'Date':date_list[i],'Forecasted Close':pred[i])"
   ]
  },
  {
   "cell_type": "code",
   "execution_count": null,
   "metadata": {
    "id": "aI0PV8sMjdok"
   },
   "outputs": [],
   "source": [
    "fcast_list = pd.DataFrame(pred_list)"
   ]
  }
 ],
 "metadata": {
  "accelerator": "GPU",
  "colab": {
   "machine_shape": "hm",
   "provenance": [],
   "toc_visible": true
  },
  "kernelspec": {
   "display_name": "Python 3 (ipykernel)",
   "language": "python",
   "name": "python3"
  },
  "language_info": {
   "codemirror_mode": {
    "name": "ipython",
    "version": 3
   },
   "file_extension": ".py",
   "mimetype": "text/x-python",
   "name": "python",
   "nbconvert_exporter": "python",
   "pygments_lexer": "ipython3",
   "version": "3.8.13"
  }
 },
 "nbformat": 4,
 "nbformat_minor": 4
}
