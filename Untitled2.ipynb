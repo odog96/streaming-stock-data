{
 "cells": [
  {
   "cell_type": "code",
   "execution_count": 3,
   "id": "783cab60-b660-4862-8e19-027c7b2d806d",
   "metadata": {},
   "outputs": [],
   "source": [
    "def mkt_movement(args):\n",
    "    \n",
    "    window = 20  \n",
    "    features = ['return', 'vol', 'mom', 'sma', 'min', 'max']  \n",
    "    lags = 6\n",
    "    \n",
    "    # read in data direction from kudu (in json format)\n",
    "    data = pd.DataFrame.from_dict(args)\n",
    "    data = data[exp_cols]\n",
    "    \n",
    "    # fill missing data\n",
    "    date_range = data.symbol_time.drop_duplicates()\n",
    "    date_range = pd.DataFrame(date_range)\n",
    "    stock_ready = fill_blanks(data,'symbol',date_range,'symbol_time');\n",
    "    \n",
    "    # transform dataset\n",
    "    tckr_list = stock_ready.symbol.unique().tolist()\n",
    "    stk_rdy_2, cols =  feature_create(stock_ready,tckr_list, window,lags,features,clip=True,tckr='symbol',date='symbol_time',close='close')\n",
    "    \n",
    "#     # predict\n",
    "    pipe_rf = load(\"pipe_rf.joblib\")\n",
    "#     # try:\n",
    "#     #     pipe_rf = load(\"saved_models/pipe_rf.joblib\")\n",
    "#     # except:\n",
    "#     #     pipe_rf = load(\"home/cdsw/saved_models/pipe_rf.joblib\")\n",
    "        \n",
    "#     prediction = pipe_rf.predict(stk_rdy_2[cols])      \n",
    "    \n",
    "#     # output prep ## added this section to provide other relavent into\n",
    "#     pred_time_list = [stk_rdy_2.symbol_time.max()]*len(stk_rdy_2)\n",
    "#     output = {'symbol':stk_rdy_2.symbol.tolist(),'pred_time':pred_time_list,'prediction':prediction}\n",
    "#     #out_df = pd.DataFrame.from_dict(output)\n",
    "    \n",
    "    \n",
    "    return {1}"
   ]
  },
  {
   "cell_type": "code",
   "execution_count": null,
   "id": "abe76a5e-b7d3-4365-a672-2a9b693588fc",
   "metadata": {},
   "outputs": [],
   "source": []
  }
 ],
 "metadata": {
  "kernelspec": {
   "display_name": "Python 3 (ipykernel)",
   "language": "python",
   "name": "python3"
  },
  "language_info": {
   "codemirror_mode": {
    "name": "ipython",
    "version": 3
   },
   "file_extension": ".py",
   "mimetype": "text/x-python",
   "name": "python",
   "nbconvert_exporter": "python",
   "pygments_lexer": "ipython3",
   "version": "3.8.13"
  }
 },
 "nbformat": 4,
 "nbformat_minor": 5
}
