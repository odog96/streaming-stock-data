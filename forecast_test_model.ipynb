{
 "cells": [
  {
   "cell_type": "code",
   "execution_count": 1,
   "id": "a15470f8-65a4-4544-835d-864dd20f3ec1",
   "metadata": {},
   "outputs": [],
   "source": [
    "import json, requests\n",
    "import pandas as pd\n",
    "import numpy as np\n",
    "import io\n",
    "import warnings\n",
    "warnings.filterwarnings('ignore')\n",
    "\n",
    "from joblib import dump, load"
   ]
  },
  {
   "cell_type": "code",
   "execution_count": 2,
   "id": "02ed6e20-bb91-421f-a2d2-424067232801",
   "metadata": {},
   "outputs": [
    {
     "name": "stderr",
     "output_type": "stream",
     "text": [
      "2023-01-18 17:04:39.025869: I tensorflow/core/platform/cpu_feature_guard.cc:193] This TensorFlow binary is optimized with oneAPI Deep Neural Network Library (oneDNN) to use the following CPU instructions in performance-critical operations:  AVX2 AVX512F FMA\n",
      "To enable them in other operations, rebuild TensorFlow with the appropriate compiler flags.\n",
      "2023-01-18 17:04:44.833798: W tensorflow/compiler/xla/stream_executor/platform/default/dso_loader.cc:64] Could not load dynamic library 'libnvinfer.so.7'; dlerror: libnvinfer.so.7: cannot open shared object file: No such file or directory; LD_LIBRARY_PATH: /usr/local/nvidia/lib:/usr/local/nvidia/lib64\n",
      "2023-01-18 17:04:44.834258: W tensorflow/compiler/xla/stream_executor/platform/default/dso_loader.cc:64] Could not load dynamic library 'libnvinfer_plugin.so.7'; dlerror: libnvinfer_plugin.so.7: cannot open shared object file: No such file or directory; LD_LIBRARY_PATH: /usr/local/nvidia/lib:/usr/local/nvidia/lib64\n",
      "2023-01-18 17:04:44.834267: W tensorflow/compiler/tf2tensorrt/utils/py_utils.cc:38] TF-TRT Warning: Cannot dlopen some TensorRT libraries. If you would like to use Nvidia GPU with TensorRT, please make sure the missing libraries mentioned above are installed properly.\n"
     ]
    }
   ],
   "source": [
    "import matplotlib as mlab\n",
    "import matplotlib.pyplot as plt\n",
    "import seaborn as sns \n",
    "import time\n",
    "import math\n",
    "\n",
    "# import statsmodels.api as sm    \n",
    "# import scipy.stats as stats \n",
    "# from pylab import rcParams\n",
    "\n",
    "import sys\n",
    "from functools import reduce\n",
    "import itertools\n",
    "import random\n",
    "\n",
    "import datetime\n",
    "from datetime import date, timedelta\n",
    "from pandas.tseries.offsets import Day, MonthBegin, MonthEnd\n",
    "\n",
    "# Libraries for stock data\n",
    "import yfinance as yf\n",
    "\n",
    "# from sklearn.metrics import mean_absolute_error, mean_absolute_percentage_error, mean_squared_error\n",
    "# from sklearn.metrics import mean_squared_error\n",
    "# from sklearn.metrics import mean_squared_error as MSE\n",
    "# from sklearn.metrics import accuracy_score, mean_absolute_percentage_error, mean_absolute_error\n",
    "# from sklearn.metrics import confusion_matrix, classification_report\n",
    "\n",
    "# from sklearn.decomposition import PCA\n",
    "# from sklearn.manifold import TSNE\n",
    "# from sklearn.ensemble import RandomForestClassifier\n",
    "# from sklearn.model_selection import train_test_split\n",
    "\n",
    "\n",
    "import tensorflow as tf\n",
    "from tensorflow import keras\n",
    "from tensorflow.keras import models, layers\n",
    "# from tensorflow.keras.layers import Conv1D,BatchNormalization, Dropout, Flatten, Input, Dense\n",
    "# from tensorflow.keras.callbacks import ModelCheckpoint, EarlyStopping\n",
    "# from tensorflow.keras.models import Sequential"
   ]
  },
  {
   "cell_type": "code",
   "execution_count": 3,
   "id": "845e428e-4a24-4330-86e3-d3946e5dfe4f",
   "metadata": {},
   "outputs": [],
   "source": [
    "import random\n",
    "from random import sample\n",
    "from transform_forecaster import stock_data_pull, fill_blanks, \\\n",
    "     change_shape, dataset, window_gen; "
   ]
  },
  {
   "cell_type": "markdown",
   "id": "8593f41a-b1d8-487a-962b-9a3d5d6db2a8",
   "metadata": {},
   "source": [
    "Procedure for testing:\n",
    "1. test model response with randomly generated data.\n",
    "2. test model with data sourced from y finance (just a hand full of symbols)\n",
    "3. include pre-process steps similar to those in direction model\n",
    "4. Test model within .py file"
   ]
  },
  {
   "cell_type": "code",
   "execution_count": 4,
   "id": "e478be47-128d-4bd3-91ad-74f50d2119f8",
   "metadata": {},
   "outputs": [
    {
     "name": "stderr",
     "output_type": "stream",
     "text": [
      "2023-01-18 17:04:52.031079: W tensorflow/compiler/xla/stream_executor/platform/default/dso_loader.cc:64] Could not load dynamic library 'libcuda.so.1'; dlerror: libcuda.so.1: cannot open shared object file: No such file or directory; LD_LIBRARY_PATH: /usr/local/nvidia/lib:/usr/local/nvidia/lib64\n",
      "2023-01-18 17:04:52.031108: W tensorflow/compiler/xla/stream_executor/cuda/cuda_driver.cc:265] failed call to cuInit: UNKNOWN ERROR (303)\n",
      "2023-01-18 17:04:52.031129: I tensorflow/compiler/xla/stream_executor/cuda/cuda_diagnostics.cc:156] kernel driver does not appear to be running on this host (pjo408xvxdusfnol): /proc/driver/nvidia/version does not exist\n",
      "2023-01-18 17:04:52.031352: I tensorflow/core/platform/cpu_feature_guard.cc:193] This TensorFlow binary is optimized with oneAPI Deep Neural Network Library (oneDNN) to use the following CPU instructions in performance-critical operations:  AVX2 AVX512F FMA\n",
      "To enable them in other operations, rebuild TensorFlow with the appropriate compiler flags.\n"
     ]
    }
   ],
   "source": [
    "recon_model = keras.models.load_model('/home/cdsw/saved_models/model_01_17_23')"
   ]
  },
  {
   "cell_type": "markdown",
   "id": "482da056-d143-420a-85fd-26e62cd4aca4",
   "metadata": {},
   "source": [
    "**Random input data**"
   ]
  },
  {
   "cell_type": "code",
   "execution_count": 5,
   "id": "c03c1b20-af44-4fce-80e4-c06a081f1d71",
   "metadata": {},
   "outputs": [
    {
     "name": "stdout",
     "output_type": "stream",
     "text": [
      "1/1 [==============================] - 1s 1s/step\n"
     ]
    }
   ],
   "source": [
    "randomlist = []\n",
    "for i in range(0,60):\n",
    "  n = random.randint(95,130)\n",
    "  randomlist.append(n)\n",
    "# converting list to array\n",
    "arr = np.array(randomlist)\n",
    "\n",
    "test = arr.reshape(1,arr.shape[0],1)\n",
    "\n",
    "pred = recon_model.predict(test)"
   ]
  },
  {
   "cell_type": "code",
   "execution_count": 6,
   "id": "cedc6aae-9ada-4e20-b076-a7e0ca452cdb",
   "metadata": {},
   "outputs": [
    {
     "data": {
      "text/plain": [
       "array([[108.01795 , 108.65435 , 108.82354 , 109.56932 , 109.69296 ,\n",
       "        110.41506 , 109.636856, 109.658806, 109.29382 , 109.59643 ,\n",
       "        110.33948 , 110.190025]], dtype=float32)"
      ]
     },
     "execution_count": 6,
     "metadata": {},
     "output_type": "execute_result"
    }
   ],
   "source": [
    "pred"
   ]
  },
  {
   "cell_type": "code",
   "execution_count": 7,
   "id": "b72889a5-26b6-4e6f-b5ea-5feda5df4e74",
   "metadata": {},
   "outputs": [],
   "source": [
    "#!ls /home/cdsw/saved_models"
   ]
  },
  {
   "cell_type": "markdown",
   "id": "db27f194-0516-4cbf-a3dd-b26e977e24ff",
   "metadata": {},
   "source": [
    "**Load yfinance data**"
   ]
  },
  {
   "cell_type": "code",
   "execution_count": 8,
   "id": "22513cca-acb5-47cc-b771-113754272818",
   "metadata": {},
   "outputs": [],
   "source": [
    "table=pd.read_html('https://en.wikipedia.org/wiki/List_of_S%26P_500_companies')\n",
    "tckr = table[0]\n",
    "# convert to list\n",
    "basket = tckr.Symbol.unique().tolist()"
   ]
  },
  {
   "cell_type": "code",
   "execution_count": 9,
   "id": "210619a7-06fb-4137-98d4-8907aed63329",
   "metadata": {},
   "outputs": [],
   "source": [
    "smp_basket = sample(basket,10)"
   ]
  },
  {
   "cell_type": "code",
   "execution_count": 10,
   "id": "2f7b993e-bfe1-498d-b35c-3f77d83e8f5a",
   "metadata": {},
   "outputs": [
    {
     "name": "stdout",
     "output_type": "stream",
     "text": [
      "Index(['Open', 'High', 'Low', 'Close', 'Adj Close', 'Volume', 'Name'], dtype='object')\n"
     ]
    }
   ],
   "source": [
    "# Pull stock data for given ticker symvols\n",
    "stock_total = stock_data_pull(smp_basket,False);"
   ]
  },
  {
   "cell_type": "code",
   "execution_count": 19,
   "id": "83cae01a-9655-4283-8857-0fd0679e978c",
   "metadata": {},
   "outputs": [
    {
     "data": {
      "text/plain": [
       "0      2022-12-19 09:30:00-05:00\n",
       "1      2022-12-19 09:35:00-05:00\n",
       "2      2022-12-19 09:40:00-05:00\n",
       "3      2022-12-19 09:45:00-05:00\n",
       "4      2022-12-19 09:50:00-05:00\n",
       "                  ...           \n",
       "1508   2023-01-18 11:45:00-05:00\n",
       "1509   2023-01-18 11:50:00-05:00\n",
       "1510   2023-01-18 11:55:00-05:00\n",
       "1511   2023-01-18 12:00:00-05:00\n",
       "3025   2023-01-18 12:05:00-05:00\n",
       "Name: Datetime, Length: 1514, dtype: datetime64[ns, America/New_York]"
      ]
     },
     "execution_count": 19,
     "metadata": {},
     "output_type": "execute_result"
    }
   ],
   "source": [
    "stock_total.Datetime.drop_duplicates().sort_values()"
   ]
  },
  {
   "cell_type": "code",
   "execution_count": 21,
   "id": "b1f8ed7e-d021-483a-9433-7299cf466028",
   "metadata": {},
   "outputs": [],
   "source": [
    "window = 60\n",
    "date_range = stock_total.Datetime.drop_duplicates()\n",
    "# added line below to clip off the lasest data\n",
    "date_range = date_range.sort_values().tail(window)\n",
    "date_range = pd.DataFrame(date_range)\n",
    "stock_ready = fill_blanks(stock_total,'Name',date_range,'Datetime');"
   ]
  },
  {
   "cell_type": "code",
   "execution_count": 79,
   "id": "ad731520-e3a2-4313-9135-51cb2f956d2b",
   "metadata": {},
   "outputs": [
    {
     "data": {
      "text/plain": [
       "Datetime    datetime64[ns, America/New_York]\n",
       "Close                                float64\n",
       "Volume                               float64\n",
       "Name                                  object\n",
       "dtype: object"
      ]
     },
     "execution_count": 79,
     "metadata": {},
     "output_type": "execute_result"
    }
   ],
   "source": [
    "# date_range.sort_values('Datetime').tail(10)\n",
    "# look at resultant dataframe\n",
    "stock_ready.head()\n",
    "\n",
    "stock_ready.dtypes"
   ]
  },
  {
   "cell_type": "code",
   "execution_count": 22,
   "id": "066ae48f-337c-4f82-885e-07cc2cfe53ea",
   "metadata": {},
   "outputs": [
    {
     "data": {
      "text/plain": [
       "array([60])"
      ]
     },
     "execution_count": 22,
     "metadata": {},
     "output_type": "execute_result"
    }
   ],
   "source": [
    "# check that all stocks have equal sizes\n",
    "sizes = stock_ready.groupby('Name').size().unique()\n",
    "sizes"
   ]
  },
  {
   "cell_type": "markdown",
   "id": "f4f9a7cb-73c2-4d66-89b4-aae281fa2010",
   "metadata": {},
   "source": [
    "#### Generate predictions for actual stocks"
   ]
  },
  {
   "cell_type": "code",
   "execution_count": 26,
   "id": "3b3df508-07d5-4a17-826a-792117133592",
   "metadata": {},
   "outputs": [
    {
     "data": {
      "text/plain": [
       "(10,)"
      ]
     },
     "execution_count": 26,
     "metadata": {},
     "output_type": "execute_result"
    }
   ],
   "source": [
    "stock_ready.Name.unique().shape"
   ]
  },
  {
   "cell_type": "code",
   "execution_count": 35,
   "id": "06d8d790-a384-46f5-b025-67d2c504d42a",
   "metadata": {},
   "outputs": [],
   "source": [
    "symbol_list = []\n",
    "for i, tckr in enumerate(stock_ready.Name.unique()):\n",
    "    symbol_list.append(tckr)\n",
    "    temp_input = stock_ready[stock_ready.Name == tckr].copy().Close.values\n",
    "    if i == 0:\n",
    "        input_array = temp_input\n",
    "    else:\n",
    "        input_array = np.append(input_array,temp_input)"
   ]
  },
  {
   "cell_type": "code",
   "execution_count": 40,
   "id": "e842904a-90b8-4f52-8e1c-3572006a3c7e",
   "metadata": {},
   "outputs": [],
   "source": [
    "input_array = input_array.reshape(i+1,window,1)"
   ]
  },
  {
   "cell_type": "code",
   "execution_count": 41,
   "id": "4866f9c9-f204-4270-879b-e34da10a6d5c",
   "metadata": {},
   "outputs": [
    {
     "name": "stdout",
     "output_type": "stream",
     "text": [
      "1/1 [==============================] - 1s 763ms/step\n"
     ]
    }
   ],
   "source": [
    "pred = recon_model.predict(input_array)"
   ]
  },
  {
   "cell_type": "code",
   "execution_count": 42,
   "id": "cb6cb5d1-d652-451c-b1d0-c9c9364a2763",
   "metadata": {},
   "outputs": [
    {
     "data": {
      "text/plain": [
       "(10, 12)"
      ]
     },
     "execution_count": 42,
     "metadata": {},
     "output_type": "execute_result"
    }
   ],
   "source": [
    "pred.shape"
   ]
  },
  {
   "cell_type": "code",
   "execution_count": 48,
   "id": "ea90fe37-fc13-4a7f-b95e-9125a4eb581d",
   "metadata": {},
   "outputs": [
    {
     "data": {
      "text/plain": [
       "10"
      ]
     },
     "execution_count": 48,
     "metadata": {},
     "output_type": "execute_result"
    }
   ],
   "source": [
    "i+1"
   ]
  },
  {
   "cell_type": "code",
   "execution_count": 49,
   "id": "756702e5-f63a-439b-b670-c1a1d26da34c",
   "metadata": {},
   "outputs": [],
   "source": [
    "#pred.tolist()\n",
    "pred_time_list = [stock_ready.Datetime.max()]*(i+1)"
   ]
  },
  {
   "cell_type": "code",
   "execution_count": 55,
   "id": "fd315c9d-7284-45e0-ae1b-7e94eaa80e40",
   "metadata": {},
   "outputs": [],
   "source": []
  },
  {
   "cell_type": "code",
   "execution_count": 53,
   "id": "8c8e826b-a9c8-436f-ac6e-bdcb6e8a1696",
   "metadata": {},
   "outputs": [],
   "source": [
    "tst_output = {'symbol':symbol_list,'pred_time':pred_time_list,'prediction':pred.tolist()}"
   ]
  },
  {
   "cell_type": "markdown",
   "id": "f0774dbf-ab7d-421b-8c40-ba854159785c",
   "metadata": {},
   "source": [
    "Test .py file with forecating model"
   ]
  },
  {
   "cell_type": "code",
   "execution_count": 58,
   "id": "1be1b120-5e0e-42c7-a56e-7d0dc17e8b2c",
   "metadata": {},
   "outputs": [
    {
     "name": "stdout",
     "output_type": "stream",
     "text": [
      "\n",
      "Not running in a model replica, so using a local development\n",
      "version of the model metrics service. Please use the following\n",
      "CRN's to consume metrics:\n",
      "   model_crn: \"crn:cdp:ml:::workspace:dev/model\" (cdsw.dev_model_crn)\n",
      "   model_build_crn: \"crn:cdp:ml:::workspace:dev/model-build\" (cdsw.dev_model_build_crn)\n",
      "   model_deployment_crn: \"crn:cdp:ml:::workspace:dev/model-deployment\" (cdsw.dev_model_deployment_crn)\n",
      "\n"
     ]
    }
   ],
   "source": [
    "from fct_model_serve import forecast_price"
   ]
  },
  {
   "cell_type": "code",
   "execution_count": null,
   "id": "111a3664-3b7c-4418-a68f-9d6af5cc177d",
   "metadata": {},
   "outputs": [],
   "source": []
  },
  {
   "cell_type": "markdown",
   "id": "9b06d21f-cb9d-4a4d-8f8f-4c7ae8620b2b",
   "metadata": {},
   "source": [
    "#### Test deployed Model"
   ]
  },
  {
   "cell_type": "code",
   "execution_count": 61,
   "id": "850414f0-9b96-43da-98e0-c7716e8b91a9",
   "metadata": {},
   "outputs": [
    {
     "data": {
      "text/html": [
       "<div>\n",
       "<style scoped>\n",
       "    .dataframe tbody tr th:only-of-type {\n",
       "        vertical-align: middle;\n",
       "    }\n",
       "\n",
       "    .dataframe tbody tr th {\n",
       "        vertical-align: top;\n",
       "    }\n",
       "\n",
       "    .dataframe thead th {\n",
       "        text-align: right;\n",
       "    }\n",
       "</style>\n",
       "<table border=\"1\" class=\"dataframe\">\n",
       "  <thead>\n",
       "    <tr style=\"text-align: right;\">\n",
       "      <th></th>\n",
       "      <th>symbol_time</th>\n",
       "      <th>close</th>\n",
       "      <th>volume</th>\n",
       "      <th>symbol</th>\n",
       "    </tr>\n",
       "  </thead>\n",
       "  <tbody>\n",
       "    <tr>\n",
       "      <th>0</th>\n",
       "      <td>2022-12-19 09:30:00-05:00</td>\n",
       "      <td>112.809998</td>\n",
       "      <td>16777</td>\n",
       "      <td>SBNY</td>\n",
       "    </tr>\n",
       "    <tr>\n",
       "      <th>1</th>\n",
       "      <td>2022-12-19 09:35:00-05:00</td>\n",
       "      <td>113.769997</td>\n",
       "      <td>2069</td>\n",
       "      <td>SBNY</td>\n",
       "    </tr>\n",
       "    <tr>\n",
       "      <th>2</th>\n",
       "      <td>2022-12-19 09:40:00-05:00</td>\n",
       "      <td>113.410004</td>\n",
       "      <td>9969</td>\n",
       "      <td>SBNY</td>\n",
       "    </tr>\n",
       "    <tr>\n",
       "      <th>3</th>\n",
       "      <td>2022-12-19 09:45:00-05:00</td>\n",
       "      <td>112.949997</td>\n",
       "      <td>8870</td>\n",
       "      <td>SBNY</td>\n",
       "    </tr>\n",
       "    <tr>\n",
       "      <th>4</th>\n",
       "      <td>2022-12-19 09:50:00-05:00</td>\n",
       "      <td>112.730003</td>\n",
       "      <td>4686</td>\n",
       "      <td>SBNY</td>\n",
       "    </tr>\n",
       "  </tbody>\n",
       "</table>\n",
       "</div>"
      ],
      "text/plain": [
       "                symbol_time       close  volume symbol\n",
       "0 2022-12-19 09:30:00-05:00  112.809998   16777   SBNY\n",
       "1 2022-12-19 09:35:00-05:00  113.769997    2069   SBNY\n",
       "2 2022-12-19 09:40:00-05:00  113.410004    9969   SBNY\n",
       "3 2022-12-19 09:45:00-05:00  112.949997    8870   SBNY\n",
       "4 2022-12-19 09:50:00-05:00  112.730003    4686   SBNY"
      ]
     },
     "execution_count": 61,
     "metadata": {},
     "output_type": "execute_result"
    }
   ],
   "source": [
    "# use this as input data\n",
    "cols = ['symbol','symbol_time','close', 'volume']\n",
    "stock_total.columns = ['symbol_time','close','volume','symbol']\n",
    "stock_total.head()"
   ]
  },
  {
   "cell_type": "code",
   "execution_count": 59,
   "id": "24164ac1-3fc6-4de2-93b5-61ec1ce76137",
   "metadata": {},
   "outputs": [],
   "source": [
    "model_url = 'https://modelservice.ml-92202c44-d46.loki-cdp.a465-9q4k.cloudera.site/model'\n",
    "accessKey = 'm45a083on9okf24psw58d0v8j6ht6w3u'"
   ]
  },
  {
   "cell_type": "code",
   "execution_count": 78,
   "id": "4a57efe8-699b-48c7-91df-8e22140a1e10",
   "metadata": {},
   "outputs": [
    {
     "data": {
      "text/plain": [
       "symbol_time    datetime64[ns, America/New_York]\n",
       "close                                   float64\n",
       "volume                                    int64\n",
       "symbol                                   object\n",
       "dtype: object"
      ]
     },
     "execution_count": 78,
     "metadata": {},
     "output_type": "execute_result"
    }
   ],
   "source": [
    "stock_total.dtypes"
   ]
  },
  {
   "cell_type": "code",
   "execution_count": 62,
   "id": "e309c168-d0ee-42ce-90fe-37f42294bc4c",
   "metadata": {},
   "outputs": [],
   "source": [
    "cols = stock_total.columns"
   ]
  },
  {
   "cell_type": "code",
   "execution_count": 73,
   "id": "5e3a36c1-b50f-4fb2-810d-0d624ecb616b",
   "metadata": {},
   "outputs": [],
   "source": [
    "# load test data\n",
    "df = pd.read_csv('test_model_input.csv')"
   ]
  },
  {
   "cell_type": "code",
   "execution_count": 77,
   "id": "abfb4072-08fc-4e92-932f-2b062dc46d70",
   "metadata": {},
   "outputs": [
    {
     "data": {
      "text/plain": [
       "Datetime\n",
       "2023-01-09 13:35:00    10\n",
       "dtype: int64"
      ]
     },
     "execution_count": 77,
     "metadata": {},
     "output_type": "execute_result"
    }
   ],
   "source": [
    "df.groupby('Datetime').size()\n",
    "#df.head()"
   ]
  },
  {
   "cell_type": "code",
   "execution_count": 83,
   "id": "4fa60590-634d-45d7-a9b4-f1f6d6b0d59f",
   "metadata": {},
   "outputs": [],
   "source": [
    "stock_total.symbol_time = stock_total.symbol_time.astype(\"str\") "
   ]
  },
  {
   "cell_type": "code",
   "execution_count": 84,
   "id": "10b4d632-88e5-44fd-ba0c-a193a6546988",
   "metadata": {},
   "outputs": [
    {
     "data": {
      "text/plain": [
       "symbol_time     object\n",
       "close          float64\n",
       "volume           int64\n",
       "symbol          object\n",
       "dtype: object"
      ]
     },
     "execution_count": 84,
     "metadata": {},
     "output_type": "execute_result"
    }
   ],
   "source": [
    "stock_total.dtypes"
   ]
  },
  {
   "cell_type": "code",
   "execution_count": 85,
   "id": "dfa82d78-639d-44f9-b800-9317991f7a4b",
   "metadata": {},
   "outputs": [],
   "source": [
    "# build input for api into dictionary w/ values as a list\n",
    "input_data_mult = dict()\n",
    "for col in cols:\n",
    "    input_data_mult[col] = stock_total[col].to_list()    \n",
    "    \n",
    "# build embedded dictionary step 1    \n",
    "request_dict = {\"request\":input_data_mult}\n",
    "\n",
    "# access key will be end point specific\n",
    "BackDict = {\"accessKey\":accessKey}\n",
    "BackDict.update(request_dict)\n",
    "request_dict=BackDict"
   ]
  },
  {
   "cell_type": "code",
   "execution_count": 68,
   "id": "bf3cb02a-ab59-497f-8e36-513fa3bc4471",
   "metadata": {},
   "outputs": [
    {
     "data": {
      "text/plain": [
       "dict"
      ]
     },
     "execution_count": 68,
     "metadata": {},
     "output_type": "execute_result"
    }
   ],
   "source": [
    "type(request_dict)"
   ]
  },
  {
   "cell_type": "code",
   "execution_count": 88,
   "id": "98096b8f-bc69-4a3c-9fe9-28cc825339a5",
   "metadata": {},
   "outputs": [],
   "source": [
    "# json.dumps(request_dict)"
   ]
  },
  {
   "cell_type": "code",
   "execution_count": 89,
   "id": "1d177636-81d1-40d2-a514-5e81419402c7",
   "metadata": {},
   "outputs": [],
   "source": [
    "r = requests.post(model_url, data=json.dumps(request_dict),headers={'Content-Type': 'application/json'})"
   ]
  },
  {
   "cell_type": "code",
   "execution_count": 90,
   "id": "94a0a950-88b3-4de2-89a8-fac486e19b25",
   "metadata": {},
   "outputs": [
    {
     "data": {
      "text/plain": [
       "{'success': True,\n",
       " 'response': {'model_deployment_crn': 'crn:cdp:ml:us-west-1:558bc1d2-8867-4357-8524-311d51259233:workspace:17467d56-4523-429e-ac77-5f98c4894f90/fcbefc46-4ff3-46de-beb2-19f43f6b4df4',\n",
       "  'prediction': {'pred_time': ['2023-01-18 12:05:00-05:00',\n",
       "    '2023-01-18 12:05:00-05:00',\n",
       "    '2023-01-18 12:05:00-05:00',\n",
       "    '2023-01-18 12:05:00-05:00',\n",
       "    '2023-01-18 12:05:00-05:00',\n",
       "    '2023-01-18 12:05:00-05:00',\n",
       "    '2023-01-18 12:05:00-05:00',\n",
       "    '2023-01-18 12:05:00-05:00',\n",
       "    '2023-01-18 12:05:00-05:00',\n",
       "    '2023-01-18 12:05:00-05:00'],\n",
       "   'prediction': [[119.3626708984375,\n",
       "     119.26956176757812,\n",
       "     119.2031478881836,\n",
       "     119.20362854003906,\n",
       "     119.16153717041016,\n",
       "     119.1254653930664,\n",
       "     119.1527328491211,\n",
       "     119.0446548461914,\n",
       "     119.14306640625,\n",
       "     119.15259552001953,\n",
       "     119.17501068115234,\n",
       "     119.20993041992188],\n",
       "    [324.0056457519531,\n",
       "     323.9454345703125,\n",
       "     323.8894348144531,\n",
       "     323.925537109375,\n",
       "     323.8377990722656,\n",
       "     323.865478515625,\n",
       "     323.81103515625,\n",
       "     323.7839050292969,\n",
       "     323.8717956542969,\n",
       "     323.8471374511719,\n",
       "     323.852783203125,\n",
       "     323.86163330078125],\n",
       "    [112.8001708984375,\n",
       "     112.79405212402344,\n",
       "     112.78931427001953,\n",
       "     112.80632781982422,\n",
       "     112.78030395507812,\n",
       "     112.79855346679688,\n",
       "     112.7868881225586,\n",
       "     112.78243255615234,\n",
       "     112.81177520751953,\n",
       "     112.79912567138672,\n",
       "     112.79583740234375,\n",
       "     112.79732513427734],\n",
       "    [178.4065704345703,\n",
       "     178.38238525390625,\n",
       "     178.35760498046875,\n",
       "     178.3737335205078,\n",
       "     178.32046508789062,\n",
       "     178.33554077148438,\n",
       "     178.3037872314453,\n",
       "     178.28843688964844,\n",
       "     178.32916259765625,\n",
       "     178.30886840820312,\n",
       "     178.30397033691406,\n",
       "     178.30535888671875],\n",
       "    [70.71705627441406,\n",
       "     70.6939468383789,\n",
       "     70.67192840576172,\n",
       "     70.6723861694336,\n",
       "     70.64190673828125,\n",
       "     70.63626098632812,\n",
       "     70.62654876708984,\n",
       "     70.60083770751953,\n",
       "     70.62342834472656,\n",
       "     70.6153335571289,\n",
       "     70.62000274658203,\n",
       "     70.61602783203125],\n",
       "    [14.257205963134766,\n",
       "     14.259392738342285,\n",
       "     14.255352973937988,\n",
       "     14.254700660705566,\n",
       "     14.246368408203125,\n",
       "     14.252352714538574,\n",
       "     14.252287864685059,\n",
       "     14.24562931060791,\n",
       "     14.256709098815918,\n",
       "     14.252096176147461,\n",
       "     14.253284454345703,\n",
       "     14.250885009765625],\n",
       "    [219.89263916015625,\n",
       "     219.8519744873047,\n",
       "     219.8081512451172,\n",
       "     219.82533264160156,\n",
       "     219.74398803710938,\n",
       "     219.7460174560547,\n",
       "     219.6903076171875,\n",
       "     219.6620635986328,\n",
       "     219.68588256835938,\n",
       "     219.66551208496094,\n",
       "     219.6527862548828,\n",
       "     219.6689453125],\n",
       "    [109.40457153320312,\n",
       "     109.39605712890625,\n",
       "     109.38916015625,\n",
       "     109.40461730957031,\n",
       "     109.37713623046875,\n",
       "     109.39337921142578,\n",
       "     109.38130187988281,\n",
       "     109.3747787475586,\n",
       "     109.40348815917969,\n",
       "     109.38966369628906,\n",
       "     109.39029693603516,\n",
       "     109.38951110839844],\n",
       "    [124.11154174804688,\n",
       "     124.1123046875,\n",
       "     124.11917114257812,\n",
       "     124.14772033691406,\n",
       "     124.12875366210938,\n",
       "     124.15926361083984,\n",
       "     124.15714263916016,\n",
       "     124.1580810546875,\n",
       "     124.19525909423828,\n",
       "     124.18287658691406,\n",
       "     124.18374633789062,\n",
       "     124.18775177001953],\n",
       "    [71.22570037841797,\n",
       "     71.21947479248047,\n",
       "     71.21198272705078,\n",
       "     71.22059631347656,\n",
       "     71.20152282714844,\n",
       "     71.21118927001953,\n",
       "     71.2020034790039,\n",
       "     71.19686126708984,\n",
       "     71.21598815917969,\n",
       "     71.20784759521484,\n",
       "     71.20531463623047,\n",
       "     71.20427703857422]],\n",
       "   'symbol': ['SBNY',\n",
       "    'NFLX',\n",
       "    'ALLE',\n",
       "    'UPS',\n",
       "    'BXP',\n",
       "    'HBAN',\n",
       "    'STZ',\n",
       "    'FRT',\n",
       "    'TEL',\n",
       "    'WRB']},\n",
       "  'uuid': '55ee4f9b-7941-4bf6-a588-c7ad8eed583f'},\n",
       " 'ReplicaID': 'forecasting-model-2-2-cc454bfbc-vxfr7',\n",
       " 'Size': 2864,\n",
       " 'StatusCode': 200}"
      ]
     },
     "execution_count": 90,
     "metadata": {},
     "output_type": "execute_result"
    }
   ],
   "source": [
    "r.json()"
   ]
  },
  {
   "cell_type": "code",
   "execution_count": null,
   "id": "15d88c71-0615-4ea8-8dea-4db8d0c1120f",
   "metadata": {},
   "outputs": [],
   "source": []
  },
  {
   "cell_type": "code",
   "execution_count": null,
   "id": "980d30cd-db6e-4294-a141-33fd1051bbeb",
   "metadata": {},
   "outputs": [],
   "source": []
  },
  {
   "cell_type": "code",
   "execution_count": null,
   "id": "3a3040ef-9105-4e74-8252-2b5c1d04bfba",
   "metadata": {},
   "outputs": [],
   "source": [
    "# def mkt_movement(args):\n",
    "#     filtArgs = {key:[args[key]] for key in features}\n",
    "#     data = pd.DataFrame.from_dict(filtArgs)\n",
    "    \n",
    "#     pipe_rf = load(\"saved_models/pipe_rf.joblib\")\n",
    "\n",
    "#     prediction = pipe_rf.predict(data)\n",
    "#     print(prediction)\n",
    "        \n",
    "#     return prediction"
   ]
  },
  {
   "cell_type": "code",
   "execution_count": 5,
   "id": "b68e532e-f311-46cd-88b7-9abb094303fe",
   "metadata": {},
   "outputs": [],
   "source": []
  },
  {
   "cell_type": "code",
   "execution_count": null,
   "id": "c0a9fd5e-ab03-494b-8ccf-b243e525dbd0",
   "metadata": {},
   "outputs": [],
   "source": []
  }
 ],
 "metadata": {
  "kernelspec": {
   "display_name": "Python 3 (ipykernel)",
   "language": "python",
   "name": "python3"
  },
  "language_info": {
   "codemirror_mode": {
    "name": "ipython",
    "version": 3
   },
   "file_extension": ".py",
   "mimetype": "text/x-python",
   "name": "python",
   "nbconvert_exporter": "python",
   "pygments_lexer": "ipython3",
   "version": "3.8.13"
  }
 },
 "nbformat": 4,
 "nbformat_minor": 5
}
