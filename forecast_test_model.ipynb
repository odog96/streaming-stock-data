{
 "cells": [
  {
   "cell_type": "code",
   "execution_count": 5,
   "id": "a15470f8-65a4-4544-835d-864dd20f3ec1",
   "metadata": {},
   "outputs": [],
   "source": [
    "import json, requests\n",
    "import pandas as pd\n",
    "import numpy as np\n",
    "import io\n",
    "import warnings\n",
    "warnings.filterwarnings('ignore')\n",
    "\n",
    "from joblib import dump, load"
   ]
  },
  {
   "cell_type": "code",
   "execution_count": 6,
   "id": "02ed6e20-bb91-421f-a2d2-424067232801",
   "metadata": {},
   "outputs": [
    {
     "name": "stderr",
     "output_type": "stream",
     "text": [
      "2023-01-26 15:46:07.570669: I tensorflow/core/platform/cpu_feature_guard.cc:193] This TensorFlow binary is optimized with oneAPI Deep Neural Network Library (oneDNN) to use the following CPU instructions in performance-critical operations:  AVX2 AVX512F FMA\n",
      "To enable them in other operations, rebuild TensorFlow with the appropriate compiler flags.\n",
      "2023-01-26 15:46:08.707661: W tensorflow/compiler/xla/stream_executor/platform/default/dso_loader.cc:64] Could not load dynamic library 'libcudart.so.11.0'; dlerror: libcudart.so.11.0: cannot open shared object file: No such file or directory\n",
      "2023-01-26 15:46:08.707686: I tensorflow/compiler/xla/stream_executor/cuda/cudart_stub.cc:29] Ignore above cudart dlerror if you do not have a GPU set up on your machine.\n",
      "2023-01-26 15:46:11.744722: W tensorflow/compiler/xla/stream_executor/platform/default/dso_loader.cc:64] Could not load dynamic library 'libnvinfer.so.7'; dlerror: libnvinfer.so.7: cannot open shared object file: No such file or directory\n",
      "2023-01-26 15:46:11.745563: W tensorflow/compiler/xla/stream_executor/platform/default/dso_loader.cc:64] Could not load dynamic library 'libnvinfer_plugin.so.7'; dlerror: libnvinfer_plugin.so.7: cannot open shared object file: No such file or directory\n",
      "2023-01-26 15:46:11.745575: W tensorflow/compiler/tf2tensorrt/utils/py_utils.cc:38] TF-TRT Warning: Cannot dlopen some TensorRT libraries. If you would like to use Nvidia GPU with TensorRT, please make sure the missing libraries mentioned above are installed properly.\n"
     ]
    }
   ],
   "source": [
    "import matplotlib as mlab\n",
    "import matplotlib.pyplot as plt\n",
    "import seaborn as sns \n",
    "import time\n",
    "import math\n",
    "# import statsmodels.api as sm    \n",
    "# import scipy.stats as stats \n",
    "# from pylab import rcParams\n",
    "\n",
    "import sys\n",
    "from functools import reduce\n",
    "import itertools\n",
    "import random\n",
    "\n",
    "import datetime\n",
    "from datetime import date, timedelta\n",
    "from pandas.tseries.offsets import Day, MonthBegin, MonthEnd\n",
    "# Libraries for stock data\n",
    "import yfinance as yf\n",
    "\n",
    "import tensorflow as tf\n",
    "from tensorflow import keras\n",
    "from tensorflow.keras import models, layers\n",
    "# from tensorflow.keras.layers import Conv1D,BatchNormalization, Dropout, Flatten, Input, Dense\n",
    "# from tensorflow.keras.callbacks import ModelCheckpoint, EarlyStopping\n",
    "# from tensorflow.keras.models import Sequential"
   ]
  },
  {
   "cell_type": "code",
   "execution_count": 7,
   "id": "845e428e-4a24-4330-86e3-d3946e5dfe4f",
   "metadata": {},
   "outputs": [],
   "source": [
    "import random\n",
    "from random import sample\n",
    "from transform_forecaster import stock_data_pull, fill_blanks, \\\n",
    "     change_shape, dataset, window_gen; "
   ]
  },
  {
   "cell_type": "markdown",
   "id": "8593f41a-b1d8-487a-962b-9a3d5d6db2a8",
   "metadata": {},
   "source": [
    "Procedure for testing:\n",
    "1. test model response with randomly generated data.\n",
    "2. test model with data sourced from y finance (just a hand full of symbols)\n",
    "3. include pre-process steps similar to those in direction model\n",
    "4. Test model within .py file"
   ]
  },
  {
   "cell_type": "code",
   "execution_count": 9,
   "id": "e478be47-128d-4bd3-91ad-74f50d2119f8",
   "metadata": {},
   "outputs": [],
   "source": [
    "#recon_model = keras.models.load_model('/home/cdsw/saved_models/model_01_17_23')\n",
    "recon_model = keras.models.load_model('model_01_17_23')"
   ]
  },
  {
   "cell_type": "markdown",
   "id": "482da056-d143-420a-85fd-26e62cd4aca4",
   "metadata": {},
   "source": [
    "**Random input data**"
   ]
  },
  {
   "cell_type": "code",
   "execution_count": 10,
   "id": "c03c1b20-af44-4fce-80e4-c06a081f1d71",
   "metadata": {},
   "outputs": [
    {
     "name": "stdout",
     "output_type": "stream",
     "text": [
      "1/1 [==============================] - 1s 790ms/step\n"
     ]
    }
   ],
   "source": [
    "randomlist = []\n",
    "for i in range(0,60):\n",
    "  n = random.randint(95,130)\n",
    "  randomlist.append(n)\n",
    "# converting list to array\n",
    "arr = np.array(randomlist)\n",
    "\n",
    "test = arr.reshape(1,arr.shape[0],1)\n",
    "\n",
    "pred = recon_model.predict(test)"
   ]
  },
  {
   "cell_type": "code",
   "execution_count": 11,
   "id": "cedc6aae-9ada-4e20-b076-a7e0ca452cdb",
   "metadata": {},
   "outputs": [
    {
     "data": {
      "text/plain": [
       "array([[ 99.96874 , 100.44134 , 100.07873 , 100.00119 ,  99.87107 ,\n",
       "        100.055176,  99.73769 ,  99.4128  ,  99.27228 ,  99.07069 ,\n",
       "         99.15012 ,  98.71578 ]], dtype=float32)"
      ]
     },
     "execution_count": 11,
     "metadata": {},
     "output_type": "execute_result"
    }
   ],
   "source": [
    "pred"
   ]
  },
  {
   "cell_type": "code",
   "execution_count": 12,
   "id": "b72889a5-26b6-4e6f-b5ea-5feda5df4e74",
   "metadata": {},
   "outputs": [],
   "source": [
    "#!ls /home/cdsw/saved_models"
   ]
  },
  {
   "cell_type": "markdown",
   "id": "db27f194-0516-4cbf-a3dd-b26e977e24ff",
   "metadata": {},
   "source": [
    "**Load yfinance data**"
   ]
  },
  {
   "cell_type": "code",
   "execution_count": 13,
   "id": "22513cca-acb5-47cc-b771-113754272818",
   "metadata": {},
   "outputs": [],
   "source": [
    "table=pd.read_html('https://en.wikipedia.org/wiki/List_of_S%26P_500_companies')\n",
    "tckr = table[0]\n",
    "# convert to list\n",
    "basket = tckr.Symbol.unique().tolist()"
   ]
  },
  {
   "cell_type": "code",
   "execution_count": 14,
   "id": "210619a7-06fb-4137-98d4-8907aed63329",
   "metadata": {},
   "outputs": [],
   "source": [
    "smp_basket = sample(basket,10)"
   ]
  },
  {
   "cell_type": "code",
   "execution_count": 15,
   "id": "2f7b993e-bfe1-498d-b35c-3f77d83e8f5a",
   "metadata": {},
   "outputs": [
    {
     "name": "stdout",
     "output_type": "stream",
     "text": [
      "Index(['Open', 'High', 'Low', 'Close', 'Adj Close', 'Volume', 'Name'], dtype='object')\n"
     ]
    }
   ],
   "source": [
    "# Pull stock data for given ticker symvols\n",
    "stock_total = stock_data_pull(smp_basket,False);"
   ]
  },
  {
   "cell_type": "code",
   "execution_count": 16,
   "id": "83cae01a-9655-4283-8857-0fd0679e978c",
   "metadata": {},
   "outputs": [
    {
     "data": {
      "text/plain": [
       "0      2022-12-27 09:30:00-05:00\n",
       "1      2022-12-27 09:35:00-05:00\n",
       "2      2022-12-27 09:40:00-05:00\n",
       "3      2022-12-27 09:45:00-05:00\n",
       "4      2022-12-27 09:50:00-05:00\n",
       "                  ...           \n",
       "1572   2023-01-26 10:30:00-05:00\n",
       "1573   2023-01-26 10:35:00-05:00\n",
       "1574   2023-01-26 10:40:00-05:00\n",
       "1575   2023-01-26 10:45:00-05:00\n",
       "1576   2023-01-26 10:50:00-05:00\n",
       "Name: Datetime, Length: 1577, dtype: datetime64[ns, America/New_York]"
      ]
     },
     "execution_count": 16,
     "metadata": {},
     "output_type": "execute_result"
    }
   ],
   "source": [
    "stock_total.Datetime.drop_duplicates().sort_values()"
   ]
  },
  {
   "cell_type": "code",
   "execution_count": 17,
   "id": "b1f8ed7e-d021-483a-9433-7299cf466028",
   "metadata": {},
   "outputs": [],
   "source": [
    "window = 60\n",
    "date_range = stock_total.Datetime.drop_duplicates()\n",
    "# added line below to clip off the lasest data\n",
    "date_range = date_range.sort_values().tail(window)\n",
    "date_range = pd.DataFrame(date_range)\n",
    "stock_ready = fill_blanks(stock_total,'Name',date_range,'Datetime');"
   ]
  },
  {
   "cell_type": "code",
   "execution_count": 18,
   "id": "ad731520-e3a2-4313-9135-51cb2f956d2b",
   "metadata": {},
   "outputs": [
    {
     "data": {
      "text/plain": [
       "Datetime    datetime64[ns, America/New_York]\n",
       "Close                                float64\n",
       "Volume                               float64\n",
       "Name                                  object\n",
       "dtype: object"
      ]
     },
     "execution_count": 18,
     "metadata": {},
     "output_type": "execute_result"
    }
   ],
   "source": [
    "# date_range.sort_values('Datetime').tail(10)\n",
    "# look at resultant dataframe\n",
    "stock_ready.head()\n",
    "\n",
    "stock_ready.dtypes"
   ]
  },
  {
   "cell_type": "code",
   "execution_count": 19,
   "id": "066ae48f-337c-4f82-885e-07cc2cfe53ea",
   "metadata": {},
   "outputs": [
    {
     "data": {
      "text/plain": [
       "array([60])"
      ]
     },
     "execution_count": 19,
     "metadata": {},
     "output_type": "execute_result"
    }
   ],
   "source": [
    "# check that all stocks have equal sizes\n",
    "sizes = stock_ready.groupby('Name').size().unique()\n",
    "sizes"
   ]
  },
  {
   "cell_type": "markdown",
   "id": "f4f9a7cb-73c2-4d66-89b4-aae281fa2010",
   "metadata": {},
   "source": [
    "#### Generate predictions for actual stocks"
   ]
  },
  {
   "cell_type": "code",
   "execution_count": 20,
   "id": "3b3df508-07d5-4a17-826a-792117133592",
   "metadata": {},
   "outputs": [
    {
     "data": {
      "text/plain": [
       "(10,)"
      ]
     },
     "execution_count": 20,
     "metadata": {},
     "output_type": "execute_result"
    }
   ],
   "source": [
    "stock_ready.Name.unique().shape"
   ]
  },
  {
   "cell_type": "code",
   "execution_count": 21,
   "id": "06d8d790-a384-46f5-b025-67d2c504d42a",
   "metadata": {},
   "outputs": [],
   "source": [
    "symbol_list = []\n",
    "for i, tckr in enumerate(stock_ready.Name.unique()):\n",
    "    symbol_list.append(tckr)\n",
    "    temp_input = stock_ready[stock_ready.Name == tckr].copy().Close.values\n",
    "    if i == 0:\n",
    "        input_array = temp_input\n",
    "    else:\n",
    "        input_array = np.append(input_array,temp_input)"
   ]
  },
  {
   "cell_type": "code",
   "execution_count": 22,
   "id": "e842904a-90b8-4f52-8e1c-3572006a3c7e",
   "metadata": {},
   "outputs": [],
   "source": [
    "input_array = input_array.reshape(i+1,window,1)"
   ]
  },
  {
   "cell_type": "code",
   "execution_count": 23,
   "id": "4866f9c9-f204-4270-879b-e34da10a6d5c",
   "metadata": {},
   "outputs": [
    {
     "name": "stdout",
     "output_type": "stream",
     "text": [
      "1/1 [==============================] - 1s 728ms/step\n"
     ]
    }
   ],
   "source": [
    "pred = recon_model.predict(input_array)"
   ]
  },
  {
   "cell_type": "code",
   "execution_count": 24,
   "id": "cb6cb5d1-d652-451c-b1d0-c9c9364a2763",
   "metadata": {},
   "outputs": [
    {
     "data": {
      "text/plain": [
       "(10, 12)"
      ]
     },
     "execution_count": 24,
     "metadata": {},
     "output_type": "execute_result"
    }
   ],
   "source": [
    "pred.shape"
   ]
  },
  {
   "cell_type": "code",
   "execution_count": 25,
   "id": "ea90fe37-fc13-4a7f-b95e-9125a4eb581d",
   "metadata": {},
   "outputs": [
    {
     "data": {
      "text/plain": [
       "10"
      ]
     },
     "execution_count": 25,
     "metadata": {},
     "output_type": "execute_result"
    }
   ],
   "source": [
    "i+1"
   ]
  },
  {
   "cell_type": "code",
   "execution_count": 26,
   "id": "756702e5-f63a-439b-b670-c1a1d26da34c",
   "metadata": {},
   "outputs": [],
   "source": [
    "#pred.tolist()\n",
    "pred_time_list = [stock_ready.Datetime.max()]*(i+1)"
   ]
  },
  {
   "cell_type": "code",
   "execution_count": null,
   "id": "fd315c9d-7284-45e0-ae1b-7e94eaa80e40",
   "metadata": {},
   "outputs": [],
   "source": []
  },
  {
   "cell_type": "code",
   "execution_count": 27,
   "id": "8c8e826b-a9c8-436f-ac6e-bdcb6e8a1696",
   "metadata": {},
   "outputs": [],
   "source": [
    "tst_output = {'symbol':symbol_list,'pred_time':pred_time_list,'prediction':pred.tolist()}"
   ]
  },
  {
   "cell_type": "markdown",
   "id": "f0774dbf-ab7d-421b-8c40-ba854159785c",
   "metadata": {},
   "source": [
    "Test .py file with forecating model"
   ]
  },
  {
   "cell_type": "code",
   "execution_count": 28,
   "id": "1be1b120-5e0e-42c7-a56e-7d0dc17e8b2c",
   "metadata": {},
   "outputs": [
    {
     "name": "stdout",
     "output_type": "stream",
     "text": [
      "\n",
      "Not running in a model replica, so using a local development\n",
      "version of the model metrics service. Please use the following\n",
      "CRN's to consume metrics:\n",
      "   model_crn: \"crn:cdp:ml:::workspace:dev/model\" (cdsw.dev_model_crn)\n",
      "   model_build_crn: \"crn:cdp:ml:::workspace:dev/model-build\" (cdsw.dev_model_build_crn)\n",
      "   model_deployment_crn: \"crn:cdp:ml:::workspace:dev/model-deployment\" (cdsw.dev_model_deployment_crn)\n",
      "\n"
     ]
    }
   ],
   "source": [
    "from fct_model_serve import forecast_price"
   ]
  },
  {
   "cell_type": "code",
   "execution_count": null,
   "id": "111a3664-3b7c-4418-a68f-9d6af5cc177d",
   "metadata": {},
   "outputs": [],
   "source": []
  },
  {
   "cell_type": "markdown",
   "id": "9b06d21f-cb9d-4a4d-8f8f-4c7ae8620b2b",
   "metadata": {},
   "source": [
    "#### Test deployed Model"
   ]
  },
  {
   "cell_type": "code",
   "execution_count": 29,
   "id": "850414f0-9b96-43da-98e0-c7716e8b91a9",
   "metadata": {},
   "outputs": [
    {
     "data": {
      "text/html": [
       "<div>\n",
       "<style scoped>\n",
       "    .dataframe tbody tr th:only-of-type {\n",
       "        vertical-align: middle;\n",
       "    }\n",
       "\n",
       "    .dataframe tbody tr th {\n",
       "        vertical-align: top;\n",
       "    }\n",
       "\n",
       "    .dataframe thead th {\n",
       "        text-align: right;\n",
       "    }\n",
       "</style>\n",
       "<table border=\"1\" class=\"dataframe\">\n",
       "  <thead>\n",
       "    <tr style=\"text-align: right;\">\n",
       "      <th></th>\n",
       "      <th>symbol_time</th>\n",
       "      <th>close</th>\n",
       "      <th>volume</th>\n",
       "      <th>symbol</th>\n",
       "    </tr>\n",
       "  </thead>\n",
       "  <tbody>\n",
       "    <tr>\n",
       "      <th>0</th>\n",
       "      <td>2022-12-27 09:30:00-05:00</td>\n",
       "      <td>117.120003</td>\n",
       "      <td>196361</td>\n",
       "      <td>COP</td>\n",
       "    </tr>\n",
       "    <tr>\n",
       "      <th>1</th>\n",
       "      <td>2022-12-27 09:35:00-05:00</td>\n",
       "      <td>117.389999</td>\n",
       "      <td>69202</td>\n",
       "      <td>COP</td>\n",
       "    </tr>\n",
       "    <tr>\n",
       "      <th>2</th>\n",
       "      <td>2022-12-27 09:40:00-05:00</td>\n",
       "      <td>118.190002</td>\n",
       "      <td>49084</td>\n",
       "      <td>COP</td>\n",
       "    </tr>\n",
       "    <tr>\n",
       "      <th>3</th>\n",
       "      <td>2022-12-27 09:45:00-05:00</td>\n",
       "      <td>117.550003</td>\n",
       "      <td>44612</td>\n",
       "      <td>COP</td>\n",
       "    </tr>\n",
       "    <tr>\n",
       "      <th>4</th>\n",
       "      <td>2022-12-27 09:50:00-05:00</td>\n",
       "      <td>117.779999</td>\n",
       "      <td>57296</td>\n",
       "      <td>COP</td>\n",
       "    </tr>\n",
       "  </tbody>\n",
       "</table>\n",
       "</div>"
      ],
      "text/plain": [
       "                symbol_time       close  volume symbol\n",
       "0 2022-12-27 09:30:00-05:00  117.120003  196361    COP\n",
       "1 2022-12-27 09:35:00-05:00  117.389999   69202    COP\n",
       "2 2022-12-27 09:40:00-05:00  118.190002   49084    COP\n",
       "3 2022-12-27 09:45:00-05:00  117.550003   44612    COP\n",
       "4 2022-12-27 09:50:00-05:00  117.779999   57296    COP"
      ]
     },
     "execution_count": 29,
     "metadata": {},
     "output_type": "execute_result"
    }
   ],
   "source": [
    "# use this as input data\n",
    "cols = ['symbol','symbol_time','close', 'volume']\n",
    "stock_total.columns = ['symbol_time','close','volume','symbol']\n",
    "stock_total.head()"
   ]
  },
  {
   "cell_type": "code",
   "execution_count": null,
   "id": "2dbfd9bf-fbdc-4483-b14e-edef161dcb01",
   "metadata": {},
   "outputs": [],
   "source": []
  },
  {
   "cell_type": "code",
   "execution_count": 43,
   "id": "24164ac1-3fc6-4de2-93b5-61ec1ce76137",
   "metadata": {},
   "outputs": [],
   "source": [
    "model_url = 'https://modelservice.ml-5fea65b7-abd.loki-cdp.a465-9q4k.cloudera.site/model'\n",
    "accessKey = 'mimv4t2o7vm39egwx3mml0wbog1sqrb9'\n"
   ]
  },
  {
   "cell_type": "code",
   "execution_count": 44,
   "id": "e309c168-d0ee-42ce-90fe-37f42294bc4c",
   "metadata": {},
   "outputs": [],
   "source": [
    "cols = stock_total.columns"
   ]
  },
  {
   "cell_type": "code",
   "execution_count": 45,
   "id": "5e3a36c1-b50f-4fb2-810d-0d624ecb616b",
   "metadata": {},
   "outputs": [],
   "source": [
    "# load test data\n",
    "df = pd.read_csv('test_model_input.csv')"
   ]
  },
  {
   "cell_type": "code",
   "execution_count": 46,
   "id": "abfb4072-08fc-4e92-932f-2b062dc46d70",
   "metadata": {},
   "outputs": [
    {
     "data": {
      "text/plain": [
       "Datetime\n",
       "2023-01-09 13:35:00    10\n",
       "dtype: int64"
      ]
     },
     "execution_count": 46,
     "metadata": {},
     "output_type": "execute_result"
    }
   ],
   "source": [
    "df.groupby('Datetime').size()\n",
    "#df.head()"
   ]
  },
  {
   "cell_type": "code",
   "execution_count": 47,
   "id": "4fa60590-634d-45d7-a9b4-f1f6d6b0d59f",
   "metadata": {},
   "outputs": [],
   "source": [
    "stock_total.symbol_time = stock_total.symbol_time.astype(\"str\") "
   ]
  },
  {
   "cell_type": "code",
   "execution_count": 48,
   "id": "10b4d632-88e5-44fd-ba0c-a193a6546988",
   "metadata": {},
   "outputs": [
    {
     "data": {
      "text/plain": [
       "symbol_time     object\n",
       "close          float64\n",
       "volume           int64\n",
       "symbol          object\n",
       "dtype: object"
      ]
     },
     "execution_count": 48,
     "metadata": {},
     "output_type": "execute_result"
    }
   ],
   "source": [
    "stock_total.dtypes"
   ]
  },
  {
   "cell_type": "code",
   "execution_count": null,
   "id": "6522f93a-018a-492c-9fbb-54c4d3c5a92e",
   "metadata": {},
   "outputs": [],
   "source": []
  },
  {
   "cell_type": "code",
   "execution_count": 49,
   "id": "dfa82d78-639d-44f9-b800-9317991f7a4b",
   "metadata": {},
   "outputs": [],
   "source": [
    "# build input for api into dictionary w/ values as a list\n",
    "input_data_mult = dict()\n",
    "for col in cols:\n",
    "    input_data_mult[col] = stock_total[col].to_list()    \n",
    "    \n",
    "# build embedded dictionary step 1    \n",
    "request_dict = {\"request\":input_data_mult}\n",
    "\n",
    "# access key will be end point specific\n",
    "BackDict = {\"accessKey\":accessKey}\n",
    "BackDict.update(request_dict)\n",
    "request_dict=BackDict"
   ]
  },
  {
   "cell_type": "code",
   "execution_count": 50,
   "id": "bf3cb02a-ab59-497f-8e36-513fa3bc4471",
   "metadata": {},
   "outputs": [
    {
     "data": {
      "text/plain": [
       "dict"
      ]
     },
     "execution_count": 50,
     "metadata": {},
     "output_type": "execute_result"
    }
   ],
   "source": [
    "type(request_dict)"
   ]
  },
  {
   "cell_type": "code",
   "execution_count": 51,
   "id": "98096b8f-bc69-4a3c-9fe9-28cc825339a5",
   "metadata": {},
   "outputs": [],
   "source": [
    "# request_dict"
   ]
  },
  {
   "cell_type": "code",
   "execution_count": 54,
   "id": "1d177636-81d1-40d2-a514-5e81419402c7",
   "metadata": {},
   "outputs": [],
   "source": [
    "r2 = requests.post(model_url, data=json.dumps(request_dict),headers={'Content-Type': 'application/json'})"
   ]
  },
  {
   "cell_type": "code",
   "execution_count": 55,
   "id": "94a0a950-88b3-4de2-89a8-fac486e19b25",
   "metadata": {},
   "outputs": [
    {
     "data": {
      "text/plain": [
       "{'success': True,\n",
       " 'response': {'model_deployment_crn': 'crn:cdp:ml:us-west-1:558bc1d2-8867-4357-8524-311d51259233:workspace:7364d789-daae-47c6-951f-2ef3926b100c/ec1626fd-c2dc-4eb0-a2cc-12e526016936',\n",
       "  'prediction': {'pred_time': ['2023-01-26 10:50:00-05:00',\n",
       "    '2023-01-26 10:50:00-05:00',\n",
       "    '2023-01-26 10:50:00-05:00',\n",
       "    '2023-01-26 10:50:00-05:00',\n",
       "    '2023-01-26 10:50:00-05:00',\n",
       "    '2023-01-26 10:50:00-05:00',\n",
       "    '2023-01-26 10:50:00-05:00',\n",
       "    '2023-01-26 10:50:00-05:00',\n",
       "    '2023-01-26 10:50:00-05:00',\n",
       "    '2023-01-26 10:50:00-05:00'],\n",
       "   'prediction': [[122.36091613769531,\n",
       "     122.3556900024414,\n",
       "     122.35311889648438,\n",
       "     122.36701202392578,\n",
       "     122.32926177978516,\n",
       "     122.33344268798828,\n",
       "     122.31700134277344,\n",
       "     122.30119323730469,\n",
       "     122.31839752197266,\n",
       "     122.30509948730469,\n",
       "     122.29951477050781,\n",
       "     122.30147552490234],\n",
       "    [150.6694793701172,\n",
       "     150.66513061523438,\n",
       "     150.67227172851562,\n",
       "     150.71067810058594,\n",
       "     150.6888885498047,\n",
       "     150.72640991210938,\n",
       "     150.7186279296875,\n",
       "     150.72119140625,\n",
       "     150.7611541748047,\n",
       "     150.7503662109375,\n",
       "     150.7561798095703,\n",
       "     150.7598419189453],\n",
       "    [82.07911682128906,\n",
       "     82.07711029052734,\n",
       "     82.0733642578125,\n",
       "     82.0861587524414,\n",
       "     82.06925964355469,\n",
       "     82.08244323730469,\n",
       "     82.07611083984375,\n",
       "     82.07096099853516,\n",
       "     82.0956802368164,\n",
       "     82.08614349365234,\n",
       "     82.084228515625,\n",
       "     82.08453369140625],\n",
       "    [108.40140533447266,\n",
       "     108.39800262451172,\n",
       "     108.39437866210938,\n",
       "     108.40930938720703,\n",
       "     108.3824234008789,\n",
       "     108.39405822753906,\n",
       "     108.38309478759766,\n",
       "     108.37408447265625,\n",
       "     108.40137481689453,\n",
       "     108.3899154663086,\n",
       "     108.38819122314453,\n",
       "     108.39056396484375],\n",
       "    [106.40434265136719,\n",
       "     106.38176727294922,\n",
       "     106.36322784423828,\n",
       "     106.36421203613281,\n",
       "     106.31490325927734,\n",
       "     106.30585479736328,\n",
       "     106.31465911865234,\n",
       "     106.26172637939453,\n",
       "     106.28465270996094,\n",
       "     106.2701416015625,\n",
       "     106.25494384765625,\n",
       "     106.25371551513672],\n",
       "    [329.0862731933594,\n",
       "     329.0814208984375,\n",
       "     329.091796875,\n",
       "     329.1508483886719,\n",
       "     329.0866394042969,\n",
       "     329.1390075683594,\n",
       "     329.11212158203125,\n",
       "     329.1031494140625,\n",
       "     329.1739807128906,\n",
       "     329.1368713378906,\n",
       "     329.12384033203125,\n",
       "     329.1376647949219],\n",
       "    [60.921669006347656,\n",
       "     60.92082214355469,\n",
       "     60.91598129272461,\n",
       "     60.923858642578125,\n",
       "     60.90937423706055,\n",
       "     60.91831970214844,\n",
       "     60.913307189941406,\n",
       "     60.907405853271484,\n",
       "     60.92901611328125,\n",
       "     60.922420501708984,\n",
       "     60.922969818115234,\n",
       "     60.92326354980469],\n",
       "    [39.333744049072266,\n",
       "     39.329078674316406,\n",
       "     39.32135772705078,\n",
       "     39.3249397277832,\n",
       "     39.312191009521484,\n",
       "     39.31611251831055,\n",
       "     39.31158447265625,\n",
       "     39.305198669433594,\n",
       "     39.319114685058594,\n",
       "     39.31545639038086,\n",
       "     39.31678771972656,\n",
       "     39.31428909301758],\n",
       "    [42.76213073730469,\n",
       "     42.76347732543945,\n",
       "     42.76214599609375,\n",
       "     42.76810073852539,\n",
       "     42.757232666015625,\n",
       "     42.762943267822266,\n",
       "     42.76077651977539,\n",
       "     42.75553894042969,\n",
       "     42.769596099853516,\n",
       "     42.76326370239258,\n",
       "     42.76395034790039,\n",
       "     42.762088775634766],\n",
       "    [72.92902374267578,\n",
       "     72.92754364013672,\n",
       "     72.92597198486328,\n",
       "     72.93435668945312,\n",
       "     72.91190338134766,\n",
       "     72.91490936279297,\n",
       "     72.90653228759766,\n",
       "     72.89598846435547,\n",
       "     72.90895080566406,\n",
       "     72.90127563476562,\n",
       "     72.89961242675781,\n",
       "     72.89933776855469]],\n",
       "   'symbol': ['COP',\n",
       "    'WHR',\n",
       "    'TJX',\n",
       "    'DLR',\n",
       "    'MRK',\n",
       "    'IT',\n",
       "    'L',\n",
       "    'KHC',\n",
       "    'CFG',\n",
       "    'CDAY']},\n",
       "  'uuid': 'edbf0a0f-e6ea-4c92-92b6-a6e9edba73f2'},\n",
       " 'ReplicaID': 'forecasting-model-2-10-45-7d7fd4bbb4-sr6x5',\n",
       " 'Size': 2856,\n",
       " 'StatusCode': 200}"
      ]
     },
     "execution_count": 55,
     "metadata": {},
     "output_type": "execute_result"
    }
   ],
   "source": [
    "r2.json()"
   ]
  },
  {
   "cell_type": "markdown",
   "id": "1947c7ac-1d0c-4c85-82f4-d0e11bb31fb8",
   "metadata": {},
   "source": [
    "**Test using new payload syntax**<br>\n",
    "this would simulate the way data comes out of CDP"
   ]
  },
  {
   "cell_type": "code",
   "execution_count": 73,
   "id": "f87eb44f-d73b-4365-afdd-e15fd365d172",
   "metadata": {},
   "outputs": [
    {
     "data": {
      "text/plain": [
       "'https://modelservice.ml-5fea65b7-abd.loki-cdp.a465-9q4k.cloudera.site/model'"
      ]
     },
     "execution_count": 73,
     "metadata": {},
     "output_type": "execute_result"
    }
   ],
   "source": [
    "model_url"
   ]
  },
  {
   "cell_type": "code",
   "execution_count": 56,
   "id": "9fcb5062-ea72-44c6-9ab2-e547c9e678f9",
   "metadata": {},
   "outputs": [],
   "source": [
    "accessKey = 'moz6mymy4dksvmj4ko97jxj5e5vqx38v'"
   ]
  },
  {
   "cell_type": "code",
   "execution_count": 62,
   "id": "b257f152-2c70-4004-acd0-6a3b8fe992a4",
   "metadata": {},
   "outputs": [
    {
     "data": {
      "text/plain": [
       "array(['COP', 'WHR', 'TJX', 'DLR', 'MRK', 'IT', 'L', 'KHC', 'CFG', 'CDAY'],\n",
       "      dtype=object)"
      ]
     },
     "execution_count": 62,
     "metadata": {},
     "output_type": "execute_result"
    }
   ],
   "source": [
    "stock_total['symbol'].unique()"
   ]
  },
  {
   "cell_type": "code",
   "execution_count": null,
   "id": "64a1241b-5dd1-44d4-9a05-8eea846829e3",
   "metadata": {},
   "outputs": [],
   "source": []
  },
  {
   "cell_type": "code",
   "execution_count": 64,
   "id": "1e31ba05-9a5c-4dca-9c03-2b13efb084ab",
   "metadata": {},
   "outputs": [],
   "source": [
    "test_input = stock_total[stock_total['symbol'] == 'TJX'].sort_values('symbol_time').tail(60)\n",
    "test_input = test_input[cols]"
   ]
  },
  {
   "cell_type": "code",
   "execution_count": 65,
   "id": "362ea622-f0f9-4534-9e85-6c5bee1e0ee3",
   "metadata": {},
   "outputs": [],
   "source": [
    "# convert to expected payload\n",
    "data_in = test_input.to_dict('records')"
   ]
  },
  {
   "cell_type": "code",
   "execution_count": 68,
   "id": "e75ad5a5-0743-4d3c-abb7-85668b104944",
   "metadata": {},
   "outputs": [],
   "source": [
    "# build embedded dictionary step 1    \n",
    "request_dict1 = {\"data\":data_in}\n",
    "\n",
    "request_dict = {\"request\":request_dict1}\n",
    "\n",
    "\n",
    "# access key will be end point specific\n",
    "BackDict = {\"accessKey\":accessKey}\n",
    "BackDict.update(request_dict)\n",
    "request_dict=BackDict"
   ]
  },
  {
   "cell_type": "code",
   "execution_count": 74,
   "id": "59b1def1-b52e-410c-a47e-599616b60e19",
   "metadata": {},
   "outputs": [
    {
     "data": {
      "text/plain": [
       "{'accessKey': 'moz6mymy4dksvmj4ko97jxj5e5vqx38v',\n",
       " 'request': {'data': [{'symbol_time': '2023-01-25 12:20:00-05:00',\n",
       "    'close': 81.69619750976562,\n",
       "    'volume': 16461,\n",
       "    'symbol': 'TJX'},\n",
       "   {'symbol_time': '2023-01-25 12:25:00-05:00',\n",
       "    'close': 81.66999816894531,\n",
       "    'volume': 43467,\n",
       "    'symbol': 'TJX'},\n",
       "   {'symbol_time': '2023-01-25 12:30:00-05:00',\n",
       "    'close': 81.69999694824219,\n",
       "    'volume': 30474,\n",
       "    'symbol': 'TJX'},\n",
       "   {'symbol_time': '2023-01-25 12:35:00-05:00',\n",
       "    'close': 81.75,\n",
       "    'volume': 40407,\n",
       "    'symbol': 'TJX'},\n",
       "   {'symbol_time': '2023-01-25 12:40:00-05:00',\n",
       "    'close': 81.77999877929688,\n",
       "    'volume': 22951,\n",
       "    'symbol': 'TJX'},\n",
       "   {'symbol_time': '2023-01-25 12:45:00-05:00',\n",
       "    'close': 81.83000183105469,\n",
       "    'volume': 16315,\n",
       "    'symbol': 'TJX'},\n",
       "   {'symbol_time': '2023-01-25 12:50:00-05:00',\n",
       "    'close': 81.7699966430664,\n",
       "    'volume': 18900,\n",
       "    'symbol': 'TJX'},\n",
       "   {'symbol_time': '2023-01-25 12:55:00-05:00',\n",
       "    'close': 81.69999694824219,\n",
       "    'volume': 31940,\n",
       "    'symbol': 'TJX'},\n",
       "   {'symbol_time': '2023-01-25 13:00:00-05:00',\n",
       "    'close': 81.76730346679688,\n",
       "    'volume': 31429,\n",
       "    'symbol': 'TJX'},\n",
       "   {'symbol_time': '2023-01-25 13:05:00-05:00',\n",
       "    'close': 81.83000183105469,\n",
       "    'volume': 16670,\n",
       "    'symbol': 'TJX'},\n",
       "   {'symbol_time': '2023-01-25 13:10:00-05:00',\n",
       "    'close': 81.87000274658203,\n",
       "    'volume': 26378,\n",
       "    'symbol': 'TJX'},\n",
       "   {'symbol_time': '2023-01-25 13:15:00-05:00',\n",
       "    'close': 81.91999816894531,\n",
       "    'volume': 18485,\n",
       "    'symbol': 'TJX'},\n",
       "   {'symbol_time': '2023-01-25 13:20:00-05:00',\n",
       "    'close': 81.91000366210938,\n",
       "    'volume': 18680,\n",
       "    'symbol': 'TJX'},\n",
       "   {'symbol_time': '2023-01-25 13:25:00-05:00',\n",
       "    'close': 81.87999725341797,\n",
       "    'volume': 21121,\n",
       "    'symbol': 'TJX'},\n",
       "   {'symbol_time': '2023-01-25 13:30:00-05:00',\n",
       "    'close': 81.87000274658203,\n",
       "    'volume': 43386,\n",
       "    'symbol': 'TJX'},\n",
       "   {'symbol_time': '2023-01-25 13:35:00-05:00',\n",
       "    'close': 81.94999694824219,\n",
       "    'volume': 74473,\n",
       "    'symbol': 'TJX'},\n",
       "   {'symbol_time': '2023-01-25 13:40:00-05:00',\n",
       "    'close': 81.91999816894531,\n",
       "    'volume': 27029,\n",
       "    'symbol': 'TJX'},\n",
       "   {'symbol_time': '2023-01-25 13:45:00-05:00',\n",
       "    'close': 82.06999969482422,\n",
       "    'volume': 27646,\n",
       "    'symbol': 'TJX'},\n",
       "   {'symbol_time': '2023-01-25 13:50:00-05:00',\n",
       "    'close': 81.98999786376953,\n",
       "    'volume': 25891,\n",
       "    'symbol': 'TJX'},\n",
       "   {'symbol_time': '2023-01-25 13:55:00-05:00',\n",
       "    'close': 82.08000183105469,\n",
       "    'volume': 28174,\n",
       "    'symbol': 'TJX'},\n",
       "   {'symbol_time': '2023-01-25 14:00:00-05:00',\n",
       "    'close': 82.01000213623047,\n",
       "    'volume': 23186,\n",
       "    'symbol': 'TJX'},\n",
       "   {'symbol_time': '2023-01-25 14:05:00-05:00',\n",
       "    'close': 82.08000183105469,\n",
       "    'volume': 31620,\n",
       "    'symbol': 'TJX'},\n",
       "   {'symbol_time': '2023-01-25 14:10:00-05:00',\n",
       "    'close': 82.10040283203125,\n",
       "    'volume': 33482,\n",
       "    'symbol': 'TJX'},\n",
       "   {'symbol_time': '2023-01-25 14:15:00-05:00',\n",
       "    'close': 82.12000274658203,\n",
       "    'volume': 27830,\n",
       "    'symbol': 'TJX'},\n",
       "   {'symbol_time': '2023-01-25 14:20:00-05:00',\n",
       "    'close': 82.08999633789062,\n",
       "    'volume': 23773,\n",
       "    'symbol': 'TJX'},\n",
       "   {'symbol_time': '2023-01-25 14:25:00-05:00',\n",
       "    'close': 82.08000183105469,\n",
       "    'volume': 26629,\n",
       "    'symbol': 'TJX'},\n",
       "   {'symbol_time': '2023-01-25 14:30:00-05:00',\n",
       "    'close': 82.0999984741211,\n",
       "    'volume': 32679,\n",
       "    'symbol': 'TJX'},\n",
       "   {'symbol_time': '2023-01-25 14:35:00-05:00',\n",
       "    'close': 82.16999816894531,\n",
       "    'volume': 31946,\n",
       "    'symbol': 'TJX'},\n",
       "   {'symbol_time': '2023-01-25 14:40:00-05:00',\n",
       "    'close': 82.26000213623047,\n",
       "    'volume': 29387,\n",
       "    'symbol': 'TJX'},\n",
       "   {'symbol_time': '2023-01-25 14:45:00-05:00',\n",
       "    'close': 82.30000305175781,\n",
       "    'volume': 51877,\n",
       "    'symbol': 'TJX'},\n",
       "   {'symbol_time': '2023-01-25 14:50:00-05:00',\n",
       "    'close': 82.36499786376953,\n",
       "    'volume': 60025,\n",
       "    'symbol': 'TJX'},\n",
       "   {'symbol_time': '2023-01-25 14:55:00-05:00',\n",
       "    'close': 82.3499984741211,\n",
       "    'volume': 181500,\n",
       "    'symbol': 'TJX'},\n",
       "   {'symbol_time': '2023-01-25 15:00:00-05:00',\n",
       "    'close': 82.4000015258789,\n",
       "    'volume': 123539,\n",
       "    'symbol': 'TJX'},\n",
       "   {'symbol_time': '2023-01-25 15:05:00-05:00',\n",
       "    'close': 82.54000091552734,\n",
       "    'volume': 53381,\n",
       "    'symbol': 'TJX'},\n",
       "   {'symbol_time': '2023-01-25 15:10:00-05:00',\n",
       "    'close': 82.44000244140625,\n",
       "    'volume': 39296,\n",
       "    'symbol': 'TJX'},\n",
       "   {'symbol_time': '2023-01-25 15:15:00-05:00',\n",
       "    'close': 82.52999877929688,\n",
       "    'volume': 38587,\n",
       "    'symbol': 'TJX'},\n",
       "   {'symbol_time': '2023-01-25 15:20:00-05:00',\n",
       "    'close': 82.55999755859375,\n",
       "    'volume': 62459,\n",
       "    'symbol': 'TJX'},\n",
       "   {'symbol_time': '2023-01-25 15:25:00-05:00',\n",
       "    'close': 82.55000305175781,\n",
       "    'volume': 109337,\n",
       "    'symbol': 'TJX'},\n",
       "   {'symbol_time': '2023-01-25 15:30:00-05:00',\n",
       "    'close': 82.57499694824219,\n",
       "    'volume': 90535,\n",
       "    'symbol': 'TJX'},\n",
       "   {'symbol_time': '2023-01-25 15:35:00-05:00',\n",
       "    'close': 82.54499816894531,\n",
       "    'volume': 87021,\n",
       "    'symbol': 'TJX'},\n",
       "   {'symbol_time': '2023-01-25 15:40:00-05:00',\n",
       "    'close': 82.5,\n",
       "    'volume': 91205,\n",
       "    'symbol': 'TJX'},\n",
       "   {'symbol_time': '2023-01-25 15:45:00-05:00',\n",
       "    'close': 82.42500305175781,\n",
       "    'volume': 139189,\n",
       "    'symbol': 'TJX'},\n",
       "   {'symbol_time': '2023-01-25 15:50:00-05:00',\n",
       "    'close': 82.51000213623047,\n",
       "    'volume': 162117,\n",
       "    'symbol': 'TJX'},\n",
       "   {'symbol_time': '2023-01-25 15:55:00-05:00',\n",
       "    'close': 82.63999938964844,\n",
       "    'volume': 427221,\n",
       "    'symbol': 'TJX'},\n",
       "   {'symbol_time': '2023-01-26 09:30:00-05:00',\n",
       "    'close': 82.5999984741211,\n",
       "    'volume': 1005921,\n",
       "    'symbol': 'TJX'},\n",
       "   {'symbol_time': '2023-01-26 09:35:00-05:00',\n",
       "    'close': 82.62999725341797,\n",
       "    'volume': 38075,\n",
       "    'symbol': 'TJX'},\n",
       "   {'symbol_time': '2023-01-26 09:40:00-05:00',\n",
       "    'close': 82.4800033569336,\n",
       "    'volume': 98811,\n",
       "    'symbol': 'TJX'},\n",
       "   {'symbol_time': '2023-01-26 09:45:00-05:00',\n",
       "    'close': 82.28500366210938,\n",
       "    'volume': 32874,\n",
       "    'symbol': 'TJX'},\n",
       "   {'symbol_time': '2023-01-26 09:50:00-05:00',\n",
       "    'close': 82.13999938964844,\n",
       "    'volume': 24466,\n",
       "    'symbol': 'TJX'},\n",
       "   {'symbol_time': '2023-01-26 09:55:00-05:00',\n",
       "    'close': 82.1500015258789,\n",
       "    'volume': 34495,\n",
       "    'symbol': 'TJX'},\n",
       "   {'symbol_time': '2023-01-26 10:00:00-05:00',\n",
       "    'close': 82.13999938964844,\n",
       "    'volume': 30927,\n",
       "    'symbol': 'TJX'},\n",
       "   {'symbol_time': '2023-01-26 10:05:00-05:00',\n",
       "    'close': 82.08499908447266,\n",
       "    'volume': 65626,\n",
       "    'symbol': 'TJX'},\n",
       "   {'symbol_time': '2023-01-26 10:10:00-05:00',\n",
       "    'close': 82.1500015258789,\n",
       "    'volume': 90754,\n",
       "    'symbol': 'TJX'},\n",
       "   {'symbol_time': '2023-01-26 10:15:00-05:00',\n",
       "    'close': 82.26370239257812,\n",
       "    'volume': 41037,\n",
       "    'symbol': 'TJX'},\n",
       "   {'symbol_time': '2023-01-26 10:20:00-05:00',\n",
       "    'close': 82.4000015258789,\n",
       "    'volume': 34615,\n",
       "    'symbol': 'TJX'},\n",
       "   {'symbol_time': '2023-01-26 10:25:00-05:00',\n",
       "    'close': 82.30000305175781,\n",
       "    'volume': 24772,\n",
       "    'symbol': 'TJX'},\n",
       "   {'symbol_time': '2023-01-26 10:30:00-05:00',\n",
       "    'close': 82.24500274658203,\n",
       "    'volume': 42803,\n",
       "    'symbol': 'TJX'},\n",
       "   {'symbol_time': '2023-01-26 10:35:00-05:00',\n",
       "    'close': 82.0999984741211,\n",
       "    'volume': 45501,\n",
       "    'symbol': 'TJX'},\n",
       "   {'symbol_time': '2023-01-26 10:40:00-05:00',\n",
       "    'close': 82.0999984741211,\n",
       "    'volume': 36647,\n",
       "    'symbol': 'TJX'},\n",
       "   {'symbol_time': '2023-01-26 10:45:00-05:00',\n",
       "    'close': 82.06999969482422,\n",
       "    'volume': 14182,\n",
       "    'symbol': 'TJX'}]}}"
      ]
     },
     "execution_count": 74,
     "metadata": {},
     "output_type": "execute_result"
    }
   ],
   "source": [
    "request_dict"
   ]
  },
  {
   "cell_type": "code",
   "execution_count": 71,
   "id": "f703d73f-fd74-4809-a454-b0b1daa78238",
   "metadata": {},
   "outputs": [],
   "source": [
    " rtest = requests.post(model_url, data=json.dumps(request_dict),headers={'Content-Type': 'application/json'})"
   ]
  },
  {
   "cell_type": "code",
   "execution_count": 72,
   "id": "175b6ac8-1523-4a1f-8851-e8f759527e6e",
   "metadata": {},
   "outputs": [
    {
     "data": {
      "text/plain": [
       "{'success': True,\n",
       " 'response': {'model_deployment_crn': 'crn:cdp:ml:us-west-1:558bc1d2-8867-4357-8524-311d51259233:workspace:7364d789-daae-47c6-951f-2ef3926b100c/6158dc37-a1d4-47d7-aeb6-cb712e537354',\n",
       "  'prediction': {'pred_time': ['2023-01-26 10:45:00-05:00'],\n",
       "   'prediction': [[82.08091735839844,\n",
       "     82.07913208007812,\n",
       "     82.07594299316406,\n",
       "     82.08859252929688,\n",
       "     82.07117462158203,\n",
       "     82.08387756347656,\n",
       "     82.07714080810547,\n",
       "     82.07178497314453,\n",
       "     82.0950927734375,\n",
       "     82.08521270751953,\n",
       "     82.08292388916016,\n",
       "     82.08302307128906]],\n",
       "   'symbol': ['TJX']},\n",
       "  'uuid': '899a141e-8d8c-4b5f-a206-5dbb8a2c4ed1'},\n",
       " 'ReplicaID': 'test-forecasting-model-2-11-46-b6c75c45c-klgkm',\n",
       " 'Size': 548,\n",
       " 'StatusCode': 200}"
      ]
     },
     "execution_count": 72,
     "metadata": {},
     "output_type": "execute_result"
    }
   ],
   "source": [
    "rtest.json()"
   ]
  },
  {
   "cell_type": "code",
   "execution_count": 57,
   "id": "92e2f00e-3fc5-4473-907d-e16ff95db380",
   "metadata": {},
   "outputs": [],
   "source": [
    "#input_data_mult"
   ]
  },
  {
   "cell_type": "code",
   "execution_count": null,
   "id": "65844138-65f5-4e37-ad47-c16ca52f6bf7",
   "metadata": {},
   "outputs": [],
   "source": [
    "\n",
    "# build embedded dictionary step 1    \n",
    "request_dict = {\"request\":input_data_mult}\n",
    "\n",
    "# access key will be end point specific\n",
    "BackDict = {\"accessKey\":accessKey}\n",
    "BackDict.update(request_dict)\n",
    "request_dict=BackDict"
   ]
  }
 ],
 "metadata": {
  "kernelspec": {
   "display_name": "Python 3 (ipykernel)",
   "language": "python",
   "name": "python3"
  },
  "language_info": {
   "codemirror_mode": {
    "name": "ipython",
    "version": 3
   },
   "file_extension": ".py",
   "mimetype": "text/x-python",
   "name": "python",
   "nbconvert_exporter": "python",
   "pygments_lexer": "ipython3",
   "version": "3.7.13"
  }
 },
 "nbformat": 4,
 "nbformat_minor": 5
}
